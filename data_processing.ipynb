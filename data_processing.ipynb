{
 "cells": [
  {
   "cell_type": "code",
   "execution_count": 295,
   "id": "7f3b5929",
   "metadata": {},
   "outputs": [],
   "source": [
    "import pandas as pd\n",
    "from sklearn.preprocessing import OneHotEncoder\n",
    "\n",
    "import warnings\n",
    "warnings.filterwarnings('ignore')"
   ]
  },
  {
   "cell_type": "code",
   "execution_count": 296,
   "id": "2d46401b",
   "metadata": {},
   "outputs": [],
   "source": [
    "data = pd.read_csv('books.csv')"
   ]
  },
  {
   "cell_type": "code",
   "execution_count": 297,
   "id": "154dee46",
   "metadata": {},
   "outputs": [
    {
     "name": "stdout",
     "output_type": "stream",
     "text": [
      "(3600, 23)\n",
      "Количество пропусков в данных: 16962\n",
      "Доля пропусков в данных: 0.2\n"
     ]
    }
   ],
   "source": [
    "print(data.shape)\n",
    "print(f'Количество пропусков в данных: {data.isna().sum().sum()}')\n",
    "print(f'Доля пропусков в данных: {round(data.isna().sum().sum() / (data.shape[0]*data.shape[1]), 2)}')"
   ]
  },
  {
   "cell_type": "code",
   "execution_count": 298,
   "id": "59959eaa",
   "metadata": {},
   "outputs": [
    {
     "name": "stdout",
     "output_type": "stream",
     "text": [
      "Всего объектов у каждого признака (если нет пропусков): 3600\n"
     ]
    },
    {
     "data": {
      "text/plain": [
       "Разделы комикса           3599\n",
       "Тип комикса               3599\n",
       "Художник                  3592\n",
       "Переводчик                3383\n",
       "Издательский бренд        2203\n",
       "Издательство                81\n",
       "old_price                   80\n",
       "Тип обложки                 59\n",
       "cnt_reviews                 50\n",
       "avg_rating                  50\n",
       "Тираж                       50\n",
       "Количество страниц          45\n",
       "current_price               42\n",
       "ISBN                        29\n",
       "Серия                       25\n",
       "author                      24\n",
       "Возрастные ограничения      23\n",
       "Год издания                 18\n",
       "Вес, г                       2\n",
       "Размер                       2\n",
       "ID товара                    2\n",
       "title                        2\n",
       "link                         2\n",
       "dtype: int64"
      ]
     },
     "execution_count": 298,
     "metadata": {},
     "output_type": "execute_result"
    }
   ],
   "source": [
    "print(f'Всего объектов у каждого признака (если нет пропусков): {data.shape[0]}')\n",
    "data.isna().sum().sort_values(ascending=False)"
   ]
  },
  {
   "cell_type": "code",
   "execution_count": 299,
   "id": "496a2f24",
   "metadata": {},
   "outputs": [],
   "source": [
    "data['cnt_reviews'].fillna('0 оценок', inplace=True)"
   ]
  },
  {
   "cell_type": "code",
   "execution_count": 300,
   "id": "c69153e3",
   "metadata": {},
   "outputs": [
    {
     "name": "stdout",
     "output_type": "stream",
     "text": [
      "В признаках ['Издательский бренд', 'Переводчик', 'Художник', 'Тип комикса', 'Разделы комикса'] недостаточно объектов, их стоит удалить.\n",
      "\n",
      "После удаления всех \"плохих признаков\" остались следующие: ['link', 'current_price', 'old_price', 'avg_rating', 'cnt_reviews', 'title', 'author', 'ID товара', 'Издательство', 'Серия', 'Год издания', 'ISBN', 'Количество страниц', 'Размер', 'Тип обложки', 'Тираж', 'Вес, г', 'Возрастные ограничения']\n"
     ]
    }
   ],
   "source": [
    "good_columns = []\n",
    "bad_columns = []\n",
    "for column in data.columns:\n",
    "    all_items = data.shape[0]\n",
    "    if data.isna().sum().sort_values(ascending=False)[column] / all_items > 0.3:\n",
    "        bad_columns.append(column)\n",
    "    else:\n",
    "        good_columns.append(column)\n",
    "        \n",
    "print(f'В признаках {bad_columns} недостаточно объектов, их стоит удалить.')  \n",
    "print()\n",
    "print(f'После удаления всех \"плохих признаков\" остались следующие: {good_columns}')"
   ]
  },
  {
   "cell_type": "code",
   "execution_count": 301,
   "id": "88aa360c",
   "metadata": {},
   "outputs": [],
   "source": [
    "data = data[good_columns]\n",
    "data.dropna(inplace=True)\n",
    "data = data.reset_index(drop=True)"
   ]
  },
  {
   "cell_type": "code",
   "execution_count": 302,
   "id": "adb574b2",
   "metadata": {},
   "outputs": [],
   "source": [
    "data['Год издания'] = data['Год издания'].apply(lambda x: str(x).split('.')[0])\n",
    "\n",
    "data['Год издания'] = data['Год издания'].astype(int)"
   ]
  },
  {
   "cell_type": "markdown",
   "id": "4d209332",
   "metadata": {},
   "source": [
    "### Удаляем заполненные, но ненужные признаки"
   ]
  },
  {
   "cell_type": "code",
   "execution_count": 303,
   "id": "ebdb9e6d",
   "metadata": {},
   "outputs": [],
   "source": [
    "data = data.drop(['ID товара', 'ISBN', 'Серия', 'link', 'old_price', ], axis=1)"
   ]
  },
  {
   "cell_type": "code",
   "execution_count": 304,
   "id": "b3f75c1d",
   "metadata": {},
   "outputs": [
    {
     "name": "stdout",
     "output_type": "stream",
     "text": [
      "(3260, 13)\n",
      "Index(['current_price', 'avg_rating', 'cnt_reviews', 'title', 'author',\n",
      "       'Издательство', 'Год издания', 'Количество страниц', 'Размер',\n",
      "       'Тип обложки', 'Тираж', 'Вес, г', 'Возрастные ограничения'],\n",
      "      dtype='object')\n"
     ]
    }
   ],
   "source": [
    "print(data.shape)\n",
    "\n",
    "print(data.columns)"
   ]
  },
  {
   "cell_type": "code",
   "execution_count": 305,
   "id": "21dc1eff",
   "metadata": {},
   "outputs": [],
   "source": [
    "data = data.rename(columns={\n",
    "    'current_price': 'price',\n",
    "    'Количество страниц': 'pages_cnt',\n",
    "    'Вес, г': 'weight',\n",
    "    'Издательство': 'publisher',\n",
    "    'Год издания': 'publication_year',\n",
    "    'Тип обложки': 'cover_type',\n",
    "    'Тираж': 'tirage',\n",
    "    'Возрастные ограничения': 'reading_age'\n",
    "    })"
   ]
  },
  {
   "cell_type": "code",
   "execution_count": 306,
   "id": "050bed6f",
   "metadata": {},
   "outputs": [
    {
     "data": {
      "text/plain": [
       "Index(['price', 'avg_rating', 'cnt_reviews', 'title', 'author', 'publisher',\n",
       "       'publication_year', 'pages_cnt', 'Размер', 'cover_type', 'tirage',\n",
       "       'weight', 'reading_age'],\n",
       "      dtype='object')"
      ]
     },
     "execution_count": 306,
     "metadata": {},
     "output_type": "execute_result"
    }
   ],
   "source": [
    "data.columns"
   ]
  },
  {
   "cell_type": "markdown",
   "id": "3a97fd49",
   "metadata": {},
   "source": [
    "### Обработка конкретных признаков:"
   ]
  },
  {
   "cell_type": "code",
   "execution_count": 307,
   "id": "67862c0c",
   "metadata": {},
   "outputs": [
    {
     "name": "stdout",
     "output_type": "stream",
     "text": [
      "cover_type\n",
      "Твёрдый переплёт                  1728\n",
      "Мягкий переплёт                   1531\n",
      "Мягкий заламинированный картон       1\n",
      "Name: count, dtype: int64\n",
      "\n",
      "reading_age\n",
      "16+    2405\n",
      "12+     680\n",
      "18+     150\n",
      "6+       22\n",
      "0+        3\n",
      "Name: count, dtype: int64\n",
      "\n",
      "publication_year\n",
      "2024    1469\n",
      "2025     846\n",
      "2023     571\n",
      "2022     265\n",
      "2021      63\n",
      "2011      12\n",
      "2012      11\n",
      "2020       6\n",
      "2015       5\n",
      "2018       4\n",
      "2019       3\n",
      "2014       2\n",
      "2010       1\n",
      "2005       1\n",
      "2013       1\n",
      "Name: count, dtype: int64\n",
      "\n",
      "publisher\n",
      "АСТ                       1343\n",
      "Эксмо                     1008\n",
      "Азбука                     595\n",
      "Иностранка                 158\n",
      "Манн, Иванов и Фербер       90\n",
      "Corpus                      29\n",
      "Вече                         9\n",
      "Махаон                       4\n",
      "Жанры                        3\n",
      "Альпина Паблишер             3\n",
      "Проспект                     3\n",
      "Мартин                       3\n",
      "Лениздат                     2\n",
      "Обложка                      2\n",
      "Агентство Алгоритм ООО       2\n",
      "КоЛибри                      1\n",
      "Дримбук                      1\n",
      "Popcorn Books                1\n",
      "Лайвбук                      1\n",
      "Феникс                       1\n",
      "Яуза-пресс ООО               1\n",
      "Name: count, dtype: int64\n",
      "\n",
      "author\n",
      "Федор Достоевский    129\n",
      "Михаил Булгаков       77\n",
      "Джек Лондон           72\n",
      "Джейн Остен           68\n",
      "Эрих Ремарк           67\n",
      "                    ... \n",
      "Юрий Олеша             1\n",
      "Люций Апулей           1\n",
      "Перл Бак               1\n",
      "Шарль Нодье            1\n",
      "Даниил Андреев         1\n",
      "Name: count, Length: 520, dtype: int64\n"
     ]
    }
   ],
   "source": [
    "# надо применить OHE\n",
    "print(data['cover_type'].value_counts())\n",
    "print()\n",
    "print(data['reading_age'].value_counts())\n",
    "print()\n",
    "print(data['publication_year'].value_counts())\n",
    "print()\n",
    "print(data['publisher'].value_counts())\n",
    "print()\n",
    "print(data['author'].value_counts())"
   ]
  },
  {
   "cell_type": "markdown",
   "id": "07df6bf5",
   "metadata": {},
   "source": [
    "#### Замена значений на \"Другой\""
   ]
  },
  {
   "cell_type": "code",
   "execution_count": 308,
   "id": "612d3dfd",
   "metadata": {},
   "outputs": [],
   "source": [
    "def replace_to_other(df, column_name, threshold):\n",
    "\n",
    "    # Получаем value_counts и фильтруем частые категории\n",
    "    df[column_name] = df[column_name].astype(str)\n",
    "\n",
    "    value_counts = df[column_name].value_counts()\n",
    "    common_categories = value_counts[value_counts >= threshold].index\n",
    "\n",
    "    df[column_name] = df[column_name].where(df[column_name].isin(common_categories), 'Другой')"
   ]
  },
  {
   "cell_type": "code",
   "execution_count": 309,
   "id": "eca67bae",
   "metadata": {},
   "outputs": [
    {
     "name": "stdout",
     "output_type": "stream",
     "text": [
      "publication_year\n",
      "2024      1469\n",
      "2025       846\n",
      "2023       571\n",
      "2022       265\n",
      "2021        63\n",
      "Другой      46\n",
      "Name: count, dtype: int64\n",
      "\n",
      "publisher\n",
      "АСТ                      1343\n",
      "Эксмо                    1008\n",
      "Азбука                    595\n",
      "Иностранка                158\n",
      "Манн, Иванов и Фербер      90\n",
      "Другой                     66\n",
      "Name: count, dtype: int64\n",
      "\n",
      "author\n",
      "Другой               2623\n",
      "Федор Достоевский     129\n",
      "Михаил Булгаков        77\n",
      "Джек Лондон            72\n",
      "Джейн Остен            68\n",
      "Эрих Ремарк            67\n",
      "Джордж Оруэлл          64\n",
      "Лев Толстой            58\n",
      "Луиза Мэй Олкотт       52\n",
      "Николай Гоголь         50\n",
      "Name: count, dtype: int64\n",
      "\n"
     ]
    }
   ],
   "source": [
    "replace_to_other(data, 'publication_year', 60)\n",
    "print(data['publication_year'].value_counts())\n",
    "print()\n",
    "\n",
    "replace_to_other(data, 'publisher', 60)\n",
    "print(data['publisher'].value_counts())\n",
    "print()\n",
    "\n",
    "replace_to_other(data, 'author', 50)\n",
    "print(data['author'].value_counts())\n",
    "print()"
   ]
  },
  {
   "cell_type": "markdown",
   "id": "eca848df",
   "metadata": {},
   "source": [
    "**OHE**"
   ]
  },
  {
   "cell_type": "code",
   "execution_count": 310,
   "id": "91e72b98",
   "metadata": {},
   "outputs": [],
   "source": [
    "def OHE_features(data):\n",
    "    categorical_features = []\n",
    "    for column in data.columns:\n",
    "        if len(data[column].value_counts()) <= 10:\n",
    "            #data[column] = data[column].astype(str)\n",
    "            categorical_features.append(column)\n",
    "    \n",
    "    ohe = OneHotEncoder(sparse_output=False)\n",
    "    ohe_data = ohe.fit_transform(data[categorical_features])\n",
    "    ohe_columns = ohe.get_feature_names_out(categorical_features)\n",
    "    ohe_data = pd.DataFrame(ohe_data, columns=ohe_columns)\n",
    "    \n",
    "    data = data.drop(categorical_features, axis=1)\n",
    "    data = pd.concat([data, ohe_data], axis=1)\n",
    "    \n",
    "    return data"
   ]
  },
  {
   "cell_type": "code",
   "execution_count": 311,
   "id": "353a5f01",
   "metadata": {},
   "outputs": [],
   "source": [
    "data = OHE_features(data)"
   ]
  },
  {
   "cell_type": "markdown",
   "id": "ec9fcf03",
   "metadata": {},
   "source": [
    "**Размер**"
   ]
  },
  {
   "cell_type": "code",
   "execution_count": 312,
   "id": "54fff4e9",
   "metadata": {},
   "outputs": [],
   "source": [
    "def split_sizes(data, size_column):\n",
    "    data['thickness'] = data[size_column].dropna().apply(lambda x: float(x.split('x')[0]))\n",
    "    data['width'] = data[size_column].dropna().apply(lambda x: float(x.split('x')[1]))\n",
    "    data['length'] = data[size_column].dropna().apply(lambda x: float(x.split('x')[2]))\n",
    "    data['volume'] = data['thickness'] * data['width'] * data['length']\n",
    "    \n",
    "    data = data.drop([size_column], axis=1)\n",
    "    \n",
    "    return data"
   ]
  },
  {
   "cell_type": "code",
   "execution_count": 313,
   "id": "a9fd8ca6",
   "metadata": {},
   "outputs": [],
   "source": [
    "data = split_sizes(data, 'Размер')"
   ]
  },
  {
   "cell_type": "markdown",
   "id": "da1ecd0c",
   "metadata": {},
   "source": [
    "**Некоторые количественные признаки**"
   ]
  },
  {
   "cell_type": "code",
   "execution_count": 314,
   "id": "10827c93",
   "metadata": {},
   "outputs": [],
   "source": [
    "# data['old_price'] = data['old_price'].apply(lambda x: x.split(' ')[0])\n",
    "data['price'] = data['price'].apply(lambda x: x.split(' ')[0])\n",
    "\n",
    "data['cnt_reviews'] = data['cnt_reviews'].apply(lambda x: x.split()[0]).astype(int)"
   ]
  },
  {
   "cell_type": "code",
   "execution_count": 315,
   "id": "0b9fc2b7",
   "metadata": {},
   "outputs": [
    {
     "data": {
      "text/plain": [
       "Index(['price', 'avg_rating', 'cnt_reviews', 'title', 'pages_cnt', 'tirage',\n",
       "       'weight', 'author_Джейн Остен', 'author_Джек Лондон',\n",
       "       'author_Джордж Оруэлл', 'author_Другой', 'author_Лев Толстой',\n",
       "       'author_Луиза Мэй Олкотт', 'author_Михаил Булгаков',\n",
       "       'author_Николай Гоголь', 'author_Федор Достоевский',\n",
       "       'author_Эрих Ремарк', 'publisher_АСТ', 'publisher_Азбука',\n",
       "       'publisher_Другой', 'publisher_Иностранка',\n",
       "       'publisher_Манн, Иванов и Фербер', 'publisher_Эксмо',\n",
       "       'publication_year_2021', 'publication_year_2022',\n",
       "       'publication_year_2023', 'publication_year_2024',\n",
       "       'publication_year_2025', 'publication_year_Другой',\n",
       "       'cover_type_Мягкий заламинированный картон',\n",
       "       'cover_type_Мягкий переплёт', 'cover_type_Твёрдый переплёт',\n",
       "       'reading_age_0+', 'reading_age_12+', 'reading_age_16+',\n",
       "       'reading_age_18+', 'reading_age_6+', 'thickness', 'width', 'length',\n",
       "       'volume'],\n",
       "      dtype='object')"
      ]
     },
     "execution_count": 315,
     "metadata": {},
     "output_type": "execute_result"
    }
   ],
   "source": [
    "data.columns"
   ]
  },
  {
   "cell_type": "code",
   "execution_count": 316,
   "id": "c2bb2af9",
   "metadata": {},
   "outputs": [],
   "source": [
    "int_features = ['price', 'cnt_reviews', \n",
    "                'pages_cnt', 'tirage']\n",
    "float_features = ['avg_rating', 'length', 'width', 'thickness', 'weight', 'volume']"
   ]
  },
  {
   "cell_type": "code",
   "execution_count": 317,
   "id": "87714469",
   "metadata": {
    "scrolled": false
   },
   "outputs": [],
   "source": [
    "data[int_features] = data[int_features].astype(int)\n",
    "data[float_features] = data[float_features].astype(float)"
   ]
  },
  {
   "cell_type": "code",
   "execution_count": 318,
   "id": "baa2d6a7",
   "metadata": {},
   "outputs": [
    {
     "data": {
      "text/plain": [
       "price                                          int64\n",
       "avg_rating                                   float64\n",
       "cnt_reviews                                    int64\n",
       "title                                         object\n",
       "pages_cnt                                      int64\n",
       "tirage                                         int64\n",
       "weight                                       float64\n",
       "author_Джейн Остен                           float64\n",
       "author_Джек Лондон                           float64\n",
       "author_Джордж Оруэлл                         float64\n",
       "author_Другой                                float64\n",
       "author_Лев Толстой                           float64\n",
       "author_Луиза Мэй Олкотт                      float64\n",
       "author_Михаил Булгаков                       float64\n",
       "author_Николай Гоголь                        float64\n",
       "author_Федор Достоевский                     float64\n",
       "author_Эрих Ремарк                           float64\n",
       "publisher_АСТ                                float64\n",
       "publisher_Азбука                             float64\n",
       "publisher_Другой                             float64\n",
       "publisher_Иностранка                         float64\n",
       "publisher_Манн, Иванов и Фербер              float64\n",
       "publisher_Эксмо                              float64\n",
       "publication_year_2021                        float64\n",
       "publication_year_2022                        float64\n",
       "publication_year_2023                        float64\n",
       "publication_year_2024                        float64\n",
       "publication_year_2025                        float64\n",
       "publication_year_Другой                      float64\n",
       "cover_type_Мягкий заламинированный картон    float64\n",
       "cover_type_Мягкий переплёт                   float64\n",
       "cover_type_Твёрдый переплёт                  float64\n",
       "reading_age_0+                               float64\n",
       "reading_age_12+                              float64\n",
       "reading_age_16+                              float64\n",
       "reading_age_18+                              float64\n",
       "reading_age_6+                               float64\n",
       "thickness                                    float64\n",
       "width                                        float64\n",
       "length                                       float64\n",
       "volume                                       float64\n",
       "dtype: object"
      ]
     },
     "execution_count": 318,
     "metadata": {},
     "output_type": "execute_result"
    }
   ],
   "source": [
    "data.dtypes"
   ]
  },
  {
   "cell_type": "markdown",
   "id": "8429707d",
   "metadata": {},
   "source": [
    "# Итог:"
   ]
  },
  {
   "cell_type": "code",
   "execution_count": 319,
   "id": "762335f1",
   "metadata": {},
   "outputs": [
    {
     "data": {
      "text/plain": [
       "(3260, 41)"
      ]
     },
     "execution_count": 319,
     "metadata": {},
     "output_type": "execute_result"
    }
   ],
   "source": [
    "data.shape"
   ]
  },
  {
   "cell_type": "code",
   "execution_count": 320,
   "id": "8f0f2099",
   "metadata": {
    "collapsed": true
   },
   "outputs": [
    {
     "data": {
      "text/html": [
       "<div>\n",
       "<style scoped>\n",
       "    .dataframe tbody tr th:only-of-type {\n",
       "        vertical-align: middle;\n",
       "    }\n",
       "\n",
       "    .dataframe tbody tr th {\n",
       "        vertical-align: top;\n",
       "    }\n",
       "\n",
       "    .dataframe thead th {\n",
       "        text-align: right;\n",
       "    }\n",
       "</style>\n",
       "<table border=\"1\" class=\"dataframe\">\n",
       "  <thead>\n",
       "    <tr style=\"text-align: right;\">\n",
       "      <th></th>\n",
       "      <th>price</th>\n",
       "      <th>avg_rating</th>\n",
       "      <th>cnt_reviews</th>\n",
       "      <th>title</th>\n",
       "      <th>pages_cnt</th>\n",
       "      <th>tirage</th>\n",
       "      <th>weight</th>\n",
       "      <th>author_Джейн Остен</th>\n",
       "      <th>author_Джек Лондон</th>\n",
       "      <th>author_Джордж Оруэлл</th>\n",
       "      <th>...</th>\n",
       "      <th>cover_type_Твёрдый переплёт</th>\n",
       "      <th>reading_age_0+</th>\n",
       "      <th>reading_age_12+</th>\n",
       "      <th>reading_age_16+</th>\n",
       "      <th>reading_age_18+</th>\n",
       "      <th>reading_age_6+</th>\n",
       "      <th>thickness</th>\n",
       "      <th>width</th>\n",
       "      <th>length</th>\n",
       "      <th>volume</th>\n",
       "    </tr>\n",
       "  </thead>\n",
       "  <tbody>\n",
       "    <tr>\n",
       "      <th>0</th>\n",
       "      <td>312</td>\n",
       "      <td>4.1</td>\n",
       "      <td>925</td>\n",
       "      <td>Скорбь Сатаны</td>\n",
       "      <td>512</td>\n",
       "      <td>30000</td>\n",
       "      <td>250.0</td>\n",
       "      <td>0.0</td>\n",
       "      <td>0.0</td>\n",
       "      <td>0.0</td>\n",
       "      <td>...</td>\n",
       "      <td>0.0</td>\n",
       "      <td>0.0</td>\n",
       "      <td>0.0</td>\n",
       "      <td>1.0</td>\n",
       "      <td>0.0</td>\n",
       "      <td>0.0</td>\n",
       "      <td>2.1</td>\n",
       "      <td>11.5</td>\n",
       "      <td>18.0</td>\n",
       "      <td>434.7</td>\n",
       "    </tr>\n",
       "    <tr>\n",
       "      <th>1</th>\n",
       "      <td>312</td>\n",
       "      <td>4.1</td>\n",
       "      <td>1341</td>\n",
       "      <td>1984 (новый перевод)</td>\n",
       "      <td>320</td>\n",
       "      <td>30000</td>\n",
       "      <td>200.0</td>\n",
       "      <td>0.0</td>\n",
       "      <td>0.0</td>\n",
       "      <td>1.0</td>\n",
       "      <td>...</td>\n",
       "      <td>0.0</td>\n",
       "      <td>0.0</td>\n",
       "      <td>0.0</td>\n",
       "      <td>1.0</td>\n",
       "      <td>0.0</td>\n",
       "      <td>0.0</td>\n",
       "      <td>2.4</td>\n",
       "      <td>11.5</td>\n",
       "      <td>18.0</td>\n",
       "      <td>496.8</td>\n",
       "    </tr>\n",
       "    <tr>\n",
       "      <th>2</th>\n",
       "      <td>303</td>\n",
       "      <td>4.2</td>\n",
       "      <td>1288</td>\n",
       "      <td>Преступление и наказание</td>\n",
       "      <td>672</td>\n",
       "      <td>30000</td>\n",
       "      <td>319.0</td>\n",
       "      <td>0.0</td>\n",
       "      <td>0.0</td>\n",
       "      <td>0.0</td>\n",
       "      <td>...</td>\n",
       "      <td>0.0</td>\n",
       "      <td>0.0</td>\n",
       "      <td>1.0</td>\n",
       "      <td>0.0</td>\n",
       "      <td>0.0</td>\n",
       "      <td>0.0</td>\n",
       "      <td>2.5</td>\n",
       "      <td>17.5</td>\n",
       "      <td>18.0</td>\n",
       "      <td>787.5</td>\n",
       "    </tr>\n",
       "    <tr>\n",
       "      <th>3</th>\n",
       "      <td>284</td>\n",
       "      <td>4.5</td>\n",
       "      <td>363</td>\n",
       "      <td>Человек недостойный</td>\n",
       "      <td>192</td>\n",
       "      <td>25000</td>\n",
       "      <td>132.0</td>\n",
       "      <td>0.0</td>\n",
       "      <td>0.0</td>\n",
       "      <td>0.0</td>\n",
       "      <td>...</td>\n",
       "      <td>0.0</td>\n",
       "      <td>0.0</td>\n",
       "      <td>0.0</td>\n",
       "      <td>1.0</td>\n",
       "      <td>0.0</td>\n",
       "      <td>0.0</td>\n",
       "      <td>1.5</td>\n",
       "      <td>11.5</td>\n",
       "      <td>18.0</td>\n",
       "      <td>310.5</td>\n",
       "    </tr>\n",
       "    <tr>\n",
       "      <th>4</th>\n",
       "      <td>413</td>\n",
       "      <td>4.2</td>\n",
       "      <td>1269</td>\n",
       "      <td>Три товарища</td>\n",
       "      <td>480</td>\n",
       "      <td>30000</td>\n",
       "      <td>300.0</td>\n",
       "      <td>0.0</td>\n",
       "      <td>0.0</td>\n",
       "      <td>0.0</td>\n",
       "      <td>...</td>\n",
       "      <td>0.0</td>\n",
       "      <td>0.0</td>\n",
       "      <td>1.0</td>\n",
       "      <td>0.0</td>\n",
       "      <td>0.0</td>\n",
       "      <td>0.0</td>\n",
       "      <td>2.5</td>\n",
       "      <td>11.6</td>\n",
       "      <td>18.1</td>\n",
       "      <td>524.9</td>\n",
       "    </tr>\n",
       "  </tbody>\n",
       "</table>\n",
       "<p>5 rows × 41 columns</p>\n",
       "</div>"
      ],
      "text/plain": [
       "   price  avg_rating  cnt_reviews                     title  pages_cnt  \\\n",
       "0    312         4.1          925             Скорбь Сатаны        512   \n",
       "1    312         4.1         1341      1984 (новый перевод)        320   \n",
       "2    303         4.2         1288  Преступление и наказание        672   \n",
       "3    284         4.5          363       Человек недостойный        192   \n",
       "4    413         4.2         1269              Три товарища        480   \n",
       "\n",
       "   tirage  weight  author_Джейн Остен  author_Джек Лондон  \\\n",
       "0   30000   250.0                 0.0                 0.0   \n",
       "1   30000   200.0                 0.0                 0.0   \n",
       "2   30000   319.0                 0.0                 0.0   \n",
       "3   25000   132.0                 0.0                 0.0   \n",
       "4   30000   300.0                 0.0                 0.0   \n",
       "\n",
       "   author_Джордж Оруэлл  ...  cover_type_Твёрдый переплёт  reading_age_0+  \\\n",
       "0                   0.0  ...                          0.0             0.0   \n",
       "1                   1.0  ...                          0.0             0.0   \n",
       "2                   0.0  ...                          0.0             0.0   \n",
       "3                   0.0  ...                          0.0             0.0   \n",
       "4                   0.0  ...                          0.0             0.0   \n",
       "\n",
       "   reading_age_12+  reading_age_16+  reading_age_18+  reading_age_6+  \\\n",
       "0              0.0              1.0              0.0             0.0   \n",
       "1              0.0              1.0              0.0             0.0   \n",
       "2              1.0              0.0              0.0             0.0   \n",
       "3              0.0              1.0              0.0             0.0   \n",
       "4              1.0              0.0              0.0             0.0   \n",
       "\n",
       "   thickness  width  length  volume  \n",
       "0        2.1   11.5    18.0   434.7  \n",
       "1        2.4   11.5    18.0   496.8  \n",
       "2        2.5   17.5    18.0   787.5  \n",
       "3        1.5   11.5    18.0   310.5  \n",
       "4        2.5   11.6    18.1   524.9  \n",
       "\n",
       "[5 rows x 41 columns]"
      ]
     },
     "execution_count": 320,
     "metadata": {},
     "output_type": "execute_result"
    }
   ],
   "source": [
    "data.head()"
   ]
  },
  {
   "cell_type": "code",
   "execution_count": 321,
   "id": "4963275b",
   "metadata": {},
   "outputs": [
    {
     "data": {
      "text/plain": [
       "Index(['price', 'avg_rating', 'cnt_reviews', 'title', 'pages_cnt', 'tirage',\n",
       "       'weight', 'author_Джейн Остен', 'author_Джек Лондон',\n",
       "       'author_Джордж Оруэлл', 'author_Другой', 'author_Лев Толстой',\n",
       "       'author_Луиза Мэй Олкотт', 'author_Михаил Булгаков',\n",
       "       'author_Николай Гоголь', 'author_Федор Достоевский',\n",
       "       'author_Эрих Ремарк', 'publisher_АСТ', 'publisher_Азбука',\n",
       "       'publisher_Другой', 'publisher_Иностранка',\n",
       "       'publisher_Манн, Иванов и Фербер', 'publisher_Эксмо',\n",
       "       'publication_year_2021', 'publication_year_2022',\n",
       "       'publication_year_2023', 'publication_year_2024',\n",
       "       'publication_year_2025', 'publication_year_Другой',\n",
       "       'cover_type_Мягкий заламинированный картон',\n",
       "       'cover_type_Мягкий переплёт', 'cover_type_Твёрдый переплёт',\n",
       "       'reading_age_0+', 'reading_age_12+', 'reading_age_16+',\n",
       "       'reading_age_18+', 'reading_age_6+', 'thickness', 'width', 'length',\n",
       "       'volume'],\n",
       "      dtype='object')"
      ]
     },
     "execution_count": 321,
     "metadata": {},
     "output_type": "execute_result"
    }
   ],
   "source": [
    "data.columns"
   ]
  },
  {
   "cell_type": "markdown",
   "id": "0b85a51d",
   "metadata": {},
   "source": [
    "### Дропаем лишние OHE, чтобы избежать линейной зависимости"
   ]
  },
  {
   "cell_type": "code",
   "execution_count": 322,
   "id": "e5675d6e",
   "metadata": {},
   "outputs": [],
   "source": [
    "# data = data.drop(['author_Другой', 'publisher_Другой', 'publication_year_Другой', \n",
    "#                   'cover_type_Мягкий заламинированный картон', 'reading_age_6+'], axis=1)"
   ]
  },
  {
   "cell_type": "code",
   "execution_count": 323,
   "id": "9ac3e558",
   "metadata": {},
   "outputs": [
    {
     "data": {
      "text/plain": [
       "Index(['price', 'avg_rating', 'cnt_reviews', 'title', 'pages_cnt', 'tirage',\n",
       "       'weight', 'author_Джейн Остен', 'author_Джек Лондон',\n",
       "       'author_Джордж Оруэлл', 'author_Другой', 'author_Лев Толстой',\n",
       "       'author_Луиза Мэй Олкотт', 'author_Михаил Булгаков',\n",
       "       'author_Николай Гоголь', 'author_Федор Достоевский',\n",
       "       'author_Эрих Ремарк', 'publisher_АСТ', 'publisher_Азбука',\n",
       "       'publisher_Другой', 'publisher_Иностранка',\n",
       "       'publisher_Манн, Иванов и Фербер', 'publisher_Эксмо',\n",
       "       'publication_year_2021', 'publication_year_2022',\n",
       "       'publication_year_2023', 'publication_year_2024',\n",
       "       'publication_year_2025', 'publication_year_Другой',\n",
       "       'cover_type_Мягкий заламинированный картон',\n",
       "       'cover_type_Мягкий переплёт', 'cover_type_Твёрдый переплёт',\n",
       "       'reading_age_0+', 'reading_age_12+', 'reading_age_16+',\n",
       "       'reading_age_18+', 'reading_age_6+', 'thickness', 'width', 'length',\n",
       "       'volume'],\n",
       "      dtype='object')"
      ]
     },
     "execution_count": 323,
     "metadata": {},
     "output_type": "execute_result"
    }
   ],
   "source": [
    "data.columns"
   ]
  },
  {
   "cell_type": "code",
   "execution_count": 327,
   "id": "56d8c53d",
   "metadata": {},
   "outputs": [],
   "source": [
    "data.to_csv('data_after_processing.csv', encoding='utf-8', index=False)"
   ]
  },
  {
   "cell_type": "code",
   "execution_count": null,
   "id": "3fb9cff8",
   "metadata": {},
   "outputs": [],
   "source": []
  }
 ],
 "metadata": {
  "kernelspec": {
   "display_name": "Python 3",
   "language": "python",
   "name": "python3"
  },
  "language_info": {
   "codemirror_mode": {
    "name": "ipython",
    "version": 3
   },
   "file_extension": ".py",
   "mimetype": "text/x-python",
   "name": "python",
   "nbconvert_exporter": "python",
   "pygments_lexer": "ipython3",
   "version": "3.9.6"
  }
 },
 "nbformat": 4,
 "nbformat_minor": 5
}
