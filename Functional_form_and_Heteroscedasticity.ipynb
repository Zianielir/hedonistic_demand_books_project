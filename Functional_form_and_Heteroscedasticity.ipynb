{
 "cells": [
  {
   "cell_type": "markdown",
   "id": "63ab3884",
   "metadata": {},
   "source": [
    "### Библиотеки"
   ]
  },
  {
   "cell_type": "code",
   "execution_count": 1,
   "id": "48752e29",
   "metadata": {},
   "outputs": [],
   "source": [
    "import pandas as pd\n",
    "import numpy as np\n",
    "import matplotlib.pyplot as plt\n",
    "import seaborn as sns\n",
    "from itertools import product\n",
    "import itertools\n",
    "from tqdm import tqdm\n",
    "\n",
    "import statsmodels.api as sm\n",
    "from scipy.stats import t, f, boxcox, skew, kurtosis, gmean\n",
    "from statsmodels.stats.diagnostic import linear_reset, het_white\n",
    "\n",
    "import warnings\n",
    "warnings.filterwarnings('ignore')"
   ]
  },
  {
   "cell_type": "markdown",
   "id": "711b9e40",
   "metadata": {},
   "source": [
    "### Обработка"
   ]
  },
  {
   "cell_type": "code",
   "execution_count": 2,
   "id": "a044d8db",
   "metadata": {},
   "outputs": [],
   "source": [
    "data = pd.read_csv('Data_with_new_feature.csv', encoding='utf-8')"
   ]
  },
  {
   "cell_type": "markdown",
   "id": "5b5d248d",
   "metadata": {},
   "source": [
    "### Логарифм цены"
   ]
  },
  {
   "cell_type": "code",
   "execution_count": 3,
   "id": "ef9b56c5",
   "metadata": {},
   "outputs": [],
   "source": [
    "data['log_price'] = np.log(data['price'])\n",
    "data = data.drop(['price'], axis=1)\n",
    "y = data['log_price']\n",
    "X = data.drop(['log_price'], axis=1)"
   ]
  },
  {
   "cell_type": "markdown",
   "id": "53359e85",
   "metadata": {},
   "source": [
    "### Регрессоры, которые можно логарифмировать и нет"
   ]
  },
  {
   "cell_type": "code",
   "execution_count": 4,
   "id": "8ef7b151",
   "metadata": {},
   "outputs": [],
   "source": [
    "cols_to_try_log = ['avg_rating', 'tirage', 'cnt_reviews', 'pages_cnt']\n",
    "unconditional_cols = [x for x in X.columns.tolist() if x not in cols_to_try_log]"
   ]
  },
  {
   "cell_type": "code",
   "execution_count": 5,
   "id": "efc5da6b",
   "metadata": {},
   "outputs": [],
   "source": [
    "def generate_all_combinations(num_of_repeats):\n",
    "    \"\"\"Генерирует все комбинации признаков, к которым применяется функциональное преобразование\"\"\"\n",
    "    return product([False, True], repeat=num_of_repeats)\n",
    "\n",
    "def prepare_X(cols_to_try_func, combination, df, func, flag='stay'):\n",
    "    \"\"\"Создает матрицу X для текущей комбинации\"\"\"\n",
    "    \"\"\"Примеры функций: np.log, np.power, np.reciprocal, ...\"\"\"\n",
    "    X_temp = df[unconditional_cols].copy()\n",
    "    feature_name = getattr(func, '__name__', repr(func))\n",
    "    \n",
    "    for i, col in enumerate(cols_to_try_func): # col = 'tirage'\n",
    "        if combination[i]:\n",
    "            try:\n",
    "                safe_col = df[col]\n",
    "                if (safe_col <= 0).any() and (func == np.log) or (func == np.reciprocal):\n",
    "                    safe_col = safe_col + 1e-6\n",
    "                if flag == 'stay':\n",
    "                    X_temp[col] = safe_col\n",
    "                    X_temp[f'{feature_name}_{col}'] = func(safe_col)\n",
    "                else:\n",
    "                    X_temp[f'{feature_name}_{col}'] = func(safe_col)\n",
    "            except Exception as e:\n",
    "                print(f\"Ошибка при применении функции к {col}: {e}\")\n",
    "        else:\n",
    "            X_temp[col] = df[col]\n",
    "    \n",
    "    return sm.add_constant(X_temp)\n",
    "\n",
    "def getting_statistic(cols_to_try_func, df, func, flag='stay'):\n",
    "    results = []\n",
    "\n",
    "    total_combinations = 2 ** len(cols_to_try_func)\n",
    "    feature_name = getattr(func, '__name__', repr(func))\n",
    "\n",
    "    for combination in tqdm(generate_all_combinations(num_of_repeats=len(cols_to_try_func)), total=total_combinations):\n",
    "        try:\n",
    "            # Подготавливаем данные\n",
    "            X_curr = prepare_X(cols_to_try_func, combination, df, func, flag=flag)\n",
    "\n",
    "            model = sm.OLS(df['log_price'], X_curr).fit()\n",
    "            results.append({\n",
    "                'combination': combination,\n",
    "                'aic': model.aic,\n",
    "                'bic': model.bic,\n",
    "                'adj_r2': model.rsquared_adj,\n",
    "            })\n",
    "\n",
    "        except Exception as e:\n",
    "            print(f\"Error in combination {combination}: {str(e)}\")\n",
    "            continue\n",
    "\n",
    "    df_results = pd.DataFrame(results)\n",
    "\n",
    "    df_results[f'{feature_name}_columns'] = df_results['combination'].apply(\n",
    "        lambda x: [cols_to_try_func[i] for i, my_func in enumerate(x) if my_func]\n",
    "    )\n",
    "    \n",
    "    return df_results"
   ]
  },
  {
   "cell_type": "code",
   "execution_count": 6,
   "id": "eef35831",
   "metadata": {},
   "outputs": [],
   "source": [
    "def custom_func(x):\n",
    "    return x**2"
   ]
  },
  {
   "cell_type": "code",
   "execution_count": 7,
   "id": "67f4ca22",
   "metadata": {
    "collapsed": true
   },
   "outputs": [
    {
     "name": "stderr",
     "output_type": "stream",
     "text": [
      "  0%|          | 0/16 [00:00<?, ?it/s]"
     ]
    },
    {
     "name": "stderr",
     "output_type": "stream",
     "text": [
      "100%|██████████| 16/16 [00:00<00:00, 70.08it/s]"
     ]
    },
    {
     "name": "stdout",
     "output_type": "stream",
     "text": [
      "Лучшая модель по AIC:\n",
      "Логарифмированные переменные: ['tirage']\n",
      "AIC: 514.64\n",
      "\n",
      "Лучшая модель по BIC:\n",
      "Логарифмированные переменные: ['tirage']\n",
      "BIC: 599.59\n",
      "\n",
      "Лучшая модель по Adj.R²:\n",
      "Логарифмированные переменные: ['tirage']\n",
      "Adj.R²: 0.7287\n"
     ]
    },
    {
     "name": "stderr",
     "output_type": "stream",
     "text": [
      "\n"
     ]
    }
   ],
   "source": [
    "my_func = np.log\n",
    "data_frame = getting_statistic(cols_to_try_func=cols_to_try_log, df=data, func=my_func, flag='')\n",
    "\n",
    "best_aic = data_frame.loc[data_frame['aic'].idxmin()]\n",
    "best_bic = data_frame.loc[data_frame['bic'].idxmin()]\n",
    "best_adj_r2 = data_frame.loc[data_frame['adj_r2'].idxmax()]\n",
    "\n",
    "print(\"Лучшая модель по AIC:\")\n",
    "print(f\"Логарифмированные переменные: {best_aic[f'{my_func.__name__}_columns']}\")\n",
    "print(f\"AIC: {best_aic['aic']:.2f}\\n\")\n",
    "\n",
    "print(\"Лучшая модель по BIC:\")\n",
    "print(f\"Логарифмированные переменные: {best_bic[f'{my_func.__name__}_columns']}\")\n",
    "print(f\"BIC: {best_bic['bic']:.2f}\\n\")\n",
    "\n",
    "print(\"Лучшая модель по Adj.R²:\")\n",
    "print(f\"Логарифмированные переменные: {best_adj_r2[f'{my_func.__name__}_columns']}\")\n",
    "print(f\"Adj.R²: {best_adj_r2['adj_r2']:.4f}\")"
   ]
  },
  {
   "cell_type": "markdown",
   "id": "980c0fc1",
   "metadata": {},
   "source": [
    "**Вывод:** нужно логарифмировать тираж; Adj R^2 = 0.6062"
   ]
  },
  {
   "cell_type": "markdown",
   "id": "6bcc6190",
   "metadata": {},
   "source": [
    "**Логарифмирование тиража:**"
   ]
  },
  {
   "cell_type": "code",
   "execution_count": 8,
   "id": "1304bbca",
   "metadata": {
    "collapsed": true
   },
   "outputs": [
    {
     "data": {
      "text/html": [
       "<div>\n",
       "<style scoped>\n",
       "    .dataframe tbody tr th:only-of-type {\n",
       "        vertical-align: middle;\n",
       "    }\n",
       "\n",
       "    .dataframe tbody tr th {\n",
       "        vertical-align: top;\n",
       "    }\n",
       "\n",
       "    .dataframe thead th {\n",
       "        text-align: right;\n",
       "    }\n",
       "</style>\n",
       "<table border=\"1\" class=\"dataframe\">\n",
       "  <thead>\n",
       "    <tr style=\"text-align: right;\">\n",
       "      <th></th>\n",
       "      <th>const</th>\n",
       "      <th>avg_rating</th>\n",
       "      <th>cnt_reviews</th>\n",
       "      <th>pages_cnt</th>\n",
       "      <th>publisher_АСТ</th>\n",
       "      <th>publisher_Азбука</th>\n",
       "      <th>publisher_Иностранка</th>\n",
       "      <th>publisher_Эксмо</th>\n",
       "      <th>cover_type_Твёрдый_переплёт</th>\n",
       "      <th>weight/page_cnt</th>\n",
       "      <th>2024_or_2025</th>\n",
       "      <th>6-</th>\n",
       "      <th>16+</th>\n",
       "      <th>log_price</th>\n",
       "      <th>log_tirage</th>\n",
       "    </tr>\n",
       "  </thead>\n",
       "  <tbody>\n",
       "    <tr>\n",
       "      <th>0</th>\n",
       "      <td>1.0</td>\n",
       "      <td>4.1</td>\n",
       "      <td>925</td>\n",
       "      <td>512</td>\n",
       "      <td>1.0</td>\n",
       "      <td>0.0</td>\n",
       "      <td>0.0</td>\n",
       "      <td>0.0</td>\n",
       "      <td>0.0</td>\n",
       "      <td>0.488281</td>\n",
       "      <td>1.0</td>\n",
       "      <td>0.0</td>\n",
       "      <td>1.0</td>\n",
       "      <td>5.743003</td>\n",
       "      <td>10.308953</td>\n",
       "    </tr>\n",
       "    <tr>\n",
       "      <th>1</th>\n",
       "      <td>1.0</td>\n",
       "      <td>4.1</td>\n",
       "      <td>1341</td>\n",
       "      <td>320</td>\n",
       "      <td>1.0</td>\n",
       "      <td>0.0</td>\n",
       "      <td>0.0</td>\n",
       "      <td>0.0</td>\n",
       "      <td>0.0</td>\n",
       "      <td>0.625000</td>\n",
       "      <td>1.0</td>\n",
       "      <td>0.0</td>\n",
       "      <td>1.0</td>\n",
       "      <td>5.743003</td>\n",
       "      <td>10.308953</td>\n",
       "    </tr>\n",
       "    <tr>\n",
       "      <th>2</th>\n",
       "      <td>1.0</td>\n",
       "      <td>4.5</td>\n",
       "      <td>363</td>\n",
       "      <td>192</td>\n",
       "      <td>1.0</td>\n",
       "      <td>0.0</td>\n",
       "      <td>0.0</td>\n",
       "      <td>0.0</td>\n",
       "      <td>0.0</td>\n",
       "      <td>0.687500</td>\n",
       "      <td>1.0</td>\n",
       "      <td>0.0</td>\n",
       "      <td>1.0</td>\n",
       "      <td>5.648974</td>\n",
       "      <td>10.126631</td>\n",
       "    </tr>\n",
       "    <tr>\n",
       "      <th>3</th>\n",
       "      <td>1.0</td>\n",
       "      <td>4.3</td>\n",
       "      <td>872</td>\n",
       "      <td>288</td>\n",
       "      <td>1.0</td>\n",
       "      <td>0.0</td>\n",
       "      <td>0.0</td>\n",
       "      <td>0.0</td>\n",
       "      <td>0.0</td>\n",
       "      <td>0.725694</td>\n",
       "      <td>1.0</td>\n",
       "      <td>0.0</td>\n",
       "      <td>1.0</td>\n",
       "      <td>5.826000</td>\n",
       "      <td>9.392662</td>\n",
       "    </tr>\n",
       "    <tr>\n",
       "      <th>4</th>\n",
       "      <td>1.0</td>\n",
       "      <td>4.2</td>\n",
       "      <td>3004</td>\n",
       "      <td>320</td>\n",
       "      <td>1.0</td>\n",
       "      <td>0.0</td>\n",
       "      <td>0.0</td>\n",
       "      <td>0.0</td>\n",
       "      <td>0.0</td>\n",
       "      <td>0.625000</td>\n",
       "      <td>1.0</td>\n",
       "      <td>0.0</td>\n",
       "      <td>1.0</td>\n",
       "      <td>5.648974</td>\n",
       "      <td>10.308953</td>\n",
       "    </tr>\n",
       "  </tbody>\n",
       "</table>\n",
       "</div>"
      ],
      "text/plain": [
       "   const  avg_rating  cnt_reviews  pages_cnt  publisher_АСТ  publisher_Азбука  \\\n",
       "0    1.0         4.1          925        512            1.0               0.0   \n",
       "1    1.0         4.1         1341        320            1.0               0.0   \n",
       "2    1.0         4.5          363        192            1.0               0.0   \n",
       "3    1.0         4.3          872        288            1.0               0.0   \n",
       "4    1.0         4.2         3004        320            1.0               0.0   \n",
       "\n",
       "   publisher_Иностранка  publisher_Эксмо  cover_type_Твёрдый_переплёт  \\\n",
       "0                   0.0              0.0                          0.0   \n",
       "1                   0.0              0.0                          0.0   \n",
       "2                   0.0              0.0                          0.0   \n",
       "3                   0.0              0.0                          0.0   \n",
       "4                   0.0              0.0                          0.0   \n",
       "\n",
       "   weight/page_cnt  2024_or_2025   6-  16+  log_price  log_tirage  \n",
       "0         0.488281           1.0  0.0  1.0   5.743003   10.308953  \n",
       "1         0.625000           1.0  0.0  1.0   5.743003   10.308953  \n",
       "2         0.687500           1.0  0.0  1.0   5.648974   10.126631  \n",
       "3         0.725694           1.0  0.0  1.0   5.826000    9.392662  \n",
       "4         0.625000           1.0  0.0  1.0   5.648974   10.308953  "
      ]
     },
     "execution_count": 8,
     "metadata": {},
     "output_type": "execute_result"
    }
   ],
   "source": [
    "upd_data = data.copy()\n",
    "upd_data['log_tirage'] = np.log(upd_data['tirage'])\n",
    "upd_data = upd_data.drop(['tirage'], axis=1)\n",
    "upd_data.head()"
   ]
  },
  {
   "cell_type": "code",
   "execution_count": 9,
   "id": "45fa8d3b",
   "metadata": {},
   "outputs": [],
   "source": [
    "X_upd = upd_data.drop(['log_price'], axis=1)"
   ]
  },
  {
   "cell_type": "code",
   "execution_count": 10,
   "id": "0eba5f39",
   "metadata": {
    "collapsed": true
   },
   "outputs": [
    {
     "data": {
      "text/html": [
       "<div>\n",
       "<style scoped>\n",
       "    .dataframe tbody tr th:only-of-type {\n",
       "        vertical-align: middle;\n",
       "    }\n",
       "\n",
       "    .dataframe tbody tr th {\n",
       "        vertical-align: top;\n",
       "    }\n",
       "\n",
       "    .dataframe thead th {\n",
       "        text-align: right;\n",
       "    }\n",
       "</style>\n",
       "<table border=\"1\" class=\"dataframe\">\n",
       "  <thead>\n",
       "    <tr style=\"text-align: right;\">\n",
       "      <th></th>\n",
       "      <th>const</th>\n",
       "      <th>avg_rating</th>\n",
       "      <th>cnt_reviews</th>\n",
       "      <th>pages_cnt</th>\n",
       "      <th>publisher_АСТ</th>\n",
       "      <th>publisher_Азбука</th>\n",
       "      <th>publisher_Иностранка</th>\n",
       "      <th>publisher_Эксмо</th>\n",
       "      <th>cover_type_Твёрдый_переплёт</th>\n",
       "      <th>weight/page_cnt</th>\n",
       "      <th>2024_or_2025</th>\n",
       "      <th>6-</th>\n",
       "      <th>16+</th>\n",
       "      <th>log_tirage</th>\n",
       "    </tr>\n",
       "  </thead>\n",
       "  <tbody>\n",
       "    <tr>\n",
       "      <th>0</th>\n",
       "      <td>1.0</td>\n",
       "      <td>4.1</td>\n",
       "      <td>925</td>\n",
       "      <td>512</td>\n",
       "      <td>1.0</td>\n",
       "      <td>0.0</td>\n",
       "      <td>0.0</td>\n",
       "      <td>0.0</td>\n",
       "      <td>0.0</td>\n",
       "      <td>0.488281</td>\n",
       "      <td>1.0</td>\n",
       "      <td>0.0</td>\n",
       "      <td>1.0</td>\n",
       "      <td>10.308953</td>\n",
       "    </tr>\n",
       "    <tr>\n",
       "      <th>1</th>\n",
       "      <td>1.0</td>\n",
       "      <td>4.1</td>\n",
       "      <td>1341</td>\n",
       "      <td>320</td>\n",
       "      <td>1.0</td>\n",
       "      <td>0.0</td>\n",
       "      <td>0.0</td>\n",
       "      <td>0.0</td>\n",
       "      <td>0.0</td>\n",
       "      <td>0.625000</td>\n",
       "      <td>1.0</td>\n",
       "      <td>0.0</td>\n",
       "      <td>1.0</td>\n",
       "      <td>10.308953</td>\n",
       "    </tr>\n",
       "    <tr>\n",
       "      <th>2</th>\n",
       "      <td>1.0</td>\n",
       "      <td>4.5</td>\n",
       "      <td>363</td>\n",
       "      <td>192</td>\n",
       "      <td>1.0</td>\n",
       "      <td>0.0</td>\n",
       "      <td>0.0</td>\n",
       "      <td>0.0</td>\n",
       "      <td>0.0</td>\n",
       "      <td>0.687500</td>\n",
       "      <td>1.0</td>\n",
       "      <td>0.0</td>\n",
       "      <td>1.0</td>\n",
       "      <td>10.126631</td>\n",
       "    </tr>\n",
       "    <tr>\n",
       "      <th>3</th>\n",
       "      <td>1.0</td>\n",
       "      <td>4.3</td>\n",
       "      <td>872</td>\n",
       "      <td>288</td>\n",
       "      <td>1.0</td>\n",
       "      <td>0.0</td>\n",
       "      <td>0.0</td>\n",
       "      <td>0.0</td>\n",
       "      <td>0.0</td>\n",
       "      <td>0.725694</td>\n",
       "      <td>1.0</td>\n",
       "      <td>0.0</td>\n",
       "      <td>1.0</td>\n",
       "      <td>9.392662</td>\n",
       "    </tr>\n",
       "    <tr>\n",
       "      <th>4</th>\n",
       "      <td>1.0</td>\n",
       "      <td>4.2</td>\n",
       "      <td>3004</td>\n",
       "      <td>320</td>\n",
       "      <td>1.0</td>\n",
       "      <td>0.0</td>\n",
       "      <td>0.0</td>\n",
       "      <td>0.0</td>\n",
       "      <td>0.0</td>\n",
       "      <td>0.625000</td>\n",
       "      <td>1.0</td>\n",
       "      <td>0.0</td>\n",
       "      <td>1.0</td>\n",
       "      <td>10.308953</td>\n",
       "    </tr>\n",
       "    <tr>\n",
       "      <th>...</th>\n",
       "      <td>...</td>\n",
       "      <td>...</td>\n",
       "      <td>...</td>\n",
       "      <td>...</td>\n",
       "      <td>...</td>\n",
       "      <td>...</td>\n",
       "      <td>...</td>\n",
       "      <td>...</td>\n",
       "      <td>...</td>\n",
       "      <td>...</td>\n",
       "      <td>...</td>\n",
       "      <td>...</td>\n",
       "      <td>...</td>\n",
       "      <td>...</td>\n",
       "    </tr>\n",
       "    <tr>\n",
       "      <th>3185</th>\n",
       "      <td>1.0</td>\n",
       "      <td>5.0</td>\n",
       "      <td>3</td>\n",
       "      <td>624</td>\n",
       "      <td>0.0</td>\n",
       "      <td>0.0</td>\n",
       "      <td>0.0</td>\n",
       "      <td>1.0</td>\n",
       "      <td>1.0</td>\n",
       "      <td>1.538462</td>\n",
       "      <td>0.0</td>\n",
       "      <td>0.0</td>\n",
       "      <td>1.0</td>\n",
       "      <td>7.313220</td>\n",
       "    </tr>\n",
       "    <tr>\n",
       "      <th>3186</th>\n",
       "      <td>1.0</td>\n",
       "      <td>3.7</td>\n",
       "      <td>53</td>\n",
       "      <td>448</td>\n",
       "      <td>0.0</td>\n",
       "      <td>0.0</td>\n",
       "      <td>0.0</td>\n",
       "      <td>1.0</td>\n",
       "      <td>1.0</td>\n",
       "      <td>1.696429</td>\n",
       "      <td>0.0</td>\n",
       "      <td>0.0</td>\n",
       "      <td>1.0</td>\n",
       "      <td>7.313220</td>\n",
       "    </tr>\n",
       "    <tr>\n",
       "      <th>3187</th>\n",
       "      <td>1.0</td>\n",
       "      <td>4.3</td>\n",
       "      <td>42</td>\n",
       "      <td>784</td>\n",
       "      <td>0.0</td>\n",
       "      <td>0.0</td>\n",
       "      <td>1.0</td>\n",
       "      <td>0.0</td>\n",
       "      <td>1.0</td>\n",
       "      <td>1.096939</td>\n",
       "      <td>0.0</td>\n",
       "      <td>0.0</td>\n",
       "      <td>1.0</td>\n",
       "      <td>8.006368</td>\n",
       "    </tr>\n",
       "    <tr>\n",
       "      <th>3188</th>\n",
       "      <td>1.0</td>\n",
       "      <td>3.8</td>\n",
       "      <td>29</td>\n",
       "      <td>704</td>\n",
       "      <td>0.0</td>\n",
       "      <td>0.0</td>\n",
       "      <td>0.0</td>\n",
       "      <td>1.0</td>\n",
       "      <td>1.0</td>\n",
       "      <td>0.906250</td>\n",
       "      <td>0.0</td>\n",
       "      <td>0.0</td>\n",
       "      <td>1.0</td>\n",
       "      <td>7.600902</td>\n",
       "    </tr>\n",
       "    <tr>\n",
       "      <th>3189</th>\n",
       "      <td>1.0</td>\n",
       "      <td>4.0</td>\n",
       "      <td>27</td>\n",
       "      <td>256</td>\n",
       "      <td>1.0</td>\n",
       "      <td>0.0</td>\n",
       "      <td>0.0</td>\n",
       "      <td>0.0</td>\n",
       "      <td>1.0</td>\n",
       "      <td>0.898438</td>\n",
       "      <td>0.0</td>\n",
       "      <td>0.0</td>\n",
       "      <td>1.0</td>\n",
       "      <td>7.313220</td>\n",
       "    </tr>\n",
       "  </tbody>\n",
       "</table>\n",
       "<p>3190 rows × 14 columns</p>\n",
       "</div>"
      ],
      "text/plain": [
       "      const  avg_rating  cnt_reviews  pages_cnt  publisher_АСТ  \\\n",
       "0       1.0         4.1          925        512            1.0   \n",
       "1       1.0         4.1         1341        320            1.0   \n",
       "2       1.0         4.5          363        192            1.0   \n",
       "3       1.0         4.3          872        288            1.0   \n",
       "4       1.0         4.2         3004        320            1.0   \n",
       "...     ...         ...          ...        ...            ...   \n",
       "3185    1.0         5.0            3        624            0.0   \n",
       "3186    1.0         3.7           53        448            0.0   \n",
       "3187    1.0         4.3           42        784            0.0   \n",
       "3188    1.0         3.8           29        704            0.0   \n",
       "3189    1.0         4.0           27        256            1.0   \n",
       "\n",
       "      publisher_Азбука  publisher_Иностранка  publisher_Эксмо  \\\n",
       "0                  0.0                   0.0              0.0   \n",
       "1                  0.0                   0.0              0.0   \n",
       "2                  0.0                   0.0              0.0   \n",
       "3                  0.0                   0.0              0.0   \n",
       "4                  0.0                   0.0              0.0   \n",
       "...                ...                   ...              ...   \n",
       "3185               0.0                   0.0              1.0   \n",
       "3186               0.0                   0.0              1.0   \n",
       "3187               0.0                   1.0              0.0   \n",
       "3188               0.0                   0.0              1.0   \n",
       "3189               0.0                   0.0              0.0   \n",
       "\n",
       "      cover_type_Твёрдый_переплёт  weight/page_cnt  2024_or_2025   6-  16+  \\\n",
       "0                             0.0         0.488281           1.0  0.0  1.0   \n",
       "1                             0.0         0.625000           1.0  0.0  1.0   \n",
       "2                             0.0         0.687500           1.0  0.0  1.0   \n",
       "3                             0.0         0.725694           1.0  0.0  1.0   \n",
       "4                             0.0         0.625000           1.0  0.0  1.0   \n",
       "...                           ...              ...           ...  ...  ...   \n",
       "3185                          1.0         1.538462           0.0  0.0  1.0   \n",
       "3186                          1.0         1.696429           0.0  0.0  1.0   \n",
       "3187                          1.0         1.096939           0.0  0.0  1.0   \n",
       "3188                          1.0         0.906250           0.0  0.0  1.0   \n",
       "3189                          1.0         0.898438           0.0  0.0  1.0   \n",
       "\n",
       "      log_tirage  \n",
       "0      10.308953  \n",
       "1      10.308953  \n",
       "2      10.126631  \n",
       "3       9.392662  \n",
       "4      10.308953  \n",
       "...          ...  \n",
       "3185    7.313220  \n",
       "3186    7.313220  \n",
       "3187    8.006368  \n",
       "3188    7.600902  \n",
       "3189    7.313220  \n",
       "\n",
       "[3190 rows x 14 columns]"
      ]
     },
     "execution_count": 10,
     "metadata": {},
     "output_type": "execute_result"
    }
   ],
   "source": [
    "X_upd"
   ]
  },
  {
   "cell_type": "code",
   "execution_count": 11,
   "id": "0456cad1",
   "metadata": {},
   "outputs": [],
   "source": [
    "# cols_to_try_log_ = ['avg_rating', 'cnt_reviews', 'pages_cnt']\n",
    "# unconditional_cols_ = [x for x in X_try.columns.tolist() if x not in cols_to_try_log_]"
   ]
  },
  {
   "cell_type": "markdown",
   "id": "108ff3a8",
   "metadata": {},
   "source": [
    "Также функции будут работать, если мы решим проверить какие-то кастомные функции типо этого:"
   ]
  },
  {
   "cell_type": "markdown",
   "id": "a2bdf5f5",
   "metadata": {},
   "source": [
    "### Итоговая модель с ln Y"
   ]
  },
  {
   "cell_type": "markdown",
   "id": "e4b1fd71",
   "metadata": {},
   "source": [
    "После проверки всех функциональных форм обучаем итоговую модель:"
   ]
  },
  {
   "cell_type": "code",
   "execution_count": 12,
   "id": "94a5c0dd",
   "metadata": {
    "collapsed": true
   },
   "outputs": [
    {
     "name": "stdout",
     "output_type": "stream",
     "text": [
      "                            OLS Regression Results                            \n",
      "==============================================================================\n",
      "Dep. Variable:              log_price   R-squared:                       0.730\n",
      "Model:                            OLS   Adj. R-squared:                  0.729\n",
      "Method:                 Least Squares   F-statistic:                     660.0\n",
      "Date:                Thu, 08 May 2025   Prob (F-statistic):               0.00\n",
      "Time:                        16:07:55   Log-Likelihood:                -243.32\n",
      "No. Observations:                3190   AIC:                             514.6\n",
      "Df Residuals:                    3176   BIC:                             599.6\n",
      "Df Model:                          13                                         \n",
      "Covariance Type:            nonrobust                                         \n",
      "===============================================================================================\n",
      "                                  coef    std err          t      P>|t|      [0.025      0.975]\n",
      "-----------------------------------------------------------------------------------------------\n",
      "const                           6.4464      0.110     58.340      0.000       6.230       6.663\n",
      "avg_rating                      0.0742      0.013      5.494      0.000       0.048       0.101\n",
      "cnt_reviews                     0.0005   4.17e-05     11.265      0.000       0.000       0.001\n",
      "pages_cnt                       0.0009   2.27e-05     40.582      0.000       0.001       0.001\n",
      "publisher_АСТ                  -0.1254      0.026     -4.897      0.000      -0.176      -0.075\n",
      "publisher_Азбука               -0.1109      0.027     -4.104      0.000      -0.164      -0.058\n",
      "publisher_Иностранка            0.1198      0.033      3.642      0.000       0.055       0.184\n",
      "publisher_Эксмо                -0.0969      0.025     -3.832      0.000      -0.146      -0.047\n",
      "cover_type_Твёрдый_переплёт     0.2428      0.012     20.689      0.000       0.220       0.266\n",
      "weight/page_cnt                 0.6213      0.016     37.916      0.000       0.589       0.653\n",
      "2024_or_2025                    0.0328      0.011      3.029      0.002       0.012       0.054\n",
      "6-                              0.1684      0.054      3.090      0.002       0.062       0.275\n",
      "16+                             0.1030      0.013      8.140      0.000       0.078       0.128\n",
      "log_tirage                     -0.2127      0.011    -19.591      0.000      -0.234      -0.191\n",
      "==============================================================================\n",
      "Omnibus:                      771.883   Durbin-Watson:                   1.998\n",
      "Prob(Omnibus):                  0.000   Jarque-Bera (JB):             5319.412\n",
      "Skew:                          -0.969   Prob(JB):                         0.00\n",
      "Kurtosis:                       9.022   Cond. No.                     1.27e+04\n",
      "==============================================================================\n",
      "\n",
      "Notes:\n",
      "[1] Standard Errors assume that the covariance matrix of the errors is correctly specified.\n",
      "[2] The condition number is large, 1.27e+04. This might indicate that there are\n",
      "strong multicollinearity or other numerical problems.\n"
     ]
    }
   ],
   "source": [
    "log_model = sm.OLS(data['log_price'], X_upd).fit()\n",
    "print(log_model.summary())"
   ]
  },
  {
   "cell_type": "markdown",
   "id": "fb1e9d64",
   "metadata": {},
   "source": [
    "# Тест Рамсея и далее"
   ]
  },
  {
   "cell_type": "code",
   "execution_count": 13,
   "id": "df74e2c3",
   "metadata": {},
   "outputs": [
    {
     "name": "stdout",
     "output_type": "stream",
     "text": [
      "RESET test (Ramsey)\n",
      "<Wald test (chi2): statistic=372.8981397925422, p-value=4.377093274505311e-83, df_denom=1>\n"
     ]
    }
   ],
   "source": [
    "reset_result = linear_reset(log_model, power=2)\n",
    "\n",
    "print(\"RESET test (Ramsey)\")\n",
    "print(reset_result)"
   ]
  },
  {
   "cell_type": "markdown",
   "id": "5f845900",
   "metadata": {},
   "source": [
    "**Вывод:** отвергаем H0 ==> нужно добавить степени"
   ]
  },
  {
   "cell_type": "code",
   "execution_count": 14,
   "id": "f5c068cf",
   "metadata": {},
   "outputs": [],
   "source": [
    "X_ramsey = X_upd.copy()\n",
    "X_ramsey['Y_hat^2'] = log_model.fittedvalues**2\n",
    "X_ramsey['Y_hat^3'] = log_model.fittedvalues**3\n",
    "X_ramsey['Y_hat^4'] = log_model.fittedvalues**4\n",
    "X_ramsey['Y_hat^5'] = log_model.fittedvalues**5"
   ]
  },
  {
   "cell_type": "code",
   "execution_count": 15,
   "id": "fc0b718f",
   "metadata": {
    "collapsed": true
   },
   "outputs": [
    {
     "name": "stdout",
     "output_type": "stream",
     "text": [
      "                            OLS Regression Results                            \n",
      "==============================================================================\n",
      "Dep. Variable:              log_price   R-squared:                       0.814\n",
      "Model:                            OLS   Adj. R-squared:                  0.813\n",
      "Method:                 Least Squares   F-statistic:                     816.9\n",
      "Date:                Thu, 08 May 2025   Prob (F-statistic):               0.00\n",
      "Time:                        16:07:56   Log-Likelihood:                 352.50\n",
      "No. Observations:                3190   AIC:                            -669.0\n",
      "Df Residuals:                    3172   BIC:                            -559.8\n",
      "Df Model:                          17                                         \n",
      "Covariance Type:            nonrobust                                         \n",
      "===============================================================================================\n",
      "                                  coef    std err          t      P>|t|      [0.025      0.975]\n",
      "-----------------------------------------------------------------------------------------------\n",
      "const                        -686.5480    657.445     -1.044      0.296   -1975.609     602.513\n",
      "avg_rating                    -11.7056      9.613     -1.218      0.223     -30.553       7.142\n",
      "cnt_reviews                    -0.0740      0.061     -1.216      0.224      -0.193       0.045\n",
      "pages_cnt                      -0.1452      0.120     -1.215      0.224      -0.380       0.089\n",
      "publisher_АСТ                  19.8162     16.254      1.219      0.223     -12.054      51.686\n",
      "publisher_Азбука               17.4998     14.376      1.217      0.224     -10.688      45.688\n",
      "publisher_Иностранка          -18.9064     15.515     -1.219      0.223     -49.326      11.513\n",
      "publisher_Эксмо                15.2953     12.557      1.218      0.223      -9.325      39.916\n",
      "cover_type_Твёрдый_переплёт   -38.4319     31.469     -1.221      0.222    -100.134      23.271\n",
      "weight/page_cnt               -97.4729     80.528     -1.210      0.226    -255.366      60.420\n",
      "2024_or_2025                   -5.1725      4.251     -1.217      0.224     -13.508       3.163\n",
      "6-                            -26.6466     21.822     -1.221      0.222     -69.434      16.140\n",
      "16+                           -16.2329     13.352     -1.216      0.224     -42.412       9.946\n",
      "log_tirage                     33.5168     27.560      1.216      0.224     -20.521      87.555\n",
      "Y_hat^2                        22.5357     37.465      0.602      0.548     -50.922      95.993\n",
      "Y_hat^3                         0.0339      5.376      0.006      0.995     -10.507      10.575\n",
      "Y_hat^4                        -0.2249      0.383     -0.587      0.557      -0.976       0.526\n",
      "Y_hat^5                         0.0122      0.011      1.125      0.261      -0.009       0.033\n",
      "==============================================================================\n",
      "Omnibus:                      409.448   Durbin-Watson:                   2.031\n",
      "Prob(Omnibus):                  0.000   Jarque-Bera (JB):             2258.013\n",
      "Skew:                          -0.480   Prob(JB):                         0.00\n",
      "Kurtosis:                       7.008   Cond. No.                     1.76e+09\n",
      "==============================================================================\n",
      "\n",
      "Notes:\n",
      "[1] Standard Errors assume that the covariance matrix of the errors is correctly specified.\n",
      "[2] The condition number is large, 1.76e+09. This might indicate that there are\n",
      "strong multicollinearity or other numerical problems.\n"
     ]
    }
   ],
   "source": [
    "log_model = sm.OLS(data['log_price'], X_ramsey).fit()\n",
    "print(log_model.summary())"
   ]
  },
  {
   "cell_type": "code",
   "execution_count": 16,
   "id": "5ff4fa97",
   "metadata": {
    "scrolled": false
   },
   "outputs": [
    {
     "name": "stdout",
     "output_type": "stream",
     "text": [
      "RESET test (Ramsey)\n",
      "<Wald test (chi2): statistic=264.1292287221383, p-value=2.160078767658819e-59, df_denom=1>\n"
     ]
    }
   ],
   "source": [
    "reset_result = linear_reset(log_model, power=2)\n",
    "\n",
    "print(\"RESET test (Ramsey)\")\n",
    "print(reset_result)"
   ]
  },
  {
   "cell_type": "code",
   "execution_count": 17,
   "id": "bb8cef1d",
   "metadata": {},
   "outputs": [
    {
     "name": "stdout",
     "output_type": "stream",
     "text": [
      "LM-статистика: 848.698483708599\n",
      "p-value для LM-статистики: 2.939458512262411e-125\n",
      "F-статистика: 12.924644926505323\n",
      "p-value для F-статистики: 1.3749319353349965e-149\n",
      "Гетероскедастичность выявлена.\n"
     ]
    }
   ],
   "source": [
    "# Тест Уайта\n",
    "residuals = log_model.resid\n",
    "white_test = het_white(residuals, X_upd)\n",
    "\n",
    "lm_stat, lm_pval, f_stat, f_pval = white_test\n",
    "\n",
    "print(f\"LM-статистика: {lm_stat}\")\n",
    "print(f\"p-value для LM-статистики: {lm_pval}\")\n",
    "print(f\"F-статистика: {f_stat}\")\n",
    "print(f\"p-value для F-статистики: {f_pval}\")\n",
    "\n",
    "if lm_pval < 0.05:\n",
    "    print(\"Гетероскедастичность выявлена.\")\n",
    "else:\n",
    "    print(\"Нет признаков гетероскедастичности.\")"
   ]
  },
  {
   "cell_type": "code",
   "execution_count": 18,
   "id": "4d00090d",
   "metadata": {},
   "outputs": [
    {
     "name": "stdout",
     "output_type": "stream",
     "text": [
      "Есть признаки гетероскедастичности.\n"
     ]
    }
   ],
   "source": [
    "# Тест Глейзера\n",
    "abs_residuals = np.abs(residuals)\n",
    "glejser_model = sm.OLS(abs_residuals, X_upd).fit()\n",
    "\n",
    "p_values = glejser_model.pvalues\n",
    "# print(f\"P-значения:\")\n",
    "# if p_values[0]:\n",
    "#     print(p_values)\n",
    "if any(p < 0.05 for p in p_values[1:]):\n",
    "    print(\"Есть признаки гетероскедастичности.\")\n",
    "else:\n",
    "    print(\"Нет признаков гетероскедастичности.\")"
   ]
  },
  {
   "cell_type": "markdown",
   "id": "99619ace",
   "metadata": {},
   "source": [
    "## Попытки убрать гетероскедастичность:"
   ]
  },
  {
   "cell_type": "code",
   "execution_count": 19,
   "id": "4c552d74",
   "metadata": {
    "collapsed": true
   },
   "outputs": [
    {
     "name": "stdout",
     "output_type": "stream",
     "text": [
      "avg_rating p-value = 0.2058\n",
      "cnt_reviews p-value = 0.0719\n",
      "pages_cnt p-value = 0.0\n",
      "tirage p-value = 0.0\n",
      "publisher_АСТ p-value = 0.0\n",
      "publisher_Азбука p-value = 0.0\n",
      "publisher_Иностранка p-value = 0.0\n",
      "publisher_Эксмо p-value = 0.0\n",
      "cover_type_Твёрдый_переплёт p-value = 0.0\n",
      "weight/page_cnt p-value = 0.0\n",
      "2024_or_2025 p-value = 0.3753\n",
      "6- p-value = 0.0031\n",
      "16+ p-value = 0.0208\n"
     ]
    }
   ],
   "source": [
    "X = sm.add_constant(data.drop(columns='log_price'))\n",
    "y = data['log_price']\n",
    "\n",
    "ols_model = sm.OLS(y, X).fit()\n",
    "residuals = ols_model.resid\n",
    "\n",
    "for col in data.columns.drop('log_price').drop('const'):\n",
    "    X_j = sm.add_constant(data[[col]])\n",
    "    model = sm.OLS(np.abs(residuals), X_j).fit()\n",
    "    print(f\"{col} p-value = {round(model.pvalues[1], 4)}\")"
   ]
  },
  {
   "cell_type": "markdown",
   "id": "4787b05c",
   "metadata": {},
   "source": [
    "## 1) Реализация WLS:"
   ]
  },
  {
   "cell_type": "code",
   "execution_count": 20,
   "id": "55f27d0f",
   "metadata": {},
   "outputs": [],
   "source": [
    "log_model = sm.OLS(data['log_price'], X_upd).fit()\n",
    "resid = log_model.resid"
   ]
  },
  {
   "cell_type": "code",
   "execution_count": 21,
   "id": "e7656ea6",
   "metadata": {},
   "outputs": [],
   "source": [
    "# вспомогательная модель, записанная через модуль - не помогла\n",
    "aux_model_1 = sm.OLS(np.abs(resid), X_upd).fit()\n",
    "sigma_hat_1 = aux_model_1.fittedvalues\n",
    "\n",
    "y_wls_1 = data['log_price'] / sigma_hat_1\n",
    "X_wls_1 = X.divide(sigma_hat_1, axis=0)"
   ]
  },
  {
   "cell_type": "markdown",
   "id": "8658ead6",
   "metadata": {},
   "source": [
    "`Актуально и для FGLS:`<br>\n",
    "Если предполагается, что дисперсия ошибки зависит от уровня прогнозируемого значения (например, остатки растут с увеличением `y_hat`), то надо использовать такую вспомогательную модель:\n",
    "* aux_model = sm.OLS(np.abs(resid), sm.add_constant(y_pred)).fit()\n",
    "\n",
    "Более общей вспомогательной моделью является:\n",
    "* aux_model_1 = sm.OLS(np.abs(resid), X_upd).fit()\n"
   ]
  },
  {
   "cell_type": "code",
   "execution_count": 22,
   "id": "aeec3614",
   "metadata": {},
   "outputs": [],
   "source": [
    "# тогда попробуем вспомогательную модель, записанную через квадрат\n",
    "aux_model_2 = sm.OLS(resid ** 2, X_upd).fit()\n",
    "sigma_hat_2 = aux_model_2.fittedvalues\n",
    "\n",
    "y_wls_2 = data['log_price'] / sigma_hat_2\n",
    "X_wls_2 = X.divide(sigma_hat_2, axis=0)"
   ]
  },
  {
   "cell_type": "code",
   "execution_count": null,
   "id": "2d08b192",
   "metadata": {},
   "outputs": [],
   "source": [
    "# y_new = data['log_price'] / sigma_hat_1\n",
    "# quantitative_feature = ['avg_rating', 'log_tirage', 'cnt_reviews', 'pages_cnt', 'weight/page_cnt']\n",
    "# X_upd[quantitative_feature] = X_upd[quantitative_feature].div(sigma_hat_1, axis=0)\n",
    "\n",
    "wls_like_model = sm.OLS(y_wls_1, X_wls_1).fit() # надо изменить weights на weights_1 / weights_2"
   ]
  },
  {
   "cell_type": "code",
   "execution_count": 24,
   "id": "5fce04f5",
   "metadata": {
    "collapsed": true
   },
   "outputs": [
    {
     "data": {
      "text/html": [
       "<div>\n",
       "<style scoped>\n",
       "    .dataframe tbody tr th:only-of-type {\n",
       "        vertical-align: middle;\n",
       "    }\n",
       "\n",
       "    .dataframe tbody tr th {\n",
       "        vertical-align: top;\n",
       "    }\n",
       "\n",
       "    .dataframe thead th {\n",
       "        text-align: right;\n",
       "    }\n",
       "</style>\n",
       "<table border=\"1\" class=\"dataframe\">\n",
       "  <thead>\n",
       "    <tr style=\"text-align: right;\">\n",
       "      <th></th>\n",
       "      <th>const</th>\n",
       "      <th>avg_rating</th>\n",
       "      <th>cnt_reviews</th>\n",
       "      <th>pages_cnt</th>\n",
       "      <th>publisher_АСТ</th>\n",
       "      <th>publisher_Азбука</th>\n",
       "      <th>publisher_Иностранка</th>\n",
       "      <th>publisher_Эксмо</th>\n",
       "      <th>cover_type_Твёрдый_переплёт</th>\n",
       "      <th>weight/page_cnt</th>\n",
       "      <th>2024_or_2025</th>\n",
       "      <th>6-</th>\n",
       "      <th>16+</th>\n",
       "      <th>log_tirage</th>\n",
       "    </tr>\n",
       "  </thead>\n",
       "  <tbody>\n",
       "    <tr>\n",
       "      <th>0</th>\n",
       "      <td>1.0</td>\n",
       "      <td>4.1</td>\n",
       "      <td>925</td>\n",
       "      <td>512</td>\n",
       "      <td>1.0</td>\n",
       "      <td>0.0</td>\n",
       "      <td>0.0</td>\n",
       "      <td>0.0</td>\n",
       "      <td>0.0</td>\n",
       "      <td>0.488281</td>\n",
       "      <td>1.0</td>\n",
       "      <td>0.0</td>\n",
       "      <td>1.0</td>\n",
       "      <td>10.308953</td>\n",
       "    </tr>\n",
       "    <tr>\n",
       "      <th>1</th>\n",
       "      <td>1.0</td>\n",
       "      <td>4.1</td>\n",
       "      <td>1341</td>\n",
       "      <td>320</td>\n",
       "      <td>1.0</td>\n",
       "      <td>0.0</td>\n",
       "      <td>0.0</td>\n",
       "      <td>0.0</td>\n",
       "      <td>0.0</td>\n",
       "      <td>0.625000</td>\n",
       "      <td>1.0</td>\n",
       "      <td>0.0</td>\n",
       "      <td>1.0</td>\n",
       "      <td>10.308953</td>\n",
       "    </tr>\n",
       "    <tr>\n",
       "      <th>2</th>\n",
       "      <td>1.0</td>\n",
       "      <td>4.5</td>\n",
       "      <td>363</td>\n",
       "      <td>192</td>\n",
       "      <td>1.0</td>\n",
       "      <td>0.0</td>\n",
       "      <td>0.0</td>\n",
       "      <td>0.0</td>\n",
       "      <td>0.0</td>\n",
       "      <td>0.687500</td>\n",
       "      <td>1.0</td>\n",
       "      <td>0.0</td>\n",
       "      <td>1.0</td>\n",
       "      <td>10.126631</td>\n",
       "    </tr>\n",
       "    <tr>\n",
       "      <th>3</th>\n",
       "      <td>1.0</td>\n",
       "      <td>4.3</td>\n",
       "      <td>872</td>\n",
       "      <td>288</td>\n",
       "      <td>1.0</td>\n",
       "      <td>0.0</td>\n",
       "      <td>0.0</td>\n",
       "      <td>0.0</td>\n",
       "      <td>0.0</td>\n",
       "      <td>0.725694</td>\n",
       "      <td>1.0</td>\n",
       "      <td>0.0</td>\n",
       "      <td>1.0</td>\n",
       "      <td>9.392662</td>\n",
       "    </tr>\n",
       "    <tr>\n",
       "      <th>4</th>\n",
       "      <td>1.0</td>\n",
       "      <td>4.2</td>\n",
       "      <td>3004</td>\n",
       "      <td>320</td>\n",
       "      <td>1.0</td>\n",
       "      <td>0.0</td>\n",
       "      <td>0.0</td>\n",
       "      <td>0.0</td>\n",
       "      <td>0.0</td>\n",
       "      <td>0.625000</td>\n",
       "      <td>1.0</td>\n",
       "      <td>0.0</td>\n",
       "      <td>1.0</td>\n",
       "      <td>10.308953</td>\n",
       "    </tr>\n",
       "    <tr>\n",
       "      <th>...</th>\n",
       "      <td>...</td>\n",
       "      <td>...</td>\n",
       "      <td>...</td>\n",
       "      <td>...</td>\n",
       "      <td>...</td>\n",
       "      <td>...</td>\n",
       "      <td>...</td>\n",
       "      <td>...</td>\n",
       "      <td>...</td>\n",
       "      <td>...</td>\n",
       "      <td>...</td>\n",
       "      <td>...</td>\n",
       "      <td>...</td>\n",
       "      <td>...</td>\n",
       "    </tr>\n",
       "    <tr>\n",
       "      <th>3185</th>\n",
       "      <td>1.0</td>\n",
       "      <td>5.0</td>\n",
       "      <td>3</td>\n",
       "      <td>624</td>\n",
       "      <td>0.0</td>\n",
       "      <td>0.0</td>\n",
       "      <td>0.0</td>\n",
       "      <td>1.0</td>\n",
       "      <td>1.0</td>\n",
       "      <td>1.538462</td>\n",
       "      <td>0.0</td>\n",
       "      <td>0.0</td>\n",
       "      <td>1.0</td>\n",
       "      <td>7.313220</td>\n",
       "    </tr>\n",
       "    <tr>\n",
       "      <th>3186</th>\n",
       "      <td>1.0</td>\n",
       "      <td>3.7</td>\n",
       "      <td>53</td>\n",
       "      <td>448</td>\n",
       "      <td>0.0</td>\n",
       "      <td>0.0</td>\n",
       "      <td>0.0</td>\n",
       "      <td>1.0</td>\n",
       "      <td>1.0</td>\n",
       "      <td>1.696429</td>\n",
       "      <td>0.0</td>\n",
       "      <td>0.0</td>\n",
       "      <td>1.0</td>\n",
       "      <td>7.313220</td>\n",
       "    </tr>\n",
       "    <tr>\n",
       "      <th>3187</th>\n",
       "      <td>1.0</td>\n",
       "      <td>4.3</td>\n",
       "      <td>42</td>\n",
       "      <td>784</td>\n",
       "      <td>0.0</td>\n",
       "      <td>0.0</td>\n",
       "      <td>1.0</td>\n",
       "      <td>0.0</td>\n",
       "      <td>1.0</td>\n",
       "      <td>1.096939</td>\n",
       "      <td>0.0</td>\n",
       "      <td>0.0</td>\n",
       "      <td>1.0</td>\n",
       "      <td>8.006368</td>\n",
       "    </tr>\n",
       "    <tr>\n",
       "      <th>3188</th>\n",
       "      <td>1.0</td>\n",
       "      <td>3.8</td>\n",
       "      <td>29</td>\n",
       "      <td>704</td>\n",
       "      <td>0.0</td>\n",
       "      <td>0.0</td>\n",
       "      <td>0.0</td>\n",
       "      <td>1.0</td>\n",
       "      <td>1.0</td>\n",
       "      <td>0.906250</td>\n",
       "      <td>0.0</td>\n",
       "      <td>0.0</td>\n",
       "      <td>1.0</td>\n",
       "      <td>7.600902</td>\n",
       "    </tr>\n",
       "    <tr>\n",
       "      <th>3189</th>\n",
       "      <td>1.0</td>\n",
       "      <td>4.0</td>\n",
       "      <td>27</td>\n",
       "      <td>256</td>\n",
       "      <td>1.0</td>\n",
       "      <td>0.0</td>\n",
       "      <td>0.0</td>\n",
       "      <td>0.0</td>\n",
       "      <td>1.0</td>\n",
       "      <td>0.898438</td>\n",
       "      <td>0.0</td>\n",
       "      <td>0.0</td>\n",
       "      <td>1.0</td>\n",
       "      <td>7.313220</td>\n",
       "    </tr>\n",
       "  </tbody>\n",
       "</table>\n",
       "<p>3190 rows × 14 columns</p>\n",
       "</div>"
      ],
      "text/plain": [
       "      const  avg_rating  cnt_reviews  pages_cnt  publisher_АСТ  \\\n",
       "0       1.0         4.1          925        512            1.0   \n",
       "1       1.0         4.1         1341        320            1.0   \n",
       "2       1.0         4.5          363        192            1.0   \n",
       "3       1.0         4.3          872        288            1.0   \n",
       "4       1.0         4.2         3004        320            1.0   \n",
       "...     ...         ...          ...        ...            ...   \n",
       "3185    1.0         5.0            3        624            0.0   \n",
       "3186    1.0         3.7           53        448            0.0   \n",
       "3187    1.0         4.3           42        784            0.0   \n",
       "3188    1.0         3.8           29        704            0.0   \n",
       "3189    1.0         4.0           27        256            1.0   \n",
       "\n",
       "      publisher_Азбука  publisher_Иностранка  publisher_Эксмо  \\\n",
       "0                  0.0                   0.0              0.0   \n",
       "1                  0.0                   0.0              0.0   \n",
       "2                  0.0                   0.0              0.0   \n",
       "3                  0.0                   0.0              0.0   \n",
       "4                  0.0                   0.0              0.0   \n",
       "...                ...                   ...              ...   \n",
       "3185               0.0                   0.0              1.0   \n",
       "3186               0.0                   0.0              1.0   \n",
       "3187               0.0                   1.0              0.0   \n",
       "3188               0.0                   0.0              1.0   \n",
       "3189               0.0                   0.0              0.0   \n",
       "\n",
       "      cover_type_Твёрдый_переплёт  weight/page_cnt  2024_or_2025   6-  16+  \\\n",
       "0                             0.0         0.488281           1.0  0.0  1.0   \n",
       "1                             0.0         0.625000           1.0  0.0  1.0   \n",
       "2                             0.0         0.687500           1.0  0.0  1.0   \n",
       "3                             0.0         0.725694           1.0  0.0  1.0   \n",
       "4                             0.0         0.625000           1.0  0.0  1.0   \n",
       "...                           ...              ...           ...  ...  ...   \n",
       "3185                          1.0         1.538462           0.0  0.0  1.0   \n",
       "3186                          1.0         1.696429           0.0  0.0  1.0   \n",
       "3187                          1.0         1.096939           0.0  0.0  1.0   \n",
       "3188                          1.0         0.906250           0.0  0.0  1.0   \n",
       "3189                          1.0         0.898438           0.0  0.0  1.0   \n",
       "\n",
       "      log_tirage  \n",
       "0      10.308953  \n",
       "1      10.308953  \n",
       "2      10.126631  \n",
       "3       9.392662  \n",
       "4      10.308953  \n",
       "...          ...  \n",
       "3185    7.313220  \n",
       "3186    7.313220  \n",
       "3187    8.006368  \n",
       "3188    7.600902  \n",
       "3189    7.313220  \n",
       "\n",
       "[3190 rows x 14 columns]"
      ]
     },
     "execution_count": 24,
     "metadata": {},
     "output_type": "execute_result"
    }
   ],
   "source": [
    "X_upd"
   ]
  },
  {
   "cell_type": "code",
   "execution_count": 25,
   "id": "4ceec2df",
   "metadata": {
    "collapsed": true
   },
   "outputs": [
    {
     "data": {
      "image/png": "[encoded data removed]",
      "text/plain": [
       "<Figure size 640x480 with 1 Axes>"
      ]
     },
     "metadata": {},
     "output_type": "display_data"
    }
   ],
   "source": [
    "# Визуальный анализ (для обоих вспомогательных моделей что-то не то получается)\n",
    "wls_residuals = wls_like_model.resid\n",
    "fitted_values_ln_y = wls_like_model.fittedvalues\n",
    "\n",
    "plt.scatter(fitted_values_ln_y, wls_residuals)\n",
    "plt.axhline(0, color='red', linestyle='--')\n",
    "plt.xlim(xmax=130, xmin=0)\n",
    "plt.ylim(ymax=10, ymin=-10)\n",
    "plt.xlabel('Прогнозируемые значения')\n",
    "plt.ylabel('Остатки')\n",
    "plt.title('WLS: График остатки-прогнозы')\n",
    "plt.show()"
   ]
  },
  {
   "cell_type": "code",
   "execution_count": 26,
   "id": "82d19c23",
   "metadata": {},
   "outputs": [],
   "source": [
    "# Sigma = np.diag(sigma_hat_1**2)\n",
    "# Sigma_df = pd.DataFrame(Sigma, index=data.index, columns=data.index)\n",
    "# Sigma_df"
   ]
  },
  {
   "cell_type": "markdown",
   "id": "dd6265f1",
   "metadata": {},
   "source": [
    "## 2) Имплементация робастных ошибок в форме Уайта:\n",
    "\n",
    "* `HC0` — классический White\n",
    "\n",
    "* `HC1` — скорректированный White (умножается на n/(n−k))\n",
    "\n",
    "* `HC2`, `HC3` — ещё более устойчивые, особенно при небольших выборках"
   ]
  },
  {
   "cell_type": "markdown",
   "id": "bb57283d",
   "metadata": {},
   "source": [
    "При наличии в выборке выбросов – наблюдений, сильно\n",
    "отличающихся от остальных, используют поправки:\n",
    "* **`HC2`**\n",
    "* **`HC3`**\n",
    "<br>\n",
    "\n",
    "Исследования показывают, что на конечных выборках\n",
    "**`HC2`** и **`HС3`** дают более точные результаты, чем **`HC1`**."
   ]
  },
  {
   "cell_type": "code",
   "execution_count": 27,
   "id": "f13976a3",
   "metadata": {
    "collapsed": true
   },
   "outputs": [
    {
     "name": "stdout",
     "output_type": "stream",
     "text": [
      "                            OLS Regression Results                            \n",
      "==============================================================================\n",
      "Dep. Variable:              log_price   R-squared:                       0.730\n",
      "Model:                            OLS   Adj. R-squared:                  0.729\n",
      "Method:                 Least Squares   F-statistic:                     1074.\n",
      "Date:                Thu, 08 May 2025   Prob (F-statistic):               0.00\n",
      "Time:                        16:08:00   Log-Likelihood:                -243.32\n",
      "No. Observations:                3190   AIC:                             514.6\n",
      "Df Residuals:                    3176   BIC:                             599.6\n",
      "Df Model:                          13                                         \n",
      "Covariance Type:                  HC2                                         \n",
      "===============================================================================================\n",
      "                                  coef    std err          z      P>|z|      [0.025      0.975]\n",
      "-----------------------------------------------------------------------------------------------\n",
      "const                           6.4464      0.148     43.430      0.000       6.156       6.737\n",
      "avg_rating                      0.0742      0.015      4.824      0.000       0.044       0.104\n",
      "cnt_reviews                     0.0005   8.47e-05      5.545      0.000       0.000       0.001\n",
      "pages_cnt                       0.0009   2.72e-05     33.864      0.000       0.001       0.001\n",
      "publisher_АСТ                  -0.1254      0.032     -3.899      0.000      -0.188      -0.062\n",
      "publisher_Азбука               -0.1109      0.033     -3.385      0.001      -0.175      -0.047\n",
      "publisher_Иностранка            0.1198      0.034      3.504      0.000       0.053       0.187\n",
      "publisher_Эксмо                -0.0969      0.030     -3.209      0.001      -0.156      -0.038\n",
      "cover_type_Твёрдый_переплёт     0.2428      0.032      7.673      0.000       0.181       0.305\n",
      "weight/page_cnt                 0.6213      0.085      7.315      0.000       0.455       0.788\n",
      "2024_or_2025                    0.0328      0.012      2.849      0.004       0.010       0.055\n",
      "6-                              0.1684      0.103      1.627      0.104      -0.034       0.371\n",
      "16+                             0.1030      0.011      9.315      0.000       0.081       0.125\n",
      "log_tirage                     -0.2127      0.014    -14.845      0.000      -0.241      -0.185\n",
      "==============================================================================\n",
      "Omnibus:                      771.883   Durbin-Watson:                   1.998\n",
      "Prob(Omnibus):                  0.000   Jarque-Bera (JB):             5319.412\n",
      "Skew:                          -0.969   Prob(JB):                         0.00\n",
      "Kurtosis:                       9.022   Cond. No.                     1.27e+04\n",
      "==============================================================================\n",
      "\n",
      "Notes:\n",
      "[1] Standard Errors are heteroscedasticity robust (HC2)\n",
      "[2] The condition number is large, 1.27e+04. This might indicate that there are\n",
      "strong multicollinearity or other numerical problems.\n"
     ]
    }
   ],
   "source": [
    "log_model_robust = sm.OLS(data['log_price'], X_upd).fit(cov_type='HC2')\n",
    "\n",
    "print(log_model_robust.summary())"
   ]
  },
  {
   "cell_type": "markdown",
   "id": "347e7c55",
   "metadata": {},
   "source": [
    "## 3) Реализуем FGLS\n",
    "\n",
    "По **теореме Айткена** оценка `ОМНК` явялется несмещенной и эффективной, то есть имеет наименьшую ковариационную матрицу в классе всех несмещенных и линейных по `y` оценок."
   ]
  },
  {
   "cell_type": "code",
   "execution_count": 36,
   "id": "363b457d",
   "metadata": {},
   "outputs": [
    {
     "data": {
      "text/plain": [
       "0       35.449284\n",
       "1       37.844173\n",
       "2       33.121145\n",
       "3       38.212085\n",
       "4       62.954834\n",
       "          ...    \n",
       "3185    18.134283\n",
       "3186    18.059012\n",
       "3187    63.813538\n",
       "3188    23.631668\n",
       "3189    34.057046\n",
       "Length: 3190, dtype: float64"
      ]
     },
     "execution_count": 36,
     "metadata": {},
     "output_type": "execute_result"
    }
   ],
   "source": [
    "y_fgls"
   ]
  },
  {
   "cell_type": "code",
   "execution_count": null,
   "id": "108e60a8",
   "metadata": {
    "collapsed": true
   },
   "outputs": [
    {
     "data": {
      "image/png": "[encoded data removed]",
      "text/plain": [
       "<Figure size 640x480 with 1 Axes>"
      ]
     },
     "metadata": {},
     "output_type": "display_data"
    }
   ],
   "source": [
    "log_model = sm.OLS(data['log_price'], X_upd).fit()\n",
    "resid = log_model.resid\n",
    "\n",
    "aux_model = sm.OLS(np.abs(resid), X_upd).fit()\n",
    "sigma_hat = aux_model.fittedvalues\n",
    "\n",
    "y_fgls = data['log_price'] / sigma_hat\n",
    "X_fgls = X_upd.copy()\n",
    "X_fgls = X_fgls.div(sigma_hat, axis=0)\n",
    "\n",
    "fgls_model = sm.OLS(y_fgls, X_fgls).fit()\n",
    "\n",
    "plt.scatter(fgls_model.fittedvalues, fgls_model.resid)\n",
    "plt.axhline(0, color='red', linestyle='--')\n",
    "plt.xlim(xmax=130, xmin=0)\n",
    "plt.ylim(ymax=10, ymin=-10)\n",
    "plt.xlabel('Прогнозируемые значения')\n",
    "plt.ylabel('Остатки')\n",
    "plt.title('FGLS: Остатки против прогнозов')\n",
    "plt.show()\n"
   ]
  },
  {
   "cell_type": "code",
   "execution_count": 29,
   "id": "199a59e3",
   "metadata": {
    "collapsed": true
   },
   "outputs": [
    {
     "data": {
      "text/plain": [
       "0       36.263954\n",
       "1       38.587041\n",
       "2       33.398653\n",
       "3       38.421537\n",
       "4       67.170338\n",
       "          ...    \n",
       "3185    17.077442\n",
       "3186    15.717832\n",
       "3187    63.403022\n",
       "3188    22.226582\n",
       "3189    34.301489\n",
       "Length: 3190, dtype: float64"
      ]
     },
     "execution_count": 29,
     "metadata": {},
     "output_type": "execute_result"
    }
   ],
   "source": [
    "fgls_model.fittedvalues"
   ]
  },
  {
   "cell_type": "code",
   "execution_count": 30,
   "id": "e91370a2",
   "metadata": {
    "collapsed": true
   },
   "outputs": [],
   "source": [
    "# Sigma = np.diag(sigma_hat**2)\n",
    "# Sigma_df = pd.DataFrame(Sigma, index=data.index, columns=data.index)\n",
    "# Sigma_df"
   ]
  },
  {
   "cell_type": "code",
   "execution_count": 31,
   "id": "a782caf8",
   "metadata": {
    "collapsed": true
   },
   "outputs": [
    {
     "name": "stdout",
     "output_type": "stream",
     "text": [
      "                            OLS Regression Results                            \n",
      "==============================================================================\n",
      "Dep. Variable:                      y   R-squared:                       1.000\n",
      "Model:                            OLS   Adj. R-squared:                  1.000\n",
      "Method:                 Least Squares   F-statistic:                 6.051e+07\n",
      "Date:                Thu, 08 May 2025   Prob (F-statistic):               0.00\n",
      "Time:                        16:08:01   Log-Likelihood:                -5609.3\n",
      "No. Observations:                3190   AIC:                         1.125e+04\n",
      "Df Residuals:                    3176   BIC:                         1.133e+04\n",
      "Df Model:                          13                                         \n",
      "Covariance Type:            nonrobust                                         \n",
      "===============================================================================================\n",
      "                                  coef    std err          t      P>|t|      [0.025      0.975]\n",
      "-----------------------------------------------------------------------------------------------\n",
      "const                           5.5593      0.065     86.080      0.000       5.433       5.686\n",
      "avg_rating                     -0.0238      0.009     -2.584      0.010      -0.042      -0.006\n",
      "cnt_reviews                     0.0001   2.73e-05      3.828      0.000     5.1e-05       0.000\n",
      "pages_cnt                       0.0006   1.59e-05     39.812      0.000       0.001       0.001\n",
      "publisher_АСТ                   0.0680      0.014      4.937      0.000       0.041       0.095\n",
      "publisher_Азбука                0.0093      0.014      0.654      0.513      -0.019       0.037\n",
      "publisher_Иностранка            0.3694      0.014     25.618      0.000       0.341       0.398\n",
      "publisher_Эксмо                 0.0240      0.016      1.506      0.132      -0.007       0.055\n",
      "cover_type_Твёрдый_переплёт     0.3556      0.010     34.196      0.000       0.335       0.376\n",
      "weight/page_cnt                 0.4316      0.018     23.338      0.000       0.395       0.468\n",
      "2024_or_2025                   -0.0082      0.008     -0.994      0.321      -0.024       0.008\n",
      "6-                              0.0704      0.042      1.689      0.091      -0.011       0.152\n",
      "16+                             0.0905      0.009      9.750      0.000       0.072       0.109\n",
      "log_tirage                     -0.0358      0.007     -5.481      0.000      -0.049      -0.023\n",
      "==============================================================================\n",
      "Omnibus:                      695.304   Durbin-Watson:                   1.992\n",
      "Prob(Omnibus):                  0.000   Jarque-Bera (JB):            26969.458\n",
      "Skew:                          -0.166   Prob(JB):                         0.00\n",
      "Kurtosis:                      17.241   Cond. No.                     8.29e+04\n",
      "==============================================================================\n",
      "\n",
      "Notes:\n",
      "[1] Standard Errors assume that the covariance matrix of the errors is correctly specified.\n",
      "[2] The condition number is large, 8.29e+04. This might indicate that there are\n",
      "strong multicollinearity or other numerical problems.\n"
     ]
    }
   ],
   "source": [
    "print(fgls_model.summary())"
   ]
  },
  {
   "cell_type": "code",
   "execution_count": 32,
   "id": "b6190f51",
   "metadata": {
    "collapsed": true
   },
   "outputs": [
    {
     "name": "stdout",
     "output_type": "stream",
     "text": [
      "LM-статистика: 2955.919068442624\n",
      "p-value для LM-статистики: 0.0\n",
      "F-статистика: 450.24514951021115\n",
      "p-value для F-статистики: 0.0\n",
      "Гетероскедастичность выявлена.\n"
     ]
    }
   ],
   "source": [
    "# Тест Уайта\n",
    "X_fgls_for_test = sm.add_constant(X_fgls, has_constant='add')\n",
    "residuals = fgls_model.resid\n",
    "white_test = het_white(residuals, X_fgls_for_test)\n",
    "\n",
    "lm_stat, lm_pval, f_stat, f_pval = white_test\n",
    "\n",
    "print(f\"LM-статистика: {lm_stat}\")\n",
    "print(f\"p-value для LM-статистики: {lm_pval}\")\n",
    "print(f\"F-статистика: {f_stat}\")\n",
    "print(f\"p-value для F-статистики: {f_pval}\")\n",
    "\n",
    "if lm_pval < 0.05:\n",
    "    print(\"Гетероскедастичность выявлена.\")\n",
    "else:\n",
    "    print(\"Нет признаков гетероскедастичности.\")"
   ]
  }
 ],
 "metadata": {
  "kernelspec": {
   "display_name": "Python 3",
   "language": "python",
   "name": "python3"
  },
  "language_info": {
   "codemirror_mode": {
    "name": "ipython",
    "version": 3
   },
   "file_extension": ".py",
   "mimetype": "text/x-python",
   "name": "python",
   "nbconvert_exporter": "python",
   "pygments_lexer": "ipython3",
   "version": "3.9.6"
  }
 },
 "nbformat": 4,
 "nbformat_minor": 5
}
