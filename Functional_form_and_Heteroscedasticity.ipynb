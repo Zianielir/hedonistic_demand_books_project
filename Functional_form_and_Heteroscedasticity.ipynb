{
 "cells": [
  {
   "cell_type": "markdown",
   "id": "63ab3884",
   "metadata": {},
   "source": [
    "### Библиотеки"
   ]
  },
  {
   "cell_type": "code",
   "execution_count": 1,
   "id": "48752e29",
   "metadata": {},
   "outputs": [],
   "source": [
    "import pandas as pd\n",
    "import numpy as np\n",
    "import matplotlib.pyplot as plt\n",
    "import seaborn as sns\n",
    "from itertools import product\n",
    "import itertools\n",
    "from tqdm import tqdm\n",
    "\n",
    "import statsmodels.api as sm\n",
    "from scipy.stats import t, f, boxcox, skew, kurtosis, gmean\n",
    "from statsmodels.stats.diagnostic import linear_reset, het_white\n",
    "\n",
    "import warnings\n",
    "warnings.filterwarnings('ignore')"
   ]
  },
  {
   "cell_type": "markdown",
   "id": "711b9e40",
   "metadata": {},
   "source": [
    "### Обработка"
   ]
  },
  {
   "cell_type": "code",
   "execution_count": 2,
   "id": "a044d8db",
   "metadata": {},
   "outputs": [],
   "source": [
    "data = pd.read_csv('data_after_feature_selection.csv', encoding='utf-8')"
   ]
  },
  {
   "cell_type": "markdown",
   "id": "5b5d248d",
   "metadata": {},
   "source": [
    "### Логарифм цены"
   ]
  },
  {
   "cell_type": "code",
   "execution_count": 3,
   "id": "ef9b56c5",
   "metadata": {},
   "outputs": [],
   "source": [
    "data['log_price'] = np.log(data['price'])\n",
    "data = data.drop(['price'], axis=1)\n",
    "y = data['log_price']\n",
    "X = data.drop(['log_price'], axis=1)"
   ]
  },
  {
   "cell_type": "markdown",
   "id": "53359e85",
   "metadata": {},
   "source": [
    "### Регрессоры, которые можно логарифмировать и нет"
   ]
  },
  {
   "cell_type": "code",
   "execution_count": 4,
   "id": "8ef7b151",
   "metadata": {},
   "outputs": [],
   "source": [
    "cols_to_try_log = ['avg_rating', 'tirage', 'cnt_reviews', 'pages_cnt']\n",
    "unconditional_cols = [x for x in X.columns.tolist() if x not in cols_to_try_log]"
   ]
  },
  {
   "cell_type": "code",
   "execution_count": 5,
   "id": "efc5da6b",
   "metadata": {},
   "outputs": [],
   "source": [
    "def generate_all_combinations(num_of_repeats):\n",
    "    \"\"\"Генерирует все комбинации признаков, к которым применяется функциональное преобразование\"\"\"\n",
    "    return product([False, True], repeat=num_of_repeats)\n",
    "\n",
    "def prepare_X(cols_to_try_func, combination, df, func, flag='stay'):\n",
    "    \"\"\"Создает матрицу X для текущей комбинации\"\"\"\n",
    "    \"\"\"Примеры функций: np.log, np.power, np.reciprocal, ...\"\"\"\n",
    "    X_temp = df[unconditional_cols].copy()\n",
    "    feature_name = getattr(func, '__name__', repr(func))\n",
    "    \n",
    "    for i, col in enumerate(cols_to_try_func): # col = 'tirage'\n",
    "        if combination[i]:\n",
    "            try:\n",
    "                safe_col = df[col]\n",
    "                if (safe_col <= 0).any() and (func == np.log) or (func == np.reciprocal):\n",
    "                    safe_col = safe_col + 1e-6\n",
    "                if flag == 'stay':\n",
    "                    X_temp[col] = safe_col\n",
    "                    X_temp[f'{feature_name}_{col}'] = func(safe_col)\n",
    "                else:\n",
    "                    X_temp[f'{feature_name}_{col}'] = func(safe_col)\n",
    "            except Exception as e:\n",
    "                print(f\"Ошибка при применении функции к {col}: {e}\")\n",
    "        else:\n",
    "            X_temp[col] = df[col]\n",
    "    \n",
    "    return sm.add_constant(X_temp)\n",
    "\n",
    "def getting_statistic(cols_to_try_func, df, func, flag='stay'):\n",
    "    results = []\n",
    "\n",
    "    total_combinations = 2 ** len(cols_to_try_func)\n",
    "    feature_name = getattr(func, '__name__', repr(func))\n",
    "\n",
    "    for combination in tqdm(generate_all_combinations(num_of_repeats=len(cols_to_try_func)), total=total_combinations):\n",
    "        try:\n",
    "            # Подготавливаем данные\n",
    "            X_curr = prepare_X(cols_to_try_func, combination, df, func, flag=flag)\n",
    "\n",
    "            model = sm.OLS(df['log_price'], X_curr).fit()\n",
    "            results.append({\n",
    "                'combination': combination,\n",
    "                'aic': model.aic,\n",
    "                'bic': model.bic,\n",
    "                'adj_r2': model.rsquared_adj,\n",
    "            })\n",
    "\n",
    "        except Exception as e:\n",
    "            print(f\"Error in combination {combination}: {str(e)}\")\n",
    "            continue\n",
    "\n",
    "    df_results = pd.DataFrame(results)\n",
    "\n",
    "    df_results[f'{feature_name}_columns'] = df_results['combination'].apply(\n",
    "        lambda x: [cols_to_try_func[i] for i, my_func in enumerate(x) if my_func]\n",
    "    )\n",
    "    \n",
    "    return df_results"
   ]
  },
  {
   "cell_type": "code",
   "execution_count": 6,
   "id": "eef35831",
   "metadata": {},
   "outputs": [],
   "source": [
    "def custom_func(x):\n",
    "    return x**2"
   ]
  },
  {
   "cell_type": "code",
   "execution_count": 7,
   "id": "67f4ca22",
   "metadata": {},
   "outputs": [
    {
     "name": "stderr",
     "output_type": "stream",
     "text": [
      "100%|██████████████████████████████████████████| 16/16 [00:00<00:00, 149.32it/s]"
     ]
    },
    {
     "name": "stdout",
     "output_type": "stream",
     "text": [
      "Лучшая модель по AIC:\n",
      "Логарифмированные переменные: ['tirage']\n",
      "AIC: 1702.39\n",
      "\n",
      "Лучшая модель по BIC:\n",
      "Логарифмированные переменные: ['tirage']\n",
      "BIC: 1781.27\n",
      "\n",
      "Лучшая модель по Adj.R²:\n",
      "Логарифмированные переменные: ['tirage']\n",
      "Adj.R²: 0.6062\n"
     ]
    },
    {
     "name": "stderr",
     "output_type": "stream",
     "text": [
      "\n"
     ]
    }
   ],
   "source": [
    "my_func = np.log\n",
    "data_frame = getting_statistic(cols_to_try_func=cols_to_try_log, df=data, func=my_func, flag='')\n",
    "\n",
    "best_aic = data_frame.loc[data_frame['aic'].idxmin()]\n",
    "best_bic = data_frame.loc[data_frame['bic'].idxmin()]\n",
    "best_adj_r2 = data_frame.loc[data_frame['adj_r2'].idxmax()]\n",
    "\n",
    "print(\"Лучшая модель по AIC:\")\n",
    "print(f\"Логарифмированные переменные: {best_aic[f'{my_func.__name__}_columns']}\")\n",
    "print(f\"AIC: {best_aic['aic']:.2f}\\n\")\n",
    "\n",
    "print(\"Лучшая модель по BIC:\")\n",
    "print(f\"Логарифмированные переменные: {best_bic[f'{my_func.__name__}_columns']}\")\n",
    "print(f\"BIC: {best_bic['bic']:.2f}\\n\")\n",
    "\n",
    "print(\"Лучшая модель по Adj.R²:\")\n",
    "print(f\"Логарифмированные переменные: {best_adj_r2[f'{my_func.__name__}_columns']}\")\n",
    "print(f\"Adj.R²: {best_adj_r2['adj_r2']:.4f}\")"
   ]
  },
  {
   "cell_type": "markdown",
   "id": "980c0fc1",
   "metadata": {},
   "source": [
    "**Вывод:** нужно логарифмировать тираж; Adj R^2 = 0.6062"
   ]
  },
  {
   "cell_type": "markdown",
   "id": "6bcc6190",
   "metadata": {},
   "source": [
    "**Логарифмирование тиража:**"
   ]
  },
  {
   "cell_type": "code",
   "execution_count": 8,
   "id": "1304bbca",
   "metadata": {},
   "outputs": [
    {
     "data": {
      "text/html": [
       "<div>\n",
       "<style scoped>\n",
       "    .dataframe tbody tr th:only-of-type {\n",
       "        vertical-align: middle;\n",
       "    }\n",
       "\n",
       "    .dataframe tbody tr th {\n",
       "        vertical-align: top;\n",
       "    }\n",
       "\n",
       "    .dataframe thead th {\n",
       "        text-align: right;\n",
       "    }\n",
       "</style>\n",
       "<table border=\"1\" class=\"dataframe\">\n",
       "  <thead>\n",
       "    <tr style=\"text-align: right;\">\n",
       "      <th></th>\n",
       "      <th>const</th>\n",
       "      <th>avg_rating</th>\n",
       "      <th>cnt_reviews</th>\n",
       "      <th>pages_cnt</th>\n",
       "      <th>publisher_АСТ</th>\n",
       "      <th>publisher_Азбука</th>\n",
       "      <th>publisher_Иностранка</th>\n",
       "      <th>publisher_Эксмо</th>\n",
       "      <th>cover_type_Мягкий_переплёт</th>\n",
       "      <th>2024_or_2025</th>\n",
       "      <th>6-</th>\n",
       "      <th>16+</th>\n",
       "      <th>log_price</th>\n",
       "      <th>log_tirage</th>\n",
       "    </tr>\n",
       "  </thead>\n",
       "  <tbody>\n",
       "    <tr>\n",
       "      <th>0</th>\n",
       "      <td>1.0</td>\n",
       "      <td>4.1</td>\n",
       "      <td>925</td>\n",
       "      <td>512</td>\n",
       "      <td>1.0</td>\n",
       "      <td>0.0</td>\n",
       "      <td>0.0</td>\n",
       "      <td>0.0</td>\n",
       "      <td>1.0</td>\n",
       "      <td>1.0</td>\n",
       "      <td>0.0</td>\n",
       "      <td>1.0</td>\n",
       "      <td>5.743003</td>\n",
       "      <td>10.308953</td>\n",
       "    </tr>\n",
       "    <tr>\n",
       "      <th>1</th>\n",
       "      <td>1.0</td>\n",
       "      <td>4.1</td>\n",
       "      <td>1341</td>\n",
       "      <td>320</td>\n",
       "      <td>1.0</td>\n",
       "      <td>0.0</td>\n",
       "      <td>0.0</td>\n",
       "      <td>0.0</td>\n",
       "      <td>1.0</td>\n",
       "      <td>1.0</td>\n",
       "      <td>0.0</td>\n",
       "      <td>1.0</td>\n",
       "      <td>5.743003</td>\n",
       "      <td>10.308953</td>\n",
       "    </tr>\n",
       "    <tr>\n",
       "      <th>2</th>\n",
       "      <td>1.0</td>\n",
       "      <td>4.5</td>\n",
       "      <td>363</td>\n",
       "      <td>192</td>\n",
       "      <td>1.0</td>\n",
       "      <td>0.0</td>\n",
       "      <td>0.0</td>\n",
       "      <td>0.0</td>\n",
       "      <td>1.0</td>\n",
       "      <td>1.0</td>\n",
       "      <td>0.0</td>\n",
       "      <td>1.0</td>\n",
       "      <td>5.648974</td>\n",
       "      <td>10.126631</td>\n",
       "    </tr>\n",
       "    <tr>\n",
       "      <th>3</th>\n",
       "      <td>1.0</td>\n",
       "      <td>4.3</td>\n",
       "      <td>872</td>\n",
       "      <td>288</td>\n",
       "      <td>1.0</td>\n",
       "      <td>0.0</td>\n",
       "      <td>0.0</td>\n",
       "      <td>0.0</td>\n",
       "      <td>1.0</td>\n",
       "      <td>1.0</td>\n",
       "      <td>0.0</td>\n",
       "      <td>1.0</td>\n",
       "      <td>5.826000</td>\n",
       "      <td>9.392662</td>\n",
       "    </tr>\n",
       "    <tr>\n",
       "      <th>4</th>\n",
       "      <td>1.0</td>\n",
       "      <td>4.2</td>\n",
       "      <td>3004</td>\n",
       "      <td>320</td>\n",
       "      <td>1.0</td>\n",
       "      <td>0.0</td>\n",
       "      <td>0.0</td>\n",
       "      <td>0.0</td>\n",
       "      <td>1.0</td>\n",
       "      <td>1.0</td>\n",
       "      <td>0.0</td>\n",
       "      <td>1.0</td>\n",
       "      <td>5.648974</td>\n",
       "      <td>10.308953</td>\n",
       "    </tr>\n",
       "  </tbody>\n",
       "</table>\n",
       "</div>"
      ],
      "text/plain": [
       "   const  avg_rating  cnt_reviews  pages_cnt  publisher_АСТ  publisher_Азбука  \\\n",
       "0    1.0         4.1          925        512            1.0               0.0   \n",
       "1    1.0         4.1         1341        320            1.0               0.0   \n",
       "2    1.0         4.5          363        192            1.0               0.0   \n",
       "3    1.0         4.3          872        288            1.0               0.0   \n",
       "4    1.0         4.2         3004        320            1.0               0.0   \n",
       "\n",
       "   publisher_Иностранка  publisher_Эксмо  cover_type_Мягкий_переплёт  \\\n",
       "0                   0.0              0.0                         1.0   \n",
       "1                   0.0              0.0                         1.0   \n",
       "2                   0.0              0.0                         1.0   \n",
       "3                   0.0              0.0                         1.0   \n",
       "4                   0.0              0.0                         1.0   \n",
       "\n",
       "   2024_or_2025   6-  16+  log_price  log_tirage  \n",
       "0           1.0  0.0  1.0   5.743003   10.308953  \n",
       "1           1.0  0.0  1.0   5.743003   10.308953  \n",
       "2           1.0  0.0  1.0   5.648974   10.126631  \n",
       "3           1.0  0.0  1.0   5.826000    9.392662  \n",
       "4           1.0  0.0  1.0   5.648974   10.308953  "
      ]
     },
     "execution_count": 8,
     "metadata": {},
     "output_type": "execute_result"
    }
   ],
   "source": [
    "upd_data = data.copy()\n",
    "upd_data['log_tirage'] = np.log(upd_data['tirage'])\n",
    "upd_data = upd_data.drop(['tirage'], axis=1)\n",
    "upd_data.head()"
   ]
  },
  {
   "cell_type": "code",
   "execution_count": 9,
   "id": "45fa8d3b",
   "metadata": {},
   "outputs": [],
   "source": [
    "X_upd = upd_data.drop(['log_price'], axis=1)"
   ]
  },
  {
   "cell_type": "code",
   "execution_count": 10,
   "id": "0456cad1",
   "metadata": {},
   "outputs": [],
   "source": [
    "# cols_to_try_log_ = ['avg_rating', 'cnt_reviews', 'pages_cnt']\n",
    "# unconditional_cols_ = [x for x in X_try.columns.tolist() if x not in cols_to_try_log_]"
   ]
  },
  {
   "cell_type": "markdown",
   "id": "108ff3a8",
   "metadata": {},
   "source": [
    "Также функции будут работать, если мы решим проверить какие-то кастомные функции типо этого:"
   ]
  },
  {
   "cell_type": "markdown",
   "id": "a2bdf5f5",
   "metadata": {},
   "source": [
    "### Итоговая модель с ln Y"
   ]
  },
  {
   "cell_type": "markdown",
   "id": "e4b1fd71",
   "metadata": {},
   "source": [
    "После проверки всех функциональных форм обучаем итоговую модель:"
   ]
  },
  {
   "cell_type": "code",
   "execution_count": 11,
   "id": "94a5c0dd",
   "metadata": {
    "collapsed": true
   },
   "outputs": [
    {
     "name": "stdout",
     "output_type": "stream",
     "text": [
      "                            OLS Regression Results                            \n",
      "==============================================================================\n",
      "Dep. Variable:              log_price   R-squared:                       0.608\n",
      "Model:                            OLS   Adj. R-squared:                  0.606\n",
      "Method:                 Least Squares   F-statistic:                     410.2\n",
      "Date:                Wed, 07 May 2025   Prob (F-statistic):               0.00\n",
      "Time:                        12:23:18   Log-Likelihood:                -838.20\n",
      "No. Observations:                3190   AIC:                             1702.\n",
      "Df Residuals:                    3177   BIC:                             1781.\n",
      "Df Model:                          12                                         \n",
      "Covariance Type:            nonrobust                                         \n",
      "==============================================================================================\n",
      "                                 coef    std err          t      P>|t|      [0.025      0.975]\n",
      "----------------------------------------------------------------------------------------------\n",
      "const                          7.6400      0.131     58.474      0.000       7.384       7.896\n",
      "avg_rating                     0.1175      0.016      7.253      0.000       0.086       0.149\n",
      "cnt_reviews                    0.0006   5.01e-05     11.072      0.000       0.000       0.001\n",
      "pages_cnt                      0.0008   2.69e-05     28.267      0.000       0.001       0.001\n",
      "publisher_АСТ                 -0.3519      0.030    -11.729      0.000      -0.411      -0.293\n",
      "publisher_Азбука              -0.3447      0.032    -10.873      0.000      -0.407      -0.283\n",
      "publisher_Иностранка           0.0240      0.039      0.607      0.544      -0.053       0.101\n",
      "publisher_Эксмо               -0.3021      0.030    -10.153      0.000      -0.360      -0.244\n",
      "cover_type_Мягкий_переплёт    -0.4744      0.012    -39.272      0.000      -0.498      -0.451\n",
      "2024_or_2025                   0.0485      0.013      3.720      0.000       0.023       0.074\n",
      "6-                             0.5306      0.065      8.208      0.000       0.404       0.657\n",
      "16+                            0.1307      0.015      8.585      0.000       0.101       0.161\n",
      "log_tirage                    -0.2476      0.013    -18.999      0.000      -0.273      -0.222\n",
      "==============================================================================\n",
      "Omnibus:                       90.146   Durbin-Watson:                   2.007\n",
      "Prob(Omnibus):                  0.000   Jarque-Bera (JB):              181.182\n",
      "Skew:                           0.180   Prob(JB):                     4.54e-40\n",
      "Kurtosis:                       4.110   Cond. No.                     1.24e+04\n",
      "==============================================================================\n",
      "\n",
      "Notes:\n",
      "[1] Standard Errors assume that the covariance matrix of the errors is correctly specified.\n",
      "[2] The condition number is large, 1.24e+04. This might indicate that there are\n",
      "strong multicollinearity or other numerical problems.\n"
     ]
    }
   ],
   "source": [
    "log_model = sm.OLS(data['log_price'], X_upd).fit()\n",
    "print(log_model.summary())"
   ]
  },
  {
   "cell_type": "markdown",
   "id": "fb1e9d64",
   "metadata": {},
   "source": [
    "# Тест Рамсея и далее"
   ]
  },
  {
   "cell_type": "code",
   "execution_count": 12,
   "id": "df74e2c3",
   "metadata": {},
   "outputs": [
    {
     "name": "stdout",
     "output_type": "stream",
     "text": [
      "RESET test (Ramsey)\n",
      "<Wald test (chi2): statistic=108.30227439059442, p-value=2.3075960369913895e-25, df_denom=1>\n"
     ]
    }
   ],
   "source": [
    "reset_result = linear_reset(log_model, power=2)\n",
    "\n",
    "print(\"RESET test (Ramsey)\")\n",
    "print(reset_result)"
   ]
  },
  {
   "cell_type": "markdown",
   "id": "5f845900",
   "metadata": {},
   "source": [
    "**Вывод:** отвергаем H0 ==> нужно добавить степени"
   ]
  },
  {
   "cell_type": "code",
   "execution_count": 13,
   "id": "f5c068cf",
   "metadata": {},
   "outputs": [],
   "source": [
    "X_ramsey = X_upd.copy()\n",
    "X_ramsey['Y_hat^2'] = log_model.fittedvalues**2\n",
    "X_ramsey['Y_hat^3'] = log_model.fittedvalues**3\n",
    "X_ramsey['Y_hat^4'] = log_model.fittedvalues**4\n",
    "X_ramsey['Y_hat^5'] = log_model.fittedvalues**5"
   ]
  },
  {
   "cell_type": "code",
   "execution_count": 14,
   "id": "fc0b718f",
   "metadata": {
    "collapsed": true
   },
   "outputs": [
    {
     "name": "stdout",
     "output_type": "stream",
     "text": [
      "                            OLS Regression Results                            \n",
      "==============================================================================\n",
      "Dep. Variable:              log_price   R-squared:                       0.639\n",
      "Model:                            OLS   Adj. R-squared:                  0.637\n",
      "Method:                 Least Squares   F-statistic:                     350.3\n",
      "Date:                Wed, 07 May 2025   Prob (F-statistic):               0.00\n",
      "Time:                        12:23:18   Log-Likelihood:                -707.73\n",
      "No. Observations:                3190   AIC:                             1449.\n",
      "Df Residuals:                    3173   BIC:                             1553.\n",
      "Df Model:                          16                                         \n",
      "Covariance Type:            nonrobust                                         \n",
      "==============================================================================================\n",
      "                                 coef    std err          t      P>|t|      [0.025      0.975]\n",
      "----------------------------------------------------------------------------------------------\n",
      "const                       2.788e+04   5550.092      5.023      0.000     1.7e+04    3.88e+04\n",
      "avg_rating                   513.7307    102.495      5.012      0.000     312.768     714.693\n",
      "cnt_reviews                    2.4269      0.484      5.012      0.000       1.478       3.376\n",
      "pages_cnt                      3.3222      0.663      5.012      0.000       2.023       4.622\n",
      "publisher_АСТ              -1538.2088    306.896     -5.012      0.000   -2139.944    -936.474\n",
      "publisher_Азбука           -1506.5151    300.572     -5.012      0.000   -2095.850    -917.181\n",
      "publisher_Иностранка         104.6316     20.897      5.007      0.000      63.659     145.604\n",
      "publisher_Эксмо            -1320.2585    263.415     -5.012      0.000   -1836.739    -803.778\n",
      "cover_type_Мягкий_переплёт -2073.8288    413.749     -5.012      0.000   -2885.071   -1262.586\n",
      "2024_or_2025                 212.0012     42.294      5.013      0.000     129.074     294.928\n",
      "6-                          2319.1487    462.709      5.012      0.000    1411.910    3226.387\n",
      "16+                          571.2262    113.962      5.012      0.000     347.779     794.674\n",
      "log_tirage                 -1082.0877    215.886     -5.012      0.000   -1505.378    -658.797\n",
      "Y_hat^2                    -1376.0306    272.660     -5.047      0.000   -1910.639    -841.422\n",
      "Y_hat^3                      215.3319     42.515      5.065      0.000     131.972     298.692\n",
      "Y_hat^4                      -16.7485      3.306     -5.066      0.000     -23.231     -10.266\n",
      "Y_hat^5                        0.5181      0.103      5.051      0.000       0.317       0.719\n",
      "==============================================================================\n",
      "Omnibus:                      131.911   Durbin-Watson:                   2.013\n",
      "Prob(Omnibus):                  0.000   Jarque-Bera (JB):              310.881\n",
      "Skew:                           0.232   Prob(JB):                     3.11e-68\n",
      "Kurtosis:                       4.457   Cond. No.                     1.02e+10\n",
      "==============================================================================\n",
      "\n",
      "Notes:\n",
      "[1] Standard Errors assume that the covariance matrix of the errors is correctly specified.\n",
      "[2] The condition number is large, 1.02e+10. This might indicate that there are\n",
      "strong multicollinearity or other numerical problems.\n"
     ]
    }
   ],
   "source": [
    "log_model = sm.OLS(data['log_price'], X_ramsey).fit()\n",
    "print(log_model.summary())"
   ]
  },
  {
   "cell_type": "code",
   "execution_count": 15,
   "id": "5ff4fa97",
   "metadata": {},
   "outputs": [
    {
     "name": "stdout",
     "output_type": "stream",
     "text": [
      "RESET test (Ramsey)\n",
      "<Wald test (chi2): statistic=0.6025292253458937, p-value=0.7398819646968608, df_denom=2>\n"
     ]
    }
   ],
   "source": [
    "reset_result = linear_reset(log_model, power=3)\n",
    "\n",
    "print(\"RESET test (Ramsey)\")\n",
    "print(reset_result)"
   ]
  },
  {
   "cell_type": "code",
   "execution_count": 16,
   "id": "bb8cef1d",
   "metadata": {},
   "outputs": [
    {
     "name": "stdout",
     "output_type": "stream",
     "text": [
      "LM-статистика: 737.9053713169329\n",
      "p-value для LM-статистики: 1.4004457286219903e-110\n",
      "F-статистика: 12.845116116140936\n",
      "p-value для F-статистики: 1.5175645130989448e-128\n",
      "Гетероскедастичность выявлена.\n"
     ]
    }
   ],
   "source": [
    "# Тест Уайта\n",
    "residuals = log_model.resid\n",
    "white_test = het_white(residuals, X_upd)\n",
    "\n",
    "lm_stat, lm_pval, f_stat, f_pval = white_test\n",
    "\n",
    "print(f\"LM-статистика: {lm_stat}\")\n",
    "print(f\"p-value для LM-статистики: {lm_pval}\")\n",
    "print(f\"F-статистика: {f_stat}\")\n",
    "print(f\"p-value для F-статистики: {f_pval}\")\n",
    "\n",
    "if lm_pval < 0.05:\n",
    "    print(\"Гетероскедастичность выявлена.\")\n",
    "else:\n",
    "    print(\"Нет признаков гетероскедастичности.\")"
   ]
  },
  {
   "cell_type": "code",
   "execution_count": 17,
   "id": "4d00090d",
   "metadata": {},
   "outputs": [
    {
     "name": "stdout",
     "output_type": "stream",
     "text": [
      "Есть признаки гетероскедастичности.\n"
     ]
    }
   ],
   "source": [
    "# Тест Глейзера\n",
    "abs_residuals = np.abs(residuals)\n",
    "glejser_model = sm.OLS(abs_residuals, X_upd).fit()\n",
    "\n",
    "p_values = glejser_model.pvalues\n",
    "# print(f\"P-значения:\")\n",
    "# if p_values[0]:\n",
    "#     print(p_values)\n",
    "if any(p < 0.05 for p in p_values[1:]):\n",
    "    print(\"Есть признаки гетероскедастичности.\")\n",
    "else:\n",
    "    print(\"Нет признаков гетероскедастичности.\")"
   ]
  },
  {
   "cell_type": "markdown",
   "id": "99619ace",
   "metadata": {},
   "source": [
    "## Попытки убрать гетероскедастичность:"
   ]
  },
  {
   "cell_type": "markdown",
   "id": "4787b05c",
   "metadata": {},
   "source": [
    "## 1) Реализация WLS:"
   ]
  },
  {
   "cell_type": "code",
   "execution_count": 18,
   "id": "55f27d0f",
   "metadata": {},
   "outputs": [],
   "source": [
    "log_model = sm.OLS(data['log_price'], X_upd).fit()\n",
    "\n",
    "resid = log_model.resid\n",
    "y_pred = log_model.fittedvalues"
   ]
  },
  {
   "cell_type": "code",
   "execution_count": 19,
   "id": "e7656ea6",
   "metadata": {},
   "outputs": [],
   "source": [
    "# вспомогательная модель, записанная через модуль - не помогла\n",
    "aux_model_1 = sm.OLS(np.abs(resid), sm.add_constant(y_pred)).fit()\n",
    "sigma_hat_1 = aux_model_1.fittedvalues\n",
    "weights_1 = 1 / sigma_hat_1"
   ]
  },
  {
   "cell_type": "code",
   "execution_count": 20,
   "id": "aeec3614",
   "metadata": {},
   "outputs": [],
   "source": [
    "# тогда попробуем вспомогательную модель, записанную через квадрат\n",
    "aux_model_2 = sm.OLS(resid ** 2, sm.add_constant(y_pred)).fit()\n",
    "sigma_hat_2 = aux_model_2.fittedvalues\n",
    "weights_2 = 1 / np.sqrt(sigma_hat_2)"
   ]
  },
  {
   "cell_type": "code",
   "execution_count": 23,
   "id": "2d08b192",
   "metadata": {},
   "outputs": [],
   "source": [
    "y_new = data['log_price'] / sigma_hat_2\n",
    "\n",
    "quantitative_feature = ['avg_rating', 'log_tirage', 'cnt_reviews', 'pages_cnt']\n",
    "\n",
    "X_upd[quantitative_feature] = X_upd[quantitative_feature].div(sigma_hat_2, axis=0)\n",
    "wls_like_model = sm.WLS(y_new, X_upd, weights=weights_2).fit() # надо изменить weights на weights_1 / weights_2"
   ]
  },
  {
   "cell_type": "code",
   "execution_count": 24,
   "id": "4ceec2df",
   "metadata": {
    "collapsed": true
   },
   "outputs": [
    {
     "data": {
      "image/png": "[encoded data removed]",
      "text/plain": [
       "<Figure size 640x480 with 1 Axes>"
      ]
     },
     "metadata": {},
     "output_type": "display_data"
    }
   ],
   "source": [
    "# Визуальный анализ (для обоих вспомогательных моделей что-то не то получается)\n",
    "wls_residuals = wls_like_model.resid\n",
    "fitted_values_ln_y = wls_like_model.fittedvalues\n",
    "\n",
    "plt.scatter(fitted_values_ln_y, wls_residuals)\n",
    "plt.axhline(0, color='red', linestyle='--')\n",
    "plt.xlabel('Прогнозируемые значения')\n",
    "plt.ylabel('Остатки')\n",
    "plt.title('График остатки-прогнозы')\n",
    "plt.show()"
   ]
  },
  {
   "cell_type": "markdown",
   "id": "dd6265f1",
   "metadata": {},
   "source": [
    "## 2) Имплементация робастных ошибок в форме Уайта:\n",
    "\n",
    "* `HC0` — классический White\n",
    "\n",
    "* `HC1` — скорректированный White (умножается на n/(n−k))\n",
    "\n",
    "* `HC2`, `HC3` — ещё более устойчивые, особенно при небольших выборках"
   ]
  },
  {
   "cell_type": "code",
   "execution_count": 25,
   "id": "f13976a3",
   "metadata": {
    "collapsed": true
   },
   "outputs": [
    {
     "name": "stdout",
     "output_type": "stream",
     "text": [
      "                            OLS Regression Results                            \n",
      "==============================================================================\n",
      "Dep. Variable:              log_price   R-squared:                       0.541\n",
      "Model:                            OLS   Adj. R-squared:                  0.539\n",
      "Method:                 Least Squares   F-statistic:                     691.7\n",
      "Date:                Wed, 07 May 2025   Prob (F-statistic):               0.00\n",
      "Time:                        12:23:48   Log-Likelihood:                -1088.9\n",
      "No. Observations:                3190   AIC:                             2204.\n",
      "Df Residuals:                    3177   BIC:                             2283.\n",
      "Df Model:                          12                                         \n",
      "Covariance Type:                  HC2                                         \n",
      "==============================================================================================\n",
      "                                 coef    std err          z      P>|z|      [0.025      0.975]\n",
      "----------------------------------------------------------------------------------------------\n",
      "const                          6.2798      0.050    126.398      0.000       6.182       6.377\n",
      "avg_rating                     0.0155      0.002      9.113      0.000       0.012       0.019\n",
      "cnt_reviews                 4.085e-05   4.18e-06      9.783      0.000    3.27e-05     4.9e-05\n",
      "pages_cnt                    7.66e-05   5.18e-06     14.777      0.000    6.64e-05    8.68e-05\n",
      "publisher_АСТ                 -0.2936      0.029    -10.067      0.000      -0.351      -0.236\n",
      "publisher_Азбука              -0.2679      0.031     -8.587      0.000      -0.329      -0.207\n",
      "publisher_Иностранка           0.2392      0.030      7.943      0.000       0.180       0.298\n",
      "publisher_Эксмо               -0.2562      0.030     -8.590      0.000      -0.315      -0.198\n",
      "cover_type_Мягкий_переплёт    -0.5779      0.027    -21.463      0.000      -0.631      -0.525\n",
      "2024_or_2025                   0.0480      0.014      3.374      0.001       0.020       0.076\n",
      "6-                             0.5763      0.093      6.177      0.000       0.393       0.759\n",
      "16+                            0.1704      0.017      9.995      0.000       0.137       0.204\n",
      "log_tirage                    -0.0104      0.001    -13.357      0.000      -0.012      -0.009\n",
      "==============================================================================\n",
      "Omnibus:                      115.049   Durbin-Watson:                   2.010\n",
      "Prob(Omnibus):                  0.000   Jarque-Bera (JB):              223.192\n",
      "Skew:                           0.261   Prob(JB):                     3.42e-49\n",
      "Kurtosis:                       4.186   Cond. No.                     6.53e+04\n",
      "==============================================================================\n",
      "\n",
      "Notes:\n",
      "[1] Standard Errors are heteroscedasticity robust (HC2)\n",
      "[2] The condition number is large, 6.53e+04. This might indicate that there are\n",
      "strong multicollinearity or other numerical problems.\n"
     ]
    }
   ],
   "source": [
    "log_model_robust = sm.OLS(data['log_price'], X_upd).fit(cov_type='HC2')\n",
    "\n",
    "print(log_model_robust.summary())"
   ]
  }
 ],
 "metadata": {
  "kernelspec": {
   "display_name": "Python 3 (ipykernel)",
   "language": "python",
   "name": "python3"
  },
  "language_info": {
   "codemirror_mode": {
    "name": "ipython",
    "version": 3
   },
   "file_extension": ".py",
   "mimetype": "text/x-python",
   "name": "python",
   "nbconvert_exporter": "python",
   "pygments_lexer": "ipython3",
   "version": "3.11.4"
  }
 },
 "nbformat": 4,
 "nbformat_minor": 5
}
