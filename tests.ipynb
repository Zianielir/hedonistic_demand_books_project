{
  "cells": [
    {
      "cell_type": "code",
      "execution_count": 136,
      "id": "5474e059",
      "metadata": {
        "id": "5474e059"
      },
      "outputs": [],
      "source": [
        "import pandas as pd\n",
        "import numpy as np\n",
        "import matplotlib.pyplot as plt\n",
        "from scipy.stats import gmean\n",
        "\n",
        "import statsmodels.api as sm\n",
        "from scipy.stats import t, f, boxcox, skew, kurtosis\n",
        "from statsmodels.stats.diagnostic import linear_reset, het_white\n",
        "\n",
        "\n",
        "import warnings\n",
        "warnings.filterwarnings('ignore')"
      ]
    },
    {
      "cell_type": "code",
      "execution_count": 137,
      "id": "c47c886b",
      "metadata": {
        "id": "c47c886b"
      },
      "outputs": [],
      "source": [
        "data = pd.read_csv('data_after_processing.csv')"
      ]
    },
    {
      "cell_type": "code",
      "execution_count": 138,
      "id": "07e70daf",
      "metadata": {
        "id": "07e70daf"
      },
      "outputs": [],
      "source": [
        "not_null = ['thickness', 'width', 'length', 'volume']\n",
        "data = data[(data[not_null] > 0).all(axis=1)]"
      ]
    },
    {
      "cell_type": "code",
      "execution_count": 139,
      "id": "a2881c20",
      "metadata": {
        "id": "a2881c20"
      },
      "outputs": [],
      "source": [
        "data = data.drop(['title'], axis=1)\n",
        "data = data.drop(['author_Другой', 'publisher_Другой', 'publication_year_Другой',\n",
        "                  'cover_type_Мягкий заламинированный картон', 'reading_age_6+'], axis=1)"
      ]
    },
    {
      "cell_type": "code",
      "execution_count": 140,
      "id": "3a923a28",
      "metadata": {
        "collapsed": true,
        "colab": {
          "base_uri": "https://localhost:8080/"
        },
        "id": "3a923a28",
        "outputId": "077039ef-404a-4207-8d20-40331ebc0cc4"
      },
      "outputs": [
        {
          "output_type": "execute_result",
          "data": {
            "text/plain": [
              "Index(['price', 'avg_rating', 'cnt_reviews', 'pages_cnt', 'tirage', 'weight',\n",
              "       'author_Джейн Остен', 'author_Джек Лондон', 'author_Джордж Оруэлл',\n",
              "       'author_Лев Толстой', 'author_Луиза Мэй Олкотт',\n",
              "       'author_Михаил Булгаков', 'author_Николай Гоголь',\n",
              "       'author_Федор Достоевский', 'author_Эрих Ремарк', 'publisher_АСТ',\n",
              "       'publisher_Азбука', 'publisher_Иностранка',\n",
              "       'publisher_Манн, Иванов и Фербер', 'publisher_Эксмо',\n",
              "       'publication_year_2021', 'publication_year_2022',\n",
              "       'publication_year_2023', 'publication_year_2024',\n",
              "       'publication_year_2025', 'cover_type_Мягкий переплёт',\n",
              "       'cover_type_Твёрдый переплёт', 'reading_age_0+', 'reading_age_12+',\n",
              "       'reading_age_16+', 'reading_age_18+', 'thickness', 'width', 'length',\n",
              "       'volume'],\n",
              "      dtype='object')"
            ]
          },
          "metadata": {},
          "execution_count": 140
        }
      ],
      "source": [
        "data.columns"
      ]
    },
    {
      "cell_type": "code",
      "execution_count": 141,
      "id": "d714c2b1",
      "metadata": {
        "id": "d714c2b1"
      },
      "outputs": [],
      "source": [
        "X, y = data.drop(['price'], axis=1), data['price']\n",
        "X = sm.add_constant(X)\n",
        "ln_y = np.log(y)"
      ]
    },
    {
      "cell_type": "code",
      "execution_count": 142,
      "id": "39331be0",
      "metadata": {
        "colab": {
          "base_uri": "https://localhost:8080/"
        },
        "id": "39331be0",
        "outputId": "93a0e655-7d86-46be-ba41-a131a0e40bff"
      },
      "outputs": [
        {
          "output_type": "execute_result",
          "data": {
            "text/plain": [
              "(3256, 3256)"
            ]
          },
          "metadata": {},
          "execution_count": 142
        }
      ],
      "source": [
        "X.shape[0], len(ln_y)"
      ]
    },
    {
      "cell_type": "code",
      "execution_count": 143,
      "id": "f0a85d23",
      "metadata": {
        "collapsed": true,
        "colab": {
          "base_uri": "https://localhost:8080/"
        },
        "id": "f0a85d23",
        "outputId": "1b36a1e7-cf77-4450-adb7-5d59785e1781"
      },
      "outputs": [
        {
          "output_type": "execute_result",
          "data": {
            "text/plain": [
              "Index(['const', 'avg_rating', 'cnt_reviews', 'pages_cnt', 'tirage', 'weight',\n",
              "       'author_Джейн Остен', 'author_Джек Лондон', 'author_Джордж Оруэлл',\n",
              "       'author_Лев Толстой', 'author_Луиза Мэй Олкотт',\n",
              "       'author_Михаил Булгаков', 'author_Николай Гоголь',\n",
              "       'author_Федор Достоевский', 'author_Эрих Ремарк', 'publisher_АСТ',\n",
              "       'publisher_Азбука', 'publisher_Иностранка',\n",
              "       'publisher_Манн, Иванов и Фербер', 'publisher_Эксмо',\n",
              "       'publication_year_2021', 'publication_year_2022',\n",
              "       'publication_year_2023', 'publication_year_2024',\n",
              "       'publication_year_2025', 'cover_type_Мягкий переплёт',\n",
              "       'cover_type_Твёрдый переплёт', 'reading_age_0+', 'reading_age_12+',\n",
              "       'reading_age_16+', 'reading_age_18+', 'thickness', 'width', 'length',\n",
              "       'volume'],\n",
              "      dtype='object')"
            ]
          },
          "metadata": {},
          "execution_count": 143
        }
      ],
      "source": [
        "X.columns"
      ]
    },
    {
      "cell_type": "code",
      "execution_count": 144,
      "id": "35ddc7f9",
      "metadata": {
        "id": "35ddc7f9"
      },
      "outputs": [],
      "source": [
        "num_features = ['avg_rating', 'cnt_reviews', 'pages_cnt', 'tirage', 'weight',\n",
        "                'thickness', 'width', 'length', 'volume']"
      ]
    },
    {
      "cell_type": "markdown",
      "id": "8646b310",
      "metadata": {
        "id": "8646b310"
      },
      "source": [
        "## Сравнение функциональных форм на основе теста Бокса-Кокса и PE теста:"
      ]
    },
    {
      "cell_type": "markdown",
      "source": [
        "**Тест Бокса-Кокса с преобразование Зарембки (адекватный и рабочий)**"
      ],
      "metadata": {
        "id": "eQN5sjPRHTdj"
      },
      "id": "eQN5sjPRHTdj"
    },
    {
      "cell_type": "code",
      "source": [
        "geo_mean = gmean(y)\n",
        "y_help = y/geo_mean\n",
        "ln_y_help = np.log(y_help)\n",
        "\n",
        "lin_model = sm.OLS(y_help, X).fit()\n",
        "rss1 = np.sum(lin_model.resid**2)\n",
        "\n",
        "semi_log_model = sm.OLS(ln_y_help, X).fit()\n",
        "rss2 = np.sum(semi_log_model.resid**2)\n",
        "\n",
        "chi_stat = X.shape[0]/2 * np.abs(np.log(rss1/rss2))\n",
        "print(f'{chi_stat} > 6.63 значит, между моделями есть существенное различие, выбираем на основе RSS')"
      ],
      "metadata": {
        "colab": {
          "base_uri": "https://localhost:8080/"
        },
        "id": "I35gdKpfHZrq",
        "outputId": "cb256868-990b-4750-9b46-153e24c15543"
      },
      "id": "I35gdKpfHZrq",
      "execution_count": 145,
      "outputs": [
        {
          "output_type": "stream",
          "name": "stdout",
          "text": [
            "859.4058444769837 > 6.63 значит, между моделями есть существенное различие, выбираем на основе RSS\n"
          ]
        }
      ]
    },
    {
      "cell_type": "code",
      "source": [
        "if rss2 < rss1:\n",
        "  print('Полулогарифмическая модель предпочтительнее')\n",
        "else:\n",
        "  print('Линейная модель предпочтительнее')"
      ],
      "metadata": {
        "colab": {
          "base_uri": "https://localhost:8080/"
        },
        "id": "pdgfATA9M8AC",
        "outputId": "4cdfbb56-3e0f-41f7-fca6-976abb166e4b"
      },
      "id": "pdgfATA9M8AC",
      "execution_count": 146,
      "outputs": [
        {
          "output_type": "stream",
          "name": "stdout",
          "text": [
            "Полулогарифмическая модель предпочтительнее\n"
          ]
        }
      ]
    },
    {
      "cell_type": "markdown",
      "id": "701b6554",
      "metadata": {
        "id": "701b6554"
      },
      "source": [
        "**Тест Бокса-Кокса (стремный и нерабочий)**"
      ]
    },
    {
      "cell_type": "code",
      "execution_count": 40,
      "id": "067055ae",
      "metadata": {
        "colab": {
          "base_uri": "https://localhost:8080/"
        },
        "id": "067055ae",
        "outputId": "f4426981-57b0-4ce7-db83-bf66461ea229"
      },
      "outputs": [
        {
          "output_type": "stream",
          "name": "stdout",
          "text": [
            "Оптимальное значение λ (метод Бокса-Кокса): -0.8034937325907682\n",
            "Ни одна из стандартных форм не идеальна, возможно, требуется промежуточная форма.\n"
          ]
        }
      ],
      "source": [
        "model = sm.OLS(y, X).fit()\n",
        "rss1 = np.sum(model.resid**2)\n",
        "\n",
        "semi_log_model = sm.OLS(ln_y, X).fit()\n",
        "rss2 = np.sum(semi_log_model.resid**2)\n",
        "\n",
        "y_boxcox, lambda_optimal = boxcox(y)\n",
        "\n",
        "print(f\"Оптимальное значение λ (метод Бокса-Кокса): {lambda_optimal}\")\n",
        "\n",
        "# Интерпретация\n",
        "if np.isclose(lambda_optimal, 1, atol=0.1):\n",
        "    print(\"Линейная модель (модель 1) предпочтительнее.\")\n",
        "elif np.isclose(lambda_optimal, 0, atol=0.1):\n",
        "    print(\"Полулогарифмическая модель (модель 2) предпочтительнее.\")\n",
        "else:\n",
        "    print(\"Ни одна из стандартных форм не идеальна, возможно, требуется промежуточная форма.\")"
      ]
    },
    {
      "cell_type": "markdown",
      "id": "f44c8963",
      "metadata": {
        "id": "f44c8963"
      },
      "source": [
        "**PE тест**"
      ]
    },
    {
      "cell_type": "code",
      "execution_count": 147,
      "id": "74b7c805",
      "metadata": {
        "colab": {
          "base_uri": "https://localhost:8080/"
        },
        "id": "74b7c805",
        "outputId": "0cd88762-4f38-4c09-e224-3972be2e2f6b"
      },
      "outputs": [
        {
          "output_type": "stream",
          "name": "stdout",
          "text": [
            "Модель для полулогарифмической спецификации\n",
            "\n",
            "                            OLS Regression Results                            \n",
            "==============================================================================\n",
            "Dep. Variable:                  price   R-squared:                       0.825\n",
            "Model:                            OLS   Adj. R-squared:                  0.823\n",
            "Method:                 Least Squares   F-statistic:                     433.6\n",
            "Date:                Sun, 04 May 2025   Prob (F-statistic):               0.00\n",
            "Time:                        20:06:26   Log-Likelihood:                 371.26\n",
            "No. Observations:                3252   AIC:                            -670.5\n",
            "Df Residuals:                    3216   BIC:                            -451.4\n",
            "Df Model:                          35                                         \n",
            "Covariance Type:            nonrobust                                         \n",
            "===================================================================================================\n",
            "                                      coef    std err          t      P>|t|      [0.025      0.975]\n",
            "---------------------------------------------------------------------------------------------------\n",
            "const                               4.3311      0.264     16.400      0.000       3.813       4.849\n",
            "avg_rating                          0.0691      0.011      6.119      0.000       0.047       0.091\n",
            "cnt_reviews                         0.0004   3.66e-05     10.956      0.000       0.000       0.000\n",
            "pages_cnt                          -0.0006    4.2e-05    -14.080      0.000      -0.001      -0.001\n",
            "tirage                          -2.518e-05   1.67e-06    -15.064      0.000   -2.85e-05   -2.19e-05\n",
            "weight                              0.0025   4.82e-05     51.632      0.000       0.002       0.003\n",
            "author_Джейн Остен                  0.0065      0.027      0.241      0.809      -0.046       0.059\n",
            "author_Джек Лондон                 -0.0722      0.026     -2.748      0.006      -0.124      -0.021\n",
            "author_Джордж Оруэлл                0.0122      0.028      0.439      0.660      -0.042       0.067\n",
            "author_Лев Толстой                 -0.1293      0.030     -4.348      0.000      -0.188      -0.071\n",
            "author_Луиза Мэй Олкотт            -0.0319      0.031     -1.034      0.301      -0.093       0.029\n",
            "author_Михаил Булгаков              0.0424      0.025      1.666      0.096      -0.008       0.092\n",
            "author_Николай Гоголь              -0.0871      0.031     -2.778      0.005      -0.149      -0.026\n",
            "author_Федор Достоевский           -0.1064      0.020     -5.320      0.000      -0.146      -0.067\n",
            "author_Эрих Ремарк                  0.1325      0.028      4.752      0.000       0.078       0.187\n",
            "publisher_АСТ                      -0.1540      0.029     -5.390      0.000      -0.210      -0.098\n",
            "publisher_Азбука                   -0.1961      0.030     -6.598      0.000      -0.254      -0.138\n",
            "publisher_Иностранка               -0.1608      0.034     -4.756      0.000      -0.227      -0.095\n",
            "publisher_Манн, Иванов и Фербер    -0.0398      0.038     -1.044      0.297      -0.115       0.035\n",
            "publisher_Эксмо                    -0.1814      0.029     -6.266      0.000      -0.238      -0.125\n",
            "publication_year_2021              -0.0146      0.043     -0.339      0.735      -0.099       0.070\n",
            "publication_year_2022               0.0137      0.036      0.380      0.704      -0.057       0.084\n",
            "publication_year_2023               0.0225      0.035      0.653      0.514      -0.045       0.090\n",
            "publication_year_2024               0.0383      0.034      1.129      0.259      -0.028       0.105\n",
            "publication_year_2025               0.0434      0.034      1.267      0.205      -0.024       0.111\n",
            "cover_type_Мягкий переплёт         -0.2551      0.217     -1.173      0.241      -0.681       0.171\n",
            "cover_type_Твёрдый переплёт        -0.1519      0.217     -0.699      0.485      -0.578       0.274\n",
            "reading_age_0+                     -0.0213      0.136     -0.157      0.875      -0.287       0.245\n",
            "reading_age_12+                    -0.1915      0.048     -3.990      0.000      -0.286      -0.097\n",
            "reading_age_16+                    -0.1175      0.047     -2.481      0.013      -0.210      -0.025\n",
            "reading_age_18+                     0.0108      0.051      0.213      0.831      -0.088       0.110\n",
            "thickness                           0.2602      0.022     11.566      0.000       0.216       0.304\n",
            "width                               0.0925      0.006     16.610      0.000       0.082       0.103\n",
            "length                              0.0238      0.004      5.681      0.000       0.016       0.032\n",
            "volume                             -0.0014   8.29e-05    -17.198      0.000      -0.002      -0.001\n",
            "delta                               0.0003   1.92e-05     16.092      0.000       0.000       0.000\n",
            "==============================================================================\n",
            "Omnibus:                      607.863   Durbin-Watson:                   2.019\n",
            "Prob(Omnibus):                  0.000   Jarque-Bera (JB):             4838.329\n",
            "Skew:                          -0.663   Prob(JB):                         0.00\n",
            "Kurtosis:                       8.827   Cond. No.                     5.25e+05\n",
            "==============================================================================\n",
            "\n",
            "Notes:\n",
            "[1] Standard Errors assume that the covariance matrix of the errors is correctly specified.\n",
            "[2] The condition number is large, 5.25e+05. This might indicate that there are\n",
            "strong multicollinearity or other numerical problems.\n",
            "Модель для линейной спецификации\n",
            "\n",
            "                            OLS Regression Results                            \n",
            "==============================================================================\n",
            "Dep. Variable:                  price   R-squared:                       0.869\n",
            "Model:                            OLS   Adj. R-squared:                  0.868\n",
            "Method:                 Least Squares   F-statistic:                     610.7\n",
            "Date:                Sun, 04 May 2025   Prob (F-statistic):               0.00\n",
            "Time:                        20:06:26   Log-Likelihood:                -20489.\n",
            "No. Observations:                3252   AIC:                         4.105e+04\n",
            "Df Residuals:                    3216   BIC:                         4.127e+04\n",
            "Df Model:                          35                                         \n",
            "Covariance Type:            nonrobust                                         \n",
            "===================================================================================================\n",
            "                                      coef    std err          t      P>|t|      [0.025      0.975]\n",
            "---------------------------------------------------------------------------------------------------\n",
            "const                             195.3522    161.176      1.212      0.226    -120.665     511.370\n",
            "avg_rating                         18.3892      6.896      2.667      0.008       4.867      31.911\n",
            "cnt_reviews                         0.1712      0.022      7.646      0.000       0.127       0.215\n",
            "pages_cnt                          -0.5621      0.025    -22.230      0.000      -0.612      -0.513\n",
            "tirage                             -0.0142      0.001    -13.582      0.000      -0.016      -0.012\n",
            "weight                              1.9143      0.029     66.857      0.000       1.858       1.970\n",
            "author_Джейн Остен                 -9.5024     16.402     -0.579      0.562     -41.662      22.658\n",
            "author_Джек Лондон                -19.6750     16.052     -1.226      0.220     -51.147      11.797\n",
            "author_Джордж Оруэлл                7.7523     16.978      0.457      0.648     -25.537      41.041\n",
            "author_Лев Толстой               -107.0608     18.213     -5.878      0.000    -142.770     -71.352\n",
            "author_Луиза Мэй Олкотт           -20.9442     18.877     -1.110      0.267     -57.957      16.068\n",
            "author_Михаил Булгаков             83.6187     15.600      5.360      0.000      53.031     114.206\n",
            "author_Николай Гоголь             -46.7436     19.139     -2.442      0.015     -84.269      -9.218\n",
            "author_Федор Достоевский          -46.7642     12.211     -3.830      0.000     -70.707     -22.821\n",
            "author_Эрих Ремарк                 44.7784     17.023      2.630      0.009      11.401      78.156\n",
            "publisher_АСТ                     -92.7419     17.442     -5.317      0.000    -126.940     -58.544\n",
            "publisher_Азбука                 -140.8214     18.213     -7.732      0.000    -176.532    -105.110\n",
            "publisher_Иностранка             -184.8167     20.774     -8.897      0.000    -225.548    -144.085\n",
            "publisher_Манн, Иванов и Фербер  -112.3896     23.280     -4.828      0.000    -158.035     -66.744\n",
            "publisher_Эксмо                  -119.1108     17.665     -6.743      0.000    -153.747     -84.474\n",
            "publication_year_2021               7.8254     26.239      0.298      0.766     -43.622      59.272\n",
            "publication_year_2022              18.2903     21.937      0.834      0.404     -24.721      61.301\n",
            "publication_year_2023              32.8798     21.090      1.559      0.119      -8.472      74.232\n",
            "publication_year_2024              42.8705     20.742      2.067      0.039       2.201      83.540\n",
            "publication_year_2025              41.8237     20.903      2.001      0.045       0.839      82.808\n",
            "cover_type_Мягкий переплёт        -15.8729    132.760     -0.120      0.905    -276.176     244.430\n",
            "cover_type_Твёрдый переплёт       -35.7664    132.697     -0.270      0.788    -295.945     224.412\n",
            "reading_age_0+                   -160.2701     82.798     -1.936      0.053    -322.612       2.072\n",
            "reading_age_12+                  -217.6009     29.321     -7.421      0.000    -275.091    -160.110\n",
            "reading_age_16+                  -177.1416     28.921     -6.125      0.000    -233.847    -120.437\n",
            "reading_age_18+                   -94.5297     30.906     -3.059      0.002    -155.127     -33.932\n",
            "thickness                           2.4870     13.727      0.181      0.856     -24.427      29.401\n",
            "width                              17.0530      3.401      5.014      0.000      10.385      23.721\n",
            "length                              3.7488      2.536      1.478      0.139      -1.224       8.721\n",
            "volume                             -0.2556      0.051     -5.052      0.000      -0.355      -0.156\n",
            "delta                             207.2447     16.462     12.589      0.000     174.968     239.521\n",
            "==============================================================================\n",
            "Omnibus:                     1047.861   Durbin-Watson:                   1.996\n",
            "Prob(Omnibus):                  0.000   Jarque-Bera (JB):            37733.033\n",
            "Skew:                           0.853   Prob(JB):                         0.00\n",
            "Kurtosis:                      19.600   Cond. No.                     5.25e+05\n",
            "==============================================================================\n",
            "\n",
            "Notes:\n",
            "[1] Standard Errors assume that the covariance matrix of the errors is correctly specified.\n",
            "[2] The condition number is large, 5.25e+05. This might indicate that there are\n",
            "strong multicollinearity or other numerical problems.\n"
          ]
        }
      ],
      "source": [
        "model_log = sm.OLS(ln_y, X).fit()\n",
        "\n",
        "yhat_lin = model.fittedvalues\n",
        "ln_yhat_log = model_log.fittedvalues\n",
        "yhat_log = np.exp(ln_yhat_log)\n",
        "\n",
        "mask = yhat_lin >= 0\n",
        "\n",
        "yhat_lin = yhat_lin[mask]\n",
        "yhat_log = yhat_log[mask]\n",
        "ln_y = ln_y[mask]\n",
        "ln_yhat_log = ln_yhat_log[mask]\n",
        "X_masked = X[mask]\n",
        "\n",
        "# Шаг 2: Вспомогательные регрессии\n",
        "aux_log_X = X_masked.copy()\n",
        "aux_log_X['delta'] = yhat_lin - yhat_log\n",
        "aux_log_model = sm.OLS(ln_y, aux_log_X).fit()\n",
        "\n",
        "aux_lin_X = X_masked.copy()\n",
        "aux_lin_X['delta'] = ln_yhat_log - np.log(yhat_lin)\n",
        "aux_lin_model = sm.OLS(y[mask], aux_lin_X).fit()\n",
        "\n",
        "print(\"Модель для полулогарифмической спецификации\")\n",
        "print()\n",
        "print(aux_log_model.summary())\n",
        "\n",
        "print(\"Модель для линейной спецификации\")\n",
        "print()\n",
        "print(aux_lin_model.summary())\n"
      ]
    },
    {
      "cell_type": "markdown",
      "id": "0cb48cd9",
      "metadata": {
        "id": "0cb48cd9"
      },
      "source": [
        "**Вывод:** все значимо, нужны другие функциональные формы"
      ]
    },
    {
      "cell_type": "markdown",
      "id": "8be9a4cd",
      "metadata": {
        "id": "8be9a4cd"
      },
      "source": [
        "## Сравнение функциональных форм на основе нормированной R^2:"
      ]
    },
    {
      "cell_type": "code",
      "execution_count": 148,
      "id": "f3c658a0",
      "metadata": {
        "collapsed": true,
        "colab": {
          "base_uri": "https://localhost:8080/",
          "height": 1000
        },
        "id": "f3c658a0",
        "outputId": "9e10a399-43d6-40b1-b3a5-17c0bb0370d5"
      },
      "outputs": [
        {
          "output_type": "execute_result",
          "data": {
            "text/plain": [
              "<class 'statsmodels.iolib.summary.Summary'>\n",
              "\"\"\"\n",
              "                            OLS Regression Results                            \n",
              "==============================================================================\n",
              "Dep. Variable:                  price   R-squared:                       0.851\n",
              "Model:                            OLS   Adj. R-squared:                  0.849\n",
              "Method:                 Least Squares   F-statistic:                     540.9\n",
              "Date:                Sun, 04 May 2025   Prob (F-statistic):               0.00\n",
              "Time:                        20:06:36   Log-Likelihood:                -20729.\n",
              "No. Observations:                3256   AIC:                         4.153e+04\n",
              "Df Residuals:                    3221   BIC:                         4.174e+04\n",
              "Df Model:                          34                                         \n",
              "Covariance Type:            nonrobust                                         \n",
              "===================================================================================================\n",
              "                                      coef    std err          t      P>|t|      [0.025      0.975]\n",
              "---------------------------------------------------------------------------------------------------\n",
              "const                             278.3915    172.117      1.617      0.106     -59.077     615.861\n",
              "avg_rating                         21.0623      7.361      2.861      0.004       6.629      35.495\n",
              "cnt_reviews                         0.1583      0.024      6.640      0.000       0.112       0.205\n",
              "pages_cnt                          -0.4624      0.026    -17.828      0.000      -0.513      -0.412\n",
              "tirage                             -0.0120      0.001    -11.032      0.000      -0.014      -0.010\n",
              "weight                              1.7730      0.030     59.917      0.000       1.715       1.831\n",
              "author_Джейн Остен                 -6.7501     17.521     -0.385      0.700     -41.103      27.603\n",
              "author_Джек Лондон                -22.0679     17.147     -1.287      0.198     -55.688      11.552\n",
              "author_Джордж Оруэлл               11.1018     18.134      0.612      0.540     -24.453      46.656\n",
              "author_Лев Толстой                -85.2406     19.273     -4.423      0.000    -123.029     -47.452\n",
              "author_Луиза Мэй Олкотт           -17.0134     20.160     -0.844      0.399     -56.541      22.514\n",
              "author_Михаил Булгаков             67.2283     16.583      4.054      0.000      34.715      99.742\n",
              "author_Николай Гоголь             -38.5154     20.439     -1.884      0.060     -78.589       1.559\n",
              "author_Федор Достоевский          -50.5112     13.043     -3.873      0.000     -76.084     -24.938\n",
              "author_Эрих Ремарк                 49.5413     18.182      2.725      0.006      13.892      85.190\n",
              "publisher_АСТ                     -89.1631     18.627     -4.787      0.000    -125.685     -52.641\n",
              "publisher_Азбука                 -120.8672     19.369     -6.240      0.000    -158.844     -82.890\n",
              "publisher_Иностранка             -150.0874     22.045     -6.808      0.000    -193.311    -106.864\n",
              "publisher_Манн, Иванов и Фербер   -93.2753     24.846     -3.754      0.000    -141.992     -44.559\n",
              "publisher_Эксмо                  -111.5480     18.859     -5.915      0.000    -148.525     -74.571\n",
              "publication_year_2021              -2.3139     28.014     -0.083      0.934     -57.242      52.614\n",
              "publication_year_2022               8.1149     23.409      0.347      0.729     -37.783      54.013\n",
              "publication_year_2023              24.5463     22.502      1.091      0.275     -19.574      68.666\n",
              "publication_year_2024              32.1704     22.122      1.454      0.146     -11.204      75.545\n",
              "publication_year_2025              32.6362     22.300      1.463      0.143     -11.088      76.360\n",
              "cover_type_Мягкий переплёт        -31.5068    141.820     -0.222      0.824    -309.574     246.561\n",
              "cover_type_Твёрдый переплёт       -45.0098    141.750     -0.318      0.751    -322.940     232.920\n",
              "reading_age_0+                   -143.5689     88.424     -1.624      0.105    -316.941      29.803\n",
              "reading_age_12+                  -217.5852     31.268     -6.959      0.000    -278.893    -156.278\n",
              "reading_age_16+                  -181.8075     30.852     -5.893      0.000    -242.299    -121.316\n",
              "reading_age_18+                  -103.5305     32.996     -3.138      0.002    -168.225     -38.836\n",
              "thickness                         -23.0309     14.545     -1.583      0.113     -51.549       5.487\n",
              "width                              10.0304      3.601      2.785      0.005       2.970      17.091\n",
              "length                              3.4286      2.705      1.267      0.205      -1.875       8.732\n",
              "volume                             -0.1341      0.053     -2.508      0.012      -0.239      -0.029\n",
              "==============================================================================\n",
              "Omnibus:                     1916.007   Durbin-Watson:                   1.990\n",
              "Prob(Omnibus):                  0.000   Jarque-Bera (JB):            89613.952\n",
              "Skew:                           2.116   Prob(JB):                         0.00\n",
              "Kurtosis:                      28.350   Cond. No.                     5.25e+05\n",
              "==============================================================================\n",
              "\n",
              "Notes:\n",
              "[1] Standard Errors assume that the covariance matrix of the errors is correctly specified.\n",
              "[2] The condition number is large, 5.25e+05. This might indicate that there are\n",
              "strong multicollinearity or other numerical problems.\n",
              "\"\"\""
            ],
            "text/html": [
              "<table class=\"simpletable\">\n",
              "<caption>OLS Regression Results</caption>\n",
              "<tr>\n",
              "  <th>Dep. Variable:</th>          <td>price</td>      <th>  R-squared:         </th> <td>   0.851</td> \n",
              "</tr>\n",
              "<tr>\n",
              "  <th>Model:</th>                   <td>OLS</td>       <th>  Adj. R-squared:    </th> <td>   0.849</td> \n",
              "</tr>\n",
              "<tr>\n",
              "  <th>Method:</th>             <td>Least Squares</td>  <th>  F-statistic:       </th> <td>   540.9</td> \n",
              "</tr>\n",
              "<tr>\n",
              "  <th>Date:</th>             <td>Sun, 04 May 2025</td> <th>  Prob (F-statistic):</th>  <td>  0.00</td>  \n",
              "</tr>\n",
              "<tr>\n",
              "  <th>Time:</th>                 <td>20:06:36</td>     <th>  Log-Likelihood:    </th> <td> -20729.</td> \n",
              "</tr>\n",
              "<tr>\n",
              "  <th>No. Observations:</th>      <td>  3256</td>      <th>  AIC:               </th> <td>4.153e+04</td>\n",
              "</tr>\n",
              "<tr>\n",
              "  <th>Df Residuals:</th>          <td>  3221</td>      <th>  BIC:               </th> <td>4.174e+04</td>\n",
              "</tr>\n",
              "<tr>\n",
              "  <th>Df Model:</th>              <td>    34</td>      <th>                     </th>     <td> </td>    \n",
              "</tr>\n",
              "<tr>\n",
              "  <th>Covariance Type:</th>      <td>nonrobust</td>    <th>                     </th>     <td> </td>    \n",
              "</tr>\n",
              "</table>\n",
              "<table class=\"simpletable\">\n",
              "<tr>\n",
              "                 <td></td>                    <th>coef</th>     <th>std err</th>      <th>t</th>      <th>P>|t|</th>  <th>[0.025</th>    <th>0.975]</th>  \n",
              "</tr>\n",
              "<tr>\n",
              "  <th>const</th>                           <td>  278.3915</td> <td>  172.117</td> <td>    1.617</td> <td> 0.106</td> <td>  -59.077</td> <td>  615.861</td>\n",
              "</tr>\n",
              "<tr>\n",
              "  <th>avg_rating</th>                      <td>   21.0623</td> <td>    7.361</td> <td>    2.861</td> <td> 0.004</td> <td>    6.629</td> <td>   35.495</td>\n",
              "</tr>\n",
              "<tr>\n",
              "  <th>cnt_reviews</th>                     <td>    0.1583</td> <td>    0.024</td> <td>    6.640</td> <td> 0.000</td> <td>    0.112</td> <td>    0.205</td>\n",
              "</tr>\n",
              "<tr>\n",
              "  <th>pages_cnt</th>                       <td>   -0.4624</td> <td>    0.026</td> <td>  -17.828</td> <td> 0.000</td> <td>   -0.513</td> <td>   -0.412</td>\n",
              "</tr>\n",
              "<tr>\n",
              "  <th>tirage</th>                          <td>   -0.0120</td> <td>    0.001</td> <td>  -11.032</td> <td> 0.000</td> <td>   -0.014</td> <td>   -0.010</td>\n",
              "</tr>\n",
              "<tr>\n",
              "  <th>weight</th>                          <td>    1.7730</td> <td>    0.030</td> <td>   59.917</td> <td> 0.000</td> <td>    1.715</td> <td>    1.831</td>\n",
              "</tr>\n",
              "<tr>\n",
              "  <th>author_Джейн Остен</th>              <td>   -6.7501</td> <td>   17.521</td> <td>   -0.385</td> <td> 0.700</td> <td>  -41.103</td> <td>   27.603</td>\n",
              "</tr>\n",
              "<tr>\n",
              "  <th>author_Джек Лондон</th>              <td>  -22.0679</td> <td>   17.147</td> <td>   -1.287</td> <td> 0.198</td> <td>  -55.688</td> <td>   11.552</td>\n",
              "</tr>\n",
              "<tr>\n",
              "  <th>author_Джордж Оруэлл</th>            <td>   11.1018</td> <td>   18.134</td> <td>    0.612</td> <td> 0.540</td> <td>  -24.453</td> <td>   46.656</td>\n",
              "</tr>\n",
              "<tr>\n",
              "  <th>author_Лев Толстой</th>              <td>  -85.2406</td> <td>   19.273</td> <td>   -4.423</td> <td> 0.000</td> <td> -123.029</td> <td>  -47.452</td>\n",
              "</tr>\n",
              "<tr>\n",
              "  <th>author_Луиза Мэй Олкотт</th>         <td>  -17.0134</td> <td>   20.160</td> <td>   -0.844</td> <td> 0.399</td> <td>  -56.541</td> <td>   22.514</td>\n",
              "</tr>\n",
              "<tr>\n",
              "  <th>author_Михаил Булгаков</th>          <td>   67.2283</td> <td>   16.583</td> <td>    4.054</td> <td> 0.000</td> <td>   34.715</td> <td>   99.742</td>\n",
              "</tr>\n",
              "<tr>\n",
              "  <th>author_Николай Гоголь</th>           <td>  -38.5154</td> <td>   20.439</td> <td>   -1.884</td> <td> 0.060</td> <td>  -78.589</td> <td>    1.559</td>\n",
              "</tr>\n",
              "<tr>\n",
              "  <th>author_Федор Достоевский</th>        <td>  -50.5112</td> <td>   13.043</td> <td>   -3.873</td> <td> 0.000</td> <td>  -76.084</td> <td>  -24.938</td>\n",
              "</tr>\n",
              "<tr>\n",
              "  <th>author_Эрих Ремарк</th>              <td>   49.5413</td> <td>   18.182</td> <td>    2.725</td> <td> 0.006</td> <td>   13.892</td> <td>   85.190</td>\n",
              "</tr>\n",
              "<tr>\n",
              "  <th>publisher_АСТ</th>                   <td>  -89.1631</td> <td>   18.627</td> <td>   -4.787</td> <td> 0.000</td> <td> -125.685</td> <td>  -52.641</td>\n",
              "</tr>\n",
              "<tr>\n",
              "  <th>publisher_Азбука</th>                <td> -120.8672</td> <td>   19.369</td> <td>   -6.240</td> <td> 0.000</td> <td> -158.844</td> <td>  -82.890</td>\n",
              "</tr>\n",
              "<tr>\n",
              "  <th>publisher_Иностранка</th>            <td> -150.0874</td> <td>   22.045</td> <td>   -6.808</td> <td> 0.000</td> <td> -193.311</td> <td> -106.864</td>\n",
              "</tr>\n",
              "<tr>\n",
              "  <th>publisher_Манн, Иванов и Фербер</th> <td>  -93.2753</td> <td>   24.846</td> <td>   -3.754</td> <td> 0.000</td> <td> -141.992</td> <td>  -44.559</td>\n",
              "</tr>\n",
              "<tr>\n",
              "  <th>publisher_Эксмо</th>                 <td> -111.5480</td> <td>   18.859</td> <td>   -5.915</td> <td> 0.000</td> <td> -148.525</td> <td>  -74.571</td>\n",
              "</tr>\n",
              "<tr>\n",
              "  <th>publication_year_2021</th>           <td>   -2.3139</td> <td>   28.014</td> <td>   -0.083</td> <td> 0.934</td> <td>  -57.242</td> <td>   52.614</td>\n",
              "</tr>\n",
              "<tr>\n",
              "  <th>publication_year_2022</th>           <td>    8.1149</td> <td>   23.409</td> <td>    0.347</td> <td> 0.729</td> <td>  -37.783</td> <td>   54.013</td>\n",
              "</tr>\n",
              "<tr>\n",
              "  <th>publication_year_2023</th>           <td>   24.5463</td> <td>   22.502</td> <td>    1.091</td> <td> 0.275</td> <td>  -19.574</td> <td>   68.666</td>\n",
              "</tr>\n",
              "<tr>\n",
              "  <th>publication_year_2024</th>           <td>   32.1704</td> <td>   22.122</td> <td>    1.454</td> <td> 0.146</td> <td>  -11.204</td> <td>   75.545</td>\n",
              "</tr>\n",
              "<tr>\n",
              "  <th>publication_year_2025</th>           <td>   32.6362</td> <td>   22.300</td> <td>    1.463</td> <td> 0.143</td> <td>  -11.088</td> <td>   76.360</td>\n",
              "</tr>\n",
              "<tr>\n",
              "  <th>cover_type_Мягкий переплёт</th>      <td>  -31.5068</td> <td>  141.820</td> <td>   -0.222</td> <td> 0.824</td> <td> -309.574</td> <td>  246.561</td>\n",
              "</tr>\n",
              "<tr>\n",
              "  <th>cover_type_Твёрдый переплёт</th>     <td>  -45.0098</td> <td>  141.750</td> <td>   -0.318</td> <td> 0.751</td> <td> -322.940</td> <td>  232.920</td>\n",
              "</tr>\n",
              "<tr>\n",
              "  <th>reading_age_0+</th>                  <td> -143.5689</td> <td>   88.424</td> <td>   -1.624</td> <td> 0.105</td> <td> -316.941</td> <td>   29.803</td>\n",
              "</tr>\n",
              "<tr>\n",
              "  <th>reading_age_12+</th>                 <td> -217.5852</td> <td>   31.268</td> <td>   -6.959</td> <td> 0.000</td> <td> -278.893</td> <td> -156.278</td>\n",
              "</tr>\n",
              "<tr>\n",
              "  <th>reading_age_16+</th>                 <td> -181.8075</td> <td>   30.852</td> <td>   -5.893</td> <td> 0.000</td> <td> -242.299</td> <td> -121.316</td>\n",
              "</tr>\n",
              "<tr>\n",
              "  <th>reading_age_18+</th>                 <td> -103.5305</td> <td>   32.996</td> <td>   -3.138</td> <td> 0.002</td> <td> -168.225</td> <td>  -38.836</td>\n",
              "</tr>\n",
              "<tr>\n",
              "  <th>thickness</th>                       <td>  -23.0309</td> <td>   14.545</td> <td>   -1.583</td> <td> 0.113</td> <td>  -51.549</td> <td>    5.487</td>\n",
              "</tr>\n",
              "<tr>\n",
              "  <th>width</th>                           <td>   10.0304</td> <td>    3.601</td> <td>    2.785</td> <td> 0.005</td> <td>    2.970</td> <td>   17.091</td>\n",
              "</tr>\n",
              "<tr>\n",
              "  <th>length</th>                          <td>    3.4286</td> <td>    2.705</td> <td>    1.267</td> <td> 0.205</td> <td>   -1.875</td> <td>    8.732</td>\n",
              "</tr>\n",
              "<tr>\n",
              "  <th>volume</th>                          <td>   -0.1341</td> <td>    0.053</td> <td>   -2.508</td> <td> 0.012</td> <td>   -0.239</td> <td>   -0.029</td>\n",
              "</tr>\n",
              "</table>\n",
              "<table class=\"simpletable\">\n",
              "<tr>\n",
              "  <th>Omnibus:</th>       <td>1916.007</td> <th>  Durbin-Watson:     </th> <td>   1.990</td> \n",
              "</tr>\n",
              "<tr>\n",
              "  <th>Prob(Omnibus):</th>  <td> 0.000</td>  <th>  Jarque-Bera (JB):  </th> <td>89613.952</td>\n",
              "</tr>\n",
              "<tr>\n",
              "  <th>Skew:</th>           <td> 2.116</td>  <th>  Prob(JB):          </th> <td>    0.00</td> \n",
              "</tr>\n",
              "<tr>\n",
              "  <th>Kurtosis:</th>       <td>28.350</td>  <th>  Cond. No.          </th> <td>5.25e+05</td> \n",
              "</tr>\n",
              "</table><br/><br/>Notes:<br/>[1] Standard Errors assume that the covariance matrix of the errors is correctly specified.<br/>[2] The condition number is large, 5.25e+05. This might indicate that there are<br/>strong multicollinearity or other numerical problems."
            ],
            "text/latex": "\\begin{center}\n\\begin{tabular}{lclc}\n\\toprule\n\\textbf{Dep. Variable:}                   &      price       & \\textbf{  R-squared:         } &     0.851   \\\\\n\\textbf{Model:}                           &       OLS        & \\textbf{  Adj. R-squared:    } &     0.849   \\\\\n\\textbf{Method:}                          &  Least Squares   & \\textbf{  F-statistic:       } &     540.9   \\\\\n\\textbf{Date:}                            & Sun, 04 May 2025 & \\textbf{  Prob (F-statistic):} &     0.00    \\\\\n\\textbf{Time:}                            &     20:06:36     & \\textbf{  Log-Likelihood:    } &   -20729.   \\\\\n\\textbf{No. Observations:}                &        3256      & \\textbf{  AIC:               } & 4.153e+04   \\\\\n\\textbf{Df Residuals:}                    &        3221      & \\textbf{  BIC:               } & 4.174e+04   \\\\\n\\textbf{Df Model:}                        &          34      & \\textbf{                     } &             \\\\\n\\textbf{Covariance Type:}                 &    nonrobust     & \\textbf{                     } &             \\\\\n\\bottomrule\n\\end{tabular}\n\\begin{tabular}{lcccccc}\n                                          & \\textbf{coef} & \\textbf{std err} & \\textbf{t} & \\textbf{P$> |$t$|$} & \\textbf{[0.025} & \\textbf{0.975]}  \\\\\n\\midrule\n\\textbf{const}                            &     278.3915  &      172.117     &     1.617  &         0.106        &      -59.077    &      615.861     \\\\\n\\textbf{avg\\_rating}                      &      21.0623  &        7.361     &     2.861  &         0.004        &        6.629    &       35.495     \\\\\n\\textbf{cnt\\_reviews}                     &       0.1583  &        0.024     &     6.640  &         0.000        &        0.112    &        0.205     \\\\\n\\textbf{pages\\_cnt}                       &      -0.4624  &        0.026     &   -17.828  &         0.000        &       -0.513    &       -0.412     \\\\\n\\textbf{tirage}                           &      -0.0120  &        0.001     &   -11.032  &         0.000        &       -0.014    &       -0.010     \\\\\n\\textbf{weight}                           &       1.7730  &        0.030     &    59.917  &         0.000        &        1.715    &        1.831     \\\\\n\\textbf{author\\_Джейн Остен}              &      -6.7501  &       17.521     &    -0.385  &         0.700        &      -41.103    &       27.603     \\\\\n\\textbf{author\\_Джек Лондон}              &     -22.0679  &       17.147     &    -1.287  &         0.198        &      -55.688    &       11.552     \\\\\n\\textbf{author\\_Джордж Оруэлл}            &      11.1018  &       18.134     &     0.612  &         0.540        &      -24.453    &       46.656     \\\\\n\\textbf{author\\_Лев Толстой}              &     -85.2406  &       19.273     &    -4.423  &         0.000        &     -123.029    &      -47.452     \\\\\n\\textbf{author\\_Луиза Мэй Олкотт}         &     -17.0134  &       20.160     &    -0.844  &         0.399        &      -56.541    &       22.514     \\\\\n\\textbf{author\\_Михаил Булгаков}          &      67.2283  &       16.583     &     4.054  &         0.000        &       34.715    &       99.742     \\\\\n\\textbf{author\\_Николай Гоголь}           &     -38.5154  &       20.439     &    -1.884  &         0.060        &      -78.589    &        1.559     \\\\\n\\textbf{author\\_Федор Достоевский}        &     -50.5112  &       13.043     &    -3.873  &         0.000        &      -76.084    &      -24.938     \\\\\n\\textbf{author\\_Эрих Ремарк}              &      49.5413  &       18.182     &     2.725  &         0.006        &       13.892    &       85.190     \\\\\n\\textbf{publisher\\_АСТ}                   &     -89.1631  &       18.627     &    -4.787  &         0.000        &     -125.685    &      -52.641     \\\\\n\\textbf{publisher\\_Азбука}                &    -120.8672  &       19.369     &    -6.240  &         0.000        &     -158.844    &      -82.890     \\\\\n\\textbf{publisher\\_Иностранка}            &    -150.0874  &       22.045     &    -6.808  &         0.000        &     -193.311    &     -106.864     \\\\\n\\textbf{publisher\\_Манн, Иванов и Фербер} &     -93.2753  &       24.846     &    -3.754  &         0.000        &     -141.992    &      -44.559     \\\\\n\\textbf{publisher\\_Эксмо}                 &    -111.5480  &       18.859     &    -5.915  &         0.000        &     -148.525    &      -74.571     \\\\\n\\textbf{publication\\_year\\_2021}          &      -2.3139  &       28.014     &    -0.083  &         0.934        &      -57.242    &       52.614     \\\\\n\\textbf{publication\\_year\\_2022}          &       8.1149  &       23.409     &     0.347  &         0.729        &      -37.783    &       54.013     \\\\\n\\textbf{publication\\_year\\_2023}          &      24.5463  &       22.502     &     1.091  &         0.275        &      -19.574    &       68.666     \\\\\n\\textbf{publication\\_year\\_2024}          &      32.1704  &       22.122     &     1.454  &         0.146        &      -11.204    &       75.545     \\\\\n\\textbf{publication\\_year\\_2025}          &      32.6362  &       22.300     &     1.463  &         0.143        &      -11.088    &       76.360     \\\\\n\\textbf{cover\\_type\\_Мягкий переплёт}     &     -31.5068  &      141.820     &    -0.222  &         0.824        &     -309.574    &      246.561     \\\\\n\\textbf{cover\\_type\\_Твёрдый переплёт}    &     -45.0098  &      141.750     &    -0.318  &         0.751        &     -322.940    &      232.920     \\\\\n\\textbf{reading\\_age\\_0+}                 &    -143.5689  &       88.424     &    -1.624  &         0.105        &     -316.941    &       29.803     \\\\\n\\textbf{reading\\_age\\_12+}                &    -217.5852  &       31.268     &    -6.959  &         0.000        &     -278.893    &     -156.278     \\\\\n\\textbf{reading\\_age\\_16+}                &    -181.8075  &       30.852     &    -5.893  &         0.000        &     -242.299    &     -121.316     \\\\\n\\textbf{reading\\_age\\_18+}                &    -103.5305  &       32.996     &    -3.138  &         0.002        &     -168.225    &      -38.836     \\\\\n\\textbf{thickness}                        &     -23.0309  &       14.545     &    -1.583  &         0.113        &      -51.549    &        5.487     \\\\\n\\textbf{width}                            &      10.0304  &        3.601     &     2.785  &         0.005        &        2.970    &       17.091     \\\\\n\\textbf{length}                           &       3.4286  &        2.705     &     1.267  &         0.205        &       -1.875    &        8.732     \\\\\n\\textbf{volume}                           &      -0.1341  &        0.053     &    -2.508  &         0.012        &       -0.239    &       -0.029     \\\\\n\\bottomrule\n\\end{tabular}\n\\begin{tabular}{lclc}\n\\textbf{Omnibus:}       & 1916.007 & \\textbf{  Durbin-Watson:     } &     1.990  \\\\\n\\textbf{Prob(Omnibus):} &   0.000  & \\textbf{  Jarque-Bera (JB):  } & 89613.952  \\\\\n\\textbf{Skew:}          &   2.116  & \\textbf{  Prob(JB):          } &      0.00  \\\\\n\\textbf{Kurtosis:}      &  28.350  & \\textbf{  Cond. No.          } &  5.25e+05  \\\\\n\\bottomrule\n\\end{tabular}\n%\\caption{OLS Regression Results}\n\\end{center}\n\nNotes: \\newline\n [1] Standard Errors assume that the covariance matrix of the errors is correctly specified. \\newline\n [2] The condition number is large, 5.25e+05. This might indicate that there are \\newline\n strong multicollinearity or other numerical problems."
          },
          "metadata": {},
          "execution_count": 148
        }
      ],
      "source": [
        "model.summary()"
      ]
    },
    {
      "cell_type": "code",
      "execution_count": 149,
      "id": "27ea24d9",
      "metadata": {
        "id": "27ea24d9"
      },
      "outputs": [],
      "source": [
        "ln_X = np.log(data[num_features])\n",
        "ln_X = pd.concat([ln_X, X.drop(columns=num_features)], axis=1)\n",
        "ln_X = sm.add_constant(ln_X)\n",
        "\n",
        "model_ln_X = sm.OLS(y, ln_X).fit()"
      ]
    },
    {
      "cell_type": "code",
      "execution_count": 150,
      "id": "3aeedeac",
      "metadata": {
        "collapsed": true,
        "colab": {
          "base_uri": "https://localhost:8080/",
          "height": 1000
        },
        "id": "3aeedeac",
        "outputId": "1ba66df2-c92b-4c97-8e88-e540ebe2b0a9"
      },
      "outputs": [
        {
          "output_type": "execute_result",
          "data": {
            "text/plain": [
              "<class 'statsmodels.iolib.summary.Summary'>\n",
              "\"\"\"\n",
              "                            OLS Regression Results                            \n",
              "==============================================================================\n",
              "Dep. Variable:                  price   R-squared:                       0.720\n",
              "Model:                            OLS   Adj. R-squared:                  0.717\n",
              "Method:                 Least Squares   F-statistic:                     251.1\n",
              "Date:                Sun, 04 May 2025   Prob (F-statistic):               0.00\n",
              "Time:                        20:06:39   Log-Likelihood:                -21756.\n",
              "No. Observations:                3256   AIC:                         4.358e+04\n",
              "Df Residuals:                    3222   BIC:                         4.379e+04\n",
              "Df Model:                          33                                         \n",
              "Covariance Type:            nonrobust                                         \n",
              "===================================================================================================\n",
              "                                      coef    std err          t      P>|t|      [0.025      0.975]\n",
              "---------------------------------------------------------------------------------------------------\n",
              "avg_rating                         89.7436     49.336      1.819      0.069      -6.990     186.478\n",
              "cnt_reviews                        13.7996      3.077      4.484      0.000       7.766      19.833\n",
              "pages_cnt                        -321.2715     18.825    -17.066      0.000    -358.181    -284.362\n",
              "tirage                            -84.9547      7.907    -10.744      0.000    -100.459     -69.451\n",
              "weight                            717.8490     17.604     40.778      0.000     683.333     752.365\n",
              "thickness                         -63.6595     20.762     -3.066      0.002    -104.367     -22.952\n",
              "width                              94.4715     26.354      3.585      0.000      42.800     146.143\n",
              "length                             43.6833     37.006      1.180      0.238     -28.873     116.240\n",
              "volume                             74.4954     14.031      5.309      0.000      46.985     102.006\n",
              "const                           -1738.4644    275.435     -6.312      0.000   -2278.510   -1198.418\n",
              "author_Джейн Остен                -10.2398     24.044     -0.426      0.670     -57.382      36.903\n",
              "author_Джек Лондон                -36.1602     23.519     -1.537      0.124     -82.275       9.954\n",
              "author_Джордж Оруэлл               21.3754     24.843      0.860      0.390     -27.335      70.086\n",
              "author_Лев Толстой                -61.2088     26.298     -2.327      0.020    -112.772      -9.646\n",
              "author_Луиза Мэй Олкотт           -20.5420     27.651     -0.743      0.458     -74.757      33.673\n",
              "author_Михаил Булгаков             87.2910     22.732      3.840      0.000      42.720     131.862\n",
              "author_Николай Гоголь             -24.1705     28.019     -0.863      0.388     -79.108      30.767\n",
              "author_Федор Достоевский          -42.9782     17.914     -2.399      0.016     -78.103      -7.853\n",
              "author_Эрих Ремарк                 33.0632     24.960      1.325      0.185     -15.876      82.002\n",
              "publisher_АСТ                     -57.7059     25.490     -2.264      0.024    -107.684      -7.728\n",
              "publisher_Азбука                   -0.6769     26.406     -0.026      0.980     -52.452      51.098\n",
              "publisher_Иностранка               79.2501     29.877      2.653      0.008      20.670     137.830\n",
              "publisher_Манн, Иванов и Фербер   -81.4442     33.898     -2.403      0.016    -147.908     -14.980\n",
              "publisher_Эксмо                   -70.0747     25.736     -2.723      0.007    -120.536     -19.614\n",
              "publication_year_2021             -52.2297     38.371     -1.361      0.174    -127.463      23.003\n",
              "publication_year_2022             -83.4072     32.037     -2.603      0.009    -146.222     -20.592\n",
              "publication_year_2023             -66.2700     30.789     -2.152      0.031    -126.639      -5.901\n",
              "publication_year_2024             -51.9486     30.227     -1.719      0.086    -111.214       7.317\n",
              "publication_year_2025             -63.6553     30.454     -2.090      0.037    -123.366      -3.945\n",
              "cover_type_Мягкий переплёт        118.3979    194.392      0.609      0.543    -262.747     499.543\n",
              "cover_type_Твёрдый переплёт        10.6219    194.273      0.055      0.956    -370.289     391.533\n",
              "reading_age_0+                   -184.8734    121.215     -1.525      0.127    -422.540      52.793\n",
              "reading_age_12+                  -181.5612     42.852     -4.237      0.000    -265.582     -97.540\n",
              "reading_age_16+                  -152.0842     42.280     -3.597      0.000    -234.982     -69.186\n",
              "reading_age_18+                   -68.9553     45.158     -1.527      0.127    -157.497      19.587\n",
              "==============================================================================\n",
              "Omnibus:                     3254.983   Durbin-Watson:                   2.013\n",
              "Prob(Omnibus):                  0.000   Jarque-Bera (JB):           337197.789\n",
              "Skew:                           4.616   Prob(JB):                         0.00\n",
              "Kurtosis:                      51.993   Cond. No.                     1.01e+16\n",
              "==============================================================================\n",
              "\n",
              "Notes:\n",
              "[1] Standard Errors assume that the covariance matrix of the errors is correctly specified.\n",
              "[2] The smallest eigenvalue is 6.72e-27. This might indicate that there are\n",
              "strong multicollinearity problems or that the design matrix is singular.\n",
              "\"\"\""
            ],
            "text/html": [
              "<table class=\"simpletable\">\n",
              "<caption>OLS Regression Results</caption>\n",
              "<tr>\n",
              "  <th>Dep. Variable:</th>          <td>price</td>      <th>  R-squared:         </th> <td>   0.720</td> \n",
              "</tr>\n",
              "<tr>\n",
              "  <th>Model:</th>                   <td>OLS</td>       <th>  Adj. R-squared:    </th> <td>   0.717</td> \n",
              "</tr>\n",
              "<tr>\n",
              "  <th>Method:</th>             <td>Least Squares</td>  <th>  F-statistic:       </th> <td>   251.1</td> \n",
              "</tr>\n",
              "<tr>\n",
              "  <th>Date:</th>             <td>Sun, 04 May 2025</td> <th>  Prob (F-statistic):</th>  <td>  0.00</td>  \n",
              "</tr>\n",
              "<tr>\n",
              "  <th>Time:</th>                 <td>20:06:39</td>     <th>  Log-Likelihood:    </th> <td> -21756.</td> \n",
              "</tr>\n",
              "<tr>\n",
              "  <th>No. Observations:</th>      <td>  3256</td>      <th>  AIC:               </th> <td>4.358e+04</td>\n",
              "</tr>\n",
              "<tr>\n",
              "  <th>Df Residuals:</th>          <td>  3222</td>      <th>  BIC:               </th> <td>4.379e+04</td>\n",
              "</tr>\n",
              "<tr>\n",
              "  <th>Df Model:</th>              <td>    33</td>      <th>                     </th>     <td> </td>    \n",
              "</tr>\n",
              "<tr>\n",
              "  <th>Covariance Type:</th>      <td>nonrobust</td>    <th>                     </th>     <td> </td>    \n",
              "</tr>\n",
              "</table>\n",
              "<table class=\"simpletable\">\n",
              "<tr>\n",
              "                 <td></td>                    <th>coef</th>     <th>std err</th>      <th>t</th>      <th>P>|t|</th>  <th>[0.025</th>    <th>0.975]</th>  \n",
              "</tr>\n",
              "<tr>\n",
              "  <th>avg_rating</th>                      <td>   89.7436</td> <td>   49.336</td> <td>    1.819</td> <td> 0.069</td> <td>   -6.990</td> <td>  186.478</td>\n",
              "</tr>\n",
              "<tr>\n",
              "  <th>cnt_reviews</th>                     <td>   13.7996</td> <td>    3.077</td> <td>    4.484</td> <td> 0.000</td> <td>    7.766</td> <td>   19.833</td>\n",
              "</tr>\n",
              "<tr>\n",
              "  <th>pages_cnt</th>                       <td> -321.2715</td> <td>   18.825</td> <td>  -17.066</td> <td> 0.000</td> <td> -358.181</td> <td> -284.362</td>\n",
              "</tr>\n",
              "<tr>\n",
              "  <th>tirage</th>                          <td>  -84.9547</td> <td>    7.907</td> <td>  -10.744</td> <td> 0.000</td> <td> -100.459</td> <td>  -69.451</td>\n",
              "</tr>\n",
              "<tr>\n",
              "  <th>weight</th>                          <td>  717.8490</td> <td>   17.604</td> <td>   40.778</td> <td> 0.000</td> <td>  683.333</td> <td>  752.365</td>\n",
              "</tr>\n",
              "<tr>\n",
              "  <th>thickness</th>                       <td>  -63.6595</td> <td>   20.762</td> <td>   -3.066</td> <td> 0.002</td> <td> -104.367</td> <td>  -22.952</td>\n",
              "</tr>\n",
              "<tr>\n",
              "  <th>width</th>                           <td>   94.4715</td> <td>   26.354</td> <td>    3.585</td> <td> 0.000</td> <td>   42.800</td> <td>  146.143</td>\n",
              "</tr>\n",
              "<tr>\n",
              "  <th>length</th>                          <td>   43.6833</td> <td>   37.006</td> <td>    1.180</td> <td> 0.238</td> <td>  -28.873</td> <td>  116.240</td>\n",
              "</tr>\n",
              "<tr>\n",
              "  <th>volume</th>                          <td>   74.4954</td> <td>   14.031</td> <td>    5.309</td> <td> 0.000</td> <td>   46.985</td> <td>  102.006</td>\n",
              "</tr>\n",
              "<tr>\n",
              "  <th>const</th>                           <td>-1738.4644</td> <td>  275.435</td> <td>   -6.312</td> <td> 0.000</td> <td>-2278.510</td> <td>-1198.418</td>\n",
              "</tr>\n",
              "<tr>\n",
              "  <th>author_Джейн Остен</th>              <td>  -10.2398</td> <td>   24.044</td> <td>   -0.426</td> <td> 0.670</td> <td>  -57.382</td> <td>   36.903</td>\n",
              "</tr>\n",
              "<tr>\n",
              "  <th>author_Джек Лондон</th>              <td>  -36.1602</td> <td>   23.519</td> <td>   -1.537</td> <td> 0.124</td> <td>  -82.275</td> <td>    9.954</td>\n",
              "</tr>\n",
              "<tr>\n",
              "  <th>author_Джордж Оруэлл</th>            <td>   21.3754</td> <td>   24.843</td> <td>    0.860</td> <td> 0.390</td> <td>  -27.335</td> <td>   70.086</td>\n",
              "</tr>\n",
              "<tr>\n",
              "  <th>author_Лев Толстой</th>              <td>  -61.2088</td> <td>   26.298</td> <td>   -2.327</td> <td> 0.020</td> <td> -112.772</td> <td>   -9.646</td>\n",
              "</tr>\n",
              "<tr>\n",
              "  <th>author_Луиза Мэй Олкотт</th>         <td>  -20.5420</td> <td>   27.651</td> <td>   -0.743</td> <td> 0.458</td> <td>  -74.757</td> <td>   33.673</td>\n",
              "</tr>\n",
              "<tr>\n",
              "  <th>author_Михаил Булгаков</th>          <td>   87.2910</td> <td>   22.732</td> <td>    3.840</td> <td> 0.000</td> <td>   42.720</td> <td>  131.862</td>\n",
              "</tr>\n",
              "<tr>\n",
              "  <th>author_Николай Гоголь</th>           <td>  -24.1705</td> <td>   28.019</td> <td>   -0.863</td> <td> 0.388</td> <td>  -79.108</td> <td>   30.767</td>\n",
              "</tr>\n",
              "<tr>\n",
              "  <th>author_Федор Достоевский</th>        <td>  -42.9782</td> <td>   17.914</td> <td>   -2.399</td> <td> 0.016</td> <td>  -78.103</td> <td>   -7.853</td>\n",
              "</tr>\n",
              "<tr>\n",
              "  <th>author_Эрих Ремарк</th>              <td>   33.0632</td> <td>   24.960</td> <td>    1.325</td> <td> 0.185</td> <td>  -15.876</td> <td>   82.002</td>\n",
              "</tr>\n",
              "<tr>\n",
              "  <th>publisher_АСТ</th>                   <td>  -57.7059</td> <td>   25.490</td> <td>   -2.264</td> <td> 0.024</td> <td> -107.684</td> <td>   -7.728</td>\n",
              "</tr>\n",
              "<tr>\n",
              "  <th>publisher_Азбука</th>                <td>   -0.6769</td> <td>   26.406</td> <td>   -0.026</td> <td> 0.980</td> <td>  -52.452</td> <td>   51.098</td>\n",
              "</tr>\n",
              "<tr>\n",
              "  <th>publisher_Иностранка</th>            <td>   79.2501</td> <td>   29.877</td> <td>    2.653</td> <td> 0.008</td> <td>   20.670</td> <td>  137.830</td>\n",
              "</tr>\n",
              "<tr>\n",
              "  <th>publisher_Манн, Иванов и Фербер</th> <td>  -81.4442</td> <td>   33.898</td> <td>   -2.403</td> <td> 0.016</td> <td> -147.908</td> <td>  -14.980</td>\n",
              "</tr>\n",
              "<tr>\n",
              "  <th>publisher_Эксмо</th>                 <td>  -70.0747</td> <td>   25.736</td> <td>   -2.723</td> <td> 0.007</td> <td> -120.536</td> <td>  -19.614</td>\n",
              "</tr>\n",
              "<tr>\n",
              "  <th>publication_year_2021</th>           <td>  -52.2297</td> <td>   38.371</td> <td>   -1.361</td> <td> 0.174</td> <td> -127.463</td> <td>   23.003</td>\n",
              "</tr>\n",
              "<tr>\n",
              "  <th>publication_year_2022</th>           <td>  -83.4072</td> <td>   32.037</td> <td>   -2.603</td> <td> 0.009</td> <td> -146.222</td> <td>  -20.592</td>\n",
              "</tr>\n",
              "<tr>\n",
              "  <th>publication_year_2023</th>           <td>  -66.2700</td> <td>   30.789</td> <td>   -2.152</td> <td> 0.031</td> <td> -126.639</td> <td>   -5.901</td>\n",
              "</tr>\n",
              "<tr>\n",
              "  <th>publication_year_2024</th>           <td>  -51.9486</td> <td>   30.227</td> <td>   -1.719</td> <td> 0.086</td> <td> -111.214</td> <td>    7.317</td>\n",
              "</tr>\n",
              "<tr>\n",
              "  <th>publication_year_2025</th>           <td>  -63.6553</td> <td>   30.454</td> <td>   -2.090</td> <td> 0.037</td> <td> -123.366</td> <td>   -3.945</td>\n",
              "</tr>\n",
              "<tr>\n",
              "  <th>cover_type_Мягкий переплёт</th>      <td>  118.3979</td> <td>  194.392</td> <td>    0.609</td> <td> 0.543</td> <td> -262.747</td> <td>  499.543</td>\n",
              "</tr>\n",
              "<tr>\n",
              "  <th>cover_type_Твёрдый переплёт</th>     <td>   10.6219</td> <td>  194.273</td> <td>    0.055</td> <td> 0.956</td> <td> -370.289</td> <td>  391.533</td>\n",
              "</tr>\n",
              "<tr>\n",
              "  <th>reading_age_0+</th>                  <td> -184.8734</td> <td>  121.215</td> <td>   -1.525</td> <td> 0.127</td> <td> -422.540</td> <td>   52.793</td>\n",
              "</tr>\n",
              "<tr>\n",
              "  <th>reading_age_12+</th>                 <td> -181.5612</td> <td>   42.852</td> <td>   -4.237</td> <td> 0.000</td> <td> -265.582</td> <td>  -97.540</td>\n",
              "</tr>\n",
              "<tr>\n",
              "  <th>reading_age_16+</th>                 <td> -152.0842</td> <td>   42.280</td> <td>   -3.597</td> <td> 0.000</td> <td> -234.982</td> <td>  -69.186</td>\n",
              "</tr>\n",
              "<tr>\n",
              "  <th>reading_age_18+</th>                 <td>  -68.9553</td> <td>   45.158</td> <td>   -1.527</td> <td> 0.127</td> <td> -157.497</td> <td>   19.587</td>\n",
              "</tr>\n",
              "</table>\n",
              "<table class=\"simpletable\">\n",
              "<tr>\n",
              "  <th>Omnibus:</th>       <td>3254.983</td> <th>  Durbin-Watson:     </th>  <td>   2.013</td> \n",
              "</tr>\n",
              "<tr>\n",
              "  <th>Prob(Omnibus):</th>  <td> 0.000</td>  <th>  Jarque-Bera (JB):  </th> <td>337197.789</td>\n",
              "</tr>\n",
              "<tr>\n",
              "  <th>Skew:</th>           <td> 4.616</td>  <th>  Prob(JB):          </th>  <td>    0.00</td> \n",
              "</tr>\n",
              "<tr>\n",
              "  <th>Kurtosis:</th>       <td>51.993</td>  <th>  Cond. No.          </th>  <td>1.01e+16</td> \n",
              "</tr>\n",
              "</table><br/><br/>Notes:<br/>[1] Standard Errors assume that the covariance matrix of the errors is correctly specified.<br/>[2] The smallest eigenvalue is 6.72e-27. This might indicate that there are<br/>strong multicollinearity problems or that the design matrix is singular."
            ],
            "text/latex": "\\begin{center}\n\\begin{tabular}{lclc}\n\\toprule\n\\textbf{Dep. Variable:}                   &      price       & \\textbf{  R-squared:         } &     0.720   \\\\\n\\textbf{Model:}                           &       OLS        & \\textbf{  Adj. R-squared:    } &     0.717   \\\\\n\\textbf{Method:}                          &  Least Squares   & \\textbf{  F-statistic:       } &     251.1   \\\\\n\\textbf{Date:}                            & Sun, 04 May 2025 & \\textbf{  Prob (F-statistic):} &     0.00    \\\\\n\\textbf{Time:}                            &     20:06:39     & \\textbf{  Log-Likelihood:    } &   -21756.   \\\\\n\\textbf{No. Observations:}                &        3256      & \\textbf{  AIC:               } & 4.358e+04   \\\\\n\\textbf{Df Residuals:}                    &        3222      & \\textbf{  BIC:               } & 4.379e+04   \\\\\n\\textbf{Df Model:}                        &          33      & \\textbf{                     } &             \\\\\n\\textbf{Covariance Type:}                 &    nonrobust     & \\textbf{                     } &             \\\\\n\\bottomrule\n\\end{tabular}\n\\begin{tabular}{lcccccc}\n                                          & \\textbf{coef} & \\textbf{std err} & \\textbf{t} & \\textbf{P$> |$t$|$} & \\textbf{[0.025} & \\textbf{0.975]}  \\\\\n\\midrule\n\\textbf{avg\\_rating}                      &      89.7436  &       49.336     &     1.819  &         0.069        &       -6.990    &      186.478     \\\\\n\\textbf{cnt\\_reviews}                     &      13.7996  &        3.077     &     4.484  &         0.000        &        7.766    &       19.833     \\\\\n\\textbf{pages\\_cnt}                       &    -321.2715  &       18.825     &   -17.066  &         0.000        &     -358.181    &     -284.362     \\\\\n\\textbf{tirage}                           &     -84.9547  &        7.907     &   -10.744  &         0.000        &     -100.459    &      -69.451     \\\\\n\\textbf{weight}                           &     717.8490  &       17.604     &    40.778  &         0.000        &      683.333    &      752.365     \\\\\n\\textbf{thickness}                        &     -63.6595  &       20.762     &    -3.066  &         0.002        &     -104.367    &      -22.952     \\\\\n\\textbf{width}                            &      94.4715  &       26.354     &     3.585  &         0.000        &       42.800    &      146.143     \\\\\n\\textbf{length}                           &      43.6833  &       37.006     &     1.180  &         0.238        &      -28.873    &      116.240     \\\\\n\\textbf{volume}                           &      74.4954  &       14.031     &     5.309  &         0.000        &       46.985    &      102.006     \\\\\n\\textbf{const}                            &   -1738.4644  &      275.435     &    -6.312  &         0.000        &    -2278.510    &    -1198.418     \\\\\n\\textbf{author\\_Джейн Остен}              &     -10.2398  &       24.044     &    -0.426  &         0.670        &      -57.382    &       36.903     \\\\\n\\textbf{author\\_Джек Лондон}              &     -36.1602  &       23.519     &    -1.537  &         0.124        &      -82.275    &        9.954     \\\\\n\\textbf{author\\_Джордж Оруэлл}            &      21.3754  &       24.843     &     0.860  &         0.390        &      -27.335    &       70.086     \\\\\n\\textbf{author\\_Лев Толстой}              &     -61.2088  &       26.298     &    -2.327  &         0.020        &     -112.772    &       -9.646     \\\\\n\\textbf{author\\_Луиза Мэй Олкотт}         &     -20.5420  &       27.651     &    -0.743  &         0.458        &      -74.757    &       33.673     \\\\\n\\textbf{author\\_Михаил Булгаков}          &      87.2910  &       22.732     &     3.840  &         0.000        &       42.720    &      131.862     \\\\\n\\textbf{author\\_Николай Гоголь}           &     -24.1705  &       28.019     &    -0.863  &         0.388        &      -79.108    &       30.767     \\\\\n\\textbf{author\\_Федор Достоевский}        &     -42.9782  &       17.914     &    -2.399  &         0.016        &      -78.103    &       -7.853     \\\\\n\\textbf{author\\_Эрих Ремарк}              &      33.0632  &       24.960     &     1.325  &         0.185        &      -15.876    &       82.002     \\\\\n\\textbf{publisher\\_АСТ}                   &     -57.7059  &       25.490     &    -2.264  &         0.024        &     -107.684    &       -7.728     \\\\\n\\textbf{publisher\\_Азбука}                &      -0.6769  &       26.406     &    -0.026  &         0.980        &      -52.452    &       51.098     \\\\\n\\textbf{publisher\\_Иностранка}            &      79.2501  &       29.877     &     2.653  &         0.008        &       20.670    &      137.830     \\\\\n\\textbf{publisher\\_Манн, Иванов и Фербер} &     -81.4442  &       33.898     &    -2.403  &         0.016        &     -147.908    &      -14.980     \\\\\n\\textbf{publisher\\_Эксмо}                 &     -70.0747  &       25.736     &    -2.723  &         0.007        &     -120.536    &      -19.614     \\\\\n\\textbf{publication\\_year\\_2021}          &     -52.2297  &       38.371     &    -1.361  &         0.174        &     -127.463    &       23.003     \\\\\n\\textbf{publication\\_year\\_2022}          &     -83.4072  &       32.037     &    -2.603  &         0.009        &     -146.222    &      -20.592     \\\\\n\\textbf{publication\\_year\\_2023}          &     -66.2700  &       30.789     &    -2.152  &         0.031        &     -126.639    &       -5.901     \\\\\n\\textbf{publication\\_year\\_2024}          &     -51.9486  &       30.227     &    -1.719  &         0.086        &     -111.214    &        7.317     \\\\\n\\textbf{publication\\_year\\_2025}          &     -63.6553  &       30.454     &    -2.090  &         0.037        &     -123.366    &       -3.945     \\\\\n\\textbf{cover\\_type\\_Мягкий переплёт}     &     118.3979  &      194.392     &     0.609  &         0.543        &     -262.747    &      499.543     \\\\\n\\textbf{cover\\_type\\_Твёрдый переплёт}    &      10.6219  &      194.273     &     0.055  &         0.956        &     -370.289    &      391.533     \\\\\n\\textbf{reading\\_age\\_0+}                 &    -184.8734  &      121.215     &    -1.525  &         0.127        &     -422.540    &       52.793     \\\\\n\\textbf{reading\\_age\\_12+}                &    -181.5612  &       42.852     &    -4.237  &         0.000        &     -265.582    &      -97.540     \\\\\n\\textbf{reading\\_age\\_16+}                &    -152.0842  &       42.280     &    -3.597  &         0.000        &     -234.982    &      -69.186     \\\\\n\\textbf{reading\\_age\\_18+}                &     -68.9553  &       45.158     &    -1.527  &         0.127        &     -157.497    &       19.587     \\\\\n\\bottomrule\n\\end{tabular}\n\\begin{tabular}{lclc}\n\\textbf{Omnibus:}       & 3254.983 & \\textbf{  Durbin-Watson:     } &     2.013   \\\\\n\\textbf{Prob(Omnibus):} &   0.000  & \\textbf{  Jarque-Bera (JB):  } & 337197.789  \\\\\n\\textbf{Skew:}          &   4.616  & \\textbf{  Prob(JB):          } &      0.00   \\\\\n\\textbf{Kurtosis:}      &  51.993  & \\textbf{  Cond. No.          } &  1.01e+16   \\\\\n\\bottomrule\n\\end{tabular}\n%\\caption{OLS Regression Results}\n\\end{center}\n\nNotes: \\newline\n [1] Standard Errors assume that the covariance matrix of the errors is correctly specified. \\newline\n [2] The smallest eigenvalue is 6.72e-27. This might indicate that there are \\newline\n strong multicollinearity problems or that the design matrix is singular."
          },
          "metadata": {},
          "execution_count": 150
        }
      ],
      "source": [
        "model_ln_X.summary()"
      ]
    },
    {
      "cell_type": "markdown",
      "id": "2c76604f",
      "metadata": {
        "id": "2c76604f"
      },
      "source": [
        "**Вывод:** при сравнении ln_X - y с X - y нормированный R^2 лучше у X - y"
      ]
    },
    {
      "cell_type": "code",
      "execution_count": 151,
      "id": "bed0e61f",
      "metadata": {
        "colab": {
          "base_uri": "https://localhost:8080/"
        },
        "id": "bed0e61f",
        "outputId": "44de906a-8427-4a39-94f0-04af96001dad"
      },
      "outputs": [
        {
          "output_type": "execute_result",
          "data": {
            "text/plain": [
              "(3256, 3252)"
            ]
          },
          "metadata": {},
          "execution_count": 151
        }
      ],
      "source": [
        "ln_X.shape[0], len(ln_y)"
      ]
    },
    {
      "cell_type": "code",
      "execution_count": 152,
      "id": "e37a24e4",
      "metadata": {
        "collapsed": true,
        "colab": {
          "base_uri": "https://localhost:8080/",
          "height": 304
        },
        "id": "e37a24e4",
        "outputId": "f3644d58-e328-4a85-e72f-f6034e13ab5b"
      },
      "outputs": [
        {
          "output_type": "error",
          "ename": "ValueError",
          "evalue": "The indices for endog and exog are not aligned",
          "traceback": [
            "\u001b[0;31m---------------------------------------------------------------------------\u001b[0m",
            "\u001b[0;31mValueError\u001b[0m                                Traceback (most recent call last)",
            "\u001b[0;32m<ipython-input-152-0be9f450751f>\u001b[0m in \u001b[0;36m<cell line: 0>\u001b[0;34m()\u001b[0m\n\u001b[0;32m----> 1\u001b[0;31m \u001b[0mmodel_ln_X_ln_y\u001b[0m \u001b[0;34m=\u001b[0m \u001b[0msm\u001b[0m\u001b[0;34m.\u001b[0m\u001b[0mOLS\u001b[0m\u001b[0;34m(\u001b[0m\u001b[0mln_y\u001b[0m\u001b[0;34m,\u001b[0m \u001b[0mln_X\u001b[0m\u001b[0;34m)\u001b[0m\u001b[0;34m.\u001b[0m\u001b[0mfit\u001b[0m\u001b[0;34m(\u001b[0m\u001b[0;34m)\u001b[0m\u001b[0;34m\u001b[0m\u001b[0;34m\u001b[0m\u001b[0m\n\u001b[0m\u001b[1;32m      2\u001b[0m \u001b[0mmodel_ln_X_ln_y\u001b[0m\u001b[0;34m.\u001b[0m\u001b[0msummary\u001b[0m\u001b[0;34m(\u001b[0m\u001b[0;34m)\u001b[0m\u001b[0;34m\u001b[0m\u001b[0;34m\u001b[0m\u001b[0m\n",
            "\u001b[0;32m/usr/local/lib/python3.11/dist-packages/statsmodels/regression/linear_model.py\u001b[0m in \u001b[0;36m__init__\u001b[0;34m(self, endog, exog, missing, hasconst, **kwargs)\u001b[0m\n\u001b[1;32m    919\u001b[0m                    \"An exception will be raised in the next version.\")\n\u001b[1;32m    920\u001b[0m             \u001b[0mwarnings\u001b[0m\u001b[0;34m.\u001b[0m\u001b[0mwarn\u001b[0m\u001b[0;34m(\u001b[0m\u001b[0mmsg\u001b[0m\u001b[0;34m,\u001b[0m \u001b[0mValueWarning\u001b[0m\u001b[0;34m)\u001b[0m\u001b[0;34m\u001b[0m\u001b[0;34m\u001b[0m\u001b[0m\n\u001b[0;32m--> 921\u001b[0;31m         super().__init__(endog, exog, missing=missing,\n\u001b[0m\u001b[1;32m    922\u001b[0m                                   hasconst=hasconst, **kwargs)\n\u001b[1;32m    923\u001b[0m         \u001b[0;32mif\u001b[0m \u001b[0;34m\"weights\"\u001b[0m \u001b[0;32min\u001b[0m \u001b[0mself\u001b[0m\u001b[0;34m.\u001b[0m\u001b[0m_init_keys\u001b[0m\u001b[0;34m:\u001b[0m\u001b[0;34m\u001b[0m\u001b[0;34m\u001b[0m\u001b[0m\n",
            "\u001b[0;32m/usr/local/lib/python3.11/dist-packages/statsmodels/regression/linear_model.py\u001b[0m in \u001b[0;36m__init__\u001b[0;34m(self, endog, exog, weights, missing, hasconst, **kwargs)\u001b[0m\n\u001b[1;32m    744\u001b[0m         \u001b[0;32melse\u001b[0m\u001b[0;34m:\u001b[0m\u001b[0;34m\u001b[0m\u001b[0;34m\u001b[0m\u001b[0m\n\u001b[1;32m    745\u001b[0m             \u001b[0mweights\u001b[0m \u001b[0;34m=\u001b[0m \u001b[0mweights\u001b[0m\u001b[0;34m.\u001b[0m\u001b[0msqueeze\u001b[0m\u001b[0;34m(\u001b[0m\u001b[0;34m)\u001b[0m\u001b[0;34m\u001b[0m\u001b[0;34m\u001b[0m\u001b[0m\n\u001b[0;32m--> 746\u001b[0;31m         super().__init__(endog, exog, missing=missing,\n\u001b[0m\u001b[1;32m    747\u001b[0m                                   weights=weights, hasconst=hasconst, **kwargs)\n\u001b[1;32m    748\u001b[0m         \u001b[0mnobs\u001b[0m \u001b[0;34m=\u001b[0m \u001b[0mself\u001b[0m\u001b[0;34m.\u001b[0m\u001b[0mexog\u001b[0m\u001b[0;34m.\u001b[0m\u001b[0mshape\u001b[0m\u001b[0;34m[\u001b[0m\u001b[0;36m0\u001b[0m\u001b[0;34m]\u001b[0m\u001b[0;34m\u001b[0m\u001b[0;34m\u001b[0m\u001b[0m\n",
            "\u001b[0;32m/usr/local/lib/python3.11/dist-packages/statsmodels/regression/linear_model.py\u001b[0m in \u001b[0;36m__init__\u001b[0;34m(self, endog, exog, **kwargs)\u001b[0m\n\u001b[1;32m    198\u001b[0m     \"\"\"\n\u001b[1;32m    199\u001b[0m     \u001b[0;32mdef\u001b[0m \u001b[0m__init__\u001b[0m\u001b[0;34m(\u001b[0m\u001b[0mself\u001b[0m\u001b[0;34m,\u001b[0m \u001b[0mendog\u001b[0m\u001b[0;34m,\u001b[0m \u001b[0mexog\u001b[0m\u001b[0;34m,\u001b[0m \u001b[0;34m**\u001b[0m\u001b[0mkwargs\u001b[0m\u001b[0;34m)\u001b[0m\u001b[0;34m:\u001b[0m\u001b[0;34m\u001b[0m\u001b[0;34m\u001b[0m\u001b[0m\n\u001b[0;32m--> 200\u001b[0;31m         \u001b[0msuper\u001b[0m\u001b[0;34m(\u001b[0m\u001b[0;34m)\u001b[0m\u001b[0;34m.\u001b[0m\u001b[0m__init__\u001b[0m\u001b[0;34m(\u001b[0m\u001b[0mendog\u001b[0m\u001b[0;34m,\u001b[0m \u001b[0mexog\u001b[0m\u001b[0;34m,\u001b[0m \u001b[0;34m**\u001b[0m\u001b[0mkwargs\u001b[0m\u001b[0;34m)\u001b[0m\u001b[0;34m\u001b[0m\u001b[0;34m\u001b[0m\u001b[0m\n\u001b[0m\u001b[1;32m    201\u001b[0m         \u001b[0mself\u001b[0m\u001b[0;34m.\u001b[0m\u001b[0mpinv_wexog\u001b[0m\u001b[0;34m:\u001b[0m \u001b[0mFloat64Array\u001b[0m \u001b[0;34m|\u001b[0m \u001b[0;32mNone\u001b[0m \u001b[0;34m=\u001b[0m \u001b[0;32mNone\u001b[0m\u001b[0;34m\u001b[0m\u001b[0;34m\u001b[0m\u001b[0m\n\u001b[1;32m    202\u001b[0m         \u001b[0mself\u001b[0m\u001b[0;34m.\u001b[0m\u001b[0m_data_attr\u001b[0m\u001b[0;34m.\u001b[0m\u001b[0mextend\u001b[0m\u001b[0;34m(\u001b[0m\u001b[0;34m[\u001b[0m\u001b[0;34m'pinv_wexog'\u001b[0m\u001b[0;34m,\u001b[0m \u001b[0;34m'wendog'\u001b[0m\u001b[0;34m,\u001b[0m \u001b[0;34m'wexog'\u001b[0m\u001b[0;34m,\u001b[0m \u001b[0;34m'weights'\u001b[0m\u001b[0;34m]\u001b[0m\u001b[0;34m)\u001b[0m\u001b[0;34m\u001b[0m\u001b[0;34m\u001b[0m\u001b[0m\n",
            "\u001b[0;32m/usr/local/lib/python3.11/dist-packages/statsmodels/base/model.py\u001b[0m in \u001b[0;36m__init__\u001b[0;34m(self, endog, exog, **kwargs)\u001b[0m\n\u001b[1;32m    268\u001b[0m \u001b[0;34m\u001b[0m\u001b[0m\n\u001b[1;32m    269\u001b[0m     \u001b[0;32mdef\u001b[0m \u001b[0m__init__\u001b[0m\u001b[0;34m(\u001b[0m\u001b[0mself\u001b[0m\u001b[0;34m,\u001b[0m \u001b[0mendog\u001b[0m\u001b[0;34m,\u001b[0m \u001b[0mexog\u001b[0m\u001b[0;34m=\u001b[0m\u001b[0;32mNone\u001b[0m\u001b[0;34m,\u001b[0m \u001b[0;34m**\u001b[0m\u001b[0mkwargs\u001b[0m\u001b[0;34m)\u001b[0m\u001b[0;34m:\u001b[0m\u001b[0;34m\u001b[0m\u001b[0;34m\u001b[0m\u001b[0m\n\u001b[0;32m--> 270\u001b[0;31m         \u001b[0msuper\u001b[0m\u001b[0;34m(\u001b[0m\u001b[0;34m)\u001b[0m\u001b[0;34m.\u001b[0m\u001b[0m__init__\u001b[0m\u001b[0;34m(\u001b[0m\u001b[0mendog\u001b[0m\u001b[0;34m,\u001b[0m \u001b[0mexog\u001b[0m\u001b[0;34m,\u001b[0m \u001b[0;34m**\u001b[0m\u001b[0mkwargs\u001b[0m\u001b[0;34m)\u001b[0m\u001b[0;34m\u001b[0m\u001b[0;34m\u001b[0m\u001b[0m\n\u001b[0m\u001b[1;32m    271\u001b[0m         \u001b[0mself\u001b[0m\u001b[0;34m.\u001b[0m\u001b[0minitialize\u001b[0m\u001b[0;34m(\u001b[0m\u001b[0;34m)\u001b[0m\u001b[0;34m\u001b[0m\u001b[0;34m\u001b[0m\u001b[0m\n\u001b[1;32m    272\u001b[0m \u001b[0;34m\u001b[0m\u001b[0m\n",
            "\u001b[0;32m/usr/local/lib/python3.11/dist-packages/statsmodels/base/model.py\u001b[0m in \u001b[0;36m__init__\u001b[0;34m(self, endog, exog, **kwargs)\u001b[0m\n\u001b[1;32m     93\u001b[0m         \u001b[0mmissing\u001b[0m \u001b[0;34m=\u001b[0m \u001b[0mkwargs\u001b[0m\u001b[0;34m.\u001b[0m\u001b[0mpop\u001b[0m\u001b[0;34m(\u001b[0m\u001b[0;34m'missing'\u001b[0m\u001b[0;34m,\u001b[0m \u001b[0;34m'none'\u001b[0m\u001b[0;34m)\u001b[0m\u001b[0;34m\u001b[0m\u001b[0;34m\u001b[0m\u001b[0m\n\u001b[1;32m     94\u001b[0m         \u001b[0mhasconst\u001b[0m \u001b[0;34m=\u001b[0m \u001b[0mkwargs\u001b[0m\u001b[0;34m.\u001b[0m\u001b[0mpop\u001b[0m\u001b[0;34m(\u001b[0m\u001b[0;34m'hasconst'\u001b[0m\u001b[0;34m,\u001b[0m \u001b[0;32mNone\u001b[0m\u001b[0;34m)\u001b[0m\u001b[0;34m\u001b[0m\u001b[0;34m\u001b[0m\u001b[0m\n\u001b[0;32m---> 95\u001b[0;31m         self.data = self._handle_data(endog, exog, missing, hasconst,\n\u001b[0m\u001b[1;32m     96\u001b[0m                                       **kwargs)\n\u001b[1;32m     97\u001b[0m         \u001b[0mself\u001b[0m\u001b[0;34m.\u001b[0m\u001b[0mk_constant\u001b[0m \u001b[0;34m=\u001b[0m \u001b[0mself\u001b[0m\u001b[0;34m.\u001b[0m\u001b[0mdata\u001b[0m\u001b[0;34m.\u001b[0m\u001b[0mk_constant\u001b[0m\u001b[0;34m\u001b[0m\u001b[0;34m\u001b[0m\u001b[0m\n",
            "\u001b[0;32m/usr/local/lib/python3.11/dist-packages/statsmodels/base/model.py\u001b[0m in \u001b[0;36m_handle_data\u001b[0;34m(self, endog, exog, missing, hasconst, **kwargs)\u001b[0m\n\u001b[1;32m    133\u001b[0m \u001b[0;34m\u001b[0m\u001b[0m\n\u001b[1;32m    134\u001b[0m     \u001b[0;32mdef\u001b[0m \u001b[0m_handle_data\u001b[0m\u001b[0;34m(\u001b[0m\u001b[0mself\u001b[0m\u001b[0;34m,\u001b[0m \u001b[0mendog\u001b[0m\u001b[0;34m,\u001b[0m \u001b[0mexog\u001b[0m\u001b[0;34m,\u001b[0m \u001b[0mmissing\u001b[0m\u001b[0;34m,\u001b[0m \u001b[0mhasconst\u001b[0m\u001b[0;34m,\u001b[0m \u001b[0;34m**\u001b[0m\u001b[0mkwargs\u001b[0m\u001b[0;34m)\u001b[0m\u001b[0;34m:\u001b[0m\u001b[0;34m\u001b[0m\u001b[0;34m\u001b[0m\u001b[0m\n\u001b[0;32m--> 135\u001b[0;31m         \u001b[0mdata\u001b[0m \u001b[0;34m=\u001b[0m \u001b[0mhandle_data\u001b[0m\u001b[0;34m(\u001b[0m\u001b[0mendog\u001b[0m\u001b[0;34m,\u001b[0m \u001b[0mexog\u001b[0m\u001b[0;34m,\u001b[0m \u001b[0mmissing\u001b[0m\u001b[0;34m,\u001b[0m \u001b[0mhasconst\u001b[0m\u001b[0;34m,\u001b[0m \u001b[0;34m**\u001b[0m\u001b[0mkwargs\u001b[0m\u001b[0;34m)\u001b[0m\u001b[0;34m\u001b[0m\u001b[0;34m\u001b[0m\u001b[0m\n\u001b[0m\u001b[1;32m    136\u001b[0m         \u001b[0;31m# kwargs arrays could have changed, easier to just attach here\u001b[0m\u001b[0;34m\u001b[0m\u001b[0;34m\u001b[0m\u001b[0m\n\u001b[1;32m    137\u001b[0m         \u001b[0;32mfor\u001b[0m \u001b[0mkey\u001b[0m \u001b[0;32min\u001b[0m \u001b[0mkwargs\u001b[0m\u001b[0;34m:\u001b[0m\u001b[0;34m\u001b[0m\u001b[0;34m\u001b[0m\u001b[0m\n",
            "\u001b[0;32m/usr/local/lib/python3.11/dist-packages/statsmodels/base/data.py\u001b[0m in \u001b[0;36mhandle_data\u001b[0;34m(endog, exog, missing, hasconst, **kwargs)\u001b[0m\n\u001b[1;32m    673\u001b[0m \u001b[0;34m\u001b[0m\u001b[0m\n\u001b[1;32m    674\u001b[0m     \u001b[0mklass\u001b[0m \u001b[0;34m=\u001b[0m \u001b[0mhandle_data_class_factory\u001b[0m\u001b[0;34m(\u001b[0m\u001b[0mendog\u001b[0m\u001b[0;34m,\u001b[0m \u001b[0mexog\u001b[0m\u001b[0;34m)\u001b[0m\u001b[0;34m\u001b[0m\u001b[0;34m\u001b[0m\u001b[0m\n\u001b[0;32m--> 675\u001b[0;31m     return klass(endog, exog=exog, missing=missing, hasconst=hasconst,\n\u001b[0m\u001b[1;32m    676\u001b[0m                  **kwargs)\n",
            "\u001b[0;32m/usr/local/lib/python3.11/dist-packages/statsmodels/base/data.py\u001b[0m in \u001b[0;36m__init__\u001b[0;34m(self, endog, exog, missing, hasconst, **kwargs)\u001b[0m\n\u001b[1;32m     87\u001b[0m         \u001b[0mself\u001b[0m\u001b[0;34m.\u001b[0m\u001b[0mk_constant\u001b[0m \u001b[0;34m=\u001b[0m \u001b[0;36m0\u001b[0m\u001b[0;34m\u001b[0m\u001b[0;34m\u001b[0m\u001b[0m\n\u001b[1;32m     88\u001b[0m         \u001b[0mself\u001b[0m\u001b[0;34m.\u001b[0m\u001b[0m_handle_constant\u001b[0m\u001b[0;34m(\u001b[0m\u001b[0mhasconst\u001b[0m\u001b[0;34m)\u001b[0m\u001b[0;34m\u001b[0m\u001b[0;34m\u001b[0m\u001b[0m\n\u001b[0;32m---> 89\u001b[0;31m         \u001b[0mself\u001b[0m\u001b[0;34m.\u001b[0m\u001b[0m_check_integrity\u001b[0m\u001b[0;34m(\u001b[0m\u001b[0;34m)\u001b[0m\u001b[0;34m\u001b[0m\u001b[0;34m\u001b[0m\u001b[0m\n\u001b[0m\u001b[1;32m     90\u001b[0m         \u001b[0mself\u001b[0m\u001b[0;34m.\u001b[0m\u001b[0m_cache\u001b[0m \u001b[0;34m=\u001b[0m \u001b[0;34m{\u001b[0m\u001b[0;34m}\u001b[0m\u001b[0;34m\u001b[0m\u001b[0;34m\u001b[0m\u001b[0m\n\u001b[1;32m     91\u001b[0m \u001b[0;34m\u001b[0m\u001b[0m\n",
            "\u001b[0;32m/usr/local/lib/python3.11/dist-packages/statsmodels/base/data.py\u001b[0m in \u001b[0;36m_check_integrity\u001b[0;34m(self)\u001b[0m\n\u001b[1;32m    531\u001b[0m                 \u001b[0;34m(\u001b[0m\u001b[0mhasattr\u001b[0m\u001b[0;34m(\u001b[0m\u001b[0mendog\u001b[0m\u001b[0;34m,\u001b[0m \u001b[0;34m'index'\u001b[0m\u001b[0;34m)\u001b[0m \u001b[0;32mand\u001b[0m \u001b[0mhasattr\u001b[0m\u001b[0;34m(\u001b[0m\u001b[0mexog\u001b[0m\u001b[0;34m,\u001b[0m \u001b[0;34m'index'\u001b[0m\u001b[0;34m)\u001b[0m\u001b[0;34m)\u001b[0m \u001b[0;32mand\u001b[0m\u001b[0;34m\u001b[0m\u001b[0;34m\u001b[0m\u001b[0m\n\u001b[1;32m    532\u001b[0m                 not self.orig_endog.index.equals(self.orig_exog.index)):\n\u001b[0;32m--> 533\u001b[0;31m             \u001b[0;32mraise\u001b[0m \u001b[0mValueError\u001b[0m\u001b[0;34m(\u001b[0m\u001b[0;34m\"The indices for endog and exog are not aligned\"\u001b[0m\u001b[0;34m)\u001b[0m\u001b[0;34m\u001b[0m\u001b[0;34m\u001b[0m\u001b[0m\n\u001b[0m\u001b[1;32m    534\u001b[0m         \u001b[0msuper\u001b[0m\u001b[0;34m(\u001b[0m\u001b[0;34m)\u001b[0m\u001b[0;34m.\u001b[0m\u001b[0m_check_integrity\u001b[0m\u001b[0;34m(\u001b[0m\u001b[0;34m)\u001b[0m\u001b[0;34m\u001b[0m\u001b[0;34m\u001b[0m\u001b[0m\n\u001b[1;32m    535\u001b[0m \u001b[0;34m\u001b[0m\u001b[0m\n",
            "\u001b[0;31mValueError\u001b[0m: The indices for endog and exog are not aligned"
          ]
        }
      ],
      "source": [
        "model_ln_X_ln_y = sm.OLS(ln_y, ln_X).fit()\n",
        "model_ln_X_ln_y.summary()"
      ]
    },
    {
      "cell_type": "code",
      "execution_count": 153,
      "id": "b9f0bf07",
      "metadata": {
        "collapsed": true,
        "colab": {
          "base_uri": "https://localhost:8080/",
          "height": 304
        },
        "id": "b9f0bf07",
        "outputId": "0821c50f-be6e-47ac-d30f-cfe31abefcdf"
      },
      "outputs": [
        {
          "output_type": "error",
          "ename": "ValueError",
          "evalue": "The indices for endog and exog are not aligned",
          "traceback": [
            "\u001b[0;31m---------------------------------------------------------------------------\u001b[0m",
            "\u001b[0;31mValueError\u001b[0m                                Traceback (most recent call last)",
            "\u001b[0;32m<ipython-input-153-a606526a1927>\u001b[0m in \u001b[0;36m<cell line: 0>\u001b[0;34m()\u001b[0m\n\u001b[0;32m----> 1\u001b[0;31m \u001b[0mmodel_ln_y\u001b[0m \u001b[0;34m=\u001b[0m \u001b[0msm\u001b[0m\u001b[0;34m.\u001b[0m\u001b[0mOLS\u001b[0m\u001b[0;34m(\u001b[0m\u001b[0mln_y\u001b[0m\u001b[0;34m,\u001b[0m \u001b[0mX\u001b[0m\u001b[0;34m)\u001b[0m\u001b[0;34m.\u001b[0m\u001b[0mfit\u001b[0m\u001b[0;34m(\u001b[0m\u001b[0;34m)\u001b[0m\u001b[0;34m\u001b[0m\u001b[0;34m\u001b[0m\u001b[0m\n\u001b[0m\u001b[1;32m      2\u001b[0m \u001b[0mmodel_ln_y\u001b[0m\u001b[0;34m.\u001b[0m\u001b[0msummary\u001b[0m\u001b[0;34m(\u001b[0m\u001b[0;34m)\u001b[0m\u001b[0;34m\u001b[0m\u001b[0;34m\u001b[0m\u001b[0m\n",
            "\u001b[0;32m/usr/local/lib/python3.11/dist-packages/statsmodels/regression/linear_model.py\u001b[0m in \u001b[0;36m__init__\u001b[0;34m(self, endog, exog, missing, hasconst, **kwargs)\u001b[0m\n\u001b[1;32m    919\u001b[0m                    \"An exception will be raised in the next version.\")\n\u001b[1;32m    920\u001b[0m             \u001b[0mwarnings\u001b[0m\u001b[0;34m.\u001b[0m\u001b[0mwarn\u001b[0m\u001b[0;34m(\u001b[0m\u001b[0mmsg\u001b[0m\u001b[0;34m,\u001b[0m \u001b[0mValueWarning\u001b[0m\u001b[0;34m)\u001b[0m\u001b[0;34m\u001b[0m\u001b[0;34m\u001b[0m\u001b[0m\n\u001b[0;32m--> 921\u001b[0;31m         super().__init__(endog, exog, missing=missing,\n\u001b[0m\u001b[1;32m    922\u001b[0m                                   hasconst=hasconst, **kwargs)\n\u001b[1;32m    923\u001b[0m         \u001b[0;32mif\u001b[0m \u001b[0;34m\"weights\"\u001b[0m \u001b[0;32min\u001b[0m \u001b[0mself\u001b[0m\u001b[0;34m.\u001b[0m\u001b[0m_init_keys\u001b[0m\u001b[0;34m:\u001b[0m\u001b[0;34m\u001b[0m\u001b[0;34m\u001b[0m\u001b[0m\n",
            "\u001b[0;32m/usr/local/lib/python3.11/dist-packages/statsmodels/regression/linear_model.py\u001b[0m in \u001b[0;36m__init__\u001b[0;34m(self, endog, exog, weights, missing, hasconst, **kwargs)\u001b[0m\n\u001b[1;32m    744\u001b[0m         \u001b[0;32melse\u001b[0m\u001b[0;34m:\u001b[0m\u001b[0;34m\u001b[0m\u001b[0;34m\u001b[0m\u001b[0m\n\u001b[1;32m    745\u001b[0m             \u001b[0mweights\u001b[0m \u001b[0;34m=\u001b[0m \u001b[0mweights\u001b[0m\u001b[0;34m.\u001b[0m\u001b[0msqueeze\u001b[0m\u001b[0;34m(\u001b[0m\u001b[0;34m)\u001b[0m\u001b[0;34m\u001b[0m\u001b[0;34m\u001b[0m\u001b[0m\n\u001b[0;32m--> 746\u001b[0;31m         super().__init__(endog, exog, missing=missing,\n\u001b[0m\u001b[1;32m    747\u001b[0m                                   weights=weights, hasconst=hasconst, **kwargs)\n\u001b[1;32m    748\u001b[0m         \u001b[0mnobs\u001b[0m \u001b[0;34m=\u001b[0m \u001b[0mself\u001b[0m\u001b[0;34m.\u001b[0m\u001b[0mexog\u001b[0m\u001b[0;34m.\u001b[0m\u001b[0mshape\u001b[0m\u001b[0;34m[\u001b[0m\u001b[0;36m0\u001b[0m\u001b[0;34m]\u001b[0m\u001b[0;34m\u001b[0m\u001b[0;34m\u001b[0m\u001b[0m\n",
            "\u001b[0;32m/usr/local/lib/python3.11/dist-packages/statsmodels/regression/linear_model.py\u001b[0m in \u001b[0;36m__init__\u001b[0;34m(self, endog, exog, **kwargs)\u001b[0m\n\u001b[1;32m    198\u001b[0m     \"\"\"\n\u001b[1;32m    199\u001b[0m     \u001b[0;32mdef\u001b[0m \u001b[0m__init__\u001b[0m\u001b[0;34m(\u001b[0m\u001b[0mself\u001b[0m\u001b[0;34m,\u001b[0m \u001b[0mendog\u001b[0m\u001b[0;34m,\u001b[0m \u001b[0mexog\u001b[0m\u001b[0;34m,\u001b[0m \u001b[0;34m**\u001b[0m\u001b[0mkwargs\u001b[0m\u001b[0;34m)\u001b[0m\u001b[0;34m:\u001b[0m\u001b[0;34m\u001b[0m\u001b[0;34m\u001b[0m\u001b[0m\n\u001b[0;32m--> 200\u001b[0;31m         \u001b[0msuper\u001b[0m\u001b[0;34m(\u001b[0m\u001b[0;34m)\u001b[0m\u001b[0;34m.\u001b[0m\u001b[0m__init__\u001b[0m\u001b[0;34m(\u001b[0m\u001b[0mendog\u001b[0m\u001b[0;34m,\u001b[0m \u001b[0mexog\u001b[0m\u001b[0;34m,\u001b[0m \u001b[0;34m**\u001b[0m\u001b[0mkwargs\u001b[0m\u001b[0;34m)\u001b[0m\u001b[0;34m\u001b[0m\u001b[0;34m\u001b[0m\u001b[0m\n\u001b[0m\u001b[1;32m    201\u001b[0m         \u001b[0mself\u001b[0m\u001b[0;34m.\u001b[0m\u001b[0mpinv_wexog\u001b[0m\u001b[0;34m:\u001b[0m \u001b[0mFloat64Array\u001b[0m \u001b[0;34m|\u001b[0m \u001b[0;32mNone\u001b[0m \u001b[0;34m=\u001b[0m \u001b[0;32mNone\u001b[0m\u001b[0;34m\u001b[0m\u001b[0;34m\u001b[0m\u001b[0m\n\u001b[1;32m    202\u001b[0m         \u001b[0mself\u001b[0m\u001b[0;34m.\u001b[0m\u001b[0m_data_attr\u001b[0m\u001b[0;34m.\u001b[0m\u001b[0mextend\u001b[0m\u001b[0;34m(\u001b[0m\u001b[0;34m[\u001b[0m\u001b[0;34m'pinv_wexog'\u001b[0m\u001b[0;34m,\u001b[0m \u001b[0;34m'wendog'\u001b[0m\u001b[0;34m,\u001b[0m \u001b[0;34m'wexog'\u001b[0m\u001b[0;34m,\u001b[0m \u001b[0;34m'weights'\u001b[0m\u001b[0;34m]\u001b[0m\u001b[0;34m)\u001b[0m\u001b[0;34m\u001b[0m\u001b[0;34m\u001b[0m\u001b[0m\n",
            "\u001b[0;32m/usr/local/lib/python3.11/dist-packages/statsmodels/base/model.py\u001b[0m in \u001b[0;36m__init__\u001b[0;34m(self, endog, exog, **kwargs)\u001b[0m\n\u001b[1;32m    268\u001b[0m \u001b[0;34m\u001b[0m\u001b[0m\n\u001b[1;32m    269\u001b[0m     \u001b[0;32mdef\u001b[0m \u001b[0m__init__\u001b[0m\u001b[0;34m(\u001b[0m\u001b[0mself\u001b[0m\u001b[0;34m,\u001b[0m \u001b[0mendog\u001b[0m\u001b[0;34m,\u001b[0m \u001b[0mexog\u001b[0m\u001b[0;34m=\u001b[0m\u001b[0;32mNone\u001b[0m\u001b[0;34m,\u001b[0m \u001b[0;34m**\u001b[0m\u001b[0mkwargs\u001b[0m\u001b[0;34m)\u001b[0m\u001b[0;34m:\u001b[0m\u001b[0;34m\u001b[0m\u001b[0;34m\u001b[0m\u001b[0m\n\u001b[0;32m--> 270\u001b[0;31m         \u001b[0msuper\u001b[0m\u001b[0;34m(\u001b[0m\u001b[0;34m)\u001b[0m\u001b[0;34m.\u001b[0m\u001b[0m__init__\u001b[0m\u001b[0;34m(\u001b[0m\u001b[0mendog\u001b[0m\u001b[0;34m,\u001b[0m \u001b[0mexog\u001b[0m\u001b[0;34m,\u001b[0m \u001b[0;34m**\u001b[0m\u001b[0mkwargs\u001b[0m\u001b[0;34m)\u001b[0m\u001b[0;34m\u001b[0m\u001b[0;34m\u001b[0m\u001b[0m\n\u001b[0m\u001b[1;32m    271\u001b[0m         \u001b[0mself\u001b[0m\u001b[0;34m.\u001b[0m\u001b[0minitialize\u001b[0m\u001b[0;34m(\u001b[0m\u001b[0;34m)\u001b[0m\u001b[0;34m\u001b[0m\u001b[0;34m\u001b[0m\u001b[0m\n\u001b[1;32m    272\u001b[0m \u001b[0;34m\u001b[0m\u001b[0m\n",
            "\u001b[0;32m/usr/local/lib/python3.11/dist-packages/statsmodels/base/model.py\u001b[0m in \u001b[0;36m__init__\u001b[0;34m(self, endog, exog, **kwargs)\u001b[0m\n\u001b[1;32m     93\u001b[0m         \u001b[0mmissing\u001b[0m \u001b[0;34m=\u001b[0m \u001b[0mkwargs\u001b[0m\u001b[0;34m.\u001b[0m\u001b[0mpop\u001b[0m\u001b[0;34m(\u001b[0m\u001b[0;34m'missing'\u001b[0m\u001b[0;34m,\u001b[0m \u001b[0;34m'none'\u001b[0m\u001b[0;34m)\u001b[0m\u001b[0;34m\u001b[0m\u001b[0;34m\u001b[0m\u001b[0m\n\u001b[1;32m     94\u001b[0m         \u001b[0mhasconst\u001b[0m \u001b[0;34m=\u001b[0m \u001b[0mkwargs\u001b[0m\u001b[0;34m.\u001b[0m\u001b[0mpop\u001b[0m\u001b[0;34m(\u001b[0m\u001b[0;34m'hasconst'\u001b[0m\u001b[0;34m,\u001b[0m \u001b[0;32mNone\u001b[0m\u001b[0;34m)\u001b[0m\u001b[0;34m\u001b[0m\u001b[0;34m\u001b[0m\u001b[0m\n\u001b[0;32m---> 95\u001b[0;31m         self.data = self._handle_data(endog, exog, missing, hasconst,\n\u001b[0m\u001b[1;32m     96\u001b[0m                                       **kwargs)\n\u001b[1;32m     97\u001b[0m         \u001b[0mself\u001b[0m\u001b[0;34m.\u001b[0m\u001b[0mk_constant\u001b[0m \u001b[0;34m=\u001b[0m \u001b[0mself\u001b[0m\u001b[0;34m.\u001b[0m\u001b[0mdata\u001b[0m\u001b[0;34m.\u001b[0m\u001b[0mk_constant\u001b[0m\u001b[0;34m\u001b[0m\u001b[0;34m\u001b[0m\u001b[0m\n",
            "\u001b[0;32m/usr/local/lib/python3.11/dist-packages/statsmodels/base/model.py\u001b[0m in \u001b[0;36m_handle_data\u001b[0;34m(self, endog, exog, missing, hasconst, **kwargs)\u001b[0m\n\u001b[1;32m    133\u001b[0m \u001b[0;34m\u001b[0m\u001b[0m\n\u001b[1;32m    134\u001b[0m     \u001b[0;32mdef\u001b[0m \u001b[0m_handle_data\u001b[0m\u001b[0;34m(\u001b[0m\u001b[0mself\u001b[0m\u001b[0;34m,\u001b[0m \u001b[0mendog\u001b[0m\u001b[0;34m,\u001b[0m \u001b[0mexog\u001b[0m\u001b[0;34m,\u001b[0m \u001b[0mmissing\u001b[0m\u001b[0;34m,\u001b[0m \u001b[0mhasconst\u001b[0m\u001b[0;34m,\u001b[0m \u001b[0;34m**\u001b[0m\u001b[0mkwargs\u001b[0m\u001b[0;34m)\u001b[0m\u001b[0;34m:\u001b[0m\u001b[0;34m\u001b[0m\u001b[0;34m\u001b[0m\u001b[0m\n\u001b[0;32m--> 135\u001b[0;31m         \u001b[0mdata\u001b[0m \u001b[0;34m=\u001b[0m \u001b[0mhandle_data\u001b[0m\u001b[0;34m(\u001b[0m\u001b[0mendog\u001b[0m\u001b[0;34m,\u001b[0m \u001b[0mexog\u001b[0m\u001b[0;34m,\u001b[0m \u001b[0mmissing\u001b[0m\u001b[0;34m,\u001b[0m \u001b[0mhasconst\u001b[0m\u001b[0;34m,\u001b[0m \u001b[0;34m**\u001b[0m\u001b[0mkwargs\u001b[0m\u001b[0;34m)\u001b[0m\u001b[0;34m\u001b[0m\u001b[0;34m\u001b[0m\u001b[0m\n\u001b[0m\u001b[1;32m    136\u001b[0m         \u001b[0;31m# kwargs arrays could have changed, easier to just attach here\u001b[0m\u001b[0;34m\u001b[0m\u001b[0;34m\u001b[0m\u001b[0m\n\u001b[1;32m    137\u001b[0m         \u001b[0;32mfor\u001b[0m \u001b[0mkey\u001b[0m \u001b[0;32min\u001b[0m \u001b[0mkwargs\u001b[0m\u001b[0;34m:\u001b[0m\u001b[0;34m\u001b[0m\u001b[0;34m\u001b[0m\u001b[0m\n",
            "\u001b[0;32m/usr/local/lib/python3.11/dist-packages/statsmodels/base/data.py\u001b[0m in \u001b[0;36mhandle_data\u001b[0;34m(endog, exog, missing, hasconst, **kwargs)\u001b[0m\n\u001b[1;32m    673\u001b[0m \u001b[0;34m\u001b[0m\u001b[0m\n\u001b[1;32m    674\u001b[0m     \u001b[0mklass\u001b[0m \u001b[0;34m=\u001b[0m \u001b[0mhandle_data_class_factory\u001b[0m\u001b[0;34m(\u001b[0m\u001b[0mendog\u001b[0m\u001b[0;34m,\u001b[0m \u001b[0mexog\u001b[0m\u001b[0;34m)\u001b[0m\u001b[0;34m\u001b[0m\u001b[0;34m\u001b[0m\u001b[0m\n\u001b[0;32m--> 675\u001b[0;31m     return klass(endog, exog=exog, missing=missing, hasconst=hasconst,\n\u001b[0m\u001b[1;32m    676\u001b[0m                  **kwargs)\n",
            "\u001b[0;32m/usr/local/lib/python3.11/dist-packages/statsmodels/base/data.py\u001b[0m in \u001b[0;36m__init__\u001b[0;34m(self, endog, exog, missing, hasconst, **kwargs)\u001b[0m\n\u001b[1;32m     87\u001b[0m         \u001b[0mself\u001b[0m\u001b[0;34m.\u001b[0m\u001b[0mk_constant\u001b[0m \u001b[0;34m=\u001b[0m \u001b[0;36m0\u001b[0m\u001b[0;34m\u001b[0m\u001b[0;34m\u001b[0m\u001b[0m\n\u001b[1;32m     88\u001b[0m         \u001b[0mself\u001b[0m\u001b[0;34m.\u001b[0m\u001b[0m_handle_constant\u001b[0m\u001b[0;34m(\u001b[0m\u001b[0mhasconst\u001b[0m\u001b[0;34m)\u001b[0m\u001b[0;34m\u001b[0m\u001b[0;34m\u001b[0m\u001b[0m\n\u001b[0;32m---> 89\u001b[0;31m         \u001b[0mself\u001b[0m\u001b[0;34m.\u001b[0m\u001b[0m_check_integrity\u001b[0m\u001b[0;34m(\u001b[0m\u001b[0;34m)\u001b[0m\u001b[0;34m\u001b[0m\u001b[0;34m\u001b[0m\u001b[0m\n\u001b[0m\u001b[1;32m     90\u001b[0m         \u001b[0mself\u001b[0m\u001b[0;34m.\u001b[0m\u001b[0m_cache\u001b[0m \u001b[0;34m=\u001b[0m \u001b[0;34m{\u001b[0m\u001b[0;34m}\u001b[0m\u001b[0;34m\u001b[0m\u001b[0;34m\u001b[0m\u001b[0m\n\u001b[1;32m     91\u001b[0m \u001b[0;34m\u001b[0m\u001b[0m\n",
            "\u001b[0;32m/usr/local/lib/python3.11/dist-packages/statsmodels/base/data.py\u001b[0m in \u001b[0;36m_check_integrity\u001b[0;34m(self)\u001b[0m\n\u001b[1;32m    531\u001b[0m                 \u001b[0;34m(\u001b[0m\u001b[0mhasattr\u001b[0m\u001b[0;34m(\u001b[0m\u001b[0mendog\u001b[0m\u001b[0;34m,\u001b[0m \u001b[0;34m'index'\u001b[0m\u001b[0;34m)\u001b[0m \u001b[0;32mand\u001b[0m \u001b[0mhasattr\u001b[0m\u001b[0;34m(\u001b[0m\u001b[0mexog\u001b[0m\u001b[0;34m,\u001b[0m \u001b[0;34m'index'\u001b[0m\u001b[0;34m)\u001b[0m\u001b[0;34m)\u001b[0m \u001b[0;32mand\u001b[0m\u001b[0;34m\u001b[0m\u001b[0;34m\u001b[0m\u001b[0m\n\u001b[1;32m    532\u001b[0m                 not self.orig_endog.index.equals(self.orig_exog.index)):\n\u001b[0;32m--> 533\u001b[0;31m             \u001b[0;32mraise\u001b[0m \u001b[0mValueError\u001b[0m\u001b[0;34m(\u001b[0m\u001b[0;34m\"The indices for endog and exog are not aligned\"\u001b[0m\u001b[0;34m)\u001b[0m\u001b[0;34m\u001b[0m\u001b[0;34m\u001b[0m\u001b[0m\n\u001b[0m\u001b[1;32m    534\u001b[0m         \u001b[0msuper\u001b[0m\u001b[0;34m(\u001b[0m\u001b[0;34m)\u001b[0m\u001b[0;34m.\u001b[0m\u001b[0m_check_integrity\u001b[0m\u001b[0;34m(\u001b[0m\u001b[0;34m)\u001b[0m\u001b[0;34m\u001b[0m\u001b[0;34m\u001b[0m\u001b[0m\n\u001b[1;32m    535\u001b[0m \u001b[0;34m\u001b[0m\u001b[0m\n",
            "\u001b[0;31mValueError\u001b[0m: The indices for endog and exog are not aligned"
          ]
        }
      ],
      "source": [
        "model_ln_y = sm.OLS(ln_y, X).fit()\n",
        "model_ln_y.summary()"
      ]
    },
    {
      "cell_type": "markdown",
      "id": "bfed6daf",
      "metadata": {
        "id": "bfed6daf"
      },
      "source": [
        "**Вывод:** незначительно лучше ln_y - X, чем ln_y - ln_X"
      ]
    },
    {
      "cell_type": "markdown",
      "id": "023f437b",
      "metadata": {
        "id": "023f437b"
      },
      "source": [
        "## Еще одно подтверждение этому:"
      ]
    },
    {
      "cell_type": "code",
      "execution_count": 154,
      "id": "89a3fb27",
      "metadata": {
        "colab": {
          "base_uri": "https://localhost:8080/",
          "height": 472
        },
        "id": "89a3fb27",
        "outputId": "e95c52ff-1e9a-47c4-a2fc-52f1e86e4b94"
      },
      "outputs": [
        {
          "output_type": "display_data",
          "data": {
            "text/plain": [
              "<Figure size 640x480 with 1 Axes>"
            ],
            "image/png": "[encoded data removed]"
          },
          "metadata": {}
        }
      ],
      "source": [
        "# Визуальный анализ\n",
        "residuals_ln_y = semi_log_model.resid\n",
        "fitted_values_ln_y = semi_log_model.fittedvalues\n",
        "\n",
        "plt.scatter(fitted_values_ln_y, residuals_ln_y)\n",
        "plt.axhline(0, color='red', linestyle='--')  # Прямая \"остатки = 0\"\n",
        "plt.xlabel('Прогнозируемые значения')\n",
        "plt.ylabel('Остатки')\n",
        "plt.title('График остатки-прогнозы')\n",
        "plt.show()"
      ]
    },
    {
      "cell_type": "markdown",
      "id": "d904c26d",
      "metadata": {
        "id": "d904c26d"
      },
      "source": [
        "**Тест Рамсея**\n",
        "<br>\n",
        "Посмотрим на то, квадраты каких переменных стоит включать"
      ]
    },
    {
      "cell_type": "code",
      "execution_count": 156,
      "id": "198c7222",
      "metadata": {
        "colab": {
          "base_uri": "https://localhost:8080/"
        },
        "id": "198c7222",
        "outputId": "5b8d904c-c5a0-4b4e-fc1e-41b558feab55"
      },
      "outputs": [
        {
          "output_type": "stream",
          "name": "stdout",
          "text": [
            "RESET test (Ramsey)\n",
            "<Wald test (chi2): statistic=57.296244584653955, p-value=3.748703346023147e-14, df_denom=1>\n"
          ]
        }
      ],
      "source": [
        "reset_result = linear_reset(model, power=2)\n",
        "\n",
        "print(\"RESET test (Ramsey)\")\n",
        "print(reset_result)"
      ]
    },
    {
      "cell_type": "markdown",
      "id": "de90ab97",
      "metadata": {
        "id": "de90ab97"
      },
      "source": [
        "**Вывод:** тест Рамсея показывает, что добавление степеней в модель помогает лучше описать данные"
      ]
    },
    {
      "cell_type": "markdown",
      "id": "fc46a816",
      "metadata": {
        "id": "fc46a816"
      },
      "source": [
        "Проверим необходимость в квадратах тех признаков, которые сильнее всего влияют на себестоимость"
      ]
    },
    {
      "cell_type": "code",
      "execution_count": 157,
      "id": "89ab3412",
      "metadata": {
        "colab": {
          "base_uri": "https://localhost:8080/"
        },
        "id": "89ab3412",
        "outputId": "30f466ac-458e-425f-f3ad-77a053d7deee"
      },
      "outputs": [
        {
          "output_type": "stream",
          "name": "stdout",
          "text": [
            "F-статистика: 0.9732069707708837\n",
            "p-value: 0.32395579015186704\n",
            "Не отвергаем H0: Переменная weight^2 незначима и может быть исключена.\n"
          ]
        }
      ],
      "source": [
        "X_ramsey = X.copy()\n",
        "X_ramsey[\"weight ** 2\"] = X_ramsey[\"weight\"]**2\n",
        "model_for_ramsey = sm.OLS(y, X_ramsey).fit()\n",
        "\n",
        "RSS_with = sum(model_for_ramsey.resid**2)\n",
        "RSS_without = sum(model.resid**2)\n",
        "\n",
        "k_reduced = X.shape[1]\n",
        "k_full = X_ramsey.shape[1]\n",
        "\n",
        "df1, df2 = k_full - k_reduced, len(y) - k_full\n",
        "\n",
        "F_stat = ((RSS_without - RSS_with) / df1) / (RSS_with / df2)\n",
        "p_value = 1 - f.cdf(F_stat, df1, df2)\n",
        "\n",
        "print(f\"F-статистика: {F_stat}\")\n",
        "print(f\"p-value: {p_value}\")\n",
        "\n",
        "alpha = 0.05\n",
        "if p_value < alpha:\n",
        "    print(\"Отвергаем H0: Переменная weight^2 значима и улучшает модель.\")\n",
        "else:\n",
        "    print(\"Не отвергаем H0: Переменная weight^2 незначима и может быть исключена.\")"
      ]
    },
    {
      "cell_type": "code",
      "execution_count": 158,
      "id": "f0ce0704",
      "metadata": {
        "colab": {
          "base_uri": "https://localhost:8080/"
        },
        "id": "f0ce0704",
        "outputId": "b97c9ce9-c13d-470c-c768-59fdf4c2ee0e"
      },
      "outputs": [
        {
          "output_type": "stream",
          "name": "stdout",
          "text": [
            "F-статистика: 48.41131925730164\n",
            "p-value: 4.168554390560075e-12\n",
            "Отвергаем H0: Переменная pages_cnt^2 значима и улучшает модель.\n"
          ]
        }
      ],
      "source": [
        "X_ramsey = X.copy()\n",
        "X_ramsey[\"pages_cnt ** 2\"] = X_ramsey[\"pages_cnt\"]**2\n",
        "model_for_ramsey = sm.OLS(y, X_ramsey).fit()\n",
        "\n",
        "RSS_with = sum(model_for_ramsey.resid**2)\n",
        "RSS_without = sum(model.resid**2)\n",
        "\n",
        "k_reduced = X.shape[1]\n",
        "k_full = X_ramsey.shape[1]\n",
        "\n",
        "df1, df2 = k_full - k_reduced, len(y) - k_full\n",
        "\n",
        "F_stat = ((RSS_without - RSS_with) / df1) / (RSS_with / df2)\n",
        "p_value = 1 - f.cdf(F_stat, df1, df2)\n",
        "\n",
        "print(f\"F-статистика: {F_stat}\")\n",
        "print(f\"p-value: {p_value}\")\n",
        "\n",
        "alpha = 0.05\n",
        "if p_value < alpha:\n",
        "    print(\"Отвергаем H0: Переменная pages_cnt^2 значима и улучшает модель.\")\n",
        "else:\n",
        "    print(\"Не отвергаем H0: Переменная pages_cnt^2 незначима и может быть исключена.\")"
      ]
    },
    {
      "cell_type": "markdown",
      "id": "ece93473",
      "metadata": {
        "id": "ece93473"
      },
      "source": [
        "**Включение неважной переменной** (F-test)"
      ]
    },
    {
      "cell_type": "markdown",
      "id": "152f673f",
      "metadata": {
        "id": "152f673f"
      },
      "source": [
        "**Тесты на гетероскедастичности**"
      ]
    },
    {
      "cell_type": "code",
      "execution_count": null,
      "id": "c0081a95",
      "metadata": {
        "id": "c0081a95"
      },
      "outputs": [],
      "source": [
        "residuals = model.resid"
      ]
    },
    {
      "cell_type": "code",
      "execution_count": null,
      "id": "3702c942",
      "metadata": {
        "id": "3702c942"
      },
      "outputs": [],
      "source": [
        "# Тест Уайта\n",
        "white_test = het_white(residuals, X)\n",
        "\n",
        "lm_stat, lm_pval, f_stat, f_pval = white_test\n",
        "\n",
        "print(f\"LM-статистика: {lm_stat}\")\n",
        "print(f\"p-value для LM-статистики: {lm_pval}\")\n",
        "print(f\"F-статистика: {f_stat}\")\n",
        "print(f\"p-value для F-статистики: {f_pval}\")\n",
        "\n",
        "if lm_pval < 0.05:\n",
        "    print(\"Гетероскедастичность выявлена.\")\n",
        "else:\n",
        "    print(\"Нет признаков гетероскедастичности.\")"
      ]
    },
    {
      "cell_type": "code",
      "execution_count": null,
      "id": "82543e40",
      "metadata": {
        "id": "82543e40"
      },
      "outputs": [],
      "source": [
        "# Тест Уайта\n",
        "white_test = het_white(residuals_ln_y, X)\n",
        "\n",
        "lm_stat, lm_pval, f_stat, f_pval = white_test\n",
        "\n",
        "print(f\"LM-статистика: {lm_stat}\")\n",
        "print(f\"p-value для LM-статистики: {lm_pval}\")\n",
        "print(f\"F-статистика: {f_stat}\")\n",
        "print(f\"p-value для F-статистики: {f_pval}\")\n",
        "\n",
        "if lm_pval < 0.05:\n",
        "    print(\"Гетероскедастичность выявлена.\")\n",
        "else:\n",
        "    print(\"Нет признаков гетероскедастичности.\")"
      ]
    },
    {
      "cell_type": "code",
      "execution_count": null,
      "id": "cc326638",
      "metadata": {
        "id": "cc326638"
      },
      "outputs": [],
      "source": [
        "# Тест Глейзера\n",
        "abs_residuals = np.abs(residuals)\n",
        "glejser_model = sm.OLS(abs_residuals, X).fit()\n",
        "\n",
        "p_values = glejser_model.pvalues\n",
        "# print(f\"P-значения:\")\n",
        "# if p_values[0]:\n",
        "#     print(p_values)\n",
        "if any(p < 0.05 for p in p_values[1:]):\n",
        "    print(\"Есть признаки гетероскедастичности.\")\n",
        "else:\n",
        "    print(\"Нет признаков гетероскедастичности.\")\n"
      ]
    },
    {
      "cell_type": "code",
      "execution_count": null,
      "id": "8d4ed36b",
      "metadata": {
        "id": "8d4ed36b"
      },
      "outputs": [],
      "source": [
        "# Тест Глейзера\n",
        "abs_residuals = np.abs(residuals_ln_y)\n",
        "glejser_model = sm.OLS(abs_residuals, X).fit()\n",
        "\n",
        "p_values = glejser_model.pvalues\n",
        "# print(f\"P-значения:\")\n",
        "# if p_values[0]:\n",
        "#     print(p_values)\n",
        "if any(p < 0.05 for p in p_values[1:]):\n",
        "    print(\"Есть признаки гетероскедастичности.\")\n",
        "else:\n",
        "    print(\"Нет признаков гетероскедастичности.\")\n"
      ]
    },
    {
      "cell_type": "code",
      "execution_count": null,
      "id": "5e11a654",
      "metadata": {
        "id": "5e11a654"
      },
      "outputs": [],
      "source": []
    },
    {
      "cell_type": "markdown",
      "id": "9f47cc81",
      "metadata": {
        "id": "9f47cc81"
      },
      "source": [
        "**Гипотеза о незначимости**"
      ]
    },
    {
      "cell_type": "code",
      "execution_count": null,
      "id": "be36e635",
      "metadata": {
        "id": "be36e635"
      },
      "outputs": [],
      "source": []
    },
    {
      "cell_type": "markdown",
      "id": "6cc7bae5",
      "metadata": {
        "id": "6cc7bae5"
      },
      "source": [
        "**Тест Чоу**"
      ]
    },
    {
      "cell_type": "code",
      "execution_count": null,
      "id": "e58bb69e",
      "metadata": {
        "id": "e58bb69e"
      },
      "outputs": [],
      "source": []
    }
  ],
  "metadata": {
    "kernelspec": {
      "display_name": "Python 3 (ipykernel)",
      "language": "python",
      "name": "python3"
    },
    "language_info": {
      "codemirror_mode": {
        "name": "ipython",
        "version": 3
      },
      "file_extension": ".py",
      "mimetype": "text/x-python",
      "name": "python",
      "nbconvert_exporter": "python",
      "pygments_lexer": "ipython3",
      "version": "3.11.4"
    },
    "colab": {
      "provenance": []
    }
  },
  "nbformat": 4,
  "nbformat_minor": 5
}