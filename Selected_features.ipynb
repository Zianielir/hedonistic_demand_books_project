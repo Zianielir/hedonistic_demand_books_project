{
  "cells": [
    {
      "cell_type": "code",
      "execution_count": 64,
      "id": "5474e059",
      "metadata": {
        "id": "5474e059"
      },
      "outputs": [],
      "source": [
        "import pandas as pd\n",
        "import numpy as np\n",
        "import matplotlib.pyplot as plt\n",
        "from scipy.stats import gmean\n",
        "\n",
        "import statsmodels.api as sm\n",
        "from scipy.stats import t, f, boxcox, skew, kurtosis\n",
        "from statsmodels.stats.diagnostic import linear_reset, het_white\n",
        "\n",
        "\n",
        "import warnings\n",
        "warnings.filterwarnings('ignore')"
      ]
    },
    {
      "cell_type": "markdown",
      "id": "QOcQGCYNOS32",
      "metadata": {
        "id": "QOcQGCYNOS32"
      },
      "source": [
        "**Предобработка**"
      ]
    },
    {
      "cell_type": "code",
      "execution_count": 65,
      "id": "c47c886b",
      "metadata": {
        "id": "c47c886b"
      },
      "outputs": [],
      "source": [
        "data = pd.read_csv('data_after_processing.csv')\n",
        "data.columns = [col.replace(' ', '_') for col in data.columns]"
      ]
    },
    {
      "cell_type": "code",
      "execution_count": 66,
      "id": "07e70daf",
      "metadata": {
        "id": "07e70daf"
      },
      "outputs": [],
      "source": [
        "not_null = ['thickness', 'width', 'length', 'volume']\n",
        "data = data[(data[not_null] > 0).all(axis=1)]"
      ]
    },
    {
      "cell_type": "code",
      "execution_count": 67,
      "id": "a2881c20",
      "metadata": {
        "id": "a2881c20"
      },
      "outputs": [],
      "source": [
        "#data = data.drop(['title'], axis=1)\n",
        "data = data.drop(['author_Другой', 'publisher_Другой', 'publication_year_Другой',\n",
        "                  'cover_type_Мягкий_заламинированный_картон', 'cover_type_Твёрдый_переплёт', 'reading_age_12+', 'is_russian_author_0', 'is_russian_author_1'], axis=1)"
      ]
    },
    {
      "cell_type": "code",
      "execution_count": 68,
      "id": "3a923a28",
      "metadata": {
        "colab": {
          "base_uri": "https://localhost:8080/"
        },
        "collapsed": true,
        "id": "3a923a28",
        "outputId": "c4489ab6-29b4-4c4f-9e28-cceb7b8fa022"
      },
      "outputs": [
        {
          "data": {
            "text/plain": [
              "Index(['price', 'avg_rating', 'cnt_reviews', 'pages_cnt', 'tirage', 'weight',\n",
              "       'author_Джейн_Остен', 'author_Джек_Лондон', 'author_Джордж_Оруэлл',\n",
              "       'author_Лев_Толстой', 'author_Луиза_Мэй_Олкотт',\n",
              "       'author_Михаил_Булгаков', 'author_Николай_Гоголь',\n",
              "       'author_Федор_Достоевский', 'author_Эрих_Ремарк', 'publisher_АСТ',\n",
              "       'publisher_Азбука', 'publisher_Иностранка',\n",
              "       'publisher_Манн,_Иванов_и_Фербер', 'publisher_Эксмо',\n",
              "       'publication_year_2021', 'publication_year_2022',\n",
              "       'publication_year_2023', 'publication_year_2024',\n",
              "       'publication_year_2025', 'cover_type_Мягкий_переплёт', 'reading_age_0+',\n",
              "       'reading_age_16+', 'reading_age_18+', 'reading_age_6+', 'thickness',\n",
              "       'width', 'length', 'volume'],\n",
              "      dtype='object')"
            ]
          },
          "execution_count": 68,
          "metadata": {},
          "output_type": "execute_result"
        }
      ],
      "source": [
        "data.columns"
      ]
    },
    {
      "cell_type": "code",
      "execution_count": 69,
      "id": "d714c2b1",
      "metadata": {
        "id": "d714c2b1"
      },
      "outputs": [],
      "source": [
        "X, y = data.drop(['price'], axis=1), data['price']\n",
        "X = sm.add_constant(X)"
      ]
    },
    {
      "cell_type": "markdown",
      "id": "jpYwhcjtcC-z",
      "metadata": {
        "id": "jpYwhcjtcC-z"
      },
      "source": [
        "**Отбор объясняющих переменных**"
      ]
    },
    {
      "cell_type": "markdown",
      "id": "11ucLu2nPDfd",
      "metadata": {
        "id": "11ucLu2nPDfd"
      },
      "source": [
        "Было принято решение удалить всех авторов тк по ним очень мало наблюдений"
      ]
    },
    {
      "cell_type": "code",
      "execution_count": 70,
      "id": "HihuZq5pPA-c",
      "metadata": {
        "id": "HihuZq5pPA-c"
      },
      "outputs": [],
      "source": [
        "X.drop(columns = ['author_Джейн_Остен', 'author_Джек_Лондон', 'author_Джордж_Оруэлл',\n",
        "       'author_Лев_Толстой', 'author_Луиза_Мэй_Олкотт',\n",
        "       'author_Михаил_Булгаков', 'author_Николай_Гоголь',\n",
        "       'author_Федор_Достоевский', 'author_Эрих_Ремарк'], inplace=True)"
      ]
    },
    {
      "cell_type": "markdown",
      "id": "Tlj0XT19sFE2",
      "metadata": {
        "id": "Tlj0XT19sFE2"
      },
      "source": [
        "Выкидываем по-очереди вес, толщину, объем, страницы, площадь, длину, ширину смотрим на R2 и на коэффициент при обложке"
      ]
    },
    {
      "cell_type": "code",
      "execution_count": 71,
      "id": "x2nKaIqE5MNb",
      "metadata": {
        "id": "x2nKaIqE5MNb"
      },
      "outputs": [],
      "source": [
        "X['S'] = X['length'] * X['width']"
      ]
    },
    {
      "cell_type": "code",
      "execution_count": 72,
      "id": "gOaWVJGuyEkw",
      "metadata": {
        "colab": {
          "base_uri": "https://localhost:8080/",
          "height": 958
        },
        "id": "gOaWVJGuyEkw",
        "outputId": "02fb845c-a71c-4aaa-9959-35f3bf293adf"
      },
      "outputs": [
        {
          "data": {
            "text/html": [
              "<div>\n",
              "<style scoped>\n",
              "    .dataframe tbody tr th:only-of-type {\n",
              "        vertical-align: middle;\n",
              "    }\n",
              "\n",
              "    .dataframe tbody tr th {\n",
              "        vertical-align: top;\n",
              "    }\n",
              "\n",
              "    .dataframe thead th {\n",
              "        text-align: right;\n",
              "    }\n",
              "</style>\n",
              "<table border=\"1\" class=\"dataframe\">\n",
              "  <thead>\n",
              "    <tr style=\"text-align: right;\">\n",
              "      <th></th>\n",
              "      <th>group</th>\n",
              "      <th>r</th>\n",
              "      <th>b_pages</th>\n",
              "    </tr>\n",
              "  </thead>\n",
              "  <tbody>\n",
              "    <tr>\n",
              "      <th>0</th>\n",
              "      <td>[weight]</td>\n",
              "      <td>0.742979</td>\n",
              "      <td>0.198612</td>\n",
              "    </tr>\n",
              "    <tr>\n",
              "      <th>3</th>\n",
              "      <td>[weight, width]</td>\n",
              "      <td>0.728274</td>\n",
              "      <td>0.216185</td>\n",
              "    </tr>\n",
              "    <tr>\n",
              "      <th>14</th>\n",
              "      <td>[weight, width, S]</td>\n",
              "      <td>0.728023</td>\n",
              "      <td>0.215811</td>\n",
              "    </tr>\n",
              "    <tr>\n",
              "      <th>5</th>\n",
              "      <td>[weight, S]</td>\n",
              "      <td>0.728020</td>\n",
              "      <td>0.215338</td>\n",
              "    </tr>\n",
              "    <tr>\n",
              "      <th>4</th>\n",
              "      <td>[weight, length]</td>\n",
              "      <td>0.722819</td>\n",
              "      <td>0.215002</td>\n",
              "    </tr>\n",
              "    <tr>\n",
              "      <th>13</th>\n",
              "      <td>[weight, width, length]</td>\n",
              "      <td>0.721443</td>\n",
              "      <td>0.210861</td>\n",
              "    </tr>\n",
              "    <tr>\n",
              "      <th>23</th>\n",
              "      <td>[weight, width, length, S]</td>\n",
              "      <td>0.720517</td>\n",
              "      <td>0.210317</td>\n",
              "    </tr>\n",
              "    <tr>\n",
              "      <th>15</th>\n",
              "      <td>[weight, length, S]</td>\n",
              "      <td>0.720431</td>\n",
              "      <td>0.210419</td>\n",
              "    </tr>\n",
              "    <tr>\n",
              "      <th>1</th>\n",
              "      <td>[weight, thickness]</td>\n",
              "      <td>0.711167</td>\n",
              "      <td>0.005746</td>\n",
              "    </tr>\n",
              "    <tr>\n",
              "      <th>7</th>\n",
              "      <td>[weight, thickness, width]</td>\n",
              "      <td>0.696173</td>\n",
              "      <td>0.022580</td>\n",
              "    </tr>\n",
              "    <tr>\n",
              "      <th>8</th>\n",
              "      <td>[weight, thickness, length]</td>\n",
              "      <td>0.691178</td>\n",
              "      <td>0.022540</td>\n",
              "    </tr>\n",
              "    <tr>\n",
              "      <th>19</th>\n",
              "      <td>[weight, thickness, width, length]</td>\n",
              "      <td>0.690187</td>\n",
              "      <td>0.020024</td>\n",
              "    </tr>\n",
              "    <tr>\n",
              "      <th>9</th>\n",
              "      <td>[weight, thickness, S]</td>\n",
              "      <td>0.688353</td>\n",
              "      <td>0.001637</td>\n",
              "    </tr>\n",
              "    <tr>\n",
              "      <th>2</th>\n",
              "      <td>[weight, volume]</td>\n",
              "      <td>0.688032</td>\n",
              "      <td>0.198235</td>\n",
              "    </tr>\n",
              "    <tr>\n",
              "      <th>6</th>\n",
              "      <td>[weight, thickness, volume]</td>\n",
              "      <td>0.678950</td>\n",
              "      <td>0.463094</td>\n",
              "    </tr>\n",
              "    <tr>\n",
              "      <th>10</th>\n",
              "      <td>[weight, volume, width]</td>\n",
              "      <td>0.674996</td>\n",
              "      <td>0.214813</td>\n",
              "    </tr>\n",
              "    <tr>\n",
              "      <th>11</th>\n",
              "      <td>[weight, volume, length]</td>\n",
              "      <td>0.670380</td>\n",
              "      <td>0.213605</td>\n",
              "    </tr>\n",
              "    <tr>\n",
              "      <th>20</th>\n",
              "      <td>[weight, volume, width, length]</td>\n",
              "      <td>0.669356</td>\n",
              "      <td>0.209973</td>\n",
              "    </tr>\n",
              "    <tr>\n",
              "      <th>16</th>\n",
              "      <td>[weight, thickness, volume, width]</td>\n",
              "      <td>0.667701</td>\n",
              "      <td>0.452420</td>\n",
              "    </tr>\n",
              "    <tr>\n",
              "      <th>12</th>\n",
              "      <td>[weight, volume, S]</td>\n",
              "      <td>0.664182</td>\n",
              "      <td>0.219496</td>\n",
              "    </tr>\n",
              "    <tr>\n",
              "      <th>17</th>\n",
              "      <td>[weight, thickness, volume, length]</td>\n",
              "      <td>0.663273</td>\n",
              "      <td>0.448379</td>\n",
              "    </tr>\n",
              "    <tr>\n",
              "      <th>24</th>\n",
              "      <td>[weight, thickness, volume, width, length]</td>\n",
              "      <td>0.662085</td>\n",
              "      <td>0.447263</td>\n",
              "    </tr>\n",
              "    <tr>\n",
              "      <th>22</th>\n",
              "      <td>[weight, volume, length, S]</td>\n",
              "      <td>0.658245</td>\n",
              "      <td>0.225865</td>\n",
              "    </tr>\n",
              "    <tr>\n",
              "      <th>18</th>\n",
              "      <td>[weight, thickness, volume, S]</td>\n",
              "      <td>0.657238</td>\n",
              "      <td>0.451428</td>\n",
              "    </tr>\n",
              "    <tr>\n",
              "      <th>26</th>\n",
              "      <td>[weight, thickness, volume, length, S]</td>\n",
              "      <td>0.650837</td>\n",
              "      <td>0.465770</td>\n",
              "    </tr>\n",
              "    <tr>\n",
              "      <th>21</th>\n",
              "      <td>[weight, volume, width, S]</td>\n",
              "      <td>0.603067</td>\n",
              "      <td>0.205224</td>\n",
              "    </tr>\n",
              "    <tr>\n",
              "      <th>25</th>\n",
              "      <td>[weight, thickness, volume, width, S]</td>\n",
              "      <td>0.592755</td>\n",
              "      <td>0.487791</td>\n",
              "    </tr>\n",
              "    <tr>\n",
              "      <th>27</th>\n",
              "      <td>[weight, volume, width, length, S]</td>\n",
              "      <td>0.540060</td>\n",
              "      <td>0.220387</td>\n",
              "    </tr>\n",
              "    <tr>\n",
              "      <th>28</th>\n",
              "      <td>[weight, thickness, volume, width, length, S]</td>\n",
              "      <td>0.524647</td>\n",
              "      <td>0.567448</td>\n",
              "    </tr>\n",
              "  </tbody>\n",
              "</table>\n",
              "</div>"
            ],
            "text/plain": [
              "                                            group         r   b_pages\n",
              "0                                        [weight]  0.742979  0.198612\n",
              "3                                 [weight, width]  0.728274  0.216185\n",
              "14                             [weight, width, S]  0.728023  0.215811\n",
              "5                                     [weight, S]  0.728020  0.215338\n",
              "4                                [weight, length]  0.722819  0.215002\n",
              "13                        [weight, width, length]  0.721443  0.210861\n",
              "23                     [weight, width, length, S]  0.720517  0.210317\n",
              "15                            [weight, length, S]  0.720431  0.210419\n",
              "1                             [weight, thickness]  0.711167  0.005746\n",
              "7                      [weight, thickness, width]  0.696173  0.022580\n",
              "8                     [weight, thickness, length]  0.691178  0.022540\n",
              "19             [weight, thickness, width, length]  0.690187  0.020024\n",
              "9                          [weight, thickness, S]  0.688353  0.001637\n",
              "2                                [weight, volume]  0.688032  0.198235\n",
              "6                     [weight, thickness, volume]  0.678950  0.463094\n",
              "10                        [weight, volume, width]  0.674996  0.214813\n",
              "11                       [weight, volume, length]  0.670380  0.213605\n",
              "20                [weight, volume, width, length]  0.669356  0.209973\n",
              "16             [weight, thickness, volume, width]  0.667701  0.452420\n",
              "12                            [weight, volume, S]  0.664182  0.219496\n",
              "17            [weight, thickness, volume, length]  0.663273  0.448379\n",
              "24     [weight, thickness, volume, width, length]  0.662085  0.447263\n",
              "22                    [weight, volume, length, S]  0.658245  0.225865\n",
              "18                 [weight, thickness, volume, S]  0.657238  0.451428\n",
              "26         [weight, thickness, volume, length, S]  0.650837  0.465770\n",
              "21                     [weight, volume, width, S]  0.603067  0.205224\n",
              "25          [weight, thickness, volume, width, S]  0.592755  0.487791\n",
              "27             [weight, volume, width, length, S]  0.540060  0.220387\n",
              "28  [weight, thickness, volume, width, length, S]  0.524647  0.567448"
            ]
          },
          "execution_count": 72,
          "metadata": {},
          "output_type": "execute_result"
        }
      ],
      "source": [
        "from itertools import combinations\n",
        "groups = ['weight', 'thickness', 'volume', 'width', 'length', 'S']\n",
        "\n",
        "to_data_frame = []\n",
        "\n",
        "for r in range (1, len(groups) + 1):\n",
        "    for group in combinations(groups, r=r):\n",
        "        group = list(group)\n",
        "# for group in groups_to_test:\n",
        "        X_full = X.copy()\n",
        "        X_reduced = X.drop(columns=group)\n",
        "        model_full = sm.OLS(y, X_full).fit()\n",
        "        model_reduced = sm.OLS(y, X_reduced).fit()\n",
        "\n",
        "        f_stat, p_val, df_diff = model_full.compare_f_test(model_reduced)\n",
        "        # print(f\"Группа: {group}, F = {f_stat}, p = {p_val}\")\n",
        "        r = model_reduced.rsquared_adj\n",
        "        # b_cover = model_reduced.params['cover_type_Мягкий_переплёт']\n",
        "        b_pages = model_reduced.params['pages_cnt']\n",
        "        aic = model_reduced.aic\n",
        "\n",
        "        if (b_pages > 0):\n",
        "            dct = {'group': group,\n",
        "                  'r': r,\n",
        "                  'b_pages' : b_pages}\n",
        "\n",
        "            to_data_frame.append(dct)\n",
        "\n",
        "data_frame_info = pd.DataFrame(to_data_frame)\n",
        "data_frame_info.sort_values(by=['r'], ascending=False)"
      ]
    },
    {
      "cell_type": "code",
      "execution_count": 73,
      "id": "G6mYS3Wq0P-4",
      "metadata": {
        "colab": {
          "base_uri": "https://localhost:8080/"
        },
        "id": "G6mYS3Wq0P-4",
        "outputId": "352514d6-8ad7-42bc-f248-29de73e521b3"
      },
      "outputs": [
        {
          "name": "stdout",
          "output_type": "stream",
          "text": [
            "                            OLS Regression Results                            \n",
            "==============================================================================\n",
            "Dep. Variable:                  price   R-squared:                       0.527\n",
            "Model:                            OLS   Adj. R-squared:                  0.525\n",
            "Method:                 Least Squares   F-statistic:                     186.2\n",
            "Date:                Tue, 06 May 2025   Prob (F-statistic):               0.00\n",
            "Time:                        11:36:06   Log-Likelihood:                -21905.\n",
            "No. Observations:                3190   AIC:                         4.385e+04\n",
            "Df Residuals:                    3170   BIC:                         4.397e+04\n",
            "Df Model:                          19                                         \n",
            "Covariance Type:            nonrobust                                         \n",
            "===================================================================================================\n",
            "                                      coef    std err          t      P>|t|      [0.025      0.975]\n",
            "---------------------------------------------------------------------------------------------------\n",
            "const                             270.7555     71.922      3.765      0.000     129.737     411.774\n",
            "avg_rating                         74.7925     12.168      6.147      0.000      50.934      98.651\n",
            "cnt_reviews                         0.3968      0.041      9.656      0.000       0.316       0.477\n",
            "pages_cnt                           0.5674      0.020     28.476      0.000       0.528       0.607\n",
            "tirage                             -0.0242      0.002    -13.224      0.000      -0.028      -0.021\n",
            "publisher_АСТ                    -204.0864     33.593     -6.075      0.000    -269.952    -138.221\n",
            "publisher_Азбука                 -188.6906     34.528     -5.465      0.000    -256.390    -120.991\n",
            "publisher_Иностранка               58.9549     38.804      1.519      0.129     -17.129     135.039\n",
            "publisher_Манн,_Иванов_и_Фербер    -4.1076     43.156     -0.095      0.924     -88.723      80.508\n",
            "publisher_Эксмо                  -166.0788     33.869     -4.904      0.000    -232.487     -99.671\n",
            "publication_year_2021             -86.2764     48.804     -1.768      0.077    -181.967       9.415\n",
            "publication_year_2022             -30.5367     39.807     -0.767      0.443    -108.587      47.514\n",
            "publication_year_2023             -40.0439     38.378     -1.043      0.297    -115.292      35.204\n",
            "publication_year_2024              -5.8132     37.798     -0.154      0.878     -79.925      68.298\n",
            "publication_year_2025             -14.5447     38.062     -0.382      0.702     -89.174      60.084\n",
            "cover_type_Мягкий_переплёт       -271.8494      8.968    -30.313      0.000    -289.433    -254.266\n",
            "reading_age_0+                     35.0140    137.218      0.255      0.799    -234.031     304.059\n",
            "reading_age_16+                    64.1171     11.331      5.659      0.000      41.900      86.334\n",
            "reading_age_18+                   140.9277     22.652      6.221      0.000      96.513     185.342\n",
            "reading_age_6+                    439.3667     50.854      8.640      0.000     339.656     539.077\n",
            "==============================================================================\n",
            "Omnibus:                     2447.256   Durbin-Watson:                   2.019\n",
            "Prob(Omnibus):                  0.000   Jarque-Bera (JB):           101365.314\n",
            "Skew:                           3.247   Prob(JB):                         0.00\n",
            "Kurtosis:                      29.841   Cond. No.                     1.68e+05\n",
            "==============================================================================\n",
            "\n",
            "Notes:\n",
            "[1] Standard Errors assume that the covariance matrix of the errors is correctly specified.\n",
            "[2] The condition number is large, 1.68e+05. This might indicate that there are\n",
            "strong multicollinearity or other numerical problems.\n"
          ]
        }
      ],
      "source": [
        "X.drop(columns=['weight', 'volume', 'thickness', 'length', 'width', 'S'], inplace = True)\n",
        "model = sm.OLS(y, X).fit()\n",
        "print(model.summary())"
      ]
    },
    {
      "cell_type": "markdown",
      "id": "K5BFnFaEPUA1",
      "metadata": {
        "id": "K5BFnFaEPUA1"
      },
      "source": [
        "Тк часть публикационных годов незначима, давайте объединим - судя по ящику с усами 24 и 25 год стоит дороже"
      ]
    },
    {
      "cell_type": "code",
      "execution_count": 74,
      "id": "5xG-BCeMBAK5",
      "metadata": {
        "id": "5xG-BCeMBAK5"
      },
      "outputs": [],
      "source": [
        "X['2024_or_2025'] = X['publication_year_2024'] + X['publication_year_2025']\n",
        "X.drop(columns=['publication_year_2021', 'publication_year_2022',\n",
        "       'publication_year_2023', 'publication_year_2024', 'publication_year_2025'], inplace=True)"
      ]
    },
    {
      "cell_type": "code",
      "execution_count": 75,
      "id": "OGVMw2OdBNM1",
      "metadata": {
        "colab": {
          "base_uri": "https://localhost:8080/"
        },
        "id": "OGVMw2OdBNM1",
        "outputId": "ab1ae352-b810-470a-ad99-48b220b63e1f"
      },
      "outputs": [
        {
          "name": "stdout",
          "output_type": "stream",
          "text": [
            "Группа: ['2024_or_2025'], F = 9.262100071087392, p = 0.0023586145341476824, коэффициент оказался значим\n"
          ]
        }
      ],
      "source": [
        "groups_to_test = [['2024_or_2025']]\n",
        "for group in groups_to_test:\n",
        "    X_full = X.copy()\n",
        "    X_reduced = X.drop(columns=group)\n",
        "    model_full = sm.OLS(y, X_full).fit()\n",
        "    model_reduced = sm.OLS(y, X_reduced).fit()\n",
        "\n",
        "    f_stat, p_val, df_diff = model_full.compare_f_test(model_reduced)\n",
        "    print(f\"Группа: {group}, F = {f_stat}, p = {p_val}, коэффициент оказался значим\")"
      ]
    },
    {
      "cell_type": "code",
      "execution_count": 76,
      "id": "BuzoKAWtAX40",
      "metadata": {
        "colab": {
          "base_uri": "https://localhost:8080/"
        },
        "id": "BuzoKAWtAX40",
        "outputId": "08bfa0bd-f6ec-4ecd-872d-b0da3949302c"
      },
      "outputs": [
        {
          "name": "stdout",
          "output_type": "stream",
          "text": [
            "                            OLS Regression Results                            \n",
            "==============================================================================\n",
            "Dep. Variable:                  price   R-squared:                       0.527\n",
            "Model:                            OLS   Adj. R-squared:                  0.525\n",
            "Method:                 Least Squares   F-statistic:                     235.6\n",
            "Date:                Tue, 06 May 2025   Prob (F-statistic):               0.00\n",
            "Time:                        11:36:13   Log-Likelihood:                -21907.\n",
            "No. Observations:                3190   AIC:                         4.385e+04\n",
            "Df Residuals:                    3174   BIC:                         4.394e+04\n",
            "Df Model:                          15                                         \n",
            "Covariance Type:            nonrobust                                         \n",
            "===================================================================================================\n",
            "                                      coef    std err          t      P>|t|      [0.025      0.975]\n",
            "---------------------------------------------------------------------------------------------------\n",
            "const                             231.1284     63.178      3.658      0.000     107.254     355.003\n",
            "avg_rating                         75.0071     12.107      6.195      0.000      51.269      98.745\n",
            "cnt_reviews                         0.3945      0.041      9.640      0.000       0.314       0.475\n",
            "pages_cnt                           0.5655      0.020     28.432      0.000       0.527       0.605\n",
            "tirage                             -0.0243      0.002    -13.277      0.000      -0.028      -0.021\n",
            "publisher_АСТ                    -202.6719     33.526     -6.045      0.000    -268.407    -136.937\n",
            "publisher_Азбука                 -185.6209     34.481     -5.383      0.000    -253.228    -118.014\n",
            "publisher_Иностранка               61.4668     38.752      1.586      0.113     -14.516     137.449\n",
            "publisher_Манн,_Иванов_и_Фербер    -4.7254     43.014     -0.110      0.913     -89.064      79.613\n",
            "publisher_Эксмо                  -164.3052     33.803     -4.861      0.000    -230.584     -98.026\n",
            "cover_type_Мягкий_переплёт       -272.0628      8.929    -30.469      0.000    -289.570    -254.555\n",
            "reading_age_0+                     47.9622    136.735      0.351      0.726    -220.136     316.061\n",
            "reading_age_16+                    63.9558     11.314      5.653      0.000      41.773      86.139\n",
            "reading_age_18+                   140.4807     22.645      6.204      0.000      96.080     184.881\n",
            "reading_age_6+                    441.5083     50.794      8.692      0.000     341.916     541.100\n",
            "2024_or_2025                       29.3601      9.647      3.043      0.002      10.445      48.276\n",
            "==============================================================================\n",
            "Omnibus:                     2447.019   Durbin-Watson:                   2.020\n",
            "Prob(Omnibus):                  0.000   Jarque-Bera (JB):           101259.295\n",
            "Skew:                           3.247   Prob(JB):                         0.00\n",
            "Kurtosis:                      29.826   Cond. No.                     1.66e+05\n",
            "==============================================================================\n",
            "\n",
            "Notes:\n",
            "[1] Standard Errors assume that the covariance matrix of the errors is correctly specified.\n",
            "[2] The condition number is large, 1.66e+05. This might indicate that there are\n",
            "strong multicollinearity or other numerical problems.\n"
          ]
        }
      ],
      "source": [
        "model = sm.OLS(y, X).fit()\n",
        "print(model.summary())"
      ]
    },
    {
      "cell_type": "markdown",
      "id": "GWMw9g2OPokT",
      "metadata": {
        "id": "GWMw9g2OPokT"
      },
      "source": [
        "Некоторые рейтинги незначимы, давайте сделаем точно также, 0+ и 6+ стоят дороже. Оставшиеся объединим"
      ]
    },
    {
      "cell_type": "code",
      "execution_count": 77,
      "id": "OprE5QecIyiN",
      "metadata": {
        "id": "OprE5QecIyiN"
      },
      "outputs": [],
      "source": [
        "X['6-'] = X['reading_age_0+'] + X['reading_age_6+']\n",
        "X['16+'] = X['reading_age_16+'] + X['reading_age_18+']\n",
        "X.drop(columns=['reading_age_0+', 'reading_age_6+', 'reading_age_16+', 'reading_age_18+'], inplace=True)"
      ]
    },
    {
      "cell_type": "code",
      "execution_count": 78,
      "id": "roujhfjpJUlX",
      "metadata": {
        "colab": {
          "base_uri": "https://localhost:8080/"
        },
        "id": "roujhfjpJUlX",
        "outputId": "e3588148-0b77-41d4-f955-cb59621faac6"
      },
      "outputs": [
        {
          "name": "stdout",
          "output_type": "stream",
          "text": [
            "                            OLS Regression Results                            \n",
            "==============================================================================\n",
            "Dep. Variable:                  price   R-squared:                       0.524\n",
            "Model:                            OLS   Adj. R-squared:                  0.522\n",
            "Method:                 Least Squares   F-statistic:                     268.6\n",
            "Date:                Tue, 06 May 2025   Prob (F-statistic):               0.00\n",
            "Time:                        11:36:16   Log-Likelihood:                -21918.\n",
            "No. Observations:                3190   AIC:                         4.386e+04\n",
            "Df Residuals:                    3176   BIC:                         4.395e+04\n",
            "Df Model:                          13                                         \n",
            "Covariance Type:            nonrobust                                         \n",
            "===================================================================================================\n",
            "                                      coef    std err          t      P>|t|      [0.025      0.975]\n",
            "---------------------------------------------------------------------------------------------------\n",
            "const                             236.5881     62.733      3.771      0.000     113.587     359.590\n",
            "avg_rating                         71.4439     12.081      5.914      0.000      47.758      95.130\n",
            "cnt_reviews                         0.3930      0.041      9.581      0.000       0.313       0.473\n",
            "pages_cnt                           0.5622      0.020     28.210      0.000       0.523       0.601\n",
            "tirage                             -0.0244      0.002    -13.288      0.000      -0.028      -0.021\n",
            "publisher_АСТ                    -192.3763     33.214     -5.792      0.000    -257.499    -127.253\n",
            "publisher_Азбука                 -169.6736     34.228     -4.957      0.000    -236.785    -102.562\n",
            "publisher_Иностранка               75.8476     38.546      1.968      0.049       0.270     151.426\n",
            "publisher_Манн,_Иванов_и_Фербер     4.6486     42.858      0.108      0.914     -79.383      88.681\n",
            "publisher_Эксмо                  -152.9531     33.536     -4.561      0.000    -218.708     -87.198\n",
            "cover_type_Мягкий_переплёт       -270.4237      8.949    -30.220      0.000    -287.969    -252.878\n",
            "2024_or_2025                       29.8035      9.676      3.080      0.002      10.832      48.775\n",
            "6-                                395.8138     47.938      8.257      0.000     301.822     489.805\n",
            "16+                                67.4370     11.310      5.963      0.000      45.261      89.613\n",
            "==============================================================================\n",
            "Omnibus:                     2435.252   Durbin-Watson:                   2.015\n",
            "Prob(Omnibus):                  0.000   Jarque-Bera (JB):            98409.794\n",
            "Skew:                           3.232   Prob(JB):                         0.00\n",
            "Kurtosis:                      29.431   Cond. No.                     1.02e+05\n",
            "==============================================================================\n",
            "\n",
            "Notes:\n",
            "[1] Standard Errors assume that the covariance matrix of the errors is correctly specified.\n",
            "[2] The condition number is large, 1.02e+05. This might indicate that there are\n",
            "strong multicollinearity or other numerical problems.\n"
          ]
        }
      ],
      "source": [
        "model = sm.OLS(y, X).fit()\n",
        "print(model.summary())"
      ]
    },
    {
      "cell_type": "markdown",
      "id": "ghMpY4CDQe3q",
      "metadata": {
        "id": "ghMpY4CDQe3q"
      },
      "source": [
        "Остался незначимым коэффициент при издательстве 'publisher_Манн,_Иванов_и_Фербер' По нему мало наблюдений, дропнем его, отнеся в категорию другое"
      ]
    },
    {
      "cell_type": "code",
      "execution_count": 79,
      "id": "It8sMYRlH-Ek",
      "metadata": {
        "id": "It8sMYRlH-Ek"
      },
      "outputs": [],
      "source": [
        "X.drop(columns=['publisher_Манн,_Иванов_и_Фербер'], inplace=True)"
      ]
    },
    {
      "cell_type": "code",
      "execution_count": 80,
      "id": "1foY7n5tIH2H",
      "metadata": {
        "colab": {
          "base_uri": "https://localhost:8080/"
        },
        "id": "1foY7n5tIH2H",
        "outputId": "e0f1c3b3-638b-447a-ab13-832e5e07f055"
      },
      "outputs": [
        {
          "name": "stdout",
          "output_type": "stream",
          "text": [
            "                            OLS Regression Results                            \n",
            "==============================================================================\n",
            "Dep. Variable:                  price   R-squared:                       0.524\n",
            "Model:                            OLS   Adj. R-squared:                  0.522\n",
            "Method:                 Least Squares   F-statistic:                     291.0\n",
            "Date:                Tue, 06 May 2025   Prob (F-statistic):               0.00\n",
            "Time:                        11:36:20   Log-Likelihood:                -21918.\n",
            "No. Observations:                3190   AIC:                         4.386e+04\n",
            "Df Residuals:                    3177   BIC:                         4.394e+04\n",
            "Df Model:                          12                                         \n",
            "Covariance Type:            nonrobust                                         \n",
            "==============================================================================================\n",
            "                                 coef    std err          t      P>|t|      [0.025      0.975]\n",
            "----------------------------------------------------------------------------------------------\n",
            "const                        239.0553     58.455      4.090      0.000     124.442     353.668\n",
            "avg_rating                    71.4526     12.078      5.916      0.000      47.770      95.135\n",
            "cnt_reviews                    0.3925      0.041      9.640      0.000       0.313       0.472\n",
            "pages_cnt                      0.5622      0.020     28.217      0.000       0.523       0.601\n",
            "tirage                        -0.0243      0.002    -13.623      0.000      -0.028      -0.021\n",
            "publisher_АСТ               -195.0463     22.296     -8.748      0.000    -238.761    -151.331\n",
            "publisher_Азбука            -172.3658     23.565     -7.314      0.000    -218.570    -126.162\n",
            "publisher_Иностранка          73.1580     29.507      2.479      0.013      15.303     131.013\n",
            "publisher_Эксмо             -155.6886     22.102     -7.044      0.000    -199.023    -112.354\n",
            "cover_type_Мягкий_переплёт  -270.4847      8.930    -30.291      0.000    -287.993    -252.976\n",
            "2024_or_2025                  29.8545      9.663      3.090      0.002      10.908      48.800\n",
            "6-                           395.6437     47.904      8.259      0.000     301.717     489.570\n",
            "16+                           67.5216     11.281      5.985      0.000      45.402      89.641\n",
            "==============================================================================\n",
            "Omnibus:                     2435.121   Durbin-Watson:                   2.015\n",
            "Prob(Omnibus):                  0.000   Jarque-Bera (JB):            98417.195\n",
            "Skew:                           3.231   Prob(JB):                         0.00\n",
            "Kurtosis:                      29.433   Cond. No.                     7.54e+04\n",
            "==============================================================================\n",
            "\n",
            "Notes:\n",
            "[1] Standard Errors assume that the covariance matrix of the errors is correctly specified.\n",
            "[2] The condition number is large, 7.54e+04. This might indicate that there are\n",
            "strong multicollinearity or other numerical problems.\n"
          ]
        }
      ],
      "source": [
        "model = sm.OLS(y, X).fit()\n",
        "print(model.summary())"
      ]
    },
    {
      "cell_type": "markdown",
      "id": "bni33sIUQ0Hu",
      "metadata": {
        "id": "bni33sIUQ0Hu"
      },
      "source": [
        "Теперь сделаем возвращение удаленных признаков, посмотрим, как они себя ведут"
      ]
    },
    {
      "cell_type": "code",
      "execution_count": 81,
      "id": "ceWoDKwkQz4O",
      "metadata": {
        "colab": {
          "base_uri": "https://localhost:8080/"
        },
        "id": "ceWoDKwkQz4O",
        "outputId": "6055217d-7b0a-4ab7-8688-513a32f036e4"
      },
      "outputs": [
        {
          "name": "stdout",
          "output_type": "stream",
          "text": [
            "Группа: ['publication_year_2021', 'publication_year_2022', 'publication_year_2023'], F = 1.0349866339120282, p = 0.3758769904309481\n",
            "Группа: ['publisher_Манн,_Иванов_и_Фербер'], F = 0.011764867815294514, p = 0.9136329206973712\n",
            "Все выкинутые группы по-прежнему незначимы\n"
          ]
        }
      ],
      "source": [
        "groups_to_test = [['publication_year_2021', 'publication_year_2022', 'publication_year_2023'],\n",
        "                  ['publisher_Манн,_Иванов_и_Фербер']]\n",
        "for group in groups_to_test:\n",
        "    X_full = X.copy()\n",
        "    X_reduced = X.copy()\n",
        "    X_full[group] = data[group]\n",
        "    model_full = sm.OLS(y, X_full).fit()\n",
        "    model_reduced = sm.OLS(y, X_reduced).fit()\n",
        "\n",
        "    f_stat, p_val, df_diff = model_full.compare_f_test(model_reduced)\n",
        "    print(f\"Группа: {group}, F = {f_stat}, p = {p_val}\")\n",
        "print('Все выкинутые группы по-прежнему незначимы')"
      ]
    },
    {
      "cell_type": "code",
      "execution_count": 82,
      "id": "gUodCDvlWvHV",
      "metadata": {
        "colab": {
          "base_uri": "https://localhost:8080/"
        },
        "id": "gUodCDvlWvHV",
        "outputId": "c09409a5-956f-43c4-f502-3b628e8aed34"
      },
      "outputs": [
        {
          "data": {
            "text/plain": [
              "Index(['const', 'avg_rating', 'cnt_reviews', 'pages_cnt', 'tirage',\n",
              "       'publisher_АСТ', 'publisher_Азбука', 'publisher_Иностранка',\n",
              "       'publisher_Эксмо', 'cover_type_Мягкий_переплёт', '2024_or_2025', '6-',\n",
              "       '16+'],\n",
              "      dtype='object')"
            ]
          },
          "execution_count": 82,
          "metadata": {},
          "output_type": "execute_result"
        }
      ],
      "source": [
        "X.columns"
      ]
    },
    {
      "cell_type": "markdown",
      "id": "yJ4WzpgKWxpL",
      "metadata": {
        "id": "yJ4WzpgKWxpL"
      },
      "source": [
        "### Итоговый набор признаков:\n",
        "['const', 'avg_rating', 'cnt_reviews', 'pages_cnt', 'tirage',\n",
        "       'publisher_АСТ', 'publisher_Азбука', 'publisher_Иностранка',\n",
        "       'publisher_Эксмо', 'cover_type_Мягкий_переплёт', '2024_or_2025', '6-',\n",
        "       '16+']"
      ]
    },
    {
      "cell_type": "markdown",
      "id": "584c94e6",
      "metadata": {},
      "source": [
        "### Сохраняем данные"
      ]
    },
    {
      "cell_type": "code",
      "execution_count": 83,
      "id": "16c6e837",
      "metadata": {},
      "outputs": [
        {
          "data": {
            "text/html": [
              "<div>\n",
              "<style scoped>\n",
              "    .dataframe tbody tr th:only-of-type {\n",
              "        vertical-align: middle;\n",
              "    }\n",
              "\n",
              "    .dataframe tbody tr th {\n",
              "        vertical-align: top;\n",
              "    }\n",
              "\n",
              "    .dataframe thead th {\n",
              "        text-align: right;\n",
              "    }\n",
              "</style>\n",
              "<table border=\"1\" class=\"dataframe\">\n",
              "  <thead>\n",
              "    <tr style=\"text-align: right;\">\n",
              "      <th></th>\n",
              "      <th>price</th>\n",
              "      <th>const</th>\n",
              "      <th>avg_rating</th>\n",
              "      <th>cnt_reviews</th>\n",
              "      <th>pages_cnt</th>\n",
              "      <th>tirage</th>\n",
              "      <th>publisher_АСТ</th>\n",
              "      <th>publisher_Азбука</th>\n",
              "      <th>publisher_Иностранка</th>\n",
              "      <th>publisher_Эксмо</th>\n",
              "      <th>cover_type_Мягкий_переплёт</th>\n",
              "      <th>2024_or_2025</th>\n",
              "      <th>6-</th>\n",
              "      <th>16+</th>\n",
              "    </tr>\n",
              "  </thead>\n",
              "  <tbody>\n",
              "    <tr>\n",
              "      <th>0</th>\n",
              "      <td>312</td>\n",
              "      <td>1.0</td>\n",
              "      <td>4.1</td>\n",
              "      <td>925</td>\n",
              "      <td>512</td>\n",
              "      <td>30000</td>\n",
              "      <td>1.0</td>\n",
              "      <td>0.0</td>\n",
              "      <td>0.0</td>\n",
              "      <td>0.0</td>\n",
              "      <td>1.0</td>\n",
              "      <td>1.0</td>\n",
              "      <td>0.0</td>\n",
              "      <td>1.0</td>\n",
              "    </tr>\n",
              "    <tr>\n",
              "      <th>1</th>\n",
              "      <td>312</td>\n",
              "      <td>1.0</td>\n",
              "      <td>4.1</td>\n",
              "      <td>1341</td>\n",
              "      <td>320</td>\n",
              "      <td>30000</td>\n",
              "      <td>1.0</td>\n",
              "      <td>0.0</td>\n",
              "      <td>0.0</td>\n",
              "      <td>0.0</td>\n",
              "      <td>1.0</td>\n",
              "      <td>1.0</td>\n",
              "      <td>0.0</td>\n",
              "      <td>1.0</td>\n",
              "    </tr>\n",
              "    <tr>\n",
              "      <th>2</th>\n",
              "      <td>284</td>\n",
              "      <td>1.0</td>\n",
              "      <td>4.5</td>\n",
              "      <td>363</td>\n",
              "      <td>192</td>\n",
              "      <td>25000</td>\n",
              "      <td>1.0</td>\n",
              "      <td>0.0</td>\n",
              "      <td>0.0</td>\n",
              "      <td>0.0</td>\n",
              "      <td>1.0</td>\n",
              "      <td>1.0</td>\n",
              "      <td>0.0</td>\n",
              "      <td>1.0</td>\n",
              "    </tr>\n",
              "    <tr>\n",
              "      <th>3</th>\n",
              "      <td>339</td>\n",
              "      <td>1.0</td>\n",
              "      <td>4.3</td>\n",
              "      <td>872</td>\n",
              "      <td>288</td>\n",
              "      <td>12000</td>\n",
              "      <td>1.0</td>\n",
              "      <td>0.0</td>\n",
              "      <td>0.0</td>\n",
              "      <td>0.0</td>\n",
              "      <td>1.0</td>\n",
              "      <td>1.0</td>\n",
              "      <td>0.0</td>\n",
              "      <td>1.0</td>\n",
              "    </tr>\n",
              "    <tr>\n",
              "      <th>4</th>\n",
              "      <td>284</td>\n",
              "      <td>1.0</td>\n",
              "      <td>4.2</td>\n",
              "      <td>3004</td>\n",
              "      <td>320</td>\n",
              "      <td>30000</td>\n",
              "      <td>1.0</td>\n",
              "      <td>0.0</td>\n",
              "      <td>0.0</td>\n",
              "      <td>0.0</td>\n",
              "      <td>1.0</td>\n",
              "      <td>1.0</td>\n",
              "      <td>0.0</td>\n",
              "      <td>1.0</td>\n",
              "    </tr>\n",
              "    <tr>\n",
              "      <th>...</th>\n",
              "      <td>...</td>\n",
              "      <td>...</td>\n",
              "      <td>...</td>\n",
              "      <td>...</td>\n",
              "      <td>...</td>\n",
              "      <td>...</td>\n",
              "      <td>...</td>\n",
              "      <td>...</td>\n",
              "      <td>...</td>\n",
              "      <td>...</td>\n",
              "      <td>...</td>\n",
              "      <td>...</td>\n",
              "      <td>...</td>\n",
              "      <td>...</td>\n",
              "    </tr>\n",
              "    <tr>\n",
              "      <th>3185</th>\n",
              "      <td>1241</td>\n",
              "      <td>1.0</td>\n",
              "      <td>5.0</td>\n",
              "      <td>3</td>\n",
              "      <td>624</td>\n",
              "      <td>1500</td>\n",
              "      <td>0.0</td>\n",
              "      <td>0.0</td>\n",
              "      <td>0.0</td>\n",
              "      <td>1.0</td>\n",
              "      <td>0.0</td>\n",
              "      <td>0.0</td>\n",
              "      <td>0.0</td>\n",
              "      <td>1.0</td>\n",
              "    </tr>\n",
              "    <tr>\n",
              "      <th>3186</th>\n",
              "      <td>2207</td>\n",
              "      <td>1.0</td>\n",
              "      <td>3.7</td>\n",
              "      <td>53</td>\n",
              "      <td>448</td>\n",
              "      <td>1500</td>\n",
              "      <td>0.0</td>\n",
              "      <td>0.0</td>\n",
              "      <td>0.0</td>\n",
              "      <td>1.0</td>\n",
              "      <td>0.0</td>\n",
              "      <td>0.0</td>\n",
              "      <td>0.0</td>\n",
              "      <td>1.0</td>\n",
              "    </tr>\n",
              "    <tr>\n",
              "      <th>3187</th>\n",
              "      <td>1103</td>\n",
              "      <td>1.0</td>\n",
              "      <td>4.3</td>\n",
              "      <td>42</td>\n",
              "      <td>784</td>\n",
              "      <td>3000</td>\n",
              "      <td>0.0</td>\n",
              "      <td>0.0</td>\n",
              "      <td>1.0</td>\n",
              "      <td>0.0</td>\n",
              "      <td>0.0</td>\n",
              "      <td>0.0</td>\n",
              "      <td>0.0</td>\n",
              "      <td>1.0</td>\n",
              "    </tr>\n",
              "    <tr>\n",
              "      <th>3188</th>\n",
              "      <td>1011</td>\n",
              "      <td>1.0</td>\n",
              "      <td>3.8</td>\n",
              "      <td>29</td>\n",
              "      <td>704</td>\n",
              "      <td>2000</td>\n",
              "      <td>0.0</td>\n",
              "      <td>0.0</td>\n",
              "      <td>0.0</td>\n",
              "      <td>1.0</td>\n",
              "      <td>0.0</td>\n",
              "      <td>0.0</td>\n",
              "      <td>0.0</td>\n",
              "      <td>1.0</td>\n",
              "    </tr>\n",
              "    <tr>\n",
              "      <th>3189</th>\n",
              "      <td>505</td>\n",
              "      <td>1.0</td>\n",
              "      <td>4.0</td>\n",
              "      <td>27</td>\n",
              "      <td>256</td>\n",
              "      <td>1500</td>\n",
              "      <td>1.0</td>\n",
              "      <td>0.0</td>\n",
              "      <td>0.0</td>\n",
              "      <td>0.0</td>\n",
              "      <td>0.0</td>\n",
              "      <td>0.0</td>\n",
              "      <td>0.0</td>\n",
              "      <td>1.0</td>\n",
              "    </tr>\n",
              "  </tbody>\n",
              "</table>\n",
              "<p>3190 rows × 14 columns</p>\n",
              "</div>"
            ],
            "text/plain": [
              "      price  const  avg_rating  cnt_reviews  pages_cnt  tirage  publisher_АСТ  \\\n",
              "0       312    1.0         4.1          925        512   30000            1.0   \n",
              "1       312    1.0         4.1         1341        320   30000            1.0   \n",
              "2       284    1.0         4.5          363        192   25000            1.0   \n",
              "3       339    1.0         4.3          872        288   12000            1.0   \n",
              "4       284    1.0         4.2         3004        320   30000            1.0   \n",
              "...     ...    ...         ...          ...        ...     ...            ...   \n",
              "3185   1241    1.0         5.0            3        624    1500            0.0   \n",
              "3186   2207    1.0         3.7           53        448    1500            0.0   \n",
              "3187   1103    1.0         4.3           42        784    3000            0.0   \n",
              "3188   1011    1.0         3.8           29        704    2000            0.0   \n",
              "3189    505    1.0         4.0           27        256    1500            1.0   \n",
              "\n",
              "      publisher_Азбука  publisher_Иностранка  publisher_Эксмо  \\\n",
              "0                  0.0                   0.0              0.0   \n",
              "1                  0.0                   0.0              0.0   \n",
              "2                  0.0                   0.0              0.0   \n",
              "3                  0.0                   0.0              0.0   \n",
              "4                  0.0                   0.0              0.0   \n",
              "...                ...                   ...              ...   \n",
              "3185               0.0                   0.0              1.0   \n",
              "3186               0.0                   0.0              1.0   \n",
              "3187               0.0                   1.0              0.0   \n",
              "3188               0.0                   0.0              1.0   \n",
              "3189               0.0                   0.0              0.0   \n",
              "\n",
              "      cover_type_Мягкий_переплёт  2024_or_2025   6-  16+  \n",
              "0                            1.0           1.0  0.0  1.0  \n",
              "1                            1.0           1.0  0.0  1.0  \n",
              "2                            1.0           1.0  0.0  1.0  \n",
              "3                            1.0           1.0  0.0  1.0  \n",
              "4                            1.0           1.0  0.0  1.0  \n",
              "...                          ...           ...  ...  ...  \n",
              "3185                         0.0           0.0  0.0  1.0  \n",
              "3186                         0.0           0.0  0.0  1.0  \n",
              "3187                         0.0           0.0  0.0  1.0  \n",
              "3188                         0.0           0.0  0.0  1.0  \n",
              "3189                         0.0           0.0  0.0  1.0  \n",
              "\n",
              "[3190 rows x 14 columns]"
            ]
          },
          "execution_count": 83,
          "metadata": {},
          "output_type": "execute_result"
        }
      ],
      "source": [
        "data_to_csv = pd.concat([y, X], axis=1)\n",
        "data_to_csv"
      ]
    },
    {
      "cell_type": "code",
      "execution_count": 84,
      "id": "3345e805",
      "metadata": {},
      "outputs": [],
      "source": [
        "data_to_csv.to_csv('data_after_feature_selection.csv', index=False)"
      ]
    },
    {
      "cell_type": "markdown",
      "id": "8646b310",
      "metadata": {
        "id": "8646b310"
      },
      "source": [
        "## Сравнение функциональных форм на основе теста Бокса-Кокса и PE теста:"
      ]
    },
    {
      "cell_type": "markdown",
      "id": "eQN5sjPRHTdj",
      "metadata": {
        "id": "eQN5sjPRHTdj"
      },
      "source": [
        "**Тест Бокса-Кокса с преобразование Зарембки (адекватный и рабочий)**"
      ]
    },
    {
      "cell_type": "code",
      "execution_count": 50,
      "id": "I35gdKpfHZrq",
      "metadata": {
        "colab": {
          "base_uri": "https://localhost:8080/"
        },
        "id": "I35gdKpfHZrq",
        "outputId": "c5feeacc-8cf1-4508-c9ba-a8c935a90cff"
      },
      "outputs": [
        {
          "name": "stdout",
          "output_type": "stream",
          "text": [
            "1456.1341744874328 > 3.84 значит, между моделями есть существенное различие, выбираем на основе RSS\n"
          ]
        }
      ],
      "source": [
        "geo_mean = gmean(y)\n",
        "y_help = y/geo_mean\n",
        "ln_y_help = np.log(y_help)\n",
        "\n",
        "lin_model = sm.OLS(y_help, X).fit()\n",
        "rss1 = np.sum(lin_model.resid**2)\n",
        "\n",
        "semi_log_model = sm.OLS(ln_y_help, X).fit()\n",
        "rss2 = np.sum(semi_log_model.resid**2)\n",
        "\n",
        "chi_stat = X.shape[0]/2 * np.abs(np.log(rss1/rss2))\n",
        "print(f'{chi_stat} > 3.84 значит, между моделями есть существенное различие, выбираем на основе RSS')"
      ]
    },
    {
      "cell_type": "code",
      "execution_count": 51,
      "id": "pdgfATA9M8AC",
      "metadata": {
        "colab": {
          "base_uri": "https://localhost:8080/"
        },
        "id": "pdgfATA9M8AC",
        "outputId": "b870e738-300f-47f2-94c7-c31af80e9e2f"
      },
      "outputs": [
        {
          "name": "stdout",
          "output_type": "stream",
          "text": [
            "Полулогарифмическая модель предпочтительнее\n"
          ]
        }
      ],
      "source": [
        "if rss2 < rss1:\n",
        "  print('Полулогарифмическая модель предпочтительнее')\n",
        "else:\n",
        "  print('Линейная модель предпочтительнее')"
      ]
    },
    {
      "cell_type": "markdown",
      "id": "701b6554",
      "metadata": {
        "id": "701b6554"
      },
      "source": [
        "**Тест Бокса-Кокса (стремный и нерабочий)**"
      ]
    },
    {
      "cell_type": "code",
      "execution_count": 52,
      "id": "5672ce59",
      "metadata": {},
      "outputs": [],
      "source": [
        "ln_y = np.log(y)"
      ]
    },
    {
      "cell_type": "code",
      "execution_count": 53,
      "id": "067055ae",
      "metadata": {
        "colab": {
          "base_uri": "https://localhost:8080/"
        },
        "id": "067055ae",
        "outputId": "69e153de-c64c-4af8-99f1-6922d1e91be5"
      },
      "outputs": [
        {
          "name": "stdout",
          "output_type": "stream",
          "text": [
            "Оптимальное значение λ (метод Бокса-Кокса): -0.8131464893394112\n",
            "Ни одна из стандартных форм не идеальна, возможно, требуется промежуточная форма.\n"
          ]
        }
      ],
      "source": [
        "model = sm.OLS(y, X).fit()\n",
        "rss1 = np.sum(model.resid**2)\n",
        "\n",
        "semi_log_model = sm.OLS(ln_y, X).fit()\n",
        "rss2 = np.sum(semi_log_model.resid**2)\n",
        "\n",
        "y_boxcox, lambda_optimal = boxcox(y)\n",
        "\n",
        "print(f\"Оптимальное значение λ (метод Бокса-Кокса): {lambda_optimal}\")\n",
        "\n",
        "# Интерпретация\n",
        "if np.isclose(lambda_optimal, 1, atol=0.1):\n",
        "    print(\"Линейная модель (модель 1) предпочтительнее.\")\n",
        "elif np.isclose(lambda_optimal, 0, atol=0.1):\n",
        "    print(\"Полулогарифмическая модель (модель 2) предпочтительнее.\")\n",
        "else:\n",
        "    print(\"Ни одна из стандартных форм не идеальна, возможно, требуется промежуточная форма.\")"
      ]
    },
    {
      "cell_type": "markdown",
      "id": "f44c8963",
      "metadata": {
        "id": "f44c8963"
      },
      "source": [
        "**PE тест**"
      ]
    },
    {
      "cell_type": "code",
      "execution_count": 54,
      "id": "74b7c805",
      "metadata": {
        "colab": {
          "base_uri": "https://localhost:8080/"
        },
        "id": "74b7c805",
        "outputId": "6920042b-439c-4487-8e0b-72cdcf77c2ea"
      },
      "outputs": [
        {
          "name": "stdout",
          "output_type": "stream",
          "text": [
            "Модель для полулогарифмической спецификации\n",
            "\n",
            "                            OLS Regression Results                            \n",
            "==============================================================================\n",
            "Dep. Variable:                  price   R-squared:                       0.611\n",
            "Model:                            OLS   Adj. R-squared:                  0.609\n",
            "Method:                 Least Squares   F-statistic:                     382.6\n",
            "Date:                Tue, 06 May 2025   Prob (F-statistic):               0.00\n",
            "Time:                        11:23:12   Log-Likelihood:                -824.59\n",
            "No. Observations:                3181   AIC:                             1677.\n",
            "Df Residuals:                    3167   BIC:                             1762.\n",
            "Df Model:                          13                                         \n",
            "Covariance Type:            nonrobust                                         \n",
            "==============================================================================================\n",
            "                                 coef    std err          t      P>|t|      [0.025      0.975]\n",
            "----------------------------------------------------------------------------------------------\n",
            "const                          5.7459      0.079     72.801      0.000       5.591       5.901\n",
            "avg_rating                     0.1356      0.016      8.337      0.000       0.104       0.167\n",
            "cnt_reviews                    0.0008   5.63e-05     13.676      0.000       0.001       0.001\n",
            "pages_cnt                      0.0008   2.97e-05     28.197      0.000       0.001       0.001\n",
            "tirage                     -5.159e-05   2.66e-06    -19.400      0.000   -5.68e-05   -4.64e-05\n",
            "publisher_АСТ                 -0.3657      0.030    -12.118      0.000      -0.425      -0.307\n",
            "publisher_Азбука              -0.3436      0.032    -10.764      0.000      -0.406      -0.281\n",
            "publisher_Иностранка          -0.0876      0.041     -2.131      0.033      -0.168      -0.007\n",
            "publisher_Эксмо               -0.3015      0.030    -10.067      0.000      -0.360      -0.243\n",
            "cover_type_Мягкий_переплёт    -0.5305      0.013    -39.446      0.000      -0.557      -0.504\n",
            "2024_or_2025                   0.0535      0.013      4.100      0.000       0.028       0.079\n",
            "6-                             0.5839      0.065      8.944      0.000       0.456       0.712\n",
            "16+                            0.1383      0.015      9.092      0.000       0.109       0.168\n",
            "delta                         -0.0008      0.000     -6.551      0.000      -0.001      -0.001\n",
            "==============================================================================\n",
            "Omnibus:                      116.138   Durbin-Watson:                   2.016\n",
            "Prob(Omnibus):                  0.000   Jarque-Bera (JB):              258.179\n",
            "Skew:                           0.215   Prob(JB):                     8.65e-57\n",
            "Kurtosis:                       4.328   Cond. No.                     7.36e+04\n",
            "==============================================================================\n",
            "\n",
            "Notes:\n",
            "[1] Standard Errors assume that the covariance matrix of the errors is correctly specified.\n",
            "[2] The condition number is large, 7.36e+04. This might indicate that there are\n",
            "strong multicollinearity or other numerical problems.\n",
            "Модель для линейной спецификации\n",
            "\n",
            "                            OLS Regression Results                            \n",
            "==============================================================================\n",
            "Dep. Variable:                  price   R-squared:                       0.572\n",
            "Model:                            OLS   Adj. R-squared:                  0.570\n",
            "Method:                 Least Squares   F-statistic:                     325.3\n",
            "Date:                Tue, 06 May 2025   Prob (F-statistic):               0.00\n",
            "Time:                        11:23:12   Log-Likelihood:                -21689.\n",
            "No. Observations:                3181   AIC:                         4.341e+04\n",
            "Df Residuals:                    3167   BIC:                         4.349e+04\n",
            "Df Model:                          13                                         \n",
            "Covariance Type:            nonrobust                                         \n",
            "==============================================================================================\n",
            "                                 coef    std err          t      P>|t|      [0.025      0.975]\n",
            "----------------------------------------------------------------------------------------------\n",
            "const                        207.9367     55.747      3.730      0.000      98.634     317.240\n",
            "avg_rating                    85.9937     11.496      7.481      0.000      63.454     108.533\n",
            "cnt_reviews                    0.5092      0.040     12.780      0.000       0.431       0.587\n",
            "pages_cnt                      0.7141      0.021     34.436      0.000       0.673       0.755\n",
            "tirage                        -0.0395      0.002    -20.316      0.000      -0.043      -0.036\n",
            "publisher_АСТ               -230.8820     21.316    -10.831      0.000    -272.677    -189.087\n",
            "publisher_Азбука            -185.5351     22.431     -8.272      0.000    -229.515    -141.555\n",
            "publisher_Иностранка         -53.3158     28.793     -1.852      0.064    -109.771       3.140\n",
            "publisher_Эксмо             -163.6821     21.045     -7.778      0.000    -204.945    -122.420\n",
            "cover_type_Мягкий_переплёт  -332.9401      9.130    -36.468      0.000    -350.841    -315.039\n",
            "2024_or_2025                  44.2943      9.220      4.804      0.000      26.216      62.372\n",
            "6-                           474.4682     45.691     10.384      0.000     384.881     564.055\n",
            "16+                           82.3262     10.758      7.653      0.000      61.233     103.419\n",
            "delta                        563.7154     31.779     17.739      0.000     501.406     626.025\n",
            "==============================================================================\n",
            "Omnibus:                     2460.357   Durbin-Watson:                   2.028\n",
            "Prob(Omnibus):                  0.000   Jarque-Bera (JB):           111745.898\n",
            "Skew:                           3.254   Prob(JB):                         0.00\n",
            "Kurtosis:                      31.297   Cond. No.                     7.36e+04\n",
            "==============================================================================\n",
            "\n",
            "Notes:\n",
            "[1] Standard Errors assume that the covariance matrix of the errors is correctly specified.\n",
            "[2] The condition number is large, 7.36e+04. This might indicate that there are\n",
            "strong multicollinearity or other numerical problems.\n"
          ]
        }
      ],
      "source": [
        "model_log = sm.OLS(ln_y, X).fit()\n",
        "\n",
        "yhat_lin = model.fittedvalues\n",
        "ln_yhat_log = model_log.fittedvalues\n",
        "yhat_log = np.exp(ln_yhat_log)\n",
        "\n",
        "mask = yhat_lin >= 0\n",
        "\n",
        "yhat_lin = yhat_lin[mask]\n",
        "yhat_log = yhat_log[mask]\n",
        "ln_y = ln_y[mask]\n",
        "ln_yhat_log = ln_yhat_log[mask]\n",
        "X_masked = X[mask]\n",
        "\n",
        "# Шаг 2: Вспомогательные регрессии\n",
        "aux_log_X = X_masked.copy()\n",
        "aux_log_X['delta'] = yhat_lin - yhat_log\n",
        "aux_log_model = sm.OLS(ln_y, aux_log_X).fit()\n",
        "\n",
        "aux_lin_X = X_masked.copy()\n",
        "aux_lin_X['delta'] = ln_yhat_log - np.log(yhat_lin)\n",
        "aux_lin_model = sm.OLS(y[mask], aux_lin_X).fit()\n",
        "\n",
        "print(\"Модель для полулогарифмической спецификации\")\n",
        "print()\n",
        "print(aux_log_model.summary())\n",
        "\n",
        "print(\"Модель для линейной спецификации\")\n",
        "print()\n",
        "print(aux_lin_model.summary())\n"
      ]
    },
    {
      "cell_type": "markdown",
      "id": "0cb48cd9",
      "metadata": {
        "id": "0cb48cd9"
      },
      "source": [
        "**Вывод:** все значимо, нужны другие функциональные формы"
      ]
    },
    {
      "cell_type": "markdown",
      "id": "8be9a4cd",
      "metadata": {
        "id": "8be9a4cd"
      },
      "source": [
        "## Сравнение функциональных форм на основе нормированной R^2:"
      ]
    },
    {
      "cell_type": "code",
      "execution_count": 55,
      "id": "f3c658a0",
      "metadata": {
        "colab": {
          "base_uri": "https://localhost:8080/",
          "height": 1000
        },
        "collapsed": true,
        "id": "f3c658a0",
        "outputId": "99b185da-f82e-4ab7-b107-f91fe3268f35"
      },
      "outputs": [
        {
          "data": {
            "text/html": [
              "<table class=\"simpletable\">\n",
              "<caption>OLS Regression Results</caption>\n",
              "<tr>\n",
              "  <th>Dep. Variable:</th>          <td>price</td>      <th>  R-squared:         </th> <td>   0.524</td> \n",
              "</tr>\n",
              "<tr>\n",
              "  <th>Model:</th>                   <td>OLS</td>       <th>  Adj. R-squared:    </th> <td>   0.522</td> \n",
              "</tr>\n",
              "<tr>\n",
              "  <th>Method:</th>             <td>Least Squares</td>  <th>  F-statistic:       </th> <td>   291.0</td> \n",
              "</tr>\n",
              "<tr>\n",
              "  <th>Date:</th>             <td>Tue, 06 May 2025</td> <th>  Prob (F-statistic):</th>  <td>  0.00</td>  \n",
              "</tr>\n",
              "<tr>\n",
              "  <th>Time:</th>                 <td>11:23:19</td>     <th>  Log-Likelihood:    </th> <td> -21918.</td> \n",
              "</tr>\n",
              "<tr>\n",
              "  <th>No. Observations:</th>      <td>  3190</td>      <th>  AIC:               </th> <td>4.386e+04</td>\n",
              "</tr>\n",
              "<tr>\n",
              "  <th>Df Residuals:</th>          <td>  3177</td>      <th>  BIC:               </th> <td>4.394e+04</td>\n",
              "</tr>\n",
              "<tr>\n",
              "  <th>Df Model:</th>              <td>    12</td>      <th>                     </th>     <td> </td>    \n",
              "</tr>\n",
              "<tr>\n",
              "  <th>Covariance Type:</th>      <td>nonrobust</td>    <th>                     </th>     <td> </td>    \n",
              "</tr>\n",
              "</table>\n",
              "<table class=\"simpletable\">\n",
              "<tr>\n",
              "               <td></td>                 <th>coef</th>     <th>std err</th>      <th>t</th>      <th>P>|t|</th>  <th>[0.025</th>    <th>0.975]</th>  \n",
              "</tr>\n",
              "<tr>\n",
              "  <th>const</th>                      <td>  239.0553</td> <td>   58.455</td> <td>    4.090</td> <td> 0.000</td> <td>  124.442</td> <td>  353.668</td>\n",
              "</tr>\n",
              "<tr>\n",
              "  <th>avg_rating</th>                 <td>   71.4526</td> <td>   12.078</td> <td>    5.916</td> <td> 0.000</td> <td>   47.770</td> <td>   95.135</td>\n",
              "</tr>\n",
              "<tr>\n",
              "  <th>cnt_reviews</th>                <td>    0.3925</td> <td>    0.041</td> <td>    9.640</td> <td> 0.000</td> <td>    0.313</td> <td>    0.472</td>\n",
              "</tr>\n",
              "<tr>\n",
              "  <th>pages_cnt</th>                  <td>    0.5622</td> <td>    0.020</td> <td>   28.217</td> <td> 0.000</td> <td>    0.523</td> <td>    0.601</td>\n",
              "</tr>\n",
              "<tr>\n",
              "  <th>tirage</th>                     <td>   -0.0243</td> <td>    0.002</td> <td>  -13.623</td> <td> 0.000</td> <td>   -0.028</td> <td>   -0.021</td>\n",
              "</tr>\n",
              "<tr>\n",
              "  <th>publisher_АСТ</th>              <td> -195.0463</td> <td>   22.296</td> <td>   -8.748</td> <td> 0.000</td> <td> -238.761</td> <td> -151.331</td>\n",
              "</tr>\n",
              "<tr>\n",
              "  <th>publisher_Азбука</th>           <td> -172.3658</td> <td>   23.565</td> <td>   -7.314</td> <td> 0.000</td> <td> -218.570</td> <td> -126.162</td>\n",
              "</tr>\n",
              "<tr>\n",
              "  <th>publisher_Иностранка</th>       <td>   73.1580</td> <td>   29.507</td> <td>    2.479</td> <td> 0.013</td> <td>   15.303</td> <td>  131.013</td>\n",
              "</tr>\n",
              "<tr>\n",
              "  <th>publisher_Эксмо</th>            <td> -155.6886</td> <td>   22.102</td> <td>   -7.044</td> <td> 0.000</td> <td> -199.023</td> <td> -112.354</td>\n",
              "</tr>\n",
              "<tr>\n",
              "  <th>cover_type_Мягкий_переплёт</th> <td> -270.4847</td> <td>    8.930</td> <td>  -30.291</td> <td> 0.000</td> <td> -287.993</td> <td> -252.976</td>\n",
              "</tr>\n",
              "<tr>\n",
              "  <th>2024_or_2025</th>               <td>   29.8545</td> <td>    9.663</td> <td>    3.090</td> <td> 0.002</td> <td>   10.908</td> <td>   48.800</td>\n",
              "</tr>\n",
              "<tr>\n",
              "  <th>6-</th>                         <td>  395.6437</td> <td>   47.904</td> <td>    8.259</td> <td> 0.000</td> <td>  301.717</td> <td>  489.570</td>\n",
              "</tr>\n",
              "<tr>\n",
              "  <th>16+</th>                        <td>   67.5216</td> <td>   11.281</td> <td>    5.985</td> <td> 0.000</td> <td>   45.402</td> <td>   89.641</td>\n",
              "</tr>\n",
              "</table>\n",
              "<table class=\"simpletable\">\n",
              "<tr>\n",
              "  <th>Omnibus:</th>       <td>2435.121</td> <th>  Durbin-Watson:     </th> <td>   2.015</td> \n",
              "</tr>\n",
              "<tr>\n",
              "  <th>Prob(Omnibus):</th>  <td> 0.000</td>  <th>  Jarque-Bera (JB):  </th> <td>98417.195</td>\n",
              "</tr>\n",
              "<tr>\n",
              "  <th>Skew:</th>           <td> 3.231</td>  <th>  Prob(JB):          </th> <td>    0.00</td> \n",
              "</tr>\n",
              "<tr>\n",
              "  <th>Kurtosis:</th>       <td>29.433</td>  <th>  Cond. No.          </th> <td>7.54e+04</td> \n",
              "</tr>\n",
              "</table><br/><br/>Notes:<br/>[1] Standard Errors assume that the covariance matrix of the errors is correctly specified.<br/>[2] The condition number is large, 7.54e+04. This might indicate that there are<br/>strong multicollinearity or other numerical problems."
            ],
            "text/latex": [
              "\\begin{center}\n",
              "\\begin{tabular}{lclc}\n",
              "\\toprule\n",
              "\\textbf{Dep. Variable:}                &      price       & \\textbf{  R-squared:         } &     0.524   \\\\\n",
              "\\textbf{Model:}                        &       OLS        & \\textbf{  Adj. R-squared:    } &     0.522   \\\\\n",
              "\\textbf{Method:}                       &  Least Squares   & \\textbf{  F-statistic:       } &     291.0   \\\\\n",
              "\\textbf{Date:}                         & Tue, 06 May 2025 & \\textbf{  Prob (F-statistic):} &     0.00    \\\\\n",
              "\\textbf{Time:}                         &     11:23:19     & \\textbf{  Log-Likelihood:    } &   -21918.   \\\\\n",
              "\\textbf{No. Observations:}             &        3190      & \\textbf{  AIC:               } & 4.386e+04   \\\\\n",
              "\\textbf{Df Residuals:}                 &        3177      & \\textbf{  BIC:               } & 4.394e+04   \\\\\n",
              "\\textbf{Df Model:}                     &          12      & \\textbf{                     } &             \\\\\n",
              "\\textbf{Covariance Type:}              &    nonrobust     & \\textbf{                     } &             \\\\\n",
              "\\bottomrule\n",
              "\\end{tabular}\n",
              "\\begin{tabular}{lcccccc}\n",
              "                                       & \\textbf{coef} & \\textbf{std err} & \\textbf{t} & \\textbf{P$> |$t$|$} & \\textbf{[0.025} & \\textbf{0.975]}  \\\\\n",
              "\\midrule\n",
              "\\textbf{const}                         &     239.0553  &       58.455     &     4.090  &         0.000        &      124.442    &      353.668     \\\\\n",
              "\\textbf{avg\\_rating}                   &      71.4526  &       12.078     &     5.916  &         0.000        &       47.770    &       95.135     \\\\\n",
              "\\textbf{cnt\\_reviews}                  &       0.3925  &        0.041     &     9.640  &         0.000        &        0.313    &        0.472     \\\\\n",
              "\\textbf{pages\\_cnt}                    &       0.5622  &        0.020     &    28.217  &         0.000        &        0.523    &        0.601     \\\\\n",
              "\\textbf{tirage}                        &      -0.0243  &        0.002     &   -13.623  &         0.000        &       -0.028    &       -0.021     \\\\\n",
              "\\textbf{publisher\\_АСТ}                &    -195.0463  &       22.296     &    -8.748  &         0.000        &     -238.761    &     -151.331     \\\\\n",
              "\\textbf{publisher\\_Азбука}             &    -172.3658  &       23.565     &    -7.314  &         0.000        &     -218.570    &     -126.162     \\\\\n",
              "\\textbf{publisher\\_Иностранка}         &      73.1580  &       29.507     &     2.479  &         0.013        &       15.303    &      131.013     \\\\\n",
              "\\textbf{publisher\\_Эксмо}              &    -155.6886  &       22.102     &    -7.044  &         0.000        &     -199.023    &     -112.354     \\\\\n",
              "\\textbf{cover\\_type\\_Мягкий\\_переплёт} &    -270.4847  &        8.930     &   -30.291  &         0.000        &     -287.993    &     -252.976     \\\\\n",
              "\\textbf{2024\\_or\\_2025}                &      29.8545  &        9.663     &     3.090  &         0.002        &       10.908    &       48.800     \\\\\n",
              "\\textbf{6-}                            &     395.6437  &       47.904     &     8.259  &         0.000        &      301.717    &      489.570     \\\\\n",
              "\\textbf{16+}                           &      67.5216  &       11.281     &     5.985  &         0.000        &       45.402    &       89.641     \\\\\n",
              "\\bottomrule\n",
              "\\end{tabular}\n",
              "\\begin{tabular}{lclc}\n",
              "\\textbf{Omnibus:}       & 2435.121 & \\textbf{  Durbin-Watson:     } &     2.015  \\\\\n",
              "\\textbf{Prob(Omnibus):} &   0.000  & \\textbf{  Jarque-Bera (JB):  } & 98417.195  \\\\\n",
              "\\textbf{Skew:}          &   3.231  & \\textbf{  Prob(JB):          } &      0.00  \\\\\n",
              "\\textbf{Kurtosis:}      &  29.433  & \\textbf{  Cond. No.          } &  7.54e+04  \\\\\n",
              "\\bottomrule\n",
              "\\end{tabular}\n",
              "%\\caption{OLS Regression Results}\n",
              "\\end{center}\n",
              "\n",
              "Notes: \\newline\n",
              " [1] Standard Errors assume that the covariance matrix of the errors is correctly specified. \\newline\n",
              " [2] The condition number is large, 7.54e+04. This might indicate that there are \\newline\n",
              " strong multicollinearity or other numerical problems."
            ],
            "text/plain": [
              "<class 'statsmodels.iolib.summary.Summary'>\n",
              "\"\"\"\n",
              "                            OLS Regression Results                            \n",
              "==============================================================================\n",
              "Dep. Variable:                  price   R-squared:                       0.524\n",
              "Model:                            OLS   Adj. R-squared:                  0.522\n",
              "Method:                 Least Squares   F-statistic:                     291.0\n",
              "Date:                Tue, 06 May 2025   Prob (F-statistic):               0.00\n",
              "Time:                        11:23:19   Log-Likelihood:                -21918.\n",
              "No. Observations:                3190   AIC:                         4.386e+04\n",
              "Df Residuals:                    3177   BIC:                         4.394e+04\n",
              "Df Model:                          12                                         \n",
              "Covariance Type:            nonrobust                                         \n",
              "==============================================================================================\n",
              "                                 coef    std err          t      P>|t|      [0.025      0.975]\n",
              "----------------------------------------------------------------------------------------------\n",
              "const                        239.0553     58.455      4.090      0.000     124.442     353.668\n",
              "avg_rating                    71.4526     12.078      5.916      0.000      47.770      95.135\n",
              "cnt_reviews                    0.3925      0.041      9.640      0.000       0.313       0.472\n",
              "pages_cnt                      0.5622      0.020     28.217      0.000       0.523       0.601\n",
              "tirage                        -0.0243      0.002    -13.623      0.000      -0.028      -0.021\n",
              "publisher_АСТ               -195.0463     22.296     -8.748      0.000    -238.761    -151.331\n",
              "publisher_Азбука            -172.3658     23.565     -7.314      0.000    -218.570    -126.162\n",
              "publisher_Иностранка          73.1580     29.507      2.479      0.013      15.303     131.013\n",
              "publisher_Эксмо             -155.6886     22.102     -7.044      0.000    -199.023    -112.354\n",
              "cover_type_Мягкий_переплёт  -270.4847      8.930    -30.291      0.000    -287.993    -252.976\n",
              "2024_or_2025                  29.8545      9.663      3.090      0.002      10.908      48.800\n",
              "6-                           395.6437     47.904      8.259      0.000     301.717     489.570\n",
              "16+                           67.5216     11.281      5.985      0.000      45.402      89.641\n",
              "==============================================================================\n",
              "Omnibus:                     2435.121   Durbin-Watson:                   2.015\n",
              "Prob(Omnibus):                  0.000   Jarque-Bera (JB):            98417.195\n",
              "Skew:                           3.231   Prob(JB):                         0.00\n",
              "Kurtosis:                      29.433   Cond. No.                     7.54e+04\n",
              "==============================================================================\n",
              "\n",
              "Notes:\n",
              "[1] Standard Errors assume that the covariance matrix of the errors is correctly specified.\n",
              "[2] The condition number is large, 7.54e+04. This might indicate that there are\n",
              "strong multicollinearity or other numerical problems.\n",
              "\"\"\""
            ]
          },
          "execution_count": 55,
          "metadata": {},
          "output_type": "execute_result"
        }
      ],
      "source": [
        "model.summary()"
      ]
    },
    {
      "cell_type": "code",
      "execution_count": null,
      "id": "27ea24d9",
      "metadata": {
        "id": "27ea24d9"
      },
      "outputs": [],
      "source": [
        "ln_X = np.log(data[num_features])\n",
        "ln_X = pd.concat([ln_X, X.drop(columns=num_features)], axis=1)\n",
        "ln_X = sm.add_constant(ln_X)\n",
        "\n",
        "model_ln_X = sm.OLS(y, ln_X).fit()"
      ]
    },
    {
      "cell_type": "code",
      "execution_count": null,
      "id": "3aeedeac",
      "metadata": {
        "colab": {
          "base_uri": "https://localhost:8080/",
          "height": 1000
        },
        "collapsed": true,
        "id": "3aeedeac",
        "outputId": "de034cf6-1d86-42f1-9265-b3eb13092255"
      },
      "outputs": [
        {
          "data": {
            "text/html": [
              "<table class=\"simpletable\">\n",
              "<caption>OLS Regression Results</caption>\n",
              "<tr>\n",
              "  <th>Dep. Variable:</th>          <td>price</td>      <th>  R-squared:         </th> <td>   0.720</td> \n",
              "</tr>\n",
              "<tr>\n",
              "  <th>Model:</th>                   <td>OLS</td>       <th>  Adj. R-squared:    </th> <td>   0.717</td> \n",
              "</tr>\n",
              "<tr>\n",
              "  <th>Method:</th>             <td>Least Squares</td>  <th>  F-statistic:       </th> <td>   251.1</td> \n",
              "</tr>\n",
              "<tr>\n",
              "  <th>Date:</th>             <td>Mon, 05 May 2025</td> <th>  Prob (F-statistic):</th>  <td>  0.00</td>  \n",
              "</tr>\n",
              "<tr>\n",
              "  <th>Time:</th>                 <td>07:49:09</td>     <th>  Log-Likelihood:    </th> <td> -21756.</td> \n",
              "</tr>\n",
              "<tr>\n",
              "  <th>No. Observations:</th>      <td>  3256</td>      <th>  AIC:               </th> <td>4.358e+04</td>\n",
              "</tr>\n",
              "<tr>\n",
              "  <th>Df Residuals:</th>          <td>  3222</td>      <th>  BIC:               </th> <td>4.379e+04</td>\n",
              "</tr>\n",
              "<tr>\n",
              "  <th>Df Model:</th>              <td>    33</td>      <th>                     </th>     <td> </td>    \n",
              "</tr>\n",
              "<tr>\n",
              "  <th>Covariance Type:</th>      <td>nonrobust</td>    <th>                     </th>     <td> </td>    \n",
              "</tr>\n",
              "</table>\n",
              "<table class=\"simpletable\">\n",
              "<tr>\n",
              "                 <td></td>                    <th>coef</th>     <th>std err</th>      <th>t</th>      <th>P>|t|</th>  <th>[0.025</th>    <th>0.975]</th>  \n",
              "</tr>\n",
              "<tr>\n",
              "  <th>avg_rating</th>                      <td>   89.7436</td> <td>   49.336</td> <td>    1.819</td> <td> 0.069</td> <td>   -6.990</td> <td>  186.478</td>\n",
              "</tr>\n",
              "<tr>\n",
              "  <th>cnt_reviews</th>                     <td>   13.7996</td> <td>    3.077</td> <td>    4.484</td> <td> 0.000</td> <td>    7.766</td> <td>   19.833</td>\n",
              "</tr>\n",
              "<tr>\n",
              "  <th>pages_cnt</th>                       <td> -321.2715</td> <td>   18.825</td> <td>  -17.066</td> <td> 0.000</td> <td> -358.181</td> <td> -284.362</td>\n",
              "</tr>\n",
              "<tr>\n",
              "  <th>tirage</th>                          <td>  -84.9547</td> <td>    7.907</td> <td>  -10.744</td> <td> 0.000</td> <td> -100.459</td> <td>  -69.451</td>\n",
              "</tr>\n",
              "<tr>\n",
              "  <th>weight</th>                          <td>  717.8490</td> <td>   17.604</td> <td>   40.778</td> <td> 0.000</td> <td>  683.333</td> <td>  752.365</td>\n",
              "</tr>\n",
              "<tr>\n",
              "  <th>thickness</th>                       <td>  -63.6595</td> <td>   20.762</td> <td>   -3.066</td> <td> 0.002</td> <td> -104.367</td> <td>  -22.952</td>\n",
              "</tr>\n",
              "<tr>\n",
              "  <th>width</th>                           <td>   94.4715</td> <td>   26.354</td> <td>    3.585</td> <td> 0.000</td> <td>   42.800</td> <td>  146.143</td>\n",
              "</tr>\n",
              "<tr>\n",
              "  <th>length</th>                          <td>   43.6833</td> <td>   37.006</td> <td>    1.180</td> <td> 0.238</td> <td>  -28.873</td> <td>  116.240</td>\n",
              "</tr>\n",
              "<tr>\n",
              "  <th>volume</th>                          <td>   74.4954</td> <td>   14.031</td> <td>    5.309</td> <td> 0.000</td> <td>   46.985</td> <td>  102.006</td>\n",
              "</tr>\n",
              "<tr>\n",
              "  <th>const</th>                           <td>-1738.4644</td> <td>  275.435</td> <td>   -6.312</td> <td> 0.000</td> <td>-2278.510</td> <td>-1198.418</td>\n",
              "</tr>\n",
              "<tr>\n",
              "  <th>author_Джейн Остен</th>              <td>  -10.2398</td> <td>   24.044</td> <td>   -0.426</td> <td> 0.670</td> <td>  -57.382</td> <td>   36.903</td>\n",
              "</tr>\n",
              "<tr>\n",
              "  <th>author_Джек Лондон</th>              <td>  -36.1602</td> <td>   23.519</td> <td>   -1.537</td> <td> 0.124</td> <td>  -82.275</td> <td>    9.954</td>\n",
              "</tr>\n",
              "<tr>\n",
              "  <th>author_Джордж Оруэлл</th>            <td>   21.3754</td> <td>   24.843</td> <td>    0.860</td> <td> 0.390</td> <td>  -27.335</td> <td>   70.086</td>\n",
              "</tr>\n",
              "<tr>\n",
              "  <th>author_Лев Толстой</th>              <td>  -61.2088</td> <td>   26.298</td> <td>   -2.327</td> <td> 0.020</td> <td> -112.772</td> <td>   -9.646</td>\n",
              "</tr>\n",
              "<tr>\n",
              "  <th>author_Луиза Мэй Олкотт</th>         <td>  -20.5420</td> <td>   27.651</td> <td>   -0.743</td> <td> 0.458</td> <td>  -74.757</td> <td>   33.673</td>\n",
              "</tr>\n",
              "<tr>\n",
              "  <th>author_Михаил Булгаков</th>          <td>   87.2910</td> <td>   22.732</td> <td>    3.840</td> <td> 0.000</td> <td>   42.720</td> <td>  131.862</td>\n",
              "</tr>\n",
              "<tr>\n",
              "  <th>author_Николай Гоголь</th>           <td>  -24.1705</td> <td>   28.019</td> <td>   -0.863</td> <td> 0.388</td> <td>  -79.108</td> <td>   30.767</td>\n",
              "</tr>\n",
              "<tr>\n",
              "  <th>author_Федор Достоевский</th>        <td>  -42.9782</td> <td>   17.914</td> <td>   -2.399</td> <td> 0.016</td> <td>  -78.103</td> <td>   -7.853</td>\n",
              "</tr>\n",
              "<tr>\n",
              "  <th>author_Эрих Ремарк</th>              <td>   33.0632</td> <td>   24.960</td> <td>    1.325</td> <td> 0.185</td> <td>  -15.876</td> <td>   82.002</td>\n",
              "</tr>\n",
              "<tr>\n",
              "  <th>publisher_АСТ</th>                   <td>  -57.7059</td> <td>   25.490</td> <td>   -2.264</td> <td> 0.024</td> <td> -107.684</td> <td>   -7.728</td>\n",
              "</tr>\n",
              "<tr>\n",
              "  <th>publisher_Азбука</th>                <td>   -0.6769</td> <td>   26.406</td> <td>   -0.026</td> <td> 0.980</td> <td>  -52.452</td> <td>   51.098</td>\n",
              "</tr>\n",
              "<tr>\n",
              "  <th>publisher_Иностранка</th>            <td>   79.2501</td> <td>   29.877</td> <td>    2.653</td> <td> 0.008</td> <td>   20.670</td> <td>  137.830</td>\n",
              "</tr>\n",
              "<tr>\n",
              "  <th>publisher_Манн, Иванов и Фербер</th> <td>  -81.4442</td> <td>   33.898</td> <td>   -2.403</td> <td> 0.016</td> <td> -147.908</td> <td>  -14.980</td>\n",
              "</tr>\n",
              "<tr>\n",
              "  <th>publisher_Эксмо</th>                 <td>  -70.0747</td> <td>   25.736</td> <td>   -2.723</td> <td> 0.007</td> <td> -120.536</td> <td>  -19.614</td>\n",
              "</tr>\n",
              "<tr>\n",
              "  <th>publication_year_2021</th>           <td>  -52.2297</td> <td>   38.371</td> <td>   -1.361</td> <td> 0.174</td> <td> -127.463</td> <td>   23.003</td>\n",
              "</tr>\n",
              "<tr>\n",
              "  <th>publication_year_2022</th>           <td>  -83.4072</td> <td>   32.037</td> <td>   -2.603</td> <td> 0.009</td> <td> -146.222</td> <td>  -20.592</td>\n",
              "</tr>\n",
              "<tr>\n",
              "  <th>publication_year_2023</th>           <td>  -66.2700</td> <td>   30.789</td> <td>   -2.152</td> <td> 0.031</td> <td> -126.639</td> <td>   -5.901</td>\n",
              "</tr>\n",
              "<tr>\n",
              "  <th>publication_year_2024</th>           <td>  -51.9486</td> <td>   30.227</td> <td>   -1.719</td> <td> 0.086</td> <td> -111.214</td> <td>    7.317</td>\n",
              "</tr>\n",
              "<tr>\n",
              "  <th>publication_year_2025</th>           <td>  -63.6553</td> <td>   30.454</td> <td>   -2.090</td> <td> 0.037</td> <td> -123.366</td> <td>   -3.945</td>\n",
              "</tr>\n",
              "<tr>\n",
              "  <th>cover_type_Мягкий переплёт</th>      <td>  118.3979</td> <td>  194.392</td> <td>    0.609</td> <td> 0.543</td> <td> -262.747</td> <td>  499.543</td>\n",
              "</tr>\n",
              "<tr>\n",
              "  <th>cover_type_Твёрдый переплёт</th>     <td>   10.6219</td> <td>  194.273</td> <td>    0.055</td> <td> 0.956</td> <td> -370.289</td> <td>  391.533</td>\n",
              "</tr>\n",
              "<tr>\n",
              "  <th>reading_age_0+</th>                  <td> -184.8734</td> <td>  121.215</td> <td>   -1.525</td> <td> 0.127</td> <td> -422.540</td> <td>   52.793</td>\n",
              "</tr>\n",
              "<tr>\n",
              "  <th>reading_age_12+</th>                 <td> -181.5612</td> <td>   42.852</td> <td>   -4.237</td> <td> 0.000</td> <td> -265.582</td> <td>  -97.540</td>\n",
              "</tr>\n",
              "<tr>\n",
              "  <th>reading_age_16+</th>                 <td> -152.0842</td> <td>   42.280</td> <td>   -3.597</td> <td> 0.000</td> <td> -234.982</td> <td>  -69.186</td>\n",
              "</tr>\n",
              "<tr>\n",
              "  <th>reading_age_18+</th>                 <td>  -68.9553</td> <td>   45.158</td> <td>   -1.527</td> <td> 0.127</td> <td> -157.497</td> <td>   19.587</td>\n",
              "</tr>\n",
              "</table>\n",
              "<table class=\"simpletable\">\n",
              "<tr>\n",
              "  <th>Omnibus:</th>       <td>3254.983</td> <th>  Durbin-Watson:     </th>  <td>   2.013</td> \n",
              "</tr>\n",
              "<tr>\n",
              "  <th>Prob(Omnibus):</th>  <td> 0.000</td>  <th>  Jarque-Bera (JB):  </th> <td>337197.789</td>\n",
              "</tr>\n",
              "<tr>\n",
              "  <th>Skew:</th>           <td> 4.616</td>  <th>  Prob(JB):          </th>  <td>    0.00</td> \n",
              "</tr>\n",
              "<tr>\n",
              "  <th>Kurtosis:</th>       <td>51.993</td>  <th>  Cond. No.          </th>  <td>1.01e+16</td> \n",
              "</tr>\n",
              "</table><br/><br/>Notes:<br/>[1] Standard Errors assume that the covariance matrix of the errors is correctly specified.<br/>[2] The smallest eigenvalue is 6.72e-27. This might indicate that there are<br/>strong multicollinearity problems or that the design matrix is singular."
            ],
            "text/latex": [
              "\\begin{center}\n",
              "\\begin{tabular}{lclc}\n",
              "\\toprule\n",
              "\\textbf{Dep. Variable:}                   &      price       & \\textbf{  R-squared:         } &     0.720   \\\\\n",
              "\\textbf{Model:}                           &       OLS        & \\textbf{  Adj. R-squared:    } &     0.717   \\\\\n",
              "\\textbf{Method:}                          &  Least Squares   & \\textbf{  F-statistic:       } &     251.1   \\\\\n",
              "\\textbf{Date:}                            & Mon, 05 May 2025 & \\textbf{  Prob (F-statistic):} &     0.00    \\\\\n",
              "\\textbf{Time:}                            &     07:49:09     & \\textbf{  Log-Likelihood:    } &   -21756.   \\\\\n",
              "\\textbf{No. Observations:}                &        3256      & \\textbf{  AIC:               } & 4.358e+04   \\\\\n",
              "\\textbf{Df Residuals:}                    &        3222      & \\textbf{  BIC:               } & 4.379e+04   \\\\\n",
              "\\textbf{Df Model:}                        &          33      & \\textbf{                     } &             \\\\\n",
              "\\textbf{Covariance Type:}                 &    nonrobust     & \\textbf{                     } &             \\\\\n",
              "\\bottomrule\n",
              "\\end{tabular}\n",
              "\\begin{tabular}{lcccccc}\n",
              "                                          & \\textbf{coef} & \\textbf{std err} & \\textbf{t} & \\textbf{P$> |$t$|$} & \\textbf{[0.025} & \\textbf{0.975]}  \\\\\n",
              "\\midrule\n",
              "\\textbf{avg\\_rating}                      &      89.7436  &       49.336     &     1.819  &         0.069        &       -6.990    &      186.478     \\\\\n",
              "\\textbf{cnt\\_reviews}                     &      13.7996  &        3.077     &     4.484  &         0.000        &        7.766    &       19.833     \\\\\n",
              "\\textbf{pages\\_cnt}                       &    -321.2715  &       18.825     &   -17.066  &         0.000        &     -358.181    &     -284.362     \\\\\n",
              "\\textbf{tirage}                           &     -84.9547  &        7.907     &   -10.744  &         0.000        &     -100.459    &      -69.451     \\\\\n",
              "\\textbf{weight}                           &     717.8490  &       17.604     &    40.778  &         0.000        &      683.333    &      752.365     \\\\\n",
              "\\textbf{thickness}                        &     -63.6595  &       20.762     &    -3.066  &         0.002        &     -104.367    &      -22.952     \\\\\n",
              "\\textbf{width}                            &      94.4715  &       26.354     &     3.585  &         0.000        &       42.800    &      146.143     \\\\\n",
              "\\textbf{length}                           &      43.6833  &       37.006     &     1.180  &         0.238        &      -28.873    &      116.240     \\\\\n",
              "\\textbf{volume}                           &      74.4954  &       14.031     &     5.309  &         0.000        &       46.985    &      102.006     \\\\\n",
              "\\textbf{const}                            &   -1738.4644  &      275.435     &    -6.312  &         0.000        &    -2278.510    &    -1198.418     \\\\\n",
              "\\textbf{author\\_Джейн Остен}              &     -10.2398  &       24.044     &    -0.426  &         0.670        &      -57.382    &       36.903     \\\\\n",
              "\\textbf{author\\_Джек Лондон}              &     -36.1602  &       23.519     &    -1.537  &         0.124        &      -82.275    &        9.954     \\\\\n",
              "\\textbf{author\\_Джордж Оруэлл}            &      21.3754  &       24.843     &     0.860  &         0.390        &      -27.335    &       70.086     \\\\\n",
              "\\textbf{author\\_Лев Толстой}              &     -61.2088  &       26.298     &    -2.327  &         0.020        &     -112.772    &       -9.646     \\\\\n",
              "\\textbf{author\\_Луиза Мэй Олкотт}         &     -20.5420  &       27.651     &    -0.743  &         0.458        &      -74.757    &       33.673     \\\\\n",
              "\\textbf{author\\_Михаил Булгаков}          &      87.2910  &       22.732     &     3.840  &         0.000        &       42.720    &      131.862     \\\\\n",
              "\\textbf{author\\_Николай Гоголь}           &     -24.1705  &       28.019     &    -0.863  &         0.388        &      -79.108    &       30.767     \\\\\n",
              "\\textbf{author\\_Федор Достоевский}        &     -42.9782  &       17.914     &    -2.399  &         0.016        &      -78.103    &       -7.853     \\\\\n",
              "\\textbf{author\\_Эрих Ремарк}              &      33.0632  &       24.960     &     1.325  &         0.185        &      -15.876    &       82.002     \\\\\n",
              "\\textbf{publisher\\_АСТ}                   &     -57.7059  &       25.490     &    -2.264  &         0.024        &     -107.684    &       -7.728     \\\\\n",
              "\\textbf{publisher\\_Азбука}                &      -0.6769  &       26.406     &    -0.026  &         0.980        &      -52.452    &       51.098     \\\\\n",
              "\\textbf{publisher\\_Иностранка}            &      79.2501  &       29.877     &     2.653  &         0.008        &       20.670    &      137.830     \\\\\n",
              "\\textbf{publisher\\_Манн, Иванов и Фербер} &     -81.4442  &       33.898     &    -2.403  &         0.016        &     -147.908    &      -14.980     \\\\\n",
              "\\textbf{publisher\\_Эксмо}                 &     -70.0747  &       25.736     &    -2.723  &         0.007        &     -120.536    &      -19.614     \\\\\n",
              "\\textbf{publication\\_year\\_2021}          &     -52.2297  &       38.371     &    -1.361  &         0.174        &     -127.463    &       23.003     \\\\\n",
              "\\textbf{publication\\_year\\_2022}          &     -83.4072  &       32.037     &    -2.603  &         0.009        &     -146.222    &      -20.592     \\\\\n",
              "\\textbf{publication\\_year\\_2023}          &     -66.2700  &       30.789     &    -2.152  &         0.031        &     -126.639    &       -5.901     \\\\\n",
              "\\textbf{publication\\_year\\_2024}          &     -51.9486  &       30.227     &    -1.719  &         0.086        &     -111.214    &        7.317     \\\\\n",
              "\\textbf{publication\\_year\\_2025}          &     -63.6553  &       30.454     &    -2.090  &         0.037        &     -123.366    &       -3.945     \\\\\n",
              "\\textbf{cover\\_type\\_Мягкий переплёт}     &     118.3979  &      194.392     &     0.609  &         0.543        &     -262.747    &      499.543     \\\\\n",
              "\\textbf{cover\\_type\\_Твёрдый переплёт}    &      10.6219  &      194.273     &     0.055  &         0.956        &     -370.289    &      391.533     \\\\\n",
              "\\textbf{reading\\_age\\_0+}                 &    -184.8734  &      121.215     &    -1.525  &         0.127        &     -422.540    &       52.793     \\\\\n",
              "\\textbf{reading\\_age\\_12+}                &    -181.5612  &       42.852     &    -4.237  &         0.000        &     -265.582    &      -97.540     \\\\\n",
              "\\textbf{reading\\_age\\_16+}                &    -152.0842  &       42.280     &    -3.597  &         0.000        &     -234.982    &      -69.186     \\\\\n",
              "\\textbf{reading\\_age\\_18+}                &     -68.9553  &       45.158     &    -1.527  &         0.127        &     -157.497    &       19.587     \\\\\n",
              "\\bottomrule\n",
              "\\end{tabular}\n",
              "\\begin{tabular}{lclc}\n",
              "\\textbf{Omnibus:}       & 3254.983 & \\textbf{  Durbin-Watson:     } &     2.013   \\\\\n",
              "\\textbf{Prob(Omnibus):} &   0.000  & \\textbf{  Jarque-Bera (JB):  } & 337197.789  \\\\\n",
              "\\textbf{Skew:}          &   4.616  & \\textbf{  Prob(JB):          } &      0.00   \\\\\n",
              "\\textbf{Kurtosis:}      &  51.993  & \\textbf{  Cond. No.          } &  1.01e+16   \\\\\n",
              "\\bottomrule\n",
              "\\end{tabular}\n",
              "%\\caption{OLS Regression Results}\n",
              "\\end{center}\n",
              "\n",
              "Notes: \\newline\n",
              " [1] Standard Errors assume that the covariance matrix of the errors is correctly specified. \\newline\n",
              " [2] The smallest eigenvalue is 6.72e-27. This might indicate that there are \\newline\n",
              " strong multicollinearity problems or that the design matrix is singular."
            ],
            "text/plain": [
              "<class 'statsmodels.iolib.summary.Summary'>\n",
              "\"\"\"\n",
              "                            OLS Regression Results                            \n",
              "==============================================================================\n",
              "Dep. Variable:                  price   R-squared:                       0.720\n",
              "Model:                            OLS   Adj. R-squared:                  0.717\n",
              "Method:                 Least Squares   F-statistic:                     251.1\n",
              "Date:                Mon, 05 May 2025   Prob (F-statistic):               0.00\n",
              "Time:                        07:49:09   Log-Likelihood:                -21756.\n",
              "No. Observations:                3256   AIC:                         4.358e+04\n",
              "Df Residuals:                    3222   BIC:                         4.379e+04\n",
              "Df Model:                          33                                         \n",
              "Covariance Type:            nonrobust                                         \n",
              "===================================================================================================\n",
              "                                      coef    std err          t      P>|t|      [0.025      0.975]\n",
              "---------------------------------------------------------------------------------------------------\n",
              "avg_rating                         89.7436     49.336      1.819      0.069      -6.990     186.478\n",
              "cnt_reviews                        13.7996      3.077      4.484      0.000       7.766      19.833\n",
              "pages_cnt                        -321.2715     18.825    -17.066      0.000    -358.181    -284.362\n",
              "tirage                            -84.9547      7.907    -10.744      0.000    -100.459     -69.451\n",
              "weight                            717.8490     17.604     40.778      0.000     683.333     752.365\n",
              "thickness                         -63.6595     20.762     -3.066      0.002    -104.367     -22.952\n",
              "width                              94.4715     26.354      3.585      0.000      42.800     146.143\n",
              "length                             43.6833     37.006      1.180      0.238     -28.873     116.240\n",
              "volume                             74.4954     14.031      5.309      0.000      46.985     102.006\n",
              "const                           -1738.4644    275.435     -6.312      0.000   -2278.510   -1198.418\n",
              "author_Джейн Остен                -10.2398     24.044     -0.426      0.670     -57.382      36.903\n",
              "author_Джек Лондон                -36.1602     23.519     -1.537      0.124     -82.275       9.954\n",
              "author_Джордж Оруэлл               21.3754     24.843      0.860      0.390     -27.335      70.086\n",
              "author_Лев Толстой                -61.2088     26.298     -2.327      0.020    -112.772      -9.646\n",
              "author_Луиза Мэй Олкотт           -20.5420     27.651     -0.743      0.458     -74.757      33.673\n",
              "author_Михаил Булгаков             87.2910     22.732      3.840      0.000      42.720     131.862\n",
              "author_Николай Гоголь             -24.1705     28.019     -0.863      0.388     -79.108      30.767\n",
              "author_Федор Достоевский          -42.9782     17.914     -2.399      0.016     -78.103      -7.853\n",
              "author_Эрих Ремарк                 33.0632     24.960      1.325      0.185     -15.876      82.002\n",
              "publisher_АСТ                     -57.7059     25.490     -2.264      0.024    -107.684      -7.728\n",
              "publisher_Азбука                   -0.6769     26.406     -0.026      0.980     -52.452      51.098\n",
              "publisher_Иностранка               79.2501     29.877      2.653      0.008      20.670     137.830\n",
              "publisher_Манн, Иванов и Фербер   -81.4442     33.898     -2.403      0.016    -147.908     -14.980\n",
              "publisher_Эксмо                   -70.0747     25.736     -2.723      0.007    -120.536     -19.614\n",
              "publication_year_2021             -52.2297     38.371     -1.361      0.174    -127.463      23.003\n",
              "publication_year_2022             -83.4072     32.037     -2.603      0.009    -146.222     -20.592\n",
              "publication_year_2023             -66.2700     30.789     -2.152      0.031    -126.639      -5.901\n",
              "publication_year_2024             -51.9486     30.227     -1.719      0.086    -111.214       7.317\n",
              "publication_year_2025             -63.6553     30.454     -2.090      0.037    -123.366      -3.945\n",
              "cover_type_Мягкий переплёт        118.3979    194.392      0.609      0.543    -262.747     499.543\n",
              "cover_type_Твёрдый переплёт        10.6219    194.273      0.055      0.956    -370.289     391.533\n",
              "reading_age_0+                   -184.8734    121.215     -1.525      0.127    -422.540      52.793\n",
              "reading_age_12+                  -181.5612     42.852     -4.237      0.000    -265.582     -97.540\n",
              "reading_age_16+                  -152.0842     42.280     -3.597      0.000    -234.982     -69.186\n",
              "reading_age_18+                   -68.9553     45.158     -1.527      0.127    -157.497      19.587\n",
              "==============================================================================\n",
              "Omnibus:                     3254.983   Durbin-Watson:                   2.013\n",
              "Prob(Omnibus):                  0.000   Jarque-Bera (JB):           337197.789\n",
              "Skew:                           4.616   Prob(JB):                         0.00\n",
              "Kurtosis:                      51.993   Cond. No.                     1.01e+16\n",
              "==============================================================================\n",
              "\n",
              "Notes:\n",
              "[1] Standard Errors assume that the covariance matrix of the errors is correctly specified.\n",
              "[2] The smallest eigenvalue is 6.72e-27. This might indicate that there are\n",
              "strong multicollinearity problems or that the design matrix is singular.\n",
              "\"\"\""
            ]
          },
          "execution_count": 17,
          "metadata": {},
          "output_type": "execute_result"
        }
      ],
      "source": [
        "model_ln_X.summary()"
      ]
    },
    {
      "cell_type": "markdown",
      "id": "2c76604f",
      "metadata": {
        "id": "2c76604f"
      },
      "source": [
        "**Вывод:** при сравнении ln_X - y с X - y нормированный R^2 лучше у X - y"
      ]
    },
    {
      "cell_type": "code",
      "execution_count": null,
      "id": "bed0e61f",
      "metadata": {
        "colab": {
          "base_uri": "https://localhost:8080/"
        },
        "id": "bed0e61f",
        "outputId": "4cbf9ef9-efde-4055-f32d-13386d998fa6"
      },
      "outputs": [
        {
          "data": {
            "text/plain": [
              "(3256, 3252)"
            ]
          },
          "execution_count": 18,
          "metadata": {},
          "output_type": "execute_result"
        }
      ],
      "source": [
        "ln_X.shape[0], len(ln_y)"
      ]
    },
    {
      "cell_type": "code",
      "execution_count": null,
      "id": "e37a24e4",
      "metadata": {
        "colab": {
          "base_uri": "https://localhost:8080/",
          "height": 304
        },
        "collapsed": true,
        "id": "e37a24e4",
        "outputId": "52216e31-2a08-48c2-e819-25cfb6a19100"
      },
      "outputs": [
        {
          "ename": "ValueError",
          "evalue": "The indices for endog and exog are not aligned",
          "output_type": "error",
          "traceback": [
            "\u001b[0;31m---------------------------------------------------------------------------\u001b[0m",
            "\u001b[0;31mValueError\u001b[0m                                Traceback (most recent call last)",
            "\u001b[0;32m<ipython-input-19-0be9f450751f>\u001b[0m in \u001b[0;36m<cell line: 0>\u001b[0;34m()\u001b[0m\n\u001b[0;32m----> 1\u001b[0;31m \u001b[0mmodel_ln_X_ln_y\u001b[0m \u001b[0;34m=\u001b[0m \u001b[0msm\u001b[0m\u001b[0;34m.\u001b[0m\u001b[0mOLS\u001b[0m\u001b[0;34m(\u001b[0m\u001b[0mln_y\u001b[0m\u001b[0;34m,\u001b[0m \u001b[0mln_X\u001b[0m\u001b[0;34m)\u001b[0m\u001b[0;34m.\u001b[0m\u001b[0mfit\u001b[0m\u001b[0;34m(\u001b[0m\u001b[0;34m)\u001b[0m\u001b[0;34m\u001b[0m\u001b[0;34m\u001b[0m\u001b[0m\n\u001b[0m\u001b[1;32m      2\u001b[0m \u001b[0mmodel_ln_X_ln_y\u001b[0m\u001b[0;34m.\u001b[0m\u001b[0msummary\u001b[0m\u001b[0;34m(\u001b[0m\u001b[0;34m)\u001b[0m\u001b[0;34m\u001b[0m\u001b[0;34m\u001b[0m\u001b[0m\n",
            "\u001b[0;32m/usr/local/lib/python3.11/dist-packages/statsmodels/regression/linear_model.py\u001b[0m in \u001b[0;36m__init__\u001b[0;34m(self, endog, exog, missing, hasconst, **kwargs)\u001b[0m\n\u001b[1;32m    919\u001b[0m                    \"An exception will be raised in the next version.\")\n\u001b[1;32m    920\u001b[0m             \u001b[0mwarnings\u001b[0m\u001b[0;34m.\u001b[0m\u001b[0mwarn\u001b[0m\u001b[0;34m(\u001b[0m\u001b[0mmsg\u001b[0m\u001b[0;34m,\u001b[0m \u001b[0mValueWarning\u001b[0m\u001b[0;34m)\u001b[0m\u001b[0;34m\u001b[0m\u001b[0;34m\u001b[0m\u001b[0m\n\u001b[0;32m--> 921\u001b[0;31m         super().__init__(endog, exog, missing=missing,\n\u001b[0m\u001b[1;32m    922\u001b[0m                                   hasconst=hasconst, **kwargs)\n\u001b[1;32m    923\u001b[0m         \u001b[0;32mif\u001b[0m \u001b[0;34m\"weights\"\u001b[0m \u001b[0;32min\u001b[0m \u001b[0mself\u001b[0m\u001b[0;34m.\u001b[0m\u001b[0m_init_keys\u001b[0m\u001b[0;34m:\u001b[0m\u001b[0;34m\u001b[0m\u001b[0;34m\u001b[0m\u001b[0m\n",
            "\u001b[0;32m/usr/local/lib/python3.11/dist-packages/statsmodels/regression/linear_model.py\u001b[0m in \u001b[0;36m__init__\u001b[0;34m(self, endog, exog, weights, missing, hasconst, **kwargs)\u001b[0m\n\u001b[1;32m    744\u001b[0m         \u001b[0;32melse\u001b[0m\u001b[0;34m:\u001b[0m\u001b[0;34m\u001b[0m\u001b[0;34m\u001b[0m\u001b[0m\n\u001b[1;32m    745\u001b[0m             \u001b[0mweights\u001b[0m \u001b[0;34m=\u001b[0m \u001b[0mweights\u001b[0m\u001b[0;34m.\u001b[0m\u001b[0msqueeze\u001b[0m\u001b[0;34m(\u001b[0m\u001b[0;34m)\u001b[0m\u001b[0;34m\u001b[0m\u001b[0;34m\u001b[0m\u001b[0m\n\u001b[0;32m--> 746\u001b[0;31m         super().__init__(endog, exog, missing=missing,\n\u001b[0m\u001b[1;32m    747\u001b[0m                                   weights=weights, hasconst=hasconst, **kwargs)\n\u001b[1;32m    748\u001b[0m         \u001b[0mnobs\u001b[0m \u001b[0;34m=\u001b[0m \u001b[0mself\u001b[0m\u001b[0;34m.\u001b[0m\u001b[0mexog\u001b[0m\u001b[0;34m.\u001b[0m\u001b[0mshape\u001b[0m\u001b[0;34m[\u001b[0m\u001b[0;36m0\u001b[0m\u001b[0;34m]\u001b[0m\u001b[0;34m\u001b[0m\u001b[0;34m\u001b[0m\u001b[0m\n",
            "\u001b[0;32m/usr/local/lib/python3.11/dist-packages/statsmodels/regression/linear_model.py\u001b[0m in \u001b[0;36m__init__\u001b[0;34m(self, endog, exog, **kwargs)\u001b[0m\n\u001b[1;32m    198\u001b[0m     \"\"\"\n\u001b[1;32m    199\u001b[0m     \u001b[0;32mdef\u001b[0m \u001b[0m__init__\u001b[0m\u001b[0;34m(\u001b[0m\u001b[0mself\u001b[0m\u001b[0;34m,\u001b[0m \u001b[0mendog\u001b[0m\u001b[0;34m,\u001b[0m \u001b[0mexog\u001b[0m\u001b[0;34m,\u001b[0m \u001b[0;34m**\u001b[0m\u001b[0mkwargs\u001b[0m\u001b[0;34m)\u001b[0m\u001b[0;34m:\u001b[0m\u001b[0;34m\u001b[0m\u001b[0;34m\u001b[0m\u001b[0m\n\u001b[0;32m--> 200\u001b[0;31m         \u001b[0msuper\u001b[0m\u001b[0;34m(\u001b[0m\u001b[0;34m)\u001b[0m\u001b[0;34m.\u001b[0m\u001b[0m__init__\u001b[0m\u001b[0;34m(\u001b[0m\u001b[0mendog\u001b[0m\u001b[0;34m,\u001b[0m \u001b[0mexog\u001b[0m\u001b[0;34m,\u001b[0m \u001b[0;34m**\u001b[0m\u001b[0mkwargs\u001b[0m\u001b[0;34m)\u001b[0m\u001b[0;34m\u001b[0m\u001b[0;34m\u001b[0m\u001b[0m\n\u001b[0m\u001b[1;32m    201\u001b[0m         \u001b[0mself\u001b[0m\u001b[0;34m.\u001b[0m\u001b[0mpinv_wexog\u001b[0m\u001b[0;34m:\u001b[0m \u001b[0mFloat64Array\u001b[0m \u001b[0;34m|\u001b[0m \u001b[0;32mNone\u001b[0m \u001b[0;34m=\u001b[0m \u001b[0;32mNone\u001b[0m\u001b[0;34m\u001b[0m\u001b[0;34m\u001b[0m\u001b[0m\n\u001b[1;32m    202\u001b[0m         \u001b[0mself\u001b[0m\u001b[0;34m.\u001b[0m\u001b[0m_data_attr\u001b[0m\u001b[0;34m.\u001b[0m\u001b[0mextend\u001b[0m\u001b[0;34m(\u001b[0m\u001b[0;34m[\u001b[0m\u001b[0;34m'pinv_wexog'\u001b[0m\u001b[0;34m,\u001b[0m \u001b[0;34m'wendog'\u001b[0m\u001b[0;34m,\u001b[0m \u001b[0;34m'wexog'\u001b[0m\u001b[0;34m,\u001b[0m \u001b[0;34m'weights'\u001b[0m\u001b[0;34m]\u001b[0m\u001b[0;34m)\u001b[0m\u001b[0;34m\u001b[0m\u001b[0;34m\u001b[0m\u001b[0m\n",
            "\u001b[0;32m/usr/local/lib/python3.11/dist-packages/statsmodels/base/model.py\u001b[0m in \u001b[0;36m__init__\u001b[0;34m(self, endog, exog, **kwargs)\u001b[0m\n\u001b[1;32m    268\u001b[0m \u001b[0;34m\u001b[0m\u001b[0m\n\u001b[1;32m    269\u001b[0m     \u001b[0;32mdef\u001b[0m \u001b[0m__init__\u001b[0m\u001b[0;34m(\u001b[0m\u001b[0mself\u001b[0m\u001b[0;34m,\u001b[0m \u001b[0mendog\u001b[0m\u001b[0;34m,\u001b[0m \u001b[0mexog\u001b[0m\u001b[0;34m=\u001b[0m\u001b[0;32mNone\u001b[0m\u001b[0;34m,\u001b[0m \u001b[0;34m**\u001b[0m\u001b[0mkwargs\u001b[0m\u001b[0;34m)\u001b[0m\u001b[0;34m:\u001b[0m\u001b[0;34m\u001b[0m\u001b[0;34m\u001b[0m\u001b[0m\n\u001b[0;32m--> 270\u001b[0;31m         \u001b[0msuper\u001b[0m\u001b[0;34m(\u001b[0m\u001b[0;34m)\u001b[0m\u001b[0;34m.\u001b[0m\u001b[0m__init__\u001b[0m\u001b[0;34m(\u001b[0m\u001b[0mendog\u001b[0m\u001b[0;34m,\u001b[0m \u001b[0mexog\u001b[0m\u001b[0;34m,\u001b[0m \u001b[0;34m**\u001b[0m\u001b[0mkwargs\u001b[0m\u001b[0;34m)\u001b[0m\u001b[0;34m\u001b[0m\u001b[0;34m\u001b[0m\u001b[0m\n\u001b[0m\u001b[1;32m    271\u001b[0m         \u001b[0mself\u001b[0m\u001b[0;34m.\u001b[0m\u001b[0minitialize\u001b[0m\u001b[0;34m(\u001b[0m\u001b[0;34m)\u001b[0m\u001b[0;34m\u001b[0m\u001b[0;34m\u001b[0m\u001b[0m\n\u001b[1;32m    272\u001b[0m \u001b[0;34m\u001b[0m\u001b[0m\n",
            "\u001b[0;32m/usr/local/lib/python3.11/dist-packages/statsmodels/base/model.py\u001b[0m in \u001b[0;36m__init__\u001b[0;34m(self, endog, exog, **kwargs)\u001b[0m\n\u001b[1;32m     93\u001b[0m         \u001b[0mmissing\u001b[0m \u001b[0;34m=\u001b[0m \u001b[0mkwargs\u001b[0m\u001b[0;34m.\u001b[0m\u001b[0mpop\u001b[0m\u001b[0;34m(\u001b[0m\u001b[0;34m'missing'\u001b[0m\u001b[0;34m,\u001b[0m \u001b[0;34m'none'\u001b[0m\u001b[0;34m)\u001b[0m\u001b[0;34m\u001b[0m\u001b[0;34m\u001b[0m\u001b[0m\n\u001b[1;32m     94\u001b[0m         \u001b[0mhasconst\u001b[0m \u001b[0;34m=\u001b[0m \u001b[0mkwargs\u001b[0m\u001b[0;34m.\u001b[0m\u001b[0mpop\u001b[0m\u001b[0;34m(\u001b[0m\u001b[0;34m'hasconst'\u001b[0m\u001b[0;34m,\u001b[0m \u001b[0;32mNone\u001b[0m\u001b[0;34m)\u001b[0m\u001b[0;34m\u001b[0m\u001b[0;34m\u001b[0m\u001b[0m\n\u001b[0;32m---> 95\u001b[0;31m         self.data = self._handle_data(endog, exog, missing, hasconst,\n\u001b[0m\u001b[1;32m     96\u001b[0m                                       **kwargs)\n\u001b[1;32m     97\u001b[0m         \u001b[0mself\u001b[0m\u001b[0;34m.\u001b[0m\u001b[0mk_constant\u001b[0m \u001b[0;34m=\u001b[0m \u001b[0mself\u001b[0m\u001b[0;34m.\u001b[0m\u001b[0mdata\u001b[0m\u001b[0;34m.\u001b[0m\u001b[0mk_constant\u001b[0m\u001b[0;34m\u001b[0m\u001b[0;34m\u001b[0m\u001b[0m\n",
            "\u001b[0;32m/usr/local/lib/python3.11/dist-packages/statsmodels/base/model.py\u001b[0m in \u001b[0;36m_handle_data\u001b[0;34m(self, endog, exog, missing, hasconst, **kwargs)\u001b[0m\n\u001b[1;32m    133\u001b[0m \u001b[0;34m\u001b[0m\u001b[0m\n\u001b[1;32m    134\u001b[0m     \u001b[0;32mdef\u001b[0m \u001b[0m_handle_data\u001b[0m\u001b[0;34m(\u001b[0m\u001b[0mself\u001b[0m\u001b[0;34m,\u001b[0m \u001b[0mendog\u001b[0m\u001b[0;34m,\u001b[0m \u001b[0mexog\u001b[0m\u001b[0;34m,\u001b[0m \u001b[0mmissing\u001b[0m\u001b[0;34m,\u001b[0m \u001b[0mhasconst\u001b[0m\u001b[0;34m,\u001b[0m \u001b[0;34m**\u001b[0m\u001b[0mkwargs\u001b[0m\u001b[0;34m)\u001b[0m\u001b[0;34m:\u001b[0m\u001b[0;34m\u001b[0m\u001b[0;34m\u001b[0m\u001b[0m\n\u001b[0;32m--> 135\u001b[0;31m         \u001b[0mdata\u001b[0m \u001b[0;34m=\u001b[0m \u001b[0mhandle_data\u001b[0m\u001b[0;34m(\u001b[0m\u001b[0mendog\u001b[0m\u001b[0;34m,\u001b[0m \u001b[0mexog\u001b[0m\u001b[0;34m,\u001b[0m \u001b[0mmissing\u001b[0m\u001b[0;34m,\u001b[0m \u001b[0mhasconst\u001b[0m\u001b[0;34m,\u001b[0m \u001b[0;34m**\u001b[0m\u001b[0mkwargs\u001b[0m\u001b[0;34m)\u001b[0m\u001b[0;34m\u001b[0m\u001b[0;34m\u001b[0m\u001b[0m\n\u001b[0m\u001b[1;32m    136\u001b[0m         \u001b[0;31m# kwargs arrays could have changed, easier to just attach here\u001b[0m\u001b[0;34m\u001b[0m\u001b[0;34m\u001b[0m\u001b[0m\n\u001b[1;32m    137\u001b[0m         \u001b[0;32mfor\u001b[0m \u001b[0mkey\u001b[0m \u001b[0;32min\u001b[0m \u001b[0mkwargs\u001b[0m\u001b[0;34m:\u001b[0m\u001b[0;34m\u001b[0m\u001b[0;34m\u001b[0m\u001b[0m\n",
            "\u001b[0;32m/usr/local/lib/python3.11/dist-packages/statsmodels/base/data.py\u001b[0m in \u001b[0;36mhandle_data\u001b[0;34m(endog, exog, missing, hasconst, **kwargs)\u001b[0m\n\u001b[1;32m    673\u001b[0m \u001b[0;34m\u001b[0m\u001b[0m\n\u001b[1;32m    674\u001b[0m     \u001b[0mklass\u001b[0m \u001b[0;34m=\u001b[0m \u001b[0mhandle_data_class_factory\u001b[0m\u001b[0;34m(\u001b[0m\u001b[0mendog\u001b[0m\u001b[0;34m,\u001b[0m \u001b[0mexog\u001b[0m\u001b[0;34m)\u001b[0m\u001b[0;34m\u001b[0m\u001b[0;34m\u001b[0m\u001b[0m\n\u001b[0;32m--> 675\u001b[0;31m     return klass(endog, exog=exog, missing=missing, hasconst=hasconst,\n\u001b[0m\u001b[1;32m    676\u001b[0m                  **kwargs)\n",
            "\u001b[0;32m/usr/local/lib/python3.11/dist-packages/statsmodels/base/data.py\u001b[0m in \u001b[0;36m__init__\u001b[0;34m(self, endog, exog, missing, hasconst, **kwargs)\u001b[0m\n\u001b[1;32m     87\u001b[0m         \u001b[0mself\u001b[0m\u001b[0;34m.\u001b[0m\u001b[0mk_constant\u001b[0m \u001b[0;34m=\u001b[0m \u001b[0;36m0\u001b[0m\u001b[0;34m\u001b[0m\u001b[0;34m\u001b[0m\u001b[0m\n\u001b[1;32m     88\u001b[0m         \u001b[0mself\u001b[0m\u001b[0;34m.\u001b[0m\u001b[0m_handle_constant\u001b[0m\u001b[0;34m(\u001b[0m\u001b[0mhasconst\u001b[0m\u001b[0;34m)\u001b[0m\u001b[0;34m\u001b[0m\u001b[0;34m\u001b[0m\u001b[0m\n\u001b[0;32m---> 89\u001b[0;31m         \u001b[0mself\u001b[0m\u001b[0;34m.\u001b[0m\u001b[0m_check_integrity\u001b[0m\u001b[0;34m(\u001b[0m\u001b[0;34m)\u001b[0m\u001b[0;34m\u001b[0m\u001b[0;34m\u001b[0m\u001b[0m\n\u001b[0m\u001b[1;32m     90\u001b[0m         \u001b[0mself\u001b[0m\u001b[0;34m.\u001b[0m\u001b[0m_cache\u001b[0m \u001b[0;34m=\u001b[0m \u001b[0;34m{\u001b[0m\u001b[0;34m}\u001b[0m\u001b[0;34m\u001b[0m\u001b[0;34m\u001b[0m\u001b[0m\n\u001b[1;32m     91\u001b[0m \u001b[0;34m\u001b[0m\u001b[0m\n",
            "\u001b[0;32m/usr/local/lib/python3.11/dist-packages/statsmodels/base/data.py\u001b[0m in \u001b[0;36m_check_integrity\u001b[0;34m(self)\u001b[0m\n\u001b[1;32m    531\u001b[0m                 \u001b[0;34m(\u001b[0m\u001b[0mhasattr\u001b[0m\u001b[0;34m(\u001b[0m\u001b[0mendog\u001b[0m\u001b[0;34m,\u001b[0m \u001b[0;34m'index'\u001b[0m\u001b[0;34m)\u001b[0m \u001b[0;32mand\u001b[0m \u001b[0mhasattr\u001b[0m\u001b[0;34m(\u001b[0m\u001b[0mexog\u001b[0m\u001b[0;34m,\u001b[0m \u001b[0;34m'index'\u001b[0m\u001b[0;34m)\u001b[0m\u001b[0;34m)\u001b[0m \u001b[0;32mand\u001b[0m\u001b[0;34m\u001b[0m\u001b[0;34m\u001b[0m\u001b[0m\n\u001b[1;32m    532\u001b[0m                 not self.orig_endog.index.equals(self.orig_exog.index)):\n\u001b[0;32m--> 533\u001b[0;31m             \u001b[0;32mraise\u001b[0m \u001b[0mValueError\u001b[0m\u001b[0;34m(\u001b[0m\u001b[0;34m\"The indices for endog and exog are not aligned\"\u001b[0m\u001b[0;34m)\u001b[0m\u001b[0;34m\u001b[0m\u001b[0;34m\u001b[0m\u001b[0m\n\u001b[0m\u001b[1;32m    534\u001b[0m         \u001b[0msuper\u001b[0m\u001b[0;34m(\u001b[0m\u001b[0;34m)\u001b[0m\u001b[0;34m.\u001b[0m\u001b[0m_check_integrity\u001b[0m\u001b[0;34m(\u001b[0m\u001b[0;34m)\u001b[0m\u001b[0;34m\u001b[0m\u001b[0;34m\u001b[0m\u001b[0m\n\u001b[1;32m    535\u001b[0m \u001b[0;34m\u001b[0m\u001b[0m\n",
            "\u001b[0;31mValueError\u001b[0m: The indices for endog and exog are not aligned"
          ]
        }
      ],
      "source": [
        "model_ln_X_ln_y = sm.OLS(ln_y, ln_X).fit()\n",
        "model_ln_X_ln_y.summary()"
      ]
    },
    {
      "cell_type": "code",
      "execution_count": null,
      "id": "b9f0bf07",
      "metadata": {
        "colab": {
          "base_uri": "https://localhost:8080/",
          "height": 304
        },
        "collapsed": true,
        "id": "b9f0bf07",
        "outputId": "0821c50f-be6e-47ac-d30f-cfe31abefcdf"
      },
      "outputs": [
        {
          "ename": "ValueError",
          "evalue": "The indices for endog and exog are not aligned",
          "output_type": "error",
          "traceback": [
            "\u001b[0;31m---------------------------------------------------------------------------\u001b[0m",
            "\u001b[0;31mValueError\u001b[0m                                Traceback (most recent call last)",
            "\u001b[0;32m<ipython-input-153-a606526a1927>\u001b[0m in \u001b[0;36m<cell line: 0>\u001b[0;34m()\u001b[0m\n\u001b[0;32m----> 1\u001b[0;31m \u001b[0mmodel_ln_y\u001b[0m \u001b[0;34m=\u001b[0m \u001b[0msm\u001b[0m\u001b[0;34m.\u001b[0m\u001b[0mOLS\u001b[0m\u001b[0;34m(\u001b[0m\u001b[0mln_y\u001b[0m\u001b[0;34m,\u001b[0m \u001b[0mX\u001b[0m\u001b[0;34m)\u001b[0m\u001b[0;34m.\u001b[0m\u001b[0mfit\u001b[0m\u001b[0;34m(\u001b[0m\u001b[0;34m)\u001b[0m\u001b[0;34m\u001b[0m\u001b[0;34m\u001b[0m\u001b[0m\n\u001b[0m\u001b[1;32m      2\u001b[0m \u001b[0mmodel_ln_y\u001b[0m\u001b[0;34m.\u001b[0m\u001b[0msummary\u001b[0m\u001b[0;34m(\u001b[0m\u001b[0;34m)\u001b[0m\u001b[0;34m\u001b[0m\u001b[0;34m\u001b[0m\u001b[0m\n",
            "\u001b[0;32m/usr/local/lib/python3.11/dist-packages/statsmodels/regression/linear_model.py\u001b[0m in \u001b[0;36m__init__\u001b[0;34m(self, endog, exog, missing, hasconst, **kwargs)\u001b[0m\n\u001b[1;32m    919\u001b[0m                    \"An exception will be raised in the next version.\")\n\u001b[1;32m    920\u001b[0m             \u001b[0mwarnings\u001b[0m\u001b[0;34m.\u001b[0m\u001b[0mwarn\u001b[0m\u001b[0;34m(\u001b[0m\u001b[0mmsg\u001b[0m\u001b[0;34m,\u001b[0m \u001b[0mValueWarning\u001b[0m\u001b[0;34m)\u001b[0m\u001b[0;34m\u001b[0m\u001b[0;34m\u001b[0m\u001b[0m\n\u001b[0;32m--> 921\u001b[0;31m         super().__init__(endog, exog, missing=missing,\n\u001b[0m\u001b[1;32m    922\u001b[0m                                   hasconst=hasconst, **kwargs)\n\u001b[1;32m    923\u001b[0m         \u001b[0;32mif\u001b[0m \u001b[0;34m\"weights\"\u001b[0m \u001b[0;32min\u001b[0m \u001b[0mself\u001b[0m\u001b[0;34m.\u001b[0m\u001b[0m_init_keys\u001b[0m\u001b[0;34m:\u001b[0m\u001b[0;34m\u001b[0m\u001b[0;34m\u001b[0m\u001b[0m\n",
            "\u001b[0;32m/usr/local/lib/python3.11/dist-packages/statsmodels/regression/linear_model.py\u001b[0m in \u001b[0;36m__init__\u001b[0;34m(self, endog, exog, weights, missing, hasconst, **kwargs)\u001b[0m\n\u001b[1;32m    744\u001b[0m         \u001b[0;32melse\u001b[0m\u001b[0;34m:\u001b[0m\u001b[0;34m\u001b[0m\u001b[0;34m\u001b[0m\u001b[0m\n\u001b[1;32m    745\u001b[0m             \u001b[0mweights\u001b[0m \u001b[0;34m=\u001b[0m \u001b[0mweights\u001b[0m\u001b[0;34m.\u001b[0m\u001b[0msqueeze\u001b[0m\u001b[0;34m(\u001b[0m\u001b[0;34m)\u001b[0m\u001b[0;34m\u001b[0m\u001b[0;34m\u001b[0m\u001b[0m\n\u001b[0;32m--> 746\u001b[0;31m         super().__init__(endog, exog, missing=missing,\n\u001b[0m\u001b[1;32m    747\u001b[0m                                   weights=weights, hasconst=hasconst, **kwargs)\n\u001b[1;32m    748\u001b[0m         \u001b[0mnobs\u001b[0m \u001b[0;34m=\u001b[0m \u001b[0mself\u001b[0m\u001b[0;34m.\u001b[0m\u001b[0mexog\u001b[0m\u001b[0;34m.\u001b[0m\u001b[0mshape\u001b[0m\u001b[0;34m[\u001b[0m\u001b[0;36m0\u001b[0m\u001b[0;34m]\u001b[0m\u001b[0;34m\u001b[0m\u001b[0;34m\u001b[0m\u001b[0m\n",
            "\u001b[0;32m/usr/local/lib/python3.11/dist-packages/statsmodels/regression/linear_model.py\u001b[0m in \u001b[0;36m__init__\u001b[0;34m(self, endog, exog, **kwargs)\u001b[0m\n\u001b[1;32m    198\u001b[0m     \"\"\"\n\u001b[1;32m    199\u001b[0m     \u001b[0;32mdef\u001b[0m \u001b[0m__init__\u001b[0m\u001b[0;34m(\u001b[0m\u001b[0mself\u001b[0m\u001b[0;34m,\u001b[0m \u001b[0mendog\u001b[0m\u001b[0;34m,\u001b[0m \u001b[0mexog\u001b[0m\u001b[0;34m,\u001b[0m \u001b[0;34m**\u001b[0m\u001b[0mkwargs\u001b[0m\u001b[0;34m)\u001b[0m\u001b[0;34m:\u001b[0m\u001b[0;34m\u001b[0m\u001b[0;34m\u001b[0m\u001b[0m\n\u001b[0;32m--> 200\u001b[0;31m         \u001b[0msuper\u001b[0m\u001b[0;34m(\u001b[0m\u001b[0;34m)\u001b[0m\u001b[0;34m.\u001b[0m\u001b[0m__init__\u001b[0m\u001b[0;34m(\u001b[0m\u001b[0mendog\u001b[0m\u001b[0;34m,\u001b[0m \u001b[0mexog\u001b[0m\u001b[0;34m,\u001b[0m \u001b[0;34m**\u001b[0m\u001b[0mkwargs\u001b[0m\u001b[0;34m)\u001b[0m\u001b[0;34m\u001b[0m\u001b[0;34m\u001b[0m\u001b[0m\n\u001b[0m\u001b[1;32m    201\u001b[0m         \u001b[0mself\u001b[0m\u001b[0;34m.\u001b[0m\u001b[0mpinv_wexog\u001b[0m\u001b[0;34m:\u001b[0m \u001b[0mFloat64Array\u001b[0m \u001b[0;34m|\u001b[0m \u001b[0;32mNone\u001b[0m \u001b[0;34m=\u001b[0m \u001b[0;32mNone\u001b[0m\u001b[0;34m\u001b[0m\u001b[0;34m\u001b[0m\u001b[0m\n\u001b[1;32m    202\u001b[0m         \u001b[0mself\u001b[0m\u001b[0;34m.\u001b[0m\u001b[0m_data_attr\u001b[0m\u001b[0;34m.\u001b[0m\u001b[0mextend\u001b[0m\u001b[0;34m(\u001b[0m\u001b[0;34m[\u001b[0m\u001b[0;34m'pinv_wexog'\u001b[0m\u001b[0;34m,\u001b[0m \u001b[0;34m'wendog'\u001b[0m\u001b[0;34m,\u001b[0m \u001b[0;34m'wexog'\u001b[0m\u001b[0;34m,\u001b[0m \u001b[0;34m'weights'\u001b[0m\u001b[0;34m]\u001b[0m\u001b[0;34m)\u001b[0m\u001b[0;34m\u001b[0m\u001b[0;34m\u001b[0m\u001b[0m\n",
            "\u001b[0;32m/usr/local/lib/python3.11/dist-packages/statsmodels/base/model.py\u001b[0m in \u001b[0;36m__init__\u001b[0;34m(self, endog, exog, **kwargs)\u001b[0m\n\u001b[1;32m    268\u001b[0m \u001b[0;34m\u001b[0m\u001b[0m\n\u001b[1;32m    269\u001b[0m     \u001b[0;32mdef\u001b[0m \u001b[0m__init__\u001b[0m\u001b[0;34m(\u001b[0m\u001b[0mself\u001b[0m\u001b[0;34m,\u001b[0m \u001b[0mendog\u001b[0m\u001b[0;34m,\u001b[0m \u001b[0mexog\u001b[0m\u001b[0;34m=\u001b[0m\u001b[0;32mNone\u001b[0m\u001b[0;34m,\u001b[0m \u001b[0;34m**\u001b[0m\u001b[0mkwargs\u001b[0m\u001b[0;34m)\u001b[0m\u001b[0;34m:\u001b[0m\u001b[0;34m\u001b[0m\u001b[0;34m\u001b[0m\u001b[0m\n\u001b[0;32m--> 270\u001b[0;31m         \u001b[0msuper\u001b[0m\u001b[0;34m(\u001b[0m\u001b[0;34m)\u001b[0m\u001b[0;34m.\u001b[0m\u001b[0m__init__\u001b[0m\u001b[0;34m(\u001b[0m\u001b[0mendog\u001b[0m\u001b[0;34m,\u001b[0m \u001b[0mexog\u001b[0m\u001b[0;34m,\u001b[0m \u001b[0;34m**\u001b[0m\u001b[0mkwargs\u001b[0m\u001b[0;34m)\u001b[0m\u001b[0;34m\u001b[0m\u001b[0;34m\u001b[0m\u001b[0m\n\u001b[0m\u001b[1;32m    271\u001b[0m         \u001b[0mself\u001b[0m\u001b[0;34m.\u001b[0m\u001b[0minitialize\u001b[0m\u001b[0;34m(\u001b[0m\u001b[0;34m)\u001b[0m\u001b[0;34m\u001b[0m\u001b[0;34m\u001b[0m\u001b[0m\n\u001b[1;32m    272\u001b[0m \u001b[0;34m\u001b[0m\u001b[0m\n",
            "\u001b[0;32m/usr/local/lib/python3.11/dist-packages/statsmodels/base/model.py\u001b[0m in \u001b[0;36m__init__\u001b[0;34m(self, endog, exog, **kwargs)\u001b[0m\n\u001b[1;32m     93\u001b[0m         \u001b[0mmissing\u001b[0m \u001b[0;34m=\u001b[0m \u001b[0mkwargs\u001b[0m\u001b[0;34m.\u001b[0m\u001b[0mpop\u001b[0m\u001b[0;34m(\u001b[0m\u001b[0;34m'missing'\u001b[0m\u001b[0;34m,\u001b[0m \u001b[0;34m'none'\u001b[0m\u001b[0;34m)\u001b[0m\u001b[0;34m\u001b[0m\u001b[0;34m\u001b[0m\u001b[0m\n\u001b[1;32m     94\u001b[0m         \u001b[0mhasconst\u001b[0m \u001b[0;34m=\u001b[0m \u001b[0mkwargs\u001b[0m\u001b[0;34m.\u001b[0m\u001b[0mpop\u001b[0m\u001b[0;34m(\u001b[0m\u001b[0;34m'hasconst'\u001b[0m\u001b[0;34m,\u001b[0m \u001b[0;32mNone\u001b[0m\u001b[0;34m)\u001b[0m\u001b[0;34m\u001b[0m\u001b[0;34m\u001b[0m\u001b[0m\n\u001b[0;32m---> 95\u001b[0;31m         self.data = self._handle_data(endog, exog, missing, hasconst,\n\u001b[0m\u001b[1;32m     96\u001b[0m                                       **kwargs)\n\u001b[1;32m     97\u001b[0m         \u001b[0mself\u001b[0m\u001b[0;34m.\u001b[0m\u001b[0mk_constant\u001b[0m \u001b[0;34m=\u001b[0m \u001b[0mself\u001b[0m\u001b[0;34m.\u001b[0m\u001b[0mdata\u001b[0m\u001b[0;34m.\u001b[0m\u001b[0mk_constant\u001b[0m\u001b[0;34m\u001b[0m\u001b[0;34m\u001b[0m\u001b[0m\n",
            "\u001b[0;32m/usr/local/lib/python3.11/dist-packages/statsmodels/base/model.py\u001b[0m in \u001b[0;36m_handle_data\u001b[0;34m(self, endog, exog, missing, hasconst, **kwargs)\u001b[0m\n\u001b[1;32m    133\u001b[0m \u001b[0;34m\u001b[0m\u001b[0m\n\u001b[1;32m    134\u001b[0m     \u001b[0;32mdef\u001b[0m \u001b[0m_handle_data\u001b[0m\u001b[0;34m(\u001b[0m\u001b[0mself\u001b[0m\u001b[0;34m,\u001b[0m \u001b[0mendog\u001b[0m\u001b[0;34m,\u001b[0m \u001b[0mexog\u001b[0m\u001b[0;34m,\u001b[0m \u001b[0mmissing\u001b[0m\u001b[0;34m,\u001b[0m \u001b[0mhasconst\u001b[0m\u001b[0;34m,\u001b[0m \u001b[0;34m**\u001b[0m\u001b[0mkwargs\u001b[0m\u001b[0;34m)\u001b[0m\u001b[0;34m:\u001b[0m\u001b[0;34m\u001b[0m\u001b[0;34m\u001b[0m\u001b[0m\n\u001b[0;32m--> 135\u001b[0;31m         \u001b[0mdata\u001b[0m \u001b[0;34m=\u001b[0m \u001b[0mhandle_data\u001b[0m\u001b[0;34m(\u001b[0m\u001b[0mendog\u001b[0m\u001b[0;34m,\u001b[0m \u001b[0mexog\u001b[0m\u001b[0;34m,\u001b[0m \u001b[0mmissing\u001b[0m\u001b[0;34m,\u001b[0m \u001b[0mhasconst\u001b[0m\u001b[0;34m,\u001b[0m \u001b[0;34m**\u001b[0m\u001b[0mkwargs\u001b[0m\u001b[0;34m)\u001b[0m\u001b[0;34m\u001b[0m\u001b[0;34m\u001b[0m\u001b[0m\n\u001b[0m\u001b[1;32m    136\u001b[0m         \u001b[0;31m# kwargs arrays could have changed, easier to just attach here\u001b[0m\u001b[0;34m\u001b[0m\u001b[0;34m\u001b[0m\u001b[0m\n\u001b[1;32m    137\u001b[0m         \u001b[0;32mfor\u001b[0m \u001b[0mkey\u001b[0m \u001b[0;32min\u001b[0m \u001b[0mkwargs\u001b[0m\u001b[0;34m:\u001b[0m\u001b[0;34m\u001b[0m\u001b[0;34m\u001b[0m\u001b[0m\n",
            "\u001b[0;32m/usr/local/lib/python3.11/dist-packages/statsmodels/base/data.py\u001b[0m in \u001b[0;36mhandle_data\u001b[0;34m(endog, exog, missing, hasconst, **kwargs)\u001b[0m\n\u001b[1;32m    673\u001b[0m \u001b[0;34m\u001b[0m\u001b[0m\n\u001b[1;32m    674\u001b[0m     \u001b[0mklass\u001b[0m \u001b[0;34m=\u001b[0m \u001b[0mhandle_data_class_factory\u001b[0m\u001b[0;34m(\u001b[0m\u001b[0mendog\u001b[0m\u001b[0;34m,\u001b[0m \u001b[0mexog\u001b[0m\u001b[0;34m)\u001b[0m\u001b[0;34m\u001b[0m\u001b[0;34m\u001b[0m\u001b[0m\n\u001b[0;32m--> 675\u001b[0;31m     return klass(endog, exog=exog, missing=missing, hasconst=hasconst,\n\u001b[0m\u001b[1;32m    676\u001b[0m                  **kwargs)\n",
            "\u001b[0;32m/usr/local/lib/python3.11/dist-packages/statsmodels/base/data.py\u001b[0m in \u001b[0;36m__init__\u001b[0;34m(self, endog, exog, missing, hasconst, **kwargs)\u001b[0m\n\u001b[1;32m     87\u001b[0m         \u001b[0mself\u001b[0m\u001b[0;34m.\u001b[0m\u001b[0mk_constant\u001b[0m \u001b[0;34m=\u001b[0m \u001b[0;36m0\u001b[0m\u001b[0;34m\u001b[0m\u001b[0;34m\u001b[0m\u001b[0m\n\u001b[1;32m     88\u001b[0m         \u001b[0mself\u001b[0m\u001b[0;34m.\u001b[0m\u001b[0m_handle_constant\u001b[0m\u001b[0;34m(\u001b[0m\u001b[0mhasconst\u001b[0m\u001b[0;34m)\u001b[0m\u001b[0;34m\u001b[0m\u001b[0;34m\u001b[0m\u001b[0m\n\u001b[0;32m---> 89\u001b[0;31m         \u001b[0mself\u001b[0m\u001b[0;34m.\u001b[0m\u001b[0m_check_integrity\u001b[0m\u001b[0;34m(\u001b[0m\u001b[0;34m)\u001b[0m\u001b[0;34m\u001b[0m\u001b[0;34m\u001b[0m\u001b[0m\n\u001b[0m\u001b[1;32m     90\u001b[0m         \u001b[0mself\u001b[0m\u001b[0;34m.\u001b[0m\u001b[0m_cache\u001b[0m \u001b[0;34m=\u001b[0m \u001b[0;34m{\u001b[0m\u001b[0;34m}\u001b[0m\u001b[0;34m\u001b[0m\u001b[0;34m\u001b[0m\u001b[0m\n\u001b[1;32m     91\u001b[0m \u001b[0;34m\u001b[0m\u001b[0m\n",
            "\u001b[0;32m/usr/local/lib/python3.11/dist-packages/statsmodels/base/data.py\u001b[0m in \u001b[0;36m_check_integrity\u001b[0;34m(self)\u001b[0m\n\u001b[1;32m    531\u001b[0m                 \u001b[0;34m(\u001b[0m\u001b[0mhasattr\u001b[0m\u001b[0;34m(\u001b[0m\u001b[0mendog\u001b[0m\u001b[0;34m,\u001b[0m \u001b[0;34m'index'\u001b[0m\u001b[0;34m)\u001b[0m \u001b[0;32mand\u001b[0m \u001b[0mhasattr\u001b[0m\u001b[0;34m(\u001b[0m\u001b[0mexog\u001b[0m\u001b[0;34m,\u001b[0m \u001b[0;34m'index'\u001b[0m\u001b[0;34m)\u001b[0m\u001b[0;34m)\u001b[0m \u001b[0;32mand\u001b[0m\u001b[0;34m\u001b[0m\u001b[0;34m\u001b[0m\u001b[0m\n\u001b[1;32m    532\u001b[0m                 not self.orig_endog.index.equals(self.orig_exog.index)):\n\u001b[0;32m--> 533\u001b[0;31m             \u001b[0;32mraise\u001b[0m \u001b[0mValueError\u001b[0m\u001b[0;34m(\u001b[0m\u001b[0;34m\"The indices for endog and exog are not aligned\"\u001b[0m\u001b[0;34m)\u001b[0m\u001b[0;34m\u001b[0m\u001b[0;34m\u001b[0m\u001b[0m\n\u001b[0m\u001b[1;32m    534\u001b[0m         \u001b[0msuper\u001b[0m\u001b[0;34m(\u001b[0m\u001b[0;34m)\u001b[0m\u001b[0;34m.\u001b[0m\u001b[0m_check_integrity\u001b[0m\u001b[0;34m(\u001b[0m\u001b[0;34m)\u001b[0m\u001b[0;34m\u001b[0m\u001b[0;34m\u001b[0m\u001b[0m\n\u001b[1;32m    535\u001b[0m \u001b[0;34m\u001b[0m\u001b[0m\n",
            "\u001b[0;31mValueError\u001b[0m: The indices for endog and exog are not aligned"
          ]
        }
      ],
      "source": [
        "model_ln_y = sm.OLS(ln_y, X).fit()\n",
        "model_ln_y.summary()"
      ]
    },
    {
      "cell_type": "markdown",
      "id": "bfed6daf",
      "metadata": {
        "id": "bfed6daf"
      },
      "source": [
        "**Вывод:** незначительно лучше ln_y - X, чем ln_y - ln_X"
      ]
    },
    {
      "cell_type": "markdown",
      "id": "023f437b",
      "metadata": {
        "id": "023f437b"
      },
      "source": [
        "## Еще одно подтверждение этому:"
      ]
    },
    {
      "cell_type": "code",
      "execution_count": null,
      "id": "89a3fb27",
      "metadata": {
        "colab": {
          "base_uri": "https://localhost:8080/",
          "height": 472
        },
        "id": "89a3fb27",
        "outputId": "e95c52ff-1e9a-47c4-a2fc-52f1e86e4b94"
      },
      "outputs": [
        {
          "data": {
            "image/png": "[encoded data removed]",
            "text/plain": [
              "<Figure size 640x480 with 1 Axes>"
            ]
          },
          "metadata": {},
          "output_type": "display_data"
        }
      ],
      "source": [
        "# Визуальный анализ\n",
        "residuals_ln_y = semi_log_model.resid\n",
        "fitted_values_ln_y = semi_log_model.fittedvalues\n",
        "\n",
        "plt.scatter(fitted_values_ln_y, residuals_ln_y)\n",
        "plt.axhline(0, color='red', linestyle='--')  # Прямая \"остатки = 0\"\n",
        "plt.xlabel('Прогнозируемые значения')\n",
        "plt.ylabel('Остатки')\n",
        "plt.title('График остатки-прогнозы')\n",
        "plt.show()"
      ]
    },
    {
      "cell_type": "markdown",
      "id": "d904c26d",
      "metadata": {
        "id": "d904c26d"
      },
      "source": [
        "**Тест Рамсея**\n",
        "<br>\n",
        "Посмотрим на то, квадраты каких переменных стоит включать"
      ]
    },
    {
      "cell_type": "code",
      "execution_count": null,
      "id": "198c7222",
      "metadata": {
        "colab": {
          "base_uri": "https://localhost:8080/"
        },
        "id": "198c7222",
        "outputId": "5b8d904c-c5a0-4b4e-fc1e-41b558feab55"
      },
      "outputs": [
        {
          "name": "stdout",
          "output_type": "stream",
          "text": [
            "RESET test (Ramsey)\n",
            "<Wald test (chi2): statistic=57.296244584653955, p-value=3.748703346023147e-14, df_denom=1>\n"
          ]
        }
      ],
      "source": [
        "reset_result = linear_reset(model, power=2)\n",
        "\n",
        "print(\"RESET test (Ramsey)\")\n",
        "print(reset_result)"
      ]
    },
    {
      "cell_type": "markdown",
      "id": "de90ab97",
      "metadata": {
        "id": "de90ab97"
      },
      "source": [
        "**Вывод:** тест Рамсея показывает, что добавление степеней в модель помогает лучше описать данные"
      ]
    },
    {
      "cell_type": "markdown",
      "id": "fc46a816",
      "metadata": {
        "id": "fc46a816"
      },
      "source": [
        "Проверим необходимость в квадратах тех признаков, которые сильнее всего влияют на себестоимость"
      ]
    },
    {
      "cell_type": "code",
      "execution_count": null,
      "id": "89ab3412",
      "metadata": {
        "colab": {
          "base_uri": "https://localhost:8080/"
        },
        "id": "89ab3412",
        "outputId": "30f466ac-458e-425f-f3ad-77a053d7deee"
      },
      "outputs": [
        {
          "name": "stdout",
          "output_type": "stream",
          "text": [
            "F-статистика: 0.9732069707708837\n",
            "p-value: 0.32395579015186704\n",
            "Не отвергаем H0: Переменная weight^2 незначима и может быть исключена.\n"
          ]
        }
      ],
      "source": [
        "X_ramsey = X.copy()\n",
        "X_ramsey[\"weight ** 2\"] = X_ramsey[\"weight\"]**2\n",
        "model_for_ramsey = sm.OLS(y, X_ramsey).fit()\n",
        "\n",
        "RSS_with = sum(model_for_ramsey.resid**2)\n",
        "RSS_without = sum(model.resid**2)\n",
        "\n",
        "k_reduced = X.shape[1]\n",
        "k_full = X_ramsey.shape[1]\n",
        "\n",
        "df1, df2 = k_full - k_reduced, len(y) - k_full\n",
        "\n",
        "F_stat = ((RSS_without - RSS_with) / df1) / (RSS_with / df2)\n",
        "p_value = 1 - f.cdf(F_stat, df1, df2)\n",
        "\n",
        "print(f\"F-статистика: {F_stat}\")\n",
        "print(f\"p-value: {p_value}\")\n",
        "\n",
        "alpha = 0.05\n",
        "if p_value < alpha:\n",
        "    print(\"Отвергаем H0: Переменная weight^2 значима и улучшает модель.\")\n",
        "else:\n",
        "    print(\"Не отвергаем H0: Переменная weight^2 незначима и может быть исключена.\")"
      ]
    },
    {
      "cell_type": "code",
      "execution_count": null,
      "id": "f0ce0704",
      "metadata": {
        "colab": {
          "base_uri": "https://localhost:8080/"
        },
        "id": "f0ce0704",
        "outputId": "b97c9ce9-c13d-470c-c768-59fdf4c2ee0e"
      },
      "outputs": [
        {
          "name": "stdout",
          "output_type": "stream",
          "text": [
            "F-статистика: 48.41131925730164\n",
            "p-value: 4.168554390560075e-12\n",
            "Отвергаем H0: Переменная pages_cnt^2 значима и улучшает модель.\n"
          ]
        }
      ],
      "source": [
        "X_ramsey = X.copy()\n",
        "X_ramsey[\"pages_cnt ** 2\"] = X_ramsey[\"pages_cnt\"]**2\n",
        "model_for_ramsey = sm.OLS(y, X_ramsey).fit()\n",
        "\n",
        "RSS_with = sum(model_for_ramsey.resid**2)\n",
        "RSS_without = sum(model.resid**2)\n",
        "\n",
        "k_reduced = X.shape[1]\n",
        "k_full = X_ramsey.shape[1]\n",
        "\n",
        "df1, df2 = k_full - k_reduced, len(y) - k_full\n",
        "\n",
        "F_stat = ((RSS_without - RSS_with) / df1) / (RSS_with / df2)\n",
        "p_value = 1 - f.cdf(F_stat, df1, df2)\n",
        "\n",
        "print(f\"F-статистика: {F_stat}\")\n",
        "print(f\"p-value: {p_value}\")\n",
        "\n",
        "alpha = 0.05\n",
        "if p_value < alpha:\n",
        "    print(\"Отвергаем H0: Переменная pages_cnt^2 значима и улучшает модель.\")\n",
        "else:\n",
        "    print(\"Не отвергаем H0: Переменная pages_cnt^2 незначима и может быть исключена.\")"
      ]
    },
    {
      "cell_type": "markdown",
      "id": "ece93473",
      "metadata": {
        "id": "ece93473"
      },
      "source": [
        "**Включение неважной переменной** (F-test)"
      ]
    },
    {
      "cell_type": "markdown",
      "id": "152f673f",
      "metadata": {
        "id": "152f673f"
      },
      "source": [
        "**Тесты на гетероскедастичности**"
      ]
    },
    {
      "cell_type": "code",
      "execution_count": null,
      "id": "c0081a95",
      "metadata": {
        "id": "c0081a95"
      },
      "outputs": [],
      "source": [
        "residuals = model.resid"
      ]
    },
    {
      "cell_type": "code",
      "execution_count": null,
      "id": "3702c942",
      "metadata": {
        "id": "3702c942"
      },
      "outputs": [],
      "source": [
        "# Тест Уайта\n",
        "white_test = het_white(residuals, X)\n",
        "\n",
        "lm_stat, lm_pval, f_stat, f_pval = white_test\n",
        "\n",
        "print(f\"LM-статистика: {lm_stat}\")\n",
        "print(f\"p-value для LM-статистики: {lm_pval}\")\n",
        "print(f\"F-статистика: {f_stat}\")\n",
        "print(f\"p-value для F-статистики: {f_pval}\")\n",
        "\n",
        "if lm_pval < 0.05:\n",
        "    print(\"Гетероскедастичность выявлена.\")\n",
        "else:\n",
        "    print(\"Нет признаков гетероскедастичности.\")"
      ]
    },
    {
      "cell_type": "code",
      "execution_count": null,
      "id": "82543e40",
      "metadata": {
        "id": "82543e40"
      },
      "outputs": [],
      "source": [
        "# Тест Уайта\n",
        "white_test = het_white(residuals_ln_y, X)\n",
        "\n",
        "lm_stat, lm_pval, f_stat, f_pval = white_test\n",
        "\n",
        "print(f\"LM-статистика: {lm_stat}\")\n",
        "print(f\"p-value для LM-статистики: {lm_pval}\")\n",
        "print(f\"F-статистика: {f_stat}\")\n",
        "print(f\"p-value для F-статистики: {f_pval}\")\n",
        "\n",
        "if lm_pval < 0.05:\n",
        "    print(\"Гетероскедастичность выявлена.\")\n",
        "else:\n",
        "    print(\"Нет признаков гетероскедастичности.\")"
      ]
    },
    {
      "cell_type": "code",
      "execution_count": null,
      "id": "cc326638",
      "metadata": {
        "id": "cc326638"
      },
      "outputs": [],
      "source": [
        "# Тест Глейзера\n",
        "abs_residuals = np.abs(residuals)\n",
        "glejser_model = sm.OLS(abs_residuals, X).fit()\n",
        "\n",
        "p_values = glejser_model.pvalues\n",
        "# print(f\"P-значения:\")\n",
        "# if p_values[0]:\n",
        "#     print(p_values)\n",
        "if any(p < 0.05 for p in p_values[1:]):\n",
        "    print(\"Есть признаки гетероскедастичности.\")\n",
        "else:\n",
        "    print(\"Нет признаков гетероскедастичности.\")\n"
      ]
    },
    {
      "cell_type": "code",
      "execution_count": null,
      "id": "8d4ed36b",
      "metadata": {
        "id": "8d4ed36b"
      },
      "outputs": [],
      "source": [
        "# Тест Глейзера\n",
        "abs_residuals = np.abs(residuals_ln_y)\n",
        "glejser_model = sm.OLS(abs_residuals, X).fit()\n",
        "\n",
        "p_values = glejser_model.pvalues\n",
        "# print(f\"P-значения:\")\n",
        "# if p_values[0]:\n",
        "#     print(p_values)\n",
        "if any(p < 0.05 for p in p_values[1:]):\n",
        "    print(\"Есть признаки гетероскедастичности.\")\n",
        "else:\n",
        "    print(\"Нет признаков гетероскедастичности.\")\n"
      ]
    },
    {
      "cell_type": "code",
      "execution_count": null,
      "id": "5e11a654",
      "metadata": {
        "id": "5e11a654"
      },
      "outputs": [],
      "source": []
    },
    {
      "cell_type": "markdown",
      "id": "9f47cc81",
      "metadata": {
        "id": "9f47cc81"
      },
      "source": [
        "**Гипотеза о незначимости**"
      ]
    },
    {
      "cell_type": "code",
      "execution_count": null,
      "id": "be36e635",
      "metadata": {
        "id": "be36e635"
      },
      "outputs": [],
      "source": []
    },
    {
      "cell_type": "markdown",
      "id": "6cc7bae5",
      "metadata": {
        "id": "6cc7bae5"
      },
      "source": [
        "**Тест Чоу**"
      ]
    },
    {
      "cell_type": "code",
      "execution_count": null,
      "id": "e58bb69e",
      "metadata": {
        "id": "e58bb69e"
      },
      "outputs": [],
      "source": []
    }
  ],
  "metadata": {
    "colab": {
      "provenance": []
    },
    "kernelspec": {
      "display_name": "Python 3",
      "language": "python",
      "name": "python3"
    },
    "language_info": {
      "codemirror_mode": {
        "name": "ipython",
        "version": 3
      },
      "file_extension": ".py",
      "mimetype": "text/x-python",
      "name": "python",
      "nbconvert_exporter": "python",
      "pygments_lexer": "ipython3",
      "version": "3.9.6"
    }
  },
  "nbformat": 4,
  "nbformat_minor": 5
}
