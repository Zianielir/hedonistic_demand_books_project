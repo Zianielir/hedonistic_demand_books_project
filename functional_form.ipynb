{
 "cells": [
  {
   "cell_type": "markdown",
   "id": "63ab3884",
   "metadata": {},
   "source": [
    "### Библиотеки"
   ]
  },
  {
   "cell_type": "code",
   "execution_count": 49,
   "id": "48752e29",
   "metadata": {},
   "outputs": [],
   "source": [
    "import pandas as pd\n",
    "import numpy as np\n",
    "import matplotlib.pyplot as plt\n",
    "import seaborn as sns\n",
    "from scipy.stats import gmean\n",
    "\n",
    "import statsmodels.api as sm\n",
    "from scipy.stats import t, f, boxcox, skew, kurtosis\n",
    "from statsmodels.stats.diagnostic import linear_reset, het_white\n",
    "\n",
    "\n",
    "import warnings\n",
    "warnings.filterwarnings('ignore')"
   ]
  },
  {
   "cell_type": "markdown",
   "id": "711b9e40",
   "metadata": {},
   "source": [
    "### Обработка"
   ]
  },
  {
   "cell_type": "code",
   "execution_count": 50,
   "id": "a044d8db",
   "metadata": {},
   "outputs": [],
   "source": [
    "data = pd.read_csv('data_after_processing.csv', encoding='utf-8',)\n",
    "\n",
    "data = data.drop(['title'], axis=1)\n",
    "data = data.drop(['author_Другой', 'publisher_Другой', 'publication_year_Другой',\n",
    "                  'cover_type_Мягкий заламинированный картон', 'reading_age_6+'], axis=1)"
   ]
  },
  {
   "cell_type": "markdown",
   "id": "5b5d248d",
   "metadata": {},
   "source": [
    "### Логарифм цены"
   ]
  },
  {
   "cell_type": "code",
   "execution_count": 51,
   "id": "ef9b56c5",
   "metadata": {},
   "outputs": [],
   "source": [
    "data['log_price'] = np.log(data['price'])"
   ]
  },
  {
   "cell_type": "code",
   "execution_count": 52,
   "id": "8233b07b",
   "metadata": {},
   "outputs": [
    {
     "data": {
      "text/plain": [
       "Index(['price', 'avg_rating', 'cnt_reviews', 'pages_cnt', 'tirage', 'weight',\n",
       "       'author_Джейн Остен', 'author_Джек Лондон', 'author_Джордж Оруэлл',\n",
       "       'author_Лев Толстой', 'author_Луиза Мэй Олкотт',\n",
       "       'author_Михаил Булгаков', 'author_Николай Гоголь',\n",
       "       'author_Федор Достоевский', 'author_Эрих Ремарк', 'publisher_АСТ',\n",
       "       'publisher_Азбука', 'publisher_Иностранка',\n",
       "       'publisher_Манн, Иванов и Фербер', 'publisher_Эксмо',\n",
       "       'publication_year_2021', 'publication_year_2022',\n",
       "       'publication_year_2023', 'publication_year_2024',\n",
       "       'publication_year_2025', 'cover_type_Мягкий переплёт',\n",
       "       'cover_type_Твёрдый переплёт', 'reading_age_0+', 'reading_age_12+',\n",
       "       'reading_age_16+', 'reading_age_18+', 'thickness', 'width', 'length',\n",
       "       'volume', 'log_price'],\n",
       "      dtype='object')"
      ]
     },
     "execution_count": 52,
     "metadata": {},
     "output_type": "execute_result"
    }
   ],
   "source": [
    "data.columns"
   ]
  },
  {
   "cell_type": "markdown",
   "id": "53359e85",
   "metadata": {},
   "source": [
    "### Регрессоры, которые можно логарифмировать и нет"
   ]
  },
  {
   "cell_type": "code",
   "execution_count": 59,
   "id": "8ef7b151",
   "metadata": {},
   "outputs": [],
   "source": [
    "unconditional_cols = [\n",
    "    'author_Джейн Остен', 'author_Джек Лондон', 'author_Джордж Оруэлл',\n",
    "       'author_Лев Толстой', 'author_Луиза Мэй Олкотт',\n",
    "       'author_Михаил Булгаков', 'author_Николай Гоголь',\n",
    "       'author_Федор Достоевский', 'author_Эрих Ремарк', 'publisher_АСТ',\n",
    "       'publisher_Азбука', 'publisher_Иностранка',\n",
    "       'publisher_Манн, Иванов и Фербер', 'publisher_Эксмо',\n",
    "       'publication_year_2021', 'publication_year_2022',\n",
    "       'publication_year_2023', 'publication_year_2024',\n",
    "       'publication_year_2025', 'cover_type_Мягкий переплёт',\n",
    "       'cover_type_Твёрдый переплёт', 'reading_age_0+', 'reading_age_12+',\n",
    "       'reading_age_16+', 'reading_age_18+',\n",
    "]\n",
    "\n",
    "cols_to_try_log = [\n",
    "    'avg_rating', 'cnt_reviews', 'pages_cnt', 'tirage', \n",
    "    'weight', 'thickness', 'width', 'length', 'volume'\n",
    "]"
   ]
  },
  {
   "cell_type": "markdown",
   "id": "ba4a2da7",
   "metadata": {},
   "source": [
    "### Подбор функциональной формы для $\\log{price}$"
   ]
  },
  {
   "cell_type": "code",
   "execution_count": 60,
   "id": "efc5da6b",
   "metadata": {},
   "outputs": [
    {
     "name": "stderr",
     "output_type": "stream",
     "text": [
      "100%|██████████| 512/512 [00:05<00:00, 93.00it/s] \n"
     ]
    },
    {
     "name": "stdout",
     "output_type": "stream",
     "text": [
      "Лучшая модель по AIC:\n",
      "Логарифмированные переменные: ['pages_cnt', 'tirage', 'weight', 'thickness']\n",
      "AIC: -394.16\n",
      "\n",
      "Лучшая модель по BIC:\n",
      "Логарифмированные переменные: ['pages_cnt', 'tirage', 'weight', 'thickness']\n",
      "BIC: -181.07\n",
      "\n",
      "Лучшая модель по Adj.R²:\n",
      "Логарифмированные переменные: ['pages_cnt', 'tirage', 'weight', 'thickness']\n",
      "Adj.R²: 0.8077\n"
     ]
    }
   ],
   "source": [
    "import pandas as pd\n",
    "import numpy as np\n",
    "import statsmodels.api as sm\n",
    "from itertools import product\n",
    "from tqdm import tqdm  # для прогресс-бара (опционально)\n",
    "\n",
    "\n",
    "def generate_all_combinations():\n",
    "    \"\"\"Генерирует все комбинации логарифмирования для cols_to_try_log\"\"\"\n",
    "    return product([False, True], repeat=len(cols_to_try_log))\n",
    "\n",
    "def prepare_X(combination, df):\n",
    "    \"\"\"Создает матрицу X для текущей комбинации\"\"\"\n",
    "    X_temp = df[unconditional_cols].copy()\n",
    "    \n",
    "    for i, col in enumerate(cols_to_try_log):\n",
    "        if combination[i]:\n",
    "            # Проверка на положительные значения\n",
    "            if (df[col] <= 0).any():\n",
    "                # Добавляем константу, чтобы избежать log(0)\n",
    "                X_temp[f'log_{col}'] = np.log(df[col] + 1e-6)\n",
    "            else:\n",
    "                X_temp[f'log_{col}'] = np.log(df[col])\n",
    "        else:\n",
    "            X_temp[col] = df[col]\n",
    "    \n",
    "    return sm.add_constant(X_temp)\n",
    "\n",
    "results = []\n",
    "\n",
    "# Генерируем все комбинации (2^N вариантов)\n",
    "total_combinations = 2 ** len(cols_to_try_log)\n",
    "\n",
    "for combination in tqdm(generate_all_combinations(), total=total_combinations):\n",
    "    try:\n",
    "        # Подготавливаем данные\n",
    "        X_curr = prepare_X(combination, data)\n",
    "        \n",
    "        # # Удаляем возможные NaN\n",
    "        # X_curr_clean = X_curr.dropna(axis=1, how='any')\n",
    "        # y_clean = y.reindex_like(X_curr_clean)\n",
    "        \n",
    "        # Строим модель\n",
    "        model = sm.OLS(y, X_curr).fit()\n",
    "        \n",
    "        # Сохраняем результаты\n",
    "        results.append({\n",
    "            'combination': combination,\n",
    "            'aic': model.aic,\n",
    "            'bic': model.bic,\n",
    "            'adj_r2': model.rsquared_adj,\n",
    "            'model': model\n",
    "        })\n",
    "    \n",
    "    except Exception as e:\n",
    "        print(f\"Error in combination {combination}: {str(e)}\")\n",
    "        continue\n",
    "\n",
    "# Создаем DataFrame с результатами\n",
    "df_results = pd.DataFrame(results)\n",
    "\n",
    "# Добавляем расшифровку комбинаций\n",
    "df_results['log_columns'] = df_results['combination'].apply(\n",
    "    lambda x: [cols_to_try_log[i] for i, log in enumerate(x) if log]\n",
    ")\n",
    "\n",
    "# Находим лучшие модели по разным критериям\n",
    "best_aic = df_results.loc[df_results['aic'].idxmin()]\n",
    "best_bic = df_results.loc[df_results['bic'].idxmin()]\n",
    "best_adj_r2 = df_results.loc[df_results['adj_r2'].idxmax()]\n",
    "\n",
    "print(\"Лучшая модель по AIC:\")\n",
    "print(f\"Логарифмированные переменные: {best_aic['log_columns']}\")\n",
    "print(f\"AIC: {best_aic['aic']:.2f}\\n\")\n",
    "\n",
    "print(\"Лучшая модель по BIC:\")\n",
    "print(f\"Логарифмированные переменные: {best_bic['log_columns']}\")\n",
    "print(f\"BIC: {best_bic['bic']:.2f}\\n\")\n",
    "\n",
    "print(\"Лучшая модель по Adj.R²:\")\n",
    "print(f\"Логарифмированные переменные: {best_adj_r2['log_columns']}\")\n",
    "print(f\"Adj.R²: {best_adj_r2['adj_r2']:.4f}\")\n"
   ]
  },
  {
   "cell_type": "markdown",
   "id": "8fee7f2d",
   "metadata": {},
   "source": [
    "### Подбор функциональной формы для $price$"
   ]
  },
  {
   "cell_type": "code",
   "execution_count": 61,
   "id": "fe8c9b8a",
   "metadata": {},
   "outputs": [
    {
     "name": "stderr",
     "output_type": "stream",
     "text": [
      "100%|██████████| 512/512 [00:06<00:00, 75.19it/s] \n"
     ]
    },
    {
     "name": "stdout",
     "output_type": "stream",
     "text": [
      "Лучшая модель по AIC:\n",
      "Логарифмированные переменные: ['pages_cnt', 'tirage', 'width', 'volume']\n",
      "AIC: 41424.55\n",
      "\n",
      "Лучшая модель по BIC:\n",
      "Логарифмированные переменные: ['pages_cnt', 'tirage', 'width', 'volume']\n",
      "BIC: 41637.64\n",
      "\n",
      "Лучшая модель по Adj.R²:\n",
      "Логарифмированные переменные: ['pages_cnt', 'tirage', 'width', 'volume']\n",
      "Adj.R²: 0.8541\n"
     ]
    }
   ],
   "source": [
    "results = []\n",
    "\n",
    "# Генерируем все комбинации (2^N вариантов)\n",
    "total_combinations = 2 ** len(cols_to_try_log)\n",
    "\n",
    "for combination in tqdm(generate_all_combinations(), total=total_combinations):\n",
    "    try:\n",
    "        # Подготавливаем данные\n",
    "        X_curr = prepare_X(combination, data)\n",
    "        \n",
    "        # # Удаляем возможные NaN\n",
    "        # X_curr_clean = X_curr.dropna(axis=1, how='any')\n",
    "        # y_clean = y.reindex_like(X_curr_clean)\n",
    "        \n",
    "        # Строим модель\n",
    "        model = sm.OLS(data['price'], X_curr).fit()\n",
    "        \n",
    "        # Сохраняем результаты\n",
    "        results.append({\n",
    "            'combination': combination,\n",
    "            'aic': model.aic,\n",
    "            'bic': model.bic,\n",
    "            'adj_r2': model.rsquared_adj,\n",
    "            'model': model\n",
    "        })\n",
    "    \n",
    "    except Exception as e:\n",
    "        print(f\"Error in combination {combination}: {str(e)}\")\n",
    "        continue\n",
    "\n",
    "# Создаем DataFrame с результатами\n",
    "df_results = pd.DataFrame(results)\n",
    "\n",
    "# Добавляем расшифровку комбинаций\n",
    "df_results['log_columns'] = df_results['combination'].apply(\n",
    "    lambda x: [cols_to_try_log[i] for i, log in enumerate(x) if log]\n",
    ")\n",
    "\n",
    "# Находим лучшие модели по разным критериям\n",
    "best_aic = df_results.loc[df_results['aic'].idxmin()]\n",
    "best_bic = df_results.loc[df_results['bic'].idxmin()]\n",
    "best_adj_r2 = df_results.loc[df_results['adj_r2'].idxmax()]\n",
    "\n",
    "print(\"Лучшая модель по AIC:\")\n",
    "print(f\"Логарифмированные переменные: {best_aic['log_columns']}\")\n",
    "print(f\"AIC: {best_aic['aic']:.2f}\\n\")\n",
    "\n",
    "print(\"Лучшая модель по BIC:\")\n",
    "print(f\"Логарифмированные переменные: {best_bic['log_columns']}\")\n",
    "print(f\"BIC: {best_bic['bic']:.2f}\\n\")\n",
    "\n",
    "print(\"Лучшая модель по Adj.R²:\")\n",
    "print(f\"Логарифмированные переменные: {best_adj_r2['log_columns']}\")\n",
    "print(f\"Adj.R²: {best_adj_r2['adj_r2']:.4f}\")\n"
   ]
  },
  {
   "cell_type": "markdown",
   "id": "37985375",
   "metadata": {},
   "source": [
    "### Вывод\n",
    "\n",
    "Нужно логарифмировать ['pages_cnt', 'tirage', 'weight', 'thickness']\n",
    "\n",
    "Все переборы и для lnY, и для Y показывают один и тот же результат"
   ]
  },
  {
   "cell_type": "markdown",
   "id": "015aef30",
   "metadata": {},
   "source": []
  }
 ],
 "metadata": {
  "kernelspec": {
   "display_name": "Python 3",
   "language": "python",
   "name": "python3"
  },
  "language_info": {
   "codemirror_mode": {
    "name": "ipython",
    "version": 3
   },
   "file_extension": ".py",
   "mimetype": "text/x-python",
   "name": "python",
   "nbconvert_exporter": "python",
   "pygments_lexer": "ipython3",
   "version": "3.9.6"
  }
 },
 "nbformat": 4,
 "nbformat_minor": 5
}
