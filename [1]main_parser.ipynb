{
 "cells": [
  {
   "cell_type": "markdown",
   "id": "a4197bbf",
   "metadata": {},
   "source": [
    "### Библиотеки"
   ]
  },
  {
   "cell_type": "code",
   "execution_count": 7,
   "id": "8fd0379b",
   "metadata": {},
   "outputs": [],
   "source": [
    "import requests\n",
    "from bs4 import BeautifulSoup\n",
    "import csv\n",
    "from time import sleep\n",
    "from random import randint\n",
    "\n",
    "import pandas as pd"
   ]
  },
  {
   "cell_type": "markdown",
   "id": "61cf0f9c",
   "metadata": {},
   "source": [
    "### Параметры"
   ]
  },
  {
   "cell_type": "code",
   "execution_count": 8,
   "id": "f7955133",
   "metadata": {},
   "outputs": [],
   "source": [
    "# BASE_URL = \"https://www.chitai-gorod.ru/search?phrase=психология&page=\"\n",
    "BASE_URL = 'https://www.chitai-gorod.ru/catalog/books/klassicheskaya-proza-110003?page='\n",
    "HEADERS = {\n",
    "    \"User-Agent\": \"Mozilla/5.0 (Windows NT 10.0; Win64; x64) AppleWebKit/537.36 (KHTML, like Gecko) Chrome/91.0.4472.124 Safari/537.36\"\n",
    "}\n",
    "PAGES = 10\n",
    "OUTPUT_FILE = \"books.csv\""
   ]
  },
  {
   "cell_type": "markdown",
   "id": "553cfc41",
   "metadata": {},
   "source": [
    "### Функции для парсинга фичей на странице"
   ]
  },
  {
   "cell_type": "markdown",
   "id": "7e62dcb0",
   "metadata": {},
   "source": [
    "#### Новая и старая цена"
   ]
  },
  {
   "cell_type": "code",
   "execution_count": 9,
   "id": "ebda3ffd",
   "metadata": {},
   "outputs": [],
   "source": [
    "def parse_price(container):\n",
    "    prices = []\n",
    "    for part in container.stripped_strings:\n",
    "        if '₽' in part:\n",
    "            prices.append(part.replace('₽', '').replace('\\xa0', '').strip())\n",
    "    return {\n",
    "        'current': prices[0] if len(prices) > 0 else None,\n",
    "        'old': prices[1] if len(prices) > 1 else None\n",
    "    }"
   ]
  },
  {
   "cell_type": "markdown",
   "id": "2fb40136",
   "metadata": {},
   "source": [
    "#### Название книги"
   ]
  },
  {
   "cell_type": "code",
   "execution_count": 10,
   "id": "13dcacfc",
   "metadata": {},
   "outputs": [],
   "source": [
    "def parse_title(container):\n",
    "    title_tag = container.find('h1')\n",
    "    title = title_tag.get_text(strip=True)\n",
    "    \n",
    "    return title"
   ]
  },
  {
   "cell_type": "markdown",
   "id": "085ec138",
   "metadata": {},
   "source": [
    "#### Оценки"
   ]
  },
  {
   "cell_type": "code",
   "execution_count": 11,
   "id": "15b991a0",
   "metadata": {},
   "outputs": [],
   "source": [
    "def parse_reviews(soup):\n",
    "\n",
    "    # средняя оценка\n",
    "    try:\n",
    "        avg_rating = soup.find('span', class_=\"product-review-range__count\").text.strip()\n",
    "    except:\n",
    "        avg_rating = None\n",
    "\n",
    "    # количество оценок\n",
    "    try:\n",
    "        cnt_reviews = soup.find('div', class_='star-rating__statistics').text.replace('\\xa0', '').strip()\n",
    "    except:\n",
    "        cnt_reviews = None\n",
    "    \n",
    "    return {\n",
    "        'avg_rating': avg_rating,\n",
    "        'cnt_reviews': cnt_reviews\n",
    "    }\n"
   ]
  },
  {
   "cell_type": "markdown",
   "id": "71069b2a",
   "metadata": {},
   "source": [
    "#### Характеристики книги"
   ]
  },
  {
   "cell_type": "code",
   "execution_count": 12,
   "id": "642b8bf9",
   "metadata": {},
   "outputs": [],
   "source": [
    "def parse_article(soup):\n",
    "    divs = []\n",
    "    result = {}\n",
    "\n",
    "    for div in soup.select('section div', class_='product-detail-features__item'):\n",
    "        divs.append(div)\n",
    "    \n",
    "    for div in divs:\n",
    "        # # Обработка описания\n",
    "        # article = div.find('article')\n",
    "        # if article:\n",
    "        #     description = ' '.join(article.stripped_strings)\n",
    "        #     result['Описание'] = description\n",
    "        #     continue\n",
    "        \n",
    "        # Обработка информационных блоков\n",
    "        spans = div.find_all('span', limit=1)\n",
    "        if not spans:\n",
    "            continue\n",
    "            \n",
    "        key = spans[0].get_text(strip=True)\n",
    "        value_element = spans[0].find_next_sibling()\n",
    "        \n",
    "        if not value_element:\n",
    "            continue\n",
    "            \n",
    "        value = ' '.join(value_element.stripped_strings)\n",
    "        result[key] = value\n",
    "    \n",
    "    return result"
   ]
  },
  {
   "cell_type": "markdown",
   "id": "250a259f",
   "metadata": {},
   "source": [
    "### Парсер одной книги"
   ]
  },
  {
   "cell_type": "code",
   "execution_count": 13,
   "id": "e21774f2",
   "metadata": {},
   "outputs": [],
   "source": [
    "def parse_product_page(url, HEADERS=HEADERS):\n",
    "    response = requests.get(url, headers=HEADERS)\n",
    "    if response.status_code != 200:\n",
    "        return {}\n",
    "    \n",
    "    soup = BeautifulSoup(response.text, \"html.parser\")\n",
    "    result = {}\n",
    "\n",
    "    # Ссылка\n",
    "    result['link'] = url\n",
    "    \n",
    "    # Цена\n",
    "    try:\n",
    "        price_container = soup.find(\"div\", class_=\"product-offer-price\")\n",
    "        price_data = parse_price(price_container)\n",
    "        current_price = f\"{price_data['current']} ₽\" if price_data['current'] else None\n",
    "        old_price = f\"{price_data['old']} ₽\" if price_data['old'] else None\n",
    "    except:\n",
    "        current_price = None\n",
    "        old_price = None\n",
    "\n",
    "    result['current_price'] = current_price\n",
    "    result['old_price'] = old_price\n",
    "\n",
    "\n",
    "    # Оценки\n",
    "    try:\n",
    "        review_data = parse_reviews(soup)\n",
    "    except:\n",
    "        review_data = {}\n",
    "\n",
    "    result.update(review_data)\n",
    "        \n",
    "\n",
    "    # Название\n",
    "    try:\n",
    "        title_container = soup.find(\"div\", class_=\"detail-product__header\")\n",
    "        title = parse_title(title_container)\n",
    "        # title_tag = title_container.find('h1')\n",
    "        # title = title_tag.get_text(strip=True)\n",
    "    except:\n",
    "        title = None\n",
    "\n",
    "    result['title'] = title\n",
    "\n",
    "\n",
    "    # Автор\n",
    "    try:\n",
    "        author_container = soup.find('div', class_=\"product-info-authors detail-product__header-authors\")\n",
    "        author = author_container.text.strip().split(',')[0]\n",
    "    except:\n",
    "        author = None\n",
    "    \n",
    "    result['author'] = author\n",
    "\n",
    "\n",
    "    # Характеристики\n",
    "    try:\n",
    "        article_data = parse_article(soup)\n",
    "    except:\n",
    "        article_data = {}\n",
    "    \n",
    "    result.update(article_data)\n",
    "    \n",
    "    return result"
   ]
  },
  {
   "cell_type": "markdown",
   "id": "d9f2bc80",
   "metadata": {},
   "source": [
    "### Парсер страницы"
   ]
  },
  {
   "cell_type": "code",
   "execution_count": 14,
   "id": "59f6320b",
   "metadata": {},
   "outputs": [],
   "source": [
    "from tqdm import tqdm\n",
    "\n",
    "def parse_page(BASE_URL, HEADERS, page_num):\n",
    "    books = []\n",
    "\n",
    "    # страница с выдачей\n",
    "    url = f\"{BASE_URL}{page_num}\"\n",
    "    response = requests.get(url, headers=HEADERS)\n",
    "\n",
    "    # открываем страницу\n",
    "    if response.status_code != 200:\n",
    "        print(f\"Ошибка {response.status_code} на странице {page_num}\")\n",
    "        return []\n",
    "    \n",
    "    # суп страницы\n",
    "    soup = BeautifulSoup(response.text, \"html.parser\")\n",
    "    \n",
    "    # проходимся по книгам\n",
    "    for item in tqdm(soup.find_all(\"article\", class_=\"product-card\")):\n",
    "\n",
    "        # ищем ссылку на страницу книги\n",
    "        links = []\n",
    "        try:  \n",
    "            # Находим тег <a> с атрибутом href, содержащим \"/product/\"\n",
    "            link_tag = item.find(\"a\", href=lambda x: x and x.startswith(\"/product/\"))\n",
    "            link = \"https://www.chitai-gorod.ru\" + link_tag[\"href\"]\n",
    "        except Exception as e:\n",
    "            link = \"Нет ссылки\"\n",
    "        \n",
    "        # парсим страницу книги\n",
    "        book_data = parse_product_page(link)\n",
    "        \n",
    "        # добавляем инфу по книге в список\n",
    "        books.append(book_data)\n",
    "        \n",
    "    return books"
   ]
  },
  {
   "cell_type": "markdown",
   "id": "c727ce85",
   "metadata": {},
   "source": [
    "### Функция большого парсера"
   ]
  },
  {
   "cell_type": "code",
   "execution_count": 17,
   "id": "84475f5e",
   "metadata": {},
   "outputs": [],
   "source": [
    "def parse_site(BASE_URL=BASE_URL, HEADERS=HEADERS, PAGES=PAGES):\n",
    "    all_books = []\n",
    "\n",
    "    for page_num in range(1, PAGES + 1):\n",
    "        print(f'Парсим страницу номер: {page_num}')\n",
    "        \n",
    "        books_page = parse_page(BASE_URL=BASE_URL, HEADERS=HEADERS, page_num=page_num)\n",
    "    \n",
    "        all_books += books_page\n",
    "        print(len(all_books))\n",
    "\n",
    "    return pd.DataFrame(all_books)"
   ]
  },
  {
   "cell_type": "code",
   "execution_count": 16,
   "id": "e559822e",
   "metadata": {},
   "outputs": [],
   "source": [
    "def save_data(all_books, OUTPUT_FILE):\n",
    "    all_books.to_csv(OUTPUT_FILE, index=False)"
   ]
  },
  {
   "cell_type": "code",
   "execution_count": 18,
   "id": "0e279171",
   "metadata": {},
   "outputs": [
    {
     "name": "stdout",
     "output_type": "stream",
     "text": [
      "Парсим страницу номер: 1\n"
     ]
    },
    {
     "name": "stderr",
     "output_type": "stream",
     "text": [
      "100%|██████████| 60/60 [00:43<00:00,  1.37it/s]\n"
     ]
    },
    {
     "name": "stdout",
     "output_type": "stream",
     "text": [
      "60\n",
      "Парсим страницу номер: 2\n"
     ]
    },
    {
     "name": "stderr",
     "output_type": "stream",
     "text": [
      "100%|██████████| 60/60 [00:42<00:00,  1.40it/s]\n"
     ]
    },
    {
     "name": "stdout",
     "output_type": "stream",
     "text": [
      "120\n",
      "Парсим страницу номер: 3\n"
     ]
    },
    {
     "name": "stderr",
     "output_type": "stream",
     "text": [
      "100%|██████████| 60/60 [00:48<00:00,  1.24it/s]\n"
     ]
    },
    {
     "name": "stdout",
     "output_type": "stream",
     "text": [
      "180\n",
      "Парсим страницу номер: 4\n"
     ]
    },
    {
     "name": "stderr",
     "output_type": "stream",
     "text": [
      "100%|██████████| 60/60 [00:44<00:00,  1.34it/s]\n"
     ]
    },
    {
     "name": "stdout",
     "output_type": "stream",
     "text": [
      "240\n",
      "Парсим страницу номер: 5\n"
     ]
    },
    {
     "name": "stderr",
     "output_type": "stream",
     "text": [
      "100%|██████████| 60/60 [00:44<00:00,  1.36it/s]\n"
     ]
    },
    {
     "name": "stdout",
     "output_type": "stream",
     "text": [
      "300\n",
      "Парсим страницу номер: 6\n"
     ]
    },
    {
     "name": "stderr",
     "output_type": "stream",
     "text": [
      "100%|██████████| 60/60 [00:43<00:00,  1.37it/s]\n"
     ]
    },
    {
     "name": "stdout",
     "output_type": "stream",
     "text": [
      "360\n",
      "Парсим страницу номер: 7\n"
     ]
    },
    {
     "name": "stderr",
     "output_type": "stream",
     "text": [
      "100%|██████████| 60/60 [00:43<00:00,  1.36it/s]\n"
     ]
    },
    {
     "name": "stdout",
     "output_type": "stream",
     "text": [
      "420\n",
      "Парсим страницу номер: 8\n"
     ]
    },
    {
     "name": "stderr",
     "output_type": "stream",
     "text": [
      "100%|██████████| 60/60 [00:42<00:00,  1.40it/s]\n"
     ]
    },
    {
     "name": "stdout",
     "output_type": "stream",
     "text": [
      "480\n",
      "Парсим страницу номер: 9\n"
     ]
    },
    {
     "name": "stderr",
     "output_type": "stream",
     "text": [
      "100%|██████████| 60/60 [00:47<00:00,  1.28it/s]\n"
     ]
    },
    {
     "name": "stdout",
     "output_type": "stream",
     "text": [
      "540\n",
      "Парсим страницу номер: 10\n"
     ]
    },
    {
     "name": "stderr",
     "output_type": "stream",
     "text": [
      "100%|██████████| 60/60 [00:42<00:00,  1.40it/s]\n"
     ]
    },
    {
     "name": "stdout",
     "output_type": "stream",
     "text": [
      "600\n",
      "Парсим страницу номер: 11\n"
     ]
    },
    {
     "name": "stderr",
     "output_type": "stream",
     "text": [
      "100%|██████████| 60/60 [00:47<00:00,  1.26it/s]\n"
     ]
    },
    {
     "name": "stdout",
     "output_type": "stream",
     "text": [
      "660\n",
      "Парсим страницу номер: 12\n"
     ]
    },
    {
     "name": "stderr",
     "output_type": "stream",
     "text": [
      "100%|██████████| 60/60 [00:44<00:00,  1.35it/s]\n"
     ]
    },
    {
     "name": "stdout",
     "output_type": "stream",
     "text": [
      "720\n",
      "Парсим страницу номер: 13\n"
     ]
    },
    {
     "name": "stderr",
     "output_type": "stream",
     "text": [
      "100%|██████████| 60/60 [00:44<00:00,  1.34it/s]\n"
     ]
    },
    {
     "name": "stdout",
     "output_type": "stream",
     "text": [
      "780\n",
      "Парсим страницу номер: 14\n"
     ]
    },
    {
     "name": "stderr",
     "output_type": "stream",
     "text": [
      "100%|██████████| 60/60 [00:48<00:00,  1.25it/s]\n"
     ]
    },
    {
     "name": "stdout",
     "output_type": "stream",
     "text": [
      "840\n",
      "Парсим страницу номер: 15\n"
     ]
    },
    {
     "name": "stderr",
     "output_type": "stream",
     "text": [
      "100%|██████████| 60/60 [00:42<00:00,  1.41it/s]\n"
     ]
    },
    {
     "name": "stdout",
     "output_type": "stream",
     "text": [
      "900\n",
      "Парсим страницу номер: 16\n"
     ]
    },
    {
     "name": "stderr",
     "output_type": "stream",
     "text": [
      "100%|██████████| 60/60 [00:41<00:00,  1.44it/s]\n"
     ]
    },
    {
     "name": "stdout",
     "output_type": "stream",
     "text": [
      "960\n",
      "Парсим страницу номер: 17\n"
     ]
    },
    {
     "name": "stderr",
     "output_type": "stream",
     "text": [
      "100%|██████████| 60/60 [00:43<00:00,  1.38it/s]\n"
     ]
    },
    {
     "name": "stdout",
     "output_type": "stream",
     "text": [
      "1020\n",
      "Парсим страницу номер: 18\n"
     ]
    },
    {
     "name": "stderr",
     "output_type": "stream",
     "text": [
      "100%|██████████| 60/60 [00:44<00:00,  1.34it/s]\n"
     ]
    },
    {
     "name": "stdout",
     "output_type": "stream",
     "text": [
      "1080\n",
      "Парсим страницу номер: 19\n"
     ]
    },
    {
     "name": "stderr",
     "output_type": "stream",
     "text": [
      "100%|██████████| 60/60 [00:42<00:00,  1.41it/s]\n"
     ]
    },
    {
     "name": "stdout",
     "output_type": "stream",
     "text": [
      "1140\n",
      "Парсим страницу номер: 20\n"
     ]
    },
    {
     "name": "stderr",
     "output_type": "stream",
     "text": [
      "100%|██████████| 60/60 [00:42<00:00,  1.42it/s]\n"
     ]
    },
    {
     "name": "stdout",
     "output_type": "stream",
     "text": [
      "1200\n",
      "Парсим страницу номер: 21\n"
     ]
    },
    {
     "name": "stderr",
     "output_type": "stream",
     "text": [
      "100%|██████████| 60/60 [00:43<00:00,  1.37it/s]\n"
     ]
    },
    {
     "name": "stdout",
     "output_type": "stream",
     "text": [
      "1260\n",
      "Парсим страницу номер: 22\n"
     ]
    },
    {
     "name": "stderr",
     "output_type": "stream",
     "text": [
      "100%|██████████| 60/60 [00:43<00:00,  1.39it/s]\n"
     ]
    },
    {
     "name": "stdout",
     "output_type": "stream",
     "text": [
      "1320\n",
      "Парсим страницу номер: 23\n"
     ]
    },
    {
     "name": "stderr",
     "output_type": "stream",
     "text": [
      "100%|██████████| 60/60 [00:40<00:00,  1.48it/s]\n"
     ]
    },
    {
     "name": "stdout",
     "output_type": "stream",
     "text": [
      "1380\n",
      "Парсим страницу номер: 24\n"
     ]
    },
    {
     "name": "stderr",
     "output_type": "stream",
     "text": [
      "100%|██████████| 60/60 [00:42<00:00,  1.42it/s]\n"
     ]
    },
    {
     "name": "stdout",
     "output_type": "stream",
     "text": [
      "1440\n",
      "Парсим страницу номер: 25\n"
     ]
    },
    {
     "name": "stderr",
     "output_type": "stream",
     "text": [
      "100%|██████████| 60/60 [00:43<00:00,  1.38it/s]\n"
     ]
    },
    {
     "name": "stdout",
     "output_type": "stream",
     "text": [
      "1500\n",
      "Парсим страницу номер: 26\n"
     ]
    },
    {
     "name": "stderr",
     "output_type": "stream",
     "text": [
      "100%|██████████| 60/60 [00:43<00:00,  1.38it/s]\n"
     ]
    },
    {
     "name": "stdout",
     "output_type": "stream",
     "text": [
      "1560\n",
      "Парсим страницу номер: 27\n"
     ]
    },
    {
     "name": "stderr",
     "output_type": "stream",
     "text": [
      "100%|██████████| 60/60 [00:43<00:00,  1.39it/s]\n"
     ]
    },
    {
     "name": "stdout",
     "output_type": "stream",
     "text": [
      "1620\n",
      "Парсим страницу номер: 28\n"
     ]
    },
    {
     "name": "stderr",
     "output_type": "stream",
     "text": [
      "100%|██████████| 60/60 [00:42<00:00,  1.41it/s]\n"
     ]
    },
    {
     "name": "stdout",
     "output_type": "stream",
     "text": [
      "1680\n",
      "Парсим страницу номер: 29\n"
     ]
    },
    {
     "name": "stderr",
     "output_type": "stream",
     "text": [
      "100%|██████████| 60/60 [00:43<00:00,  1.39it/s]\n"
     ]
    },
    {
     "name": "stdout",
     "output_type": "stream",
     "text": [
      "1740\n",
      "Парсим страницу номер: 30\n"
     ]
    },
    {
     "name": "stderr",
     "output_type": "stream",
     "text": [
      "100%|██████████| 60/60 [00:46<00:00,  1.30it/s]\n"
     ]
    },
    {
     "name": "stdout",
     "output_type": "stream",
     "text": [
      "1800\n",
      "Парсим страницу номер: 31\n"
     ]
    },
    {
     "name": "stderr",
     "output_type": "stream",
     "text": [
      "100%|██████████| 60/60 [00:42<00:00,  1.41it/s]\n"
     ]
    },
    {
     "name": "stdout",
     "output_type": "stream",
     "text": [
      "1860\n",
      "Парсим страницу номер: 32\n"
     ]
    },
    {
     "name": "stderr",
     "output_type": "stream",
     "text": [
      "100%|██████████| 60/60 [00:40<00:00,  1.47it/s]\n"
     ]
    },
    {
     "name": "stdout",
     "output_type": "stream",
     "text": [
      "1920\n",
      "Парсим страницу номер: 33\n"
     ]
    },
    {
     "name": "stderr",
     "output_type": "stream",
     "text": [
      "100%|██████████| 60/60 [00:40<00:00,  1.47it/s]\n"
     ]
    },
    {
     "name": "stdout",
     "output_type": "stream",
     "text": [
      "1980\n",
      "Парсим страницу номер: 34\n"
     ]
    },
    {
     "name": "stderr",
     "output_type": "stream",
     "text": [
      "100%|██████████| 60/60 [00:42<00:00,  1.41it/s]\n"
     ]
    },
    {
     "name": "stdout",
     "output_type": "stream",
     "text": [
      "2040\n",
      "Парсим страницу номер: 35\n"
     ]
    },
    {
     "name": "stderr",
     "output_type": "stream",
     "text": [
      "100%|██████████| 60/60 [00:41<00:00,  1.45it/s]\n"
     ]
    },
    {
     "name": "stdout",
     "output_type": "stream",
     "text": [
      "2100\n",
      "Парсим страницу номер: 36\n"
     ]
    },
    {
     "name": "stderr",
     "output_type": "stream",
     "text": [
      "100%|██████████| 60/60 [00:44<00:00,  1.34it/s]\n"
     ]
    },
    {
     "name": "stdout",
     "output_type": "stream",
     "text": [
      "2160\n",
      "Парсим страницу номер: 37\n"
     ]
    },
    {
     "name": "stderr",
     "output_type": "stream",
     "text": [
      "100%|██████████| 60/60 [00:43<00:00,  1.39it/s]\n"
     ]
    },
    {
     "name": "stdout",
     "output_type": "stream",
     "text": [
      "2220\n",
      "Парсим страницу номер: 38\n"
     ]
    },
    {
     "name": "stderr",
     "output_type": "stream",
     "text": [
      "100%|██████████| 60/60 [00:41<00:00,  1.44it/s]\n"
     ]
    },
    {
     "name": "stdout",
     "output_type": "stream",
     "text": [
      "2280\n",
      "Парсим страницу номер: 39\n"
     ]
    },
    {
     "name": "stderr",
     "output_type": "stream",
     "text": [
      "100%|██████████| 60/60 [00:39<00:00,  1.51it/s]\n"
     ]
    },
    {
     "name": "stdout",
     "output_type": "stream",
     "text": [
      "2340\n",
      "Парсим страницу номер: 40\n"
     ]
    },
    {
     "name": "stderr",
     "output_type": "stream",
     "text": [
      "100%|██████████| 60/60 [00:39<00:00,  1.53it/s]\n"
     ]
    },
    {
     "name": "stdout",
     "output_type": "stream",
     "text": [
      "2400\n",
      "Парсим страницу номер: 41\n"
     ]
    },
    {
     "name": "stderr",
     "output_type": "stream",
     "text": [
      "100%|██████████| 60/60 [00:40<00:00,  1.49it/s]\n"
     ]
    },
    {
     "name": "stdout",
     "output_type": "stream",
     "text": [
      "2460\n",
      "Парсим страницу номер: 42\n"
     ]
    },
    {
     "name": "stderr",
     "output_type": "stream",
     "text": [
      "100%|██████████| 60/60 [00:45<00:00,  1.32it/s]\n"
     ]
    },
    {
     "name": "stdout",
     "output_type": "stream",
     "text": [
      "2520\n",
      "Парсим страницу номер: 43\n"
     ]
    },
    {
     "name": "stderr",
     "output_type": "stream",
     "text": [
      "100%|██████████| 60/60 [00:41<00:00,  1.44it/s]\n"
     ]
    },
    {
     "name": "stdout",
     "output_type": "stream",
     "text": [
      "2580\n",
      "Парсим страницу номер: 44\n"
     ]
    },
    {
     "name": "stderr",
     "output_type": "stream",
     "text": [
      "100%|██████████| 60/60 [00:41<00:00,  1.46it/s]\n"
     ]
    },
    {
     "name": "stdout",
     "output_type": "stream",
     "text": [
      "2640\n",
      "Парсим страницу номер: 45\n"
     ]
    },
    {
     "name": "stderr",
     "output_type": "stream",
     "text": [
      "100%|██████████| 60/60 [00:40<00:00,  1.48it/s]\n"
     ]
    },
    {
     "name": "stdout",
     "output_type": "stream",
     "text": [
      "2700\n",
      "Парсим страницу номер: 46\n"
     ]
    },
    {
     "name": "stderr",
     "output_type": "stream",
     "text": [
      "100%|██████████| 60/60 [00:40<00:00,  1.49it/s]\n"
     ]
    },
    {
     "name": "stdout",
     "output_type": "stream",
     "text": [
      "2760\n",
      "Парсим страницу номер: 47\n"
     ]
    },
    {
     "name": "stderr",
     "output_type": "stream",
     "text": [
      "100%|██████████| 60/60 [00:41<00:00,  1.44it/s]\n"
     ]
    },
    {
     "name": "stdout",
     "output_type": "stream",
     "text": [
      "2820\n",
      "Парсим страницу номер: 48\n"
     ]
    },
    {
     "name": "stderr",
     "output_type": "stream",
     "text": [
      "100%|██████████| 60/60 [00:45<00:00,  1.33it/s]\n"
     ]
    },
    {
     "name": "stdout",
     "output_type": "stream",
     "text": [
      "2880\n",
      "Парсим страницу номер: 49\n"
     ]
    },
    {
     "name": "stderr",
     "output_type": "stream",
     "text": [
      "100%|██████████| 60/60 [00:45<00:00,  1.32it/s]\n"
     ]
    },
    {
     "name": "stdout",
     "output_type": "stream",
     "text": [
      "2940\n",
      "Парсим страницу номер: 50\n"
     ]
    },
    {
     "name": "stderr",
     "output_type": "stream",
     "text": [
      "100%|██████████| 60/60 [00:41<00:00,  1.46it/s]\n"
     ]
    },
    {
     "name": "stdout",
     "output_type": "stream",
     "text": [
      "3000\n",
      "Парсим страницу номер: 51\n"
     ]
    },
    {
     "name": "stderr",
     "output_type": "stream",
     "text": [
      "100%|██████████| 60/60 [00:40<00:00,  1.47it/s]\n"
     ]
    },
    {
     "name": "stdout",
     "output_type": "stream",
     "text": [
      "3060\n",
      "Парсим страницу номер: 52\n"
     ]
    },
    {
     "name": "stderr",
     "output_type": "stream",
     "text": [
      "100%|██████████| 60/60 [00:39<00:00,  1.53it/s]\n"
     ]
    },
    {
     "name": "stdout",
     "output_type": "stream",
     "text": [
      "3120\n",
      "Парсим страницу номер: 53\n"
     ]
    },
    {
     "name": "stderr",
     "output_type": "stream",
     "text": [
      "100%|██████████| 60/60 [00:40<00:00,  1.49it/s]\n"
     ]
    },
    {
     "name": "stdout",
     "output_type": "stream",
     "text": [
      "3180\n",
      "Парсим страницу номер: 54\n"
     ]
    },
    {
     "name": "stderr",
     "output_type": "stream",
     "text": [
      "100%|██████████| 60/60 [00:40<00:00,  1.48it/s]\n"
     ]
    },
    {
     "name": "stdout",
     "output_type": "stream",
     "text": [
      "3240\n",
      "Парсим страницу номер: 55\n"
     ]
    },
    {
     "name": "stderr",
     "output_type": "stream",
     "text": [
      "100%|██████████| 60/60 [00:40<00:00,  1.49it/s]\n"
     ]
    },
    {
     "name": "stdout",
     "output_type": "stream",
     "text": [
      "3300\n",
      "Парсим страницу номер: 56\n"
     ]
    },
    {
     "name": "stderr",
     "output_type": "stream",
     "text": [
      "100%|██████████| 60/60 [00:40<00:00,  1.46it/s]\n"
     ]
    },
    {
     "name": "stdout",
     "output_type": "stream",
     "text": [
      "3360\n",
      "Парсим страницу номер: 57\n"
     ]
    },
    {
     "name": "stderr",
     "output_type": "stream",
     "text": [
      "100%|██████████| 60/60 [00:41<00:00,  1.43it/s]\n"
     ]
    },
    {
     "name": "stdout",
     "output_type": "stream",
     "text": [
      "3420\n",
      "Парсим страницу номер: 58\n"
     ]
    },
    {
     "name": "stderr",
     "output_type": "stream",
     "text": [
      "100%|██████████| 60/60 [00:45<00:00,  1.33it/s]\n"
     ]
    },
    {
     "name": "stdout",
     "output_type": "stream",
     "text": [
      "3480\n",
      "Парсим страницу номер: 59\n"
     ]
    },
    {
     "name": "stderr",
     "output_type": "stream",
     "text": [
      "100%|██████████| 60/60 [00:41<00:00,  1.46it/s]\n"
     ]
    },
    {
     "name": "stdout",
     "output_type": "stream",
     "text": [
      "3540\n",
      "Парсим страницу номер: 60\n"
     ]
    },
    {
     "name": "stderr",
     "output_type": "stream",
     "text": [
      "100%|██████████| 60/60 [00:41<00:00,  1.43it/s]"
     ]
    },
    {
     "name": "stdout",
     "output_type": "stream",
     "text": [
      "3600\n"
     ]
    },
    {
     "name": "stderr",
     "output_type": "stream",
     "text": [
      "\n"
     ]
    },
    {
     "data": {
      "text/html": [
       "<div>\n",
       "<style scoped>\n",
       "    .dataframe tbody tr th:only-of-type {\n",
       "        vertical-align: middle;\n",
       "    }\n",
       "\n",
       "    .dataframe tbody tr th {\n",
       "        vertical-align: top;\n",
       "    }\n",
       "\n",
       "    .dataframe thead th {\n",
       "        text-align: right;\n",
       "    }\n",
       "</style>\n",
       "<table border=\"1\" class=\"dataframe\">\n",
       "  <thead>\n",
       "    <tr style=\"text-align: right;\">\n",
       "      <th></th>\n",
       "      <th>link</th>\n",
       "      <th>current_price</th>\n",
       "      <th>old_price</th>\n",
       "      <th>avg_rating</th>\n",
       "      <th>cnt_reviews</th>\n",
       "      <th>title</th>\n",
       "      <th>author</th>\n",
       "      <th>ID товара</th>\n",
       "      <th>Издательство</th>\n",
       "      <th>Издательский бренд</th>\n",
       "      <th>...</th>\n",
       "      <th>Количество страниц</th>\n",
       "      <th>Размер</th>\n",
       "      <th>Тип обложки</th>\n",
       "      <th>Тираж</th>\n",
       "      <th>Вес, г</th>\n",
       "      <th>Возрастные ограничения</th>\n",
       "      <th>Переводчик</th>\n",
       "      <th>Художник</th>\n",
       "      <th>Тип комикса</th>\n",
       "      <th>Разделы комикса</th>\n",
       "    </tr>\n",
       "  </thead>\n",
       "  <tbody>\n",
       "    <tr>\n",
       "      <th>0</th>\n",
       "      <td>https://www.chitai-gorod.ru/product/skorb-sata...</td>\n",
       "      <td>312 ₽</td>\n",
       "      <td>400 ₽</td>\n",
       "      <td>4.1</td>\n",
       "      <td>925 оценок</td>\n",
       "      <td>Скорбь Сатаны</td>\n",
       "      <td>Мария Корелли</td>\n",
       "      <td>2772938</td>\n",
       "      <td>АСТ</td>\n",
       "      <td>Neoclassic</td>\n",
       "      <td>...</td>\n",
       "      <td>512</td>\n",
       "      <td>2.1x11.5x18</td>\n",
       "      <td>Мягкий переплёт</td>\n",
       "      <td>30000</td>\n",
       "      <td>250</td>\n",
       "      <td>16+</td>\n",
       "      <td>NaN</td>\n",
       "      <td>NaN</td>\n",
       "      <td>NaN</td>\n",
       "      <td>NaN</td>\n",
       "    </tr>\n",
       "    <tr>\n",
       "      <th>1</th>\n",
       "      <td>https://www.chitai-gorod.ru/product/1984-novyy...</td>\n",
       "      <td>312 ₽</td>\n",
       "      <td>400 ₽</td>\n",
       "      <td>4.1</td>\n",
       "      <td>1341 оценка</td>\n",
       "      <td>1984 (новый перевод)</td>\n",
       "      <td>Джордж Оруэлл</td>\n",
       "      <td>2918634</td>\n",
       "      <td>АСТ</td>\n",
       "      <td>Neoclassic</td>\n",
       "      <td>...</td>\n",
       "      <td>320</td>\n",
       "      <td>2.4x11.5x18</td>\n",
       "      <td>Мягкий переплёт</td>\n",
       "      <td>30000</td>\n",
       "      <td>200</td>\n",
       "      <td>16+</td>\n",
       "      <td>NaN</td>\n",
       "      <td>NaN</td>\n",
       "      <td>NaN</td>\n",
       "      <td>NaN</td>\n",
       "    </tr>\n",
       "    <tr>\n",
       "      <th>2</th>\n",
       "      <td>https://www.chitai-gorod.ru/product/prestuplen...</td>\n",
       "      <td>303 ₽</td>\n",
       "      <td>388 ₽</td>\n",
       "      <td>4.2</td>\n",
       "      <td>1288 оценок</td>\n",
       "      <td>Преступление и наказание</td>\n",
       "      <td>Федор Достоевский</td>\n",
       "      <td>2465295</td>\n",
       "      <td>АСТ</td>\n",
       "      <td>Neoclassic</td>\n",
       "      <td>...</td>\n",
       "      <td>672</td>\n",
       "      <td>2.5x17.5x18</td>\n",
       "      <td>Мягкий переплёт</td>\n",
       "      <td>30000</td>\n",
       "      <td>319</td>\n",
       "      <td>12+</td>\n",
       "      <td>NaN</td>\n",
       "      <td>NaN</td>\n",
       "      <td>NaN</td>\n",
       "      <td>NaN</td>\n",
       "    </tr>\n",
       "    <tr>\n",
       "      <th>3</th>\n",
       "      <td>https://www.chitai-gorod.ru/product/chelovek-n...</td>\n",
       "      <td>284 ₽</td>\n",
       "      <td>365 ₽</td>\n",
       "      <td>4.5</td>\n",
       "      <td>363 оценки</td>\n",
       "      <td>Человек недостойный</td>\n",
       "      <td>Дадзай Осаму</td>\n",
       "      <td>3032403</td>\n",
       "      <td>АСТ</td>\n",
       "      <td>Neoclassic</td>\n",
       "      <td>...</td>\n",
       "      <td>192</td>\n",
       "      <td>1.5x11.5x18</td>\n",
       "      <td>Мягкий переплёт</td>\n",
       "      <td>25000</td>\n",
       "      <td>132</td>\n",
       "      <td>16+</td>\n",
       "      <td>NaN</td>\n",
       "      <td>NaN</td>\n",
       "      <td>NaN</td>\n",
       "      <td>NaN</td>\n",
       "    </tr>\n",
       "    <tr>\n",
       "      <th>4</th>\n",
       "      <td>https://www.chitai-gorod.ru/product/tri-tovari...</td>\n",
       "      <td>413 ₽</td>\n",
       "      <td>530 ₽</td>\n",
       "      <td>4.2</td>\n",
       "      <td>1269 оценок</td>\n",
       "      <td>Три товарища</td>\n",
       "      <td>Эрих Ремарк</td>\n",
       "      <td>2666861</td>\n",
       "      <td>АСТ</td>\n",
       "      <td>Neoclassic</td>\n",
       "      <td>...</td>\n",
       "      <td>480</td>\n",
       "      <td>2.5x11.6x18.1</td>\n",
       "      <td>Мягкий переплёт</td>\n",
       "      <td>30000</td>\n",
       "      <td>300</td>\n",
       "      <td>12+</td>\n",
       "      <td>NaN</td>\n",
       "      <td>NaN</td>\n",
       "      <td>NaN</td>\n",
       "      <td>NaN</td>\n",
       "    </tr>\n",
       "    <tr>\n",
       "      <th>...</th>\n",
       "      <td>...</td>\n",
       "      <td>...</td>\n",
       "      <td>...</td>\n",
       "      <td>...</td>\n",
       "      <td>...</td>\n",
       "      <td>...</td>\n",
       "      <td>...</td>\n",
       "      <td>...</td>\n",
       "      <td>...</td>\n",
       "      <td>...</td>\n",
       "      <td>...</td>\n",
       "      <td>...</td>\n",
       "      <td>...</td>\n",
       "      <td>...</td>\n",
       "      <td>...</td>\n",
       "      <td>...</td>\n",
       "      <td>...</td>\n",
       "      <td>...</td>\n",
       "      <td>...</td>\n",
       "      <td>...</td>\n",
       "      <td>...</td>\n",
       "    </tr>\n",
       "    <tr>\n",
       "      <th>3595</th>\n",
       "      <td>https://www.chitai-gorod.ru/product/drakula-sa...</td>\n",
       "      <td>2207 ₽</td>\n",
       "      <td>2831 ₽</td>\n",
       "      <td>3.7</td>\n",
       "      <td>53 оценки</td>\n",
       "      <td>Дракула. Самая полная версия. Коллекционное ил...</td>\n",
       "      <td>Брэм Стокер</td>\n",
       "      <td>2976255</td>\n",
       "      <td>Эксмо</td>\n",
       "      <td>Издательство Алгоритм</td>\n",
       "      <td>...</td>\n",
       "      <td>448</td>\n",
       "      <td>2.6x17x24</td>\n",
       "      <td>Твёрдый переплёт</td>\n",
       "      <td>1500</td>\n",
       "      <td>760</td>\n",
       "      <td>16+</td>\n",
       "      <td>NaN</td>\n",
       "      <td>NaN</td>\n",
       "      <td>NaN</td>\n",
       "      <td>NaN</td>\n",
       "    </tr>\n",
       "    <tr>\n",
       "      <th>3596</th>\n",
       "      <td>https://www.chitai-gorod.ru/product/vremya-i-b...</td>\n",
       "      <td>1103 ₽</td>\n",
       "      <td>1415 ₽</td>\n",
       "      <td>4.3</td>\n",
       "      <td>42 оценки</td>\n",
       "      <td>Время и боги. Дочь короля Эльфландии</td>\n",
       "      <td>Лорд Дансейни</td>\n",
       "      <td>2958378</td>\n",
       "      <td>Иностранка</td>\n",
       "      <td>NaN</td>\n",
       "      <td>...</td>\n",
       "      <td>784</td>\n",
       "      <td>3.8x14.5x21.7</td>\n",
       "      <td>Твёрдый переплёт</td>\n",
       "      <td>3000</td>\n",
       "      <td>860</td>\n",
       "      <td>16+</td>\n",
       "      <td>NaN</td>\n",
       "      <td>NaN</td>\n",
       "      <td>NaN</td>\n",
       "      <td>NaN</td>\n",
       "    </tr>\n",
       "    <tr>\n",
       "      <th>3597</th>\n",
       "      <td>https://www.chitai-gorod.ru/product/roza-mira-...</td>\n",
       "      <td>1011 ₽</td>\n",
       "      <td>1297 ₽</td>\n",
       "      <td>3.8</td>\n",
       "      <td>29 оценок</td>\n",
       "      <td>Роза Мира</td>\n",
       "      <td>Даниил Андреев</td>\n",
       "      <td>2903592</td>\n",
       "      <td>Эксмо</td>\n",
       "      <td>NaN</td>\n",
       "      <td>...</td>\n",
       "      <td>704</td>\n",
       "      <td>3.4x14x20.6</td>\n",
       "      <td>Твёрдый переплёт</td>\n",
       "      <td>2000</td>\n",
       "      <td>638</td>\n",
       "      <td>16+</td>\n",
       "      <td>NaN</td>\n",
       "      <td>NaN</td>\n",
       "      <td>NaN</td>\n",
       "      <td>NaN</td>\n",
       "    </tr>\n",
       "    <tr>\n",
       "      <th>3598</th>\n",
       "      <td>https://www.chitai-gorod.ru/product/priyut-gre...</td>\n",
       "      <td>505 ₽</td>\n",
       "      <td>648 ₽</td>\n",
       "      <td>4.0</td>\n",
       "      <td>27 оценок</td>\n",
       "      <td>Приют Грез (новый перевод)</td>\n",
       "      <td>Эрих Ремарк</td>\n",
       "      <td>2946441</td>\n",
       "      <td>АСТ</td>\n",
       "      <td>Neoclassic</td>\n",
       "      <td>...</td>\n",
       "      <td>256</td>\n",
       "      <td>1.8x13x20.5</td>\n",
       "      <td>Твёрдый переплёт</td>\n",
       "      <td>1500</td>\n",
       "      <td>230</td>\n",
       "      <td>16+</td>\n",
       "      <td>NaN</td>\n",
       "      <td>NaN</td>\n",
       "      <td>NaN</td>\n",
       "      <td>NaN</td>\n",
       "    </tr>\n",
       "    <tr>\n",
       "      <th>3599</th>\n",
       "      <td>https://www.chitai-gorod.ru/product/korolek-pt...</td>\n",
       "      <td>1333 ₽</td>\n",
       "      <td>1710 ₽</td>\n",
       "      <td>4.3</td>\n",
       "      <td>84 оценки</td>\n",
       "      <td>Королек - птичка певчая</td>\n",
       "      <td>Решад Нури Гюнтекин</td>\n",
       "      <td>2895391</td>\n",
       "      <td>Черная речка</td>\n",
       "      <td>NaN</td>\n",
       "      <td>...</td>\n",
       "      <td>448</td>\n",
       "      <td>2.8x13.5x20.5</td>\n",
       "      <td>Твёрдый переплёт</td>\n",
       "      <td>NaN</td>\n",
       "      <td>480</td>\n",
       "      <td>12+</td>\n",
       "      <td>NaN</td>\n",
       "      <td>NaN</td>\n",
       "      <td>NaN</td>\n",
       "      <td>NaN</td>\n",
       "    </tr>\n",
       "  </tbody>\n",
       "</table>\n",
       "<p>3600 rows × 23 columns</p>\n",
       "</div>"
      ],
      "text/plain": [
       "                                                   link current_price  \\\n",
       "0     https://www.chitai-gorod.ru/product/skorb-sata...         312 ₽   \n",
       "1     https://www.chitai-gorod.ru/product/1984-novyy...         312 ₽   \n",
       "2     https://www.chitai-gorod.ru/product/prestuplen...         303 ₽   \n",
       "3     https://www.chitai-gorod.ru/product/chelovek-n...         284 ₽   \n",
       "4     https://www.chitai-gorod.ru/product/tri-tovari...         413 ₽   \n",
       "...                                                 ...           ...   \n",
       "3595  https://www.chitai-gorod.ru/product/drakula-sa...        2207 ₽   \n",
       "3596  https://www.chitai-gorod.ru/product/vremya-i-b...        1103 ₽   \n",
       "3597  https://www.chitai-gorod.ru/product/roza-mira-...        1011 ₽   \n",
       "3598  https://www.chitai-gorod.ru/product/priyut-gre...         505 ₽   \n",
       "3599  https://www.chitai-gorod.ru/product/korolek-pt...        1333 ₽   \n",
       "\n",
       "     old_price avg_rating  cnt_reviews  \\\n",
       "0        400 ₽        4.1   925 оценок   \n",
       "1        400 ₽        4.1  1341 оценка   \n",
       "2        388 ₽        4.2  1288 оценок   \n",
       "3        365 ₽        4.5   363 оценки   \n",
       "4        530 ₽        4.2  1269 оценок   \n",
       "...        ...        ...          ...   \n",
       "3595    2831 ₽        3.7    53 оценки   \n",
       "3596    1415 ₽        4.3    42 оценки   \n",
       "3597    1297 ₽        3.8    29 оценок   \n",
       "3598     648 ₽        4.0    27 оценок   \n",
       "3599    1710 ₽        4.3    84 оценки   \n",
       "\n",
       "                                                  title               author  \\\n",
       "0                                         Скорбь Сатаны        Мария Корелли   \n",
       "1                                  1984 (новый перевод)        Джордж Оруэлл   \n",
       "2                              Преступление и наказание    Федор Достоевский   \n",
       "3                                   Человек недостойный         Дадзай Осаму   \n",
       "4                                          Три товарища          Эрих Ремарк   \n",
       "...                                                 ...                  ...   \n",
       "3595  Дракула. Самая полная версия. Коллекционное ил...          Брэм Стокер   \n",
       "3596               Время и боги. Дочь короля Эльфландии        Лорд Дансейни   \n",
       "3597                                          Роза Мира       Даниил Андреев   \n",
       "3598                         Приют Грез (новый перевод)          Эрих Ремарк   \n",
       "3599                            Королек - птичка певчая  Решад Нури Гюнтекин   \n",
       "\n",
       "     ID товара  Издательство     Издательский бренд  ... Количество страниц  \\\n",
       "0      2772938           АСТ             Neoclassic  ...                512   \n",
       "1      2918634           АСТ             Neoclassic  ...                320   \n",
       "2      2465295           АСТ             Neoclassic  ...                672   \n",
       "3      3032403           АСТ             Neoclassic  ...                192   \n",
       "4      2666861           АСТ             Neoclassic  ...                480   \n",
       "...        ...           ...                    ...  ...                ...   \n",
       "3595   2976255         Эксмо  Издательство Алгоритм  ...                448   \n",
       "3596   2958378    Иностранка                    NaN  ...                784   \n",
       "3597   2903592         Эксмо                    NaN  ...                704   \n",
       "3598   2946441           АСТ             Neoclassic  ...                256   \n",
       "3599   2895391  Черная речка                    NaN  ...                448   \n",
       "\n",
       "             Размер       Тип обложки  Тираж Вес, г Возрастные ограничения  \\\n",
       "0       2.1x11.5x18   Мягкий переплёт  30000    250                    16+   \n",
       "1       2.4x11.5x18   Мягкий переплёт  30000    200                    16+   \n",
       "2       2.5x17.5x18   Мягкий переплёт  30000    319                    12+   \n",
       "3       1.5x11.5x18   Мягкий переплёт  25000    132                    16+   \n",
       "4     2.5x11.6x18.1   Мягкий переплёт  30000    300                    12+   \n",
       "...             ...               ...    ...    ...                    ...   \n",
       "3595      2.6x17x24  Твёрдый переплёт   1500    760                    16+   \n",
       "3596  3.8x14.5x21.7  Твёрдый переплёт   3000    860                    16+   \n",
       "3597    3.4x14x20.6  Твёрдый переплёт   2000    638                    16+   \n",
       "3598    1.8x13x20.5  Твёрдый переплёт   1500    230                    16+   \n",
       "3599  2.8x13.5x20.5  Твёрдый переплёт    NaN    480                    12+   \n",
       "\n",
       "     Переводчик Художник Тип комикса Разделы комикса  \n",
       "0           NaN      NaN         NaN             NaN  \n",
       "1           NaN      NaN         NaN             NaN  \n",
       "2           NaN      NaN         NaN             NaN  \n",
       "3           NaN      NaN         NaN             NaN  \n",
       "4           NaN      NaN         NaN             NaN  \n",
       "...         ...      ...         ...             ...  \n",
       "3595        NaN      NaN         NaN             NaN  \n",
       "3596        NaN      NaN         NaN             NaN  \n",
       "3597        NaN      NaN         NaN             NaN  \n",
       "3598        NaN      NaN         NaN             NaN  \n",
       "3599        NaN      NaN         NaN             NaN  \n",
       "\n",
       "[3600 rows x 23 columns]"
      ]
     },
     "execution_count": 18,
     "metadata": {},
     "output_type": "execute_result"
    }
   ],
   "source": [
    "result = parse_site(PAGES=60)\n",
    "result"
   ]
  },
  {
   "cell_type": "code",
   "execution_count": 19,
   "id": "5804dced",
   "metadata": {},
   "outputs": [],
   "source": [
    "save_data(result, OUTPUT_FILE=OUTPUT_FILE)"
   ]
  }
 ],
 "metadata": {
  "kernelspec": {
   "display_name": "Python 3",
   "language": "python",
   "name": "python3"
  },
  "language_info": {
   "codemirror_mode": {
    "name": "ipython",
    "version": 3
   },
   "file_extension": ".py",
   "mimetype": "text/x-python",
   "name": "python",
   "nbconvert_exporter": "python",
   "pygments_lexer": "ipython3",
   "version": "3.9.6"
  }
 },
 "nbformat": 4,
 "nbformat_minor": 5
}
