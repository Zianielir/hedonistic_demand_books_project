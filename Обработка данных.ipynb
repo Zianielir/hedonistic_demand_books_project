{
 "cells": [
  {
   "cell_type": "code",
   "execution_count": 1,
   "id": "7f3b5929",
   "metadata": {},
   "outputs": [],
   "source": [
    "import pandas as pd\n",
    "from sklearn.preprocessing import OneHotEncoder\n",
    "\n",
    "import warnings\n",
    "warnings.filterwarnings('ignore')"
   ]
  },
  {
   "cell_type": "code",
   "execution_count": 2,
   "id": "2d46401b",
   "metadata": {},
   "outputs": [],
   "source": [
    "data = pd.read_csv('books.csv')"
   ]
  },
  {
   "cell_type": "code",
   "execution_count": 3,
   "id": "154dee46",
   "metadata": {},
   "outputs": [
    {
     "name": "stdout",
     "output_type": "stream",
     "text": [
      "(1200, 29)\n",
      "Количество пропусков в данных: 14042\n",
      "Доля пропусков в данных: 0.4\n"
     ]
    }
   ],
   "source": [
    "print(data.shape)\n",
    "print(f'Количество пропусков в данных: {data.isna().sum().sum()}')\n",
    "print(f'Доля пропусков в данных: {round(data.isna().sum().sum() / (data.shape[0]*data.shape[1]), 2)}')"
   ]
  },
  {
   "cell_type": "code",
   "execution_count": 4,
   "id": "59959eaa",
   "metadata": {},
   "outputs": [
    {
     "name": "stdout",
     "output_type": "stream",
     "text": [
      "Всего объектов у каждого признака (если нет пропусков): 1200\n"
     ]
    },
    {
     "data": {
      "text/plain": [
       "Тип комикса               1199\n",
       "Типы материала            1199\n",
       "Назначение                1199\n",
       "Школьные предметы         1199\n",
       "Школьные классы           1199\n",
       "Художник                  1187\n",
       "Серии комикса             1181\n",
       "Жанры комикса             1180\n",
       "Разделы комикса           1179\n",
       "Переводчик                1077\n",
       "Издательский бренд         728\n",
       "cnt_reviews                671\n",
       "avg_rating                 203\n",
       "Возрастные ограничения     197\n",
       "Серия                      193\n",
       "Тираж                       68\n",
       "author                      57\n",
       "Тип обложки                 43\n",
       "Количество страниц          29\n",
       "ISBN                        18\n",
       "old_price                   10\n",
       "current_price                9\n",
       "Издательство                 9\n",
       "Год издания                  3\n",
       "link                         1\n",
       "Вес, г                       1\n",
       "ID товара                    1\n",
       "title                        1\n",
       "Размер                       1\n",
       "dtype: int64"
      ]
     },
     "execution_count": 4,
     "metadata": {},
     "output_type": "execute_result"
    }
   ],
   "source": [
    "print(f'Всего объектов у каждого признака (если нет пропусков): {data.shape[0]}')\n",
    "data.isna().sum().sort_values(ascending=False)"
   ]
  },
  {
   "cell_type": "code",
   "execution_count": 5,
   "id": "496a2f24",
   "metadata": {},
   "outputs": [],
   "source": [
    "data['cnt_reviews'].fillna('0 оценок', inplace=True)"
   ]
  },
  {
   "cell_type": "code",
   "execution_count": 6,
   "id": "c69153e3",
   "metadata": {},
   "outputs": [
    {
     "name": "stdout",
     "output_type": "stream",
     "text": [
      "В признаках ['Издательский бренд', 'Переводчик', 'Жанры комикса', 'Серии комикса', 'Разделы комикса', 'Художник', 'Школьные предметы', 'Назначение', 'Школьные классы', 'Типы материала', 'Тип комикса'] недостаточно объектов, их стоит удалить.\n",
      "\n",
      "После удаления всех \"плохих признаков\" остались следующие: ['link', 'current_price', 'old_price', 'avg_rating', 'cnt_reviews', 'title', 'author', 'ID товара', 'Издательство', 'Серия', 'Год издания', 'ISBN', 'Количество страниц', 'Размер', 'Тип обложки', 'Тираж', 'Вес, г', 'Возрастные ограничения']\n"
     ]
    }
   ],
   "source": [
    "good_columns = []\n",
    "bad_columns = []\n",
    "for column in data.columns:\n",
    "    all_items = data.shape[0]\n",
    "    if data.isna().sum().sort_values(ascending=False)[column] / all_items > 0.3:\n",
    "        bad_columns.append(column)\n",
    "    else:\n",
    "        good_columns.append(column)\n",
    "        \n",
    "print(f'В признаках {bad_columns} недостаточно объектов, их стоит удалить.')  \n",
    "print()\n",
    "print(f'После удаления всех \"плохих признаков\" остались следующие: {good_columns}')"
   ]
  },
  {
   "cell_type": "code",
   "execution_count": 7,
   "id": "88aa360c",
   "metadata": {},
   "outputs": [],
   "source": [
    "data = data[good_columns]\n",
    "data.dropna(inplace=True)\n",
    "data = data.reset_index(drop=True)"
   ]
  },
  {
   "cell_type": "code",
   "execution_count": 8,
   "id": "ebdb9e6d",
   "metadata": {},
   "outputs": [],
   "source": [
    "data = data.drop(['ID товара', 'ISBN'], axis=1)"
   ]
  },
  {
   "cell_type": "markdown",
   "id": "3a97fd49",
   "metadata": {},
   "source": [
    "### Обработка конкретных признаков:"
   ]
  },
  {
   "cell_type": "code",
   "execution_count": 9,
   "id": "67862c0c",
   "metadata": {},
   "outputs": [
    {
     "name": "stdout",
     "output_type": "stream",
     "text": [
      "Твёрдый переплёт                  416\n",
      "Мягкий переплёт                   355\n",
      "Мягкий заламинированный картон     16\n",
      "Name: Тип обложки, dtype: int64\n",
      "\n",
      "16+    572\n",
      "12+    128\n",
      "18+     42\n",
      "0+      35\n",
      "6+      10\n",
      "Name: Возрастные ограничения, dtype: int64\n"
     ]
    }
   ],
   "source": [
    "# надо применить OHE\n",
    "print(data['Тип обложки'].value_counts())\n",
    "print()\n",
    "print(data['Возрастные ограничения'].value_counts())"
   ]
  },
  {
   "cell_type": "markdown",
   "id": "eca848df",
   "metadata": {},
   "source": [
    "**OHE**"
   ]
  },
  {
   "cell_type": "code",
   "execution_count": 10,
   "id": "91e72b98",
   "metadata": {},
   "outputs": [],
   "source": [
    "def OHE_features(data):\n",
    "    categorical_features = []\n",
    "    for column in data.columns:\n",
    "        if len(data[column].value_counts()) <= 10:\n",
    "            #data[column] = data[column].astype(str)\n",
    "            categorical_features.append(column)\n",
    "    \n",
    "    ohe = OneHotEncoder(sparse=False)\n",
    "    ohe_data = ohe.fit_transform(data[categorical_features])\n",
    "    ohe_columns = ohe.get_feature_names_out(categorical_features)\n",
    "    ohe_data = pd.DataFrame(ohe_data, columns=ohe_columns)\n",
    "    \n",
    "    data = data.drop(categorical_features, axis=1)\n",
    "    data = pd.concat([data, ohe_data], axis=1)\n",
    "    \n",
    "    return data"
   ]
  },
  {
   "cell_type": "code",
   "execution_count": 11,
   "id": "353a5f01",
   "metadata": {},
   "outputs": [],
   "source": [
    "data = OHE_features(data)"
   ]
  },
  {
   "cell_type": "code",
   "execution_count": 12,
   "id": "0113ecd2",
   "metadata": {},
   "outputs": [
    {
     "data": {
      "text/plain": [
       "Index(['link', 'current_price', 'old_price', 'avg_rating', 'cnt_reviews',\n",
       "       'title', 'author', 'Издательство', 'Серия', 'Год издания',\n",
       "       'Количество страниц', 'Размер', 'Тираж', 'Вес, г',\n",
       "       'Тип обложки_Мягкий заламинированный картон',\n",
       "       'Тип обложки_Мягкий переплёт', 'Тип обложки_Твёрдый переплёт',\n",
       "       'Возрастные ограничения_0+', 'Возрастные ограничения_12+',\n",
       "       'Возрастные ограничения_16+', 'Возрастные ограничения_18+',\n",
       "       'Возрастные ограничения_6+'],\n",
       "      dtype='object')"
      ]
     },
     "execution_count": 12,
     "metadata": {},
     "output_type": "execute_result"
    }
   ],
   "source": [
    "data.columns"
   ]
  },
  {
   "cell_type": "markdown",
   "id": "ec9fcf03",
   "metadata": {},
   "source": [
    "**Размер**"
   ]
  },
  {
   "cell_type": "code",
   "execution_count": 13,
   "id": "54fff4e9",
   "metadata": {},
   "outputs": [],
   "source": [
    "def split_sizes(data, size_column):\n",
    "    data['Толщина'] = data[size_column].dropna().apply(lambda x: float(x.split('x')[0]))\n",
    "    data['Ширина'] = data[size_column].dropna().apply(lambda x: float(x.split('x')[1]))\n",
    "    data['Длина'] = data[size_column].dropna().apply(lambda x: float(x.split('x')[2]))\n",
    "    \n",
    "    data.drop([size_column], axis=1)\n",
    "    \n",
    "    return data"
   ]
  },
  {
   "cell_type": "code",
   "execution_count": 14,
   "id": "a9fd8ca6",
   "metadata": {},
   "outputs": [],
   "source": [
    "data = split_sizes(data, 'Размер')"
   ]
  },
  {
   "cell_type": "markdown",
   "id": "da1ecd0c",
   "metadata": {},
   "source": [
    "**Некоторые количественные признаки**"
   ]
  },
  {
   "cell_type": "code",
   "execution_count": 15,
   "id": "10827c93",
   "metadata": {},
   "outputs": [],
   "source": [
    "data['old_price'] = data['old_price'].apply(lambda x: x.split(' ')[0])\n",
    "data['current_price'] = data['current_price'].apply(lambda x: x.split(' ')[0])\n",
    "data['cnt_reviews'] = data['cnt_reviews'].str.replace(r'\\s+', '')\n",
    "data['cnt_reviews'] = data['cnt_reviews'].str.replace('оценок', '')"
   ]
  },
  {
   "cell_type": "code",
   "execution_count": 16,
   "id": "c2bb2af9",
   "metadata": {},
   "outputs": [],
   "source": [
    "int_features = ['current_price', 'old_price', 'cnt_reviews', \n",
    "                'Год издания', 'Количество страниц', 'Тираж']\n",
    "float_features = ['avg_rating', 'Длина', 'Ширина', 'Толщина', 'Вес, г']"
   ]
  },
  {
   "cell_type": "code",
   "execution_count": 17,
   "id": "87714469",
   "metadata": {
    "scrolled": false
   },
   "outputs": [],
   "source": [
    "data[int_features] = data[int_features].astype(int)\n",
    "data[float_features] = data[float_features].astype(float)"
   ]
  },
  {
   "cell_type": "markdown",
   "id": "8429707d",
   "metadata": {},
   "source": [
    "# Итог:"
   ]
  },
  {
   "cell_type": "code",
   "execution_count": 18,
   "id": "762335f1",
   "metadata": {},
   "outputs": [
    {
     "data": {
      "text/plain": [
       "(787, 25)"
      ]
     },
     "execution_count": 18,
     "metadata": {},
     "output_type": "execute_result"
    }
   ],
   "source": [
    "data.shape"
   ]
  },
  {
   "cell_type": "code",
   "execution_count": 19,
   "id": "8f0f2099",
   "metadata": {
    "collapsed": true
   },
   "outputs": [
    {
     "data": {
      "text/html": [
       "<div>\n",
       "<style scoped>\n",
       "    .dataframe tbody tr th:only-of-type {\n",
       "        vertical-align: middle;\n",
       "    }\n",
       "\n",
       "    .dataframe tbody tr th {\n",
       "        vertical-align: top;\n",
       "    }\n",
       "\n",
       "    .dataframe thead th {\n",
       "        text-align: right;\n",
       "    }\n",
       "</style>\n",
       "<table border=\"1\" class=\"dataframe\">\n",
       "  <thead>\n",
       "    <tr style=\"text-align: right;\">\n",
       "      <th></th>\n",
       "      <th>link</th>\n",
       "      <th>current_price</th>\n",
       "      <th>old_price</th>\n",
       "      <th>avg_rating</th>\n",
       "      <th>cnt_reviews</th>\n",
       "      <th>title</th>\n",
       "      <th>author</th>\n",
       "      <th>Издательство</th>\n",
       "      <th>Серия</th>\n",
       "      <th>Год издания</th>\n",
       "      <th>...</th>\n",
       "      <th>Тип обложки_Мягкий переплёт</th>\n",
       "      <th>Тип обложки_Твёрдый переплёт</th>\n",
       "      <th>Возрастные ограничения_0+</th>\n",
       "      <th>Возрастные ограничения_12+</th>\n",
       "      <th>Возрастные ограничения_16+</th>\n",
       "      <th>Возрастные ограничения_18+</th>\n",
       "      <th>Возрастные ограничения_6+</th>\n",
       "      <th>Толщина</th>\n",
       "      <th>Ширина</th>\n",
       "      <th>Длина</th>\n",
       "    </tr>\n",
       "  </thead>\n",
       "  <tbody>\n",
       "    <tr>\n",
       "      <th>0</th>\n",
       "      <td>https://www.chitai-gorod.ru/product/kafe-na-kr...</td>\n",
       "      <td>319</td>\n",
       "      <td>436</td>\n",
       "      <td>3.9</td>\n",
       "      <td>1045</td>\n",
       "      <td>Кафе на краю земли</td>\n",
       "      <td>Джон Стрелеки</td>\n",
       "      <td>Эксмо</td>\n",
       "      <td>Кафе на краю земли</td>\n",
       "      <td>2025</td>\n",
       "      <td>...</td>\n",
       "      <td>0.0</td>\n",
       "      <td>0.0</td>\n",
       "      <td>0.0</td>\n",
       "      <td>0.0</td>\n",
       "      <td>1.0</td>\n",
       "      <td>0.0</td>\n",
       "      <td>0.0</td>\n",
       "      <td>1.1</td>\n",
       "      <td>11.5</td>\n",
       "      <td>18.8</td>\n",
       "    </tr>\n",
       "    <tr>\n",
       "      <th>1</th>\n",
       "      <td>https://www.chitai-gorod.ru/product/samyy-boga...</td>\n",
       "      <td>487</td>\n",
       "      <td>624</td>\n",
       "      <td>3.8</td>\n",
       "      <td>457</td>\n",
       "      <td>Самый богатый человек в Вавилоне (львы)</td>\n",
       "      <td>Джордж Сэмюэль Клейсон</td>\n",
       "      <td>Эксмо</td>\n",
       "      <td>Золотой фонд книг о богатстве</td>\n",
       "      <td>2025</td>\n",
       "      <td>...</td>\n",
       "      <td>0.0</td>\n",
       "      <td>1.0</td>\n",
       "      <td>0.0</td>\n",
       "      <td>1.0</td>\n",
       "      <td>0.0</td>\n",
       "      <td>0.0</td>\n",
       "      <td>0.0</td>\n",
       "      <td>1.8</td>\n",
       "      <td>14.2</td>\n",
       "      <td>20.5</td>\n",
       "    </tr>\n",
       "    <tr>\n",
       "      <th>2</th>\n",
       "      <td>https://www.chitai-gorod.ru/product/atomnye-pr...</td>\n",
       "      <td>899</td>\n",
       "      <td>1436</td>\n",
       "      <td>3.9</td>\n",
       "      <td>0</td>\n",
       "      <td>Атомные привычки. Как приобрести хорошие привы...</td>\n",
       "      <td>Джеймс Клир</td>\n",
       "      <td>Питер</td>\n",
       "      <td>Сам себе психолог. Питер</td>\n",
       "      <td>2024</td>\n",
       "      <td>...</td>\n",
       "      <td>0.0</td>\n",
       "      <td>1.0</td>\n",
       "      <td>0.0</td>\n",
       "      <td>0.0</td>\n",
       "      <td>1.0</td>\n",
       "      <td>0.0</td>\n",
       "      <td>0.0</td>\n",
       "      <td>1.6</td>\n",
       "      <td>17.0</td>\n",
       "      <td>24.0</td>\n",
       "    </tr>\n",
       "    <tr>\n",
       "      <th>3</th>\n",
       "      <td>https://www.chitai-gorod.ru/product/psihotryuk...</td>\n",
       "      <td>919</td>\n",
       "      <td>1249</td>\n",
       "      <td>3.7</td>\n",
       "      <td>0</td>\n",
       "      <td>Психотрюки. 69 приемов в общении, которым не у...</td>\n",
       "      <td>Игорь Рызов</td>\n",
       "      <td>Эксмо</td>\n",
       "      <td>Кремлевская школа переговоров</td>\n",
       "      <td>2025</td>\n",
       "      <td>...</td>\n",
       "      <td>1.0</td>\n",
       "      <td>0.0</td>\n",
       "      <td>0.0</td>\n",
       "      <td>1.0</td>\n",
       "      <td>0.0</td>\n",
       "      <td>0.0</td>\n",
       "      <td>0.0</td>\n",
       "      <td>1.5</td>\n",
       "      <td>16.0</td>\n",
       "      <td>21.0</td>\n",
       "    </tr>\n",
       "    <tr>\n",
       "      <th>4</th>\n",
       "      <td>https://www.chitai-gorod.ru/product/k-sebe-nez...</td>\n",
       "      <td>855</td>\n",
       "      <td>1096</td>\n",
       "      <td>3.8</td>\n",
       "      <td>6329</td>\n",
       "      <td>К себе нежно. Книга о том, как ценить и беречь...</td>\n",
       "      <td>Ольга Примаченко</td>\n",
       "      <td>Эксмо</td>\n",
       "      <td>Книги, которые обнимают. Авторская серия Ольги...</td>\n",
       "      <td>2025</td>\n",
       "      <td>...</td>\n",
       "      <td>0.0</td>\n",
       "      <td>1.0</td>\n",
       "      <td>0.0</td>\n",
       "      <td>0.0</td>\n",
       "      <td>1.0</td>\n",
       "      <td>0.0</td>\n",
       "      <td>0.0</td>\n",
       "      <td>2.0</td>\n",
       "      <td>14.0</td>\n",
       "      <td>20.5</td>\n",
       "    </tr>\n",
       "  </tbody>\n",
       "</table>\n",
       "<p>5 rows × 25 columns</p>\n",
       "</div>"
      ],
      "text/plain": [
       "                                                link  current_price  \\\n",
       "0  https://www.chitai-gorod.ru/product/kafe-na-kr...            319   \n",
       "1  https://www.chitai-gorod.ru/product/samyy-boga...            487   \n",
       "2  https://www.chitai-gorod.ru/product/atomnye-pr...            899   \n",
       "3  https://www.chitai-gorod.ru/product/psihotryuk...            919   \n",
       "4  https://www.chitai-gorod.ru/product/k-sebe-nez...            855   \n",
       "\n",
       "   old_price  avg_rating  cnt_reviews  \\\n",
       "0        436         3.9         1045   \n",
       "1        624         3.8          457   \n",
       "2       1436         3.9            0   \n",
       "3       1249         3.7            0   \n",
       "4       1096         3.8         6329   \n",
       "\n",
       "                                               title                  author  \\\n",
       "0                                 Кафе на краю земли           Джон Стрелеки   \n",
       "1            Самый богатый человек в Вавилоне (львы)  Джордж Сэмюэль Клейсон   \n",
       "2  Атомные привычки. Как приобрести хорошие привы...             Джеймс Клир   \n",
       "3  Психотрюки. 69 приемов в общении, которым не у...             Игорь Рызов   \n",
       "4  К себе нежно. Книга о том, как ценить и беречь...        Ольга Примаченко   \n",
       "\n",
       "  Издательство                                              Серия  \\\n",
       "0        Эксмо                                 Кафе на краю земли   \n",
       "1        Эксмо                      Золотой фонд книг о богатстве   \n",
       "2        Питер                           Сам себе психолог. Питер   \n",
       "3        Эксмо                      Кремлевская школа переговоров   \n",
       "4        Эксмо  Книги, которые обнимают. Авторская серия Ольги...   \n",
       "\n",
       "   Год издания  ...  Тип обложки_Мягкий переплёт Тип обложки_Твёрдый переплёт  \\\n",
       "0         2025  ...                          0.0                          0.0   \n",
       "1         2025  ...                          0.0                          1.0   \n",
       "2         2024  ...                          0.0                          1.0   \n",
       "3         2025  ...                          1.0                          0.0   \n",
       "4         2025  ...                          0.0                          1.0   \n",
       "\n",
       "   Возрастные ограничения_0+  Возрастные ограничения_12+  \\\n",
       "0                        0.0                         0.0   \n",
       "1                        0.0                         1.0   \n",
       "2                        0.0                         0.0   \n",
       "3                        0.0                         1.0   \n",
       "4                        0.0                         0.0   \n",
       "\n",
       "   Возрастные ограничения_16+  Возрастные ограничения_18+  \\\n",
       "0                         1.0                         0.0   \n",
       "1                         0.0                         0.0   \n",
       "2                         1.0                         0.0   \n",
       "3                         0.0                         0.0   \n",
       "4                         1.0                         0.0   \n",
       "\n",
       "   Возрастные ограничения_6+  Толщина  Ширина  Длина  \n",
       "0                        0.0      1.1    11.5   18.8  \n",
       "1                        0.0      1.8    14.2   20.5  \n",
       "2                        0.0      1.6    17.0   24.0  \n",
       "3                        0.0      1.5    16.0   21.0  \n",
       "4                        0.0      2.0    14.0   20.5  \n",
       "\n",
       "[5 rows x 25 columns]"
      ]
     },
     "execution_count": 19,
     "metadata": {},
     "output_type": "execute_result"
    }
   ],
   "source": [
    "data.head()"
   ]
  },
  {
   "cell_type": "code",
   "execution_count": 21,
   "id": "56d8c53d",
   "metadata": {},
   "outputs": [],
   "source": [
    "data.to_csv('data_after_processing.csv', encoding='utf-8')"
   ]
  }
 ],
 "metadata": {
  "kernelspec": {
   "display_name": "Python 3 (ipykernel)",
   "language": "python",
   "name": "python3"
  },
  "language_info": {
   "codemirror_mode": {
    "name": "ipython",
    "version": 3
   },
   "file_extension": ".py",
   "mimetype": "text/x-python",
   "name": "python",
   "nbconvert_exporter": "python",
   "pygments_lexer": "ipython3",
   "version": "3.11.4"
  }
 },
 "nbformat": 4,
 "nbformat_minor": 5
}
